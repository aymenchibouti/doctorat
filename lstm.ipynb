{
  "nbformat": 4,
  "nbformat_minor": 0,
  "metadata": {
    "colab": {
      "provenance": [],
      "authorship_tag": "ABX9TyOuB+tyVba54zrU6733Ubvf",
      "include_colab_link": true
    },
    "kernelspec": {
      "name": "python3",
      "display_name": "Python 3"
    },
    "language_info": {
      "name": "python"
    }
  },
  "cells": [
    {
      "cell_type": "markdown",
      "metadata": {
        "id": "view-in-github",
        "colab_type": "text"
      },
      "source": [
        "<a href=\"https://colab.research.google.com/github/aymenchibouti/doctorat/blob/main/lstm.ipynb\" target=\"_parent\"><img src=\"https://colab.research.google.com/assets/colab-badge.svg\" alt=\"Open In Colab\"/></a>"
      ]
    },
    {
      "cell_type": "code",
      "execution_count": null,
      "metadata": {
        "id": "9Ea02ApMq1Sp"
      },
      "outputs": [],
      "source": [
        "import pandas as pd\n",
        "import numpy as np\n",
        "from sklearn.model_selection import train_test_split\n",
        "from sklearn.preprocessing import StandardScaler\n",
        "from sklearn.metrics import classification_report, confusion_matrix\n",
        "from tensorflow.keras.models import Sequential\n",
        "from tensorflow.keras.layers import LSTM, Dense, Masking\n",
        "from tensorflow.keras.utils import to_categorical\n",
        "\n",
        "# Load the files\n",
        "enrollment_df = pd.read_csv('/mnt/data/enrollment_train.csv')\n",
        "log_df = pd.read_csv('/mnt/data/log_train spliting.csv')\n",
        "truth_df = pd.read_csv('/mnt/data/truth_train.csv', header=None, names=['enrollment_id', 'dropout'])\n",
        "\n",
        "# Preprocess log file\n",
        "log_df['time'] = pd.to_datetime(log_df['time'])\n",
        "min_time_per_enrollment = log_df.groupby('enrollment_id')['time'].min().reset_index().rename(columns={'time': 'start_time'})\n",
        "log_df = log_df.merge(min_time_per_enrollment, on='enrollment_id')\n",
        "log_df['day'] = (log_df['time'] - log_df['start_time']).dt.days + 1\n",
        "log_df.drop(columns=['start_time'], inplace=True)\n",
        "\n",
        "# Create event count per day\n",
        "log_df['count'] = 1\n",
        "pivot_df = log_df.pivot_table(index=['enrollment_id', 'day'], columns='event', values='count', aggfunc='sum', fill_value=0).reset_index()\n",
        "pivot_wide_df = pivot_df.pivot_table(index='enrollment_id', columns='day')\n",
        "pivot_wide_df.columns = [f\"{event}_day{day}\" for (event, day) in pivot_wide_df.columns]\n",
        "pivot_wide_df = pivot_wide_df.reset_index()\n",
        "\n",
        "# Merge all data\n",
        "merged_df = enrollment_df.merge(truth_df, on='enrollment_id', how='left')\n",
        "final_df = merged_df.merge(pivot_wide_df, on='enrollment_id', how='left')\n",
        "\n",
        "# Prepare X and y\n",
        "X = final_df.drop(columns=['enrollment_id', 'username', 'course_id', 'dropout']).fillna(0)\n",
        "y = final_df['dropout']\n",
        "\n",
        "# Reshape X to 3D for LSTM (samples, timesteps, features_per_timestep)\n",
        "n_features = 7  # number of event types\n",
        "n_timesteps = 30  # assuming maximum 30 days\n",
        "\n",
        "# Extract event names from columns\n",
        "events = sorted(list(set(col.split('_')[0] for col in X.columns)))\n",
        "\n",
        "# Create a 3D array\n",
        "X_3d = np.zeros((X.shape[0], n_timesteps, n_features))\n",
        "for i, event in enumerate(events):\n",
        "    for day in range(1, n_timesteps + 1):\n",
        "        col_name = f\"{event}_day{day}\"\n",
        "        if col_name in X.columns:\n",
        "            X_3d[:, day - 1, i] = X[col_name].values\n",
        "\n",
        "# Split into train/test\n",
        "X_train, X_test, y_train, y_test = train_test_split(X_3d, y, test_size=0.2, random_state=42)\n",
        "\n",
        "# Define LSTM model\n",
        "model = Sequential()\n",
        "model.add(Masking(mask_value=0., input_shape=(n_timesteps, n_features)))\n",
        "model.add(LSTM(64, activation='tanh', return_sequences=False))\n",
        "model.add(Dense(1, activation='sigmoid'))\n",
        "\n",
        "# Compile model\n",
        "model.compile(optimizer='adam', loss='binary_crossentropy', metrics=['accuracy'])\n",
        "\n",
        "# Train model\n",
        "model.fit(X_train, y_train, epochs=10, batch_size=32, validation_split=0.2)\n",
        "\n",
        "# Evaluate model\n",
        "y_pred_prob = model.predict(X_test)\n",
        "y_pred = (y_pred_prob > 0.5).astype(int)\n",
        "\n",
        "print(confusion_matrix(y_test, y_pred))\n",
        "print(classification_report(y_test, y_pred))\n"
      ]
    }
  ]
}