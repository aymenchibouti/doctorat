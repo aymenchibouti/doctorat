{
  "nbformat": 4,
  "nbformat_minor": 0,
  "metadata": {
    "colab": {
      "provenance": [],
      "authorship_tag": "ABX9TyNntk0nKpFgpdLUStNSu4sL",
      "include_colab_link": true
    },
    "kernelspec": {
      "name": "python3",
      "display_name": "Python 3"
    },
    "language_info": {
      "name": "python"
    }
  },
  "cells": [
    {
      "cell_type": "markdown",
      "metadata": {
        "id": "view-in-github",
        "colab_type": "text"
      },
      "source": [
        "<a href=\"https://colab.research.google.com/github/aymenchibouti/doctorat/blob/main/spliting_data.ipynb\" target=\"_parent\"><img src=\"https://colab.research.google.com/assets/colab-badge.svg\" alt=\"Open In Colab\"/></a>"
      ]
    },
    {
      "cell_type": "code",
      "execution_count": 1,
      "metadata": {
        "colab": {
          "base_uri": "https://localhost:8080/"
        },
        "id": "lmGbyAPEepeL",
        "outputId": "47d90b52-7e79-4764-f581-476b6d446b21"
      },
      "outputs": [
        {
          "output_type": "stream",
          "name": "stdout",
          "text": [
            "Testing data saved to 'model1_210_features_spliting.csv'\n"
          ]
        }
      ],
      "source": [
        "import pandas as pd\n",
        "from sklearn.model_selection import train_test_split\n",
        "\n",
        "# Load the dataset\n",
        "file_path = 'model1_210_features.csv'  # Replace 'your_file_path' with the actual file location\n",
        "data = pd.read_csv(file_path)\n",
        "\n",
        "# Splitting the data into 80% training and 20% testing\n",
        "train_data, test_data = train_test_split(data, test_size=0.4, random_state=42)\n",
        "\n",
        "# Exporting the testing data to a CSV file\n",
        "test_data.to_csv('model1_210_features_spliting.csv', index=False)\n",
        "\n",
        "print(\"Testing data saved to 'model1_210_features_spliting.csv'\")\n"
      ]
    }
  ]
}