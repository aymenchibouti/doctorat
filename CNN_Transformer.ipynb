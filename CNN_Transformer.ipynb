{
  "nbformat": 4,
  "nbformat_minor": 0,
  "metadata": {
    "colab": {
      "provenance": [],
      "authorship_tag": "ABX9TyO+30EuDXYrZ6p2BNlDfPvc",
      "include_colab_link": true
    },
    "kernelspec": {
      "name": "python3",
      "display_name": "Python 3"
    },
    "language_info": {
      "name": "python"
    }
  },
  "cells": [
    {
      "cell_type": "markdown",
      "metadata": {
        "id": "view-in-github",
        "colab_type": "text"
      },
      "source": [
        "<a href=\"https://colab.research.google.com/github/aymenchibouti/doctorat/blob/main/CNN_Transformer.ipynb\" target=\"_parent\"><img src=\"https://colab.research.google.com/assets/colab-badge.svg\" alt=\"Open In Colab\"/></a>"
      ]
    },
    {
      "cell_type": "code",
      "execution_count": 3,
      "metadata": {
        "id": "fli1rNh3KKVX"
      },
      "outputs": [],
      "source": [
        "import pandas as pd\n",
        "import numpy as np\n",
        "import tensorflow as tf\n",
        "from sklearn.model_selection import train_test_split\n",
        "from sklearn.metrics import accuracy_score, precision_score\n",
        "from tensorflow.keras.layers import Conv1D, MaxPooling1D, Dense, Dropout, Flatten, Input, Concatenate, LayerNormalization, MultiHeadAttention\n",
        "from tensorflow.keras.models import Model\n",
        "from tensorflow.keras.optimizers import Adam\n",
        "from tensorflow.keras.losses import BinaryCrossentropy\n",
        "from tensorflow.keras.preprocessing.sequence import pad_sequences\n",
        "\n",
        "### Step 1: Data Loading ###\n",
        "\n",
        "# Load the files\n",
        "enrollment_train = pd.read_csv('enrollment_train.csv')\n",
        "log_train = pd.read_csv('log_train.csv')\n",
        "truth_train = pd.read_csv('truth_train.csv',header=None)\n",
        "truth_train.columns=['enrollment_id', 'dropout']\n",
        "course_meta = pd.read_csv('course_meta.csv')\n",
        "\n",
        "### Step 2: Data Preprocessing ###\n",
        "\n",
        "# Merge enrollment and truth files\n",
        "train_data = pd.merge(enrollment_train, truth_train, on='enrollment_id', how='left')\n",
        "\n",
        "# Convert time column to datetime\n",
        "log_train['time'] = pd.to_datetime(log_train['time'])\n",
        "\n",
        "# Sort log by time to preserve interaction sequence\n",
        "log_train = log_train.sort_values(by=['enrollment_id', 'time'])\n",
        "\n",
        "# Group logs by enrollment ID\n",
        "grouped_logs = log_train.groupby('enrollment_id')\n",
        "\n",
        "# Convert 'event' and 'source' to category codes\n",
        "log_train['event_code'] = log_train['event'].astype('category').cat.codes\n",
        "log_train['source_code'] = log_train['source'].astype('category').cat.codes\n",
        "\n",
        "# Function to aggregate event and source codes for each enrollment\n",
        "def aggregate_sequences(group):\n",
        "    return {\n",
        "        'event_sequence': group['event_code'].tolist(),\n",
        "        'source_sequence': group['source_code'].tolist(),\n",
        "        'time_sequence': group['time'].tolist()\n",
        "    }\n",
        "\n"
      ]
    },
    {
      "cell_type": "code",
      "source": [
        "# Apply the aggregation to each enrollment\n",
        "sequences = grouped_logs.apply(aggregate_sequences).reset_index()\n",
        "\n",
        "# Truncate or pad sequences to a fixed length\n",
        "max_seq_length = 10\n",
        "\n"
      ],
      "metadata": {
        "id": "7KYoqbnpOM1Z"
      },
      "execution_count": 4,
      "outputs": []
    },
    {
      "cell_type": "code",
      "source": [
        "# Apply padding for event and source sequences\n",
        "sequences['event_sequence'] = pad_sequences(sequences['event_sequence'], maxlen=max_seq_length, padding='post', truncating='post').tolist()\n",
        "sequences['source_sequence'] = pad_sequences(sequences['source_sequence'], maxlen=max_seq_length, padding='post', truncating='post').tolist()\n",
        "\n"
      ],
      "metadata": {
        "id": "U09buvzmOSaO"
      },
      "execution_count": null,
      "outputs": []
    },
    {
      "cell_type": "code",
      "source": [
        "\n",
        "# Merge sequences with the enrollment data\n",
        "train_data = pd.merge(train_data, sequences, on='enrollment_id', how='left')\n"
      ],
      "metadata": {
        "id": "TUoup1mlOXGS"
      },
      "execution_count": null,
      "outputs": []
    },
    {
      "cell_type": "code",
      "source": [
        "\n",
        "# Merge course metadata into the main training data\n",
        "train_data = pd.merge(train_data, course_meta, on='course_id', how='left')\n"
      ],
      "metadata": {
        "id": "DN95rbsgOZfo"
      },
      "execution_count": null,
      "outputs": []
    },
    {
      "cell_type": "code",
      "source": [
        "\n",
        "# Feature engineering: Calculate course duration (days)\n",
        "train_data['course_duration'] = (pd.to_datetime(train_data['end_time']) - pd.to_datetime(train_data['start_time'])).dt.days\n",
        "\n"
      ],
      "metadata": {
        "id": "Y11jBKQeObW5"
      },
      "execution_count": null,
      "outputs": []
    },
    {
      "cell_type": "code",
      "source": [
        "# Count the number of interactions per enrollment\n",
        "interaction_counts = log_train.groupby('enrollment_id').size().reset_index(name='total_interactions')\n",
        "train_data = pd.merge(train_data, interaction_counts, on='enrollment_id', how='left')\n",
        "\n"
      ],
      "metadata": {
        "id": "IKUgTSGyOdSQ"
      },
      "execution_count": null,
      "outputs": []
    },
    {
      "cell_type": "code",
      "source": [
        "# Prepare input sequences (event and source sequences)\n",
        "X_sequences = np.stack(train_data['event_sequence'].values)\n",
        "X_sources = np.stack(train_data['source_sequence'].values)\n"
      ],
      "metadata": {
        "id": "GKV1N0MhOfd_"
      },
      "execution_count": null,
      "outputs": []
    },
    {
      "cell_type": "code",
      "source": [
        "\n",
        "# Prepare static features (e.g., total interactions, course duration)\n",
        "X_static = train_data[['total_interactions', 'course_duration']].fillna(0).values\n"
      ],
      "metadata": {
        "id": "V_lpQZWCOh3c"
      },
      "execution_count": null,
      "outputs": []
    },
    {
      "cell_type": "code",
      "source": [
        "\n",
        "# Prepare output labels (dropout or not)\n",
        "y = train_data['dropout'].values\n"
      ],
      "metadata": {
        "id": "PPIUp6GZOjlY"
      },
      "execution_count": null,
      "outputs": []
    },
    {
      "cell_type": "code",
      "source": [
        "\n",
        "# Split the data into training and testing sets\n",
        "X_train_seq, X_test_seq, X_train_static, X_test_static, y_train, y_test = train_test_split(\n",
        "    X_sequences, X_static, y, test_size=0.2, random_state=42)\n",
        "\n"
      ],
      "metadata": {
        "id": "okUmlOFkOlYp"
      },
      "execution_count": null,
      "outputs": []
    },
    {
      "cell_type": "code",
      "source": [
        "### Step 3: Build CNN-Transformer Model ###\n",
        "\n",
        "# Hyperparameters\n",
        "seq_length = 10\n",
        "num_static_features = 2\n",
        "embedding_dim = 32\n",
        "num_heads = 4\n",
        "ff_dim = 32\n",
        "dropout_rate = 0.2\n",
        "\n",
        "# Input for event sequence (sequence of interaction events)\n",
        "event_input = Input(shape=(seq_length,), name='event_input')\n",
        "# Input for source sequence (sequence of sources - browser/server)\n",
        "source_input = Input(shape=(seq_length,), name='source_input')\n",
        "# Input for static features (e.g., total interactions, course duration)\n",
        "static_input = Input(shape=(num_static_features,), name='static_input')\n",
        "\n",
        "# Embedding layers for event and source sequences\n",
        "event_embedding = tf.keras.layers.Embedding(input_dim=20, output_dim=embedding_dim, input_length=seq_length)(event_input)\n",
        "source_embedding = tf.keras.layers.Embedding(input_dim=5, output_dim=embedding_dim, input_length=seq_length)(source_input)\n",
        "\n",
        "# Concatenate the embeddings\n",
        "combined_seq = Concatenate()([event_embedding, source_embedding])\n",
        "\n",
        "# CNN layer to capture local patterns in sequences\n",
        "cnn_layer = Conv1D(filters=64, kernel_size=3, activation='relu', padding='same')(combined_seq)\n",
        "cnn_layer = MaxPooling1D(pool_size=2)(cnn_layer)\n",
        "\n",
        "# Flatten the CNN output for integration with Transformer\n",
        "flattened_seq = Flatten()(cnn_layer)\n",
        "\n",
        "# Transformer Encoder for long-range dependencies\n",
        "transformer_encoder = MultiHeadAttention(num_heads=num_heads, key_dim=embedding_dim)(cnn_layer, cnn_layer)\n",
        "transformer_encoder = LayerNormalization()(transformer_encoder)\n",
        "transformer_encoder = Dropout(dropout_rate)(transformer_encoder)\n",
        "\n",
        "# Combine CNN and Transformer outputs\n",
        "combined_transformer = Concatenate()([flattened_seq, Flatten()(transformer_encoder)])\n",
        "\n",
        "# Fully connected layers\n",
        "dense_layer = Dense(64, activation='relu')(combined_transformer)\n",
        "dense_layer = Dropout(dropout_rate)(dense_layer)\n",
        "\n",
        "# Concatenate static features\n",
        "combined_with_static = Concatenate()([dense_layer, static_input])\n",
        "\n",
        "# Final dense layer for classification\n",
        "output = Dense(1, activation='sigmoid')(combined_with_static)\n",
        "\n",
        "# Model definition\n",
        "model = Model(inputs=[event_input, source_input, static_input], outputs=output)\n",
        "\n",
        "# Compile the model\n",
        "model.compile(optimizer=Adam(learning_rate=0.001), loss=BinaryCrossentropy(), metrics=['accuracy'])\n",
        "\n",
        "# Print model summary\n",
        "model.summary()\n",
        "\n",
        "### Step 4: Train the Model ###\n",
        "\n",
        "# Train the model\n",
        "history = model.fit(\n",
        "    [X_train_seq, X_train_seq, X_train_static],  # event_sequence and source_sequence are the same in this case\n",
        "    y_train,\n",
        "    validation_split=0.2,\n",
        "    epochs=10,\n",
        "    batch_size=64\n",
        ")\n",
        "\n",
        "### Step 5: Evaluate the Model ###\n",
        "\n",
        "# Make predictions on the test set\n",
        "y_pred_prob = model.predict([X_test_seq, X_test_seq, X_test_static])\n",
        "y_pred = (y_pred_prob > 0.5).astype(int)  # Convert probabilities to binary output\n",
        "\n",
        "# Calculate accuracy and precision\n",
        "accuracy = accuracy_score(y_test, y_pred)\n",
        "precision = precision_score(y_test, y_pred)\n",
        "\n",
        "print(f\"Test Accuracy: {accuracy}\")\n",
        "print(f\"Test Precision: {precision}\")"
      ],
      "metadata": {
        "id": "46wtWjTpOnm0"
      },
      "execution_count": null,
      "outputs": []
    }
  ]
}