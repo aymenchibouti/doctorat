{
  "nbformat": 4,
  "nbformat_minor": 0,
  "metadata": {
    "colab": {
      "provenance": [],
      "authorship_tag": "ABX9TyNcvnkc5w1743i1Z4lXqqSq",
      "include_colab_link": true
    },
    "kernelspec": {
      "name": "python3",
      "display_name": "Python 3"
    },
    "language_info": {
      "name": "python"
    }
  },
  "cells": [
    {
      "cell_type": "markdown",
      "metadata": {
        "id": "view-in-github",
        "colab_type": "text"
      },
      "source": [
        "<a href=\"https://colab.research.google.com/github/aymenchibouti/doctorat/blob/main/cnnAE.ipynb\" target=\"_parent\"><img src=\"https://colab.research.google.com/assets/colab-badge.svg\" alt=\"Open In Colab\"/></a>"
      ]
    },
    {
      "cell_type": "code",
      "execution_count": 6,
      "metadata": {
        "colab": {
          "base_uri": "https://localhost:8080/"
        },
        "id": "XZDQcEWwWgPu",
        "outputId": "882e0866-04d7-4f9f-856a-d1ba2d691798"
      },
      "outputs": [
        {
          "output_type": "stream",
          "name": "stdout",
          "text": [
            "   enrollment_id                                     feature_vector  label\n",
            "0              1  [8, 0, 3, 0, 0, 1, 1, 0, 0, 0, 0, 0, 0, 0, 0, ...      0\n",
            "1              3  [14, 1, 7, 0, 0, 4, 2, 0, 0, 0, 0, 0, 0, 0, 0,...      0\n",
            "2              4  [5, 2, 18, 0, 0, 4, 2, 0, 0, 0, 0, 0, 0, 0, 0,...      0\n",
            "3              5  [0, 0, 0, 0, 0, 2, 0, 16, 10, 28, 0, 2, 8, 13,...      0\n",
            "4              6  [2, 2, 12, 0, 0, 5, 2, 0, 0, 0, 0, 0, 0, 0, 0,...      0\n"
          ]
        }
      ],
      "source": [
        "import pandas as pd\n",
        "import numpy as np\n",
        "\n",
        "# ------------------------\n",
        "# 1. Load Raw Datasets\n",
        "# ------------------------\n",
        "enrollments = pd.read_csv(\"enrollment_train.csv\")\n",
        "logs = pd.read_csv(\"log_train.csv\")\n",
        "labels = pd.read_csv(\"truth_train.csv\", header=None, names=[\"enrollment_id\", \"label\"])\n",
        "\n",
        "# ------------------------\n",
        "# 2. Normalize & Parse Time\n",
        "# ------------------------\n",
        "logs['time'] = pd.to_datetime(logs['time'])\n",
        "min_time = logs.groupby('enrollment_id')['time'].min().rename(\"start_time\")\n",
        "logs = logs.merge(min_time, on='enrollment_id')\n",
        "logs['day'] = (logs['time'] - logs['start_time']).dt.days\n",
        "\n",
        "# Keep only the first 30 days\n",
        "logs = logs[(logs['day'] >= 0) & (logs['day'] < 30)]\n",
        "\n",
        "# ------------------------\n",
        "# 3. Define Event Types\n",
        "# ------------------------\n",
        "event_types = ['problem', 'video', 'access', 'wiki', 'discussion', 'navigate', 'page_close']\n",
        "logs = logs[logs['event'].isin(event_types)]\n",
        "\n",
        "# ------------------------\n",
        "# 4. Count Events per Day\n",
        "# ------------------------\n",
        "pivot = (\n",
        "    logs.groupby(['enrollment_id', 'day', 'event'])\n",
        "    .size()\n",
        "    .unstack(fill_value=0)\n",
        "    .reindex(columns=event_types, fill_value=0)\n",
        "    .reset_index()\n",
        ")\n",
        "\n",
        "# Fill in missing (enrollment_id, day) pairs\n",
        "all_enrollments = enrollments['enrollment_id'].unique()\n",
        "all_days = np.arange(30)\n",
        "full_index = pd.MultiIndex.from_product([all_enrollments, all_days], names=['enrollment_id', 'day'])\n",
        "pivot = pivot.set_index(['enrollment_id', 'day']).reindex(full_index, fill_value=0).reset_index()\n",
        "\n",
        "# ------------------------\n",
        "# 5. Flatten into 210-D Vector\n",
        "# ------------------------\n",
        "flattened = []\n",
        "for eid, group in pivot.groupby('enrollment_id'):\n",
        "    vector = group[event_types].values.flatten()\n",
        "    flattened.append((eid, vector))\n",
        "\n",
        "feature_df = pd.DataFrame(flattened, columns=[\"enrollment_id\", \"feature_vector\"])\n",
        "\n",
        "# ------------------------\n",
        "# 6. Merge with Labels\n",
        "# ------------------------\n",
        "feature_df = feature_df.merge(labels, on=\"enrollment_id\", how=\"left\")\n",
        "feature_df['label'] = feature_df['label'].fillna(0).astype(int)  # treat missing as non-dropout\n",
        "\n",
        "# ------------------------\n",
        "# 7. Save or Use\n",
        "# ------------------------\n",
        "# To CSV:\n",
        "feature_df.to_csv(\"preprocessed_features.csv\", index=False)\n",
        "\n",
        "# To continue in-memory:\n",
        "print(feature_df.head())\n"
      ]
    },
    {
      "cell_type": "code",
      "source": [
        "import numpy as np\n",
        "import pandas as pd\n",
        "import tensorflow as tf\n",
        "from tensorflow.keras import layers, models, Input\n",
        "from sklearn.model_selection import train_test_split\n",
        "from sklearn.metrics import classification_report, roc_auc_score\n",
        "\n",
        "# -------------------------------\n",
        "# 1. Load and Preprocess Dataset\n",
        "# -------------------------------\n",
        "# Assuming 'features_df' is already in memory and includes:\n",
        "# ['enrollment_id', 'feature_vector', 'label']\n",
        "\n",
        "# If you're loading from CSV, use:\n",
        "features_df = pd.read_csv('preprocessed_features.csv')\n",
        "#features_df['feature_vector'] = features_df['feature_vector'].apply(eval)\n",
        "\n",
        "features_df['feature_vector'] = features_df['feature_vector'].apply(\n",
        "    lambda x: np.fromstring(x.strip(\"[]\"), sep=' ')\n",
        ")\n",
        "\n",
        "\n",
        "# Step 1: Convert feature_vector to a numpy array\n",
        "X = np.array([np.array(vec).reshape(30, 7) for vec in features_df['feature_vector']])\n",
        "y = features_df['label'].fillna(0).astype(int).values\n",
        "\n",
        "# Step 2: Train-test split\n",
        "X_train, X_test, y_train, y_test = train_test_split(\n",
        "    X, y, test_size=0.2, random_state=42, stratify=y\n",
        ")\n",
        "\n",
        "# -------------------------------\n",
        "# 2. Build CNNAE-LSTM Model\n",
        "# -------------------------------\n",
        "\n",
        "# Encoder\n",
        "def build_cnn_encoder(input_shape):\n",
        "    inputs = Input(shape=input_shape)\n",
        "    x = layers.Conv1D(64, kernel_size=5, activation='relu', padding='same')(inputs)\n",
        "    x = layers.MaxPooling1D(pool_size=2)(x)\n",
        "    x = layers.Conv1D(32, kernel_size=5, activation='relu', padding='same')(x)\n",
        "    x = layers.MaxPooling1D(pool_size=2)(x)\n",
        "    encoded = layers.Conv1D(16, kernel_size=5, activation='relu', padding='same')(x)\n",
        "    return models.Model(inputs, encoded, name='cnn_encoder')\n",
        "\n",
        "# Decoder\n",
        "def build_cnn_decoder(input_shape):\n",
        "    inputs = Input(shape=input_shape)\n",
        "    x = layers.UpSampling1D(size=2)(inputs)\n",
        "    x = layers.Conv1D(32, kernel_size=5, activation='relu', padding='same')(x)\n",
        "    x = layers.UpSampling1D(size=2)(x)\n",
        "    x = layers.Conv1D(64, kernel_size=5, activation='relu', padding='same')(x)\n",
        "    decoded = layers.Conv1D(7, kernel_size=3, activation='sigmoid', padding='same')(x)\n",
        "    return models.Model(inputs, decoded, name='cnn_decoder')\n",
        "\n",
        "# Assemble CNNAE-LSTM\n",
        "input_shape = (30, 7)\n",
        "encoder = build_cnn_encoder(input_shape)\n",
        "encoded_output = encoder.output\n",
        "\n",
        "# Reshape for LSTM\n",
        "reshaped = layers.Reshape((encoded_output.shape[1], encoded_output.shape[2]))(encoded_output)\n",
        "lstm_out = layers.LSTM(128, activation='tanh', dropout=0.5)(reshaped)\n",
        "dense = layers.Dense(64, activation='relu')(lstm_out)\n",
        "dropout_pred = layers.Dense(1, activation='sigmoid', name='dropout_output')(dense)\n",
        "\n",
        "# Decoder for reconstruction\n",
        "decoder = build_cnn_decoder(encoded_output.shape[1:])\n",
        "reconstructed = decoder(encoded_output)\n",
        "\n",
        "# Final Model\n",
        "model = models.Model(inputs=encoder.input, outputs=[reconstructed, dropout_pred])\n",
        "model.compile(\n",
        "    optimizer='adam',\n",
        "    loss={'cnn_decoder': 'mse', 'dropout_output': 'binary_crossentropy'},\n",
        "    loss_weights={'cnn_decoder': 0.5, 'dropout_output': 1.0},\n",
        "    metrics={'dropout_output': ['accuracy']}\n",
        ")\n",
        "\n",
        "model.summary()\n",
        "\n",
        "# -------------------------------\n",
        "# 3. Train Model\n",
        "# -------------------------------\n",
        "\n",
        "history = model.fit(\n",
        "    X_train,\n",
        "    {'cnn_decoder': X_train, 'dropout_output': y_train},\n",
        "    epochs=20,\n",
        "    batch_size=128,\n",
        "    validation_split=0.1,\n",
        "    verbose=1\n",
        ")\n",
        "\n",
        "# -------------------------------\n",
        "# 4. Evaluate Model\n",
        "# -------------------------------\n",
        "\n",
        "# Predict on test set\n",
        "decoded_out, y_pred_prob = model.predict(X_test)\n",
        "y_pred = (y_pred_prob > 0.5).astype(int)\n",
        "\n",
        "# Metrics\n",
        "print(\"\\n📊 Classification Report:\")\n",
        "print(classification_report(y_test, y_pred))\n",
        "print(\"✅ Test Accuracy:\", np.mean(y_pred.flatten() == y_test))\n",
        "print(\"🔥 AUC Score:\", roc_auc_score(y_test, y_pred_prob))\n"
      ],
      "metadata": {
        "colab": {
          "base_uri": "https://localhost:8080/",
          "height": 983
        },
        "id": "HciUFhnbgS1k",
        "outputId": "03fd800c-f728-46e6-f99a-c7a5fbc3ca16"
      },
      "execution_count": 5,
      "outputs": [
        {
          "output_type": "display_data",
          "data": {
            "text/plain": [
              "\u001b[1mModel: \"functional_1\"\u001b[0m\n"
            ],
            "text/html": [
              "<pre style=\"white-space:pre;overflow-x:auto;line-height:normal;font-family:Menlo,'DejaVu Sans Mono',consolas,'Courier New',monospace\"><span style=\"font-weight: bold\">Model: \"functional_1\"</span>\n",
              "</pre>\n"
            ]
          },
          "metadata": {}
        },
        {
          "output_type": "display_data",
          "data": {
            "text/plain": [
              "┏━━━━━━━━━━━━━━━━━━━━━┳━━━━━━━━━━━━━━━━━━━┳━━━━━━━━━━━━┳━━━━━━━━━━━━━━━━━━━┓\n",
              "┃\u001b[1m \u001b[0m\u001b[1mLayer (type)       \u001b[0m\u001b[1m \u001b[0m┃\u001b[1m \u001b[0m\u001b[1mOutput Shape     \u001b[0m\u001b[1m \u001b[0m┃\u001b[1m \u001b[0m\u001b[1m   Param #\u001b[0m\u001b[1m \u001b[0m┃\u001b[1m \u001b[0m\u001b[1mConnected to     \u001b[0m\u001b[1m \u001b[0m┃\n",
              "┡━━━━━━━━━━━━━━━━━━━━━╇━━━━━━━━━━━━━━━━━━━╇━━━━━━━━━━━━╇━━━━━━━━━━━━━━━━━━━┩\n",
              "│ input_layer_2       │ (\u001b[38;5;45mNone\u001b[0m, \u001b[38;5;34m30\u001b[0m, \u001b[38;5;34m7\u001b[0m)     │          \u001b[38;5;34m0\u001b[0m │ -                 │\n",
              "│ (\u001b[38;5;33mInputLayer\u001b[0m)        │                   │            │                   │\n",
              "├─────────────────────┼───────────────────┼────────────┼───────────────────┤\n",
              "│ conv1d_6 (\u001b[38;5;33mConv1D\u001b[0m)   │ (\u001b[38;5;45mNone\u001b[0m, \u001b[38;5;34m30\u001b[0m, \u001b[38;5;34m64\u001b[0m)    │      \u001b[38;5;34m2,304\u001b[0m │ input_layer_2[\u001b[38;5;34m0\u001b[0m]… │\n",
              "├─────────────────────┼───────────────────┼────────────┼───────────────────┤\n",
              "│ max_pooling1d_2     │ (\u001b[38;5;45mNone\u001b[0m, \u001b[38;5;34m15\u001b[0m, \u001b[38;5;34m64\u001b[0m)    │          \u001b[38;5;34m0\u001b[0m │ conv1d_6[\u001b[38;5;34m0\u001b[0m][\u001b[38;5;34m0\u001b[0m]    │\n",
              "│ (\u001b[38;5;33mMaxPooling1D\u001b[0m)      │                   │            │                   │\n",
              "├─────────────────────┼───────────────────┼────────────┼───────────────────┤\n",
              "│ conv1d_7 (\u001b[38;5;33mConv1D\u001b[0m)   │ (\u001b[38;5;45mNone\u001b[0m, \u001b[38;5;34m15\u001b[0m, \u001b[38;5;34m32\u001b[0m)    │     \u001b[38;5;34m10,272\u001b[0m │ max_pooling1d_2[\u001b[38;5;34m…\u001b[0m │\n",
              "├─────────────────────┼───────────────────┼────────────┼───────────────────┤\n",
              "│ max_pooling1d_3     │ (\u001b[38;5;45mNone\u001b[0m, \u001b[38;5;34m7\u001b[0m, \u001b[38;5;34m32\u001b[0m)     │          \u001b[38;5;34m0\u001b[0m │ conv1d_7[\u001b[38;5;34m0\u001b[0m][\u001b[38;5;34m0\u001b[0m]    │\n",
              "│ (\u001b[38;5;33mMaxPooling1D\u001b[0m)      │                   │            │                   │\n",
              "├─────────────────────┼───────────────────┼────────────┼───────────────────┤\n",
              "│ conv1d_8 (\u001b[38;5;33mConv1D\u001b[0m)   │ (\u001b[38;5;45mNone\u001b[0m, \u001b[38;5;34m7\u001b[0m, \u001b[38;5;34m16\u001b[0m)     │      \u001b[38;5;34m2,576\u001b[0m │ max_pooling1d_3[\u001b[38;5;34m…\u001b[0m │\n",
              "├─────────────────────┼───────────────────┼────────────┼───────────────────┤\n",
              "│ reshape_1 (\u001b[38;5;33mReshape\u001b[0m) │ (\u001b[38;5;45mNone\u001b[0m, \u001b[38;5;34m7\u001b[0m, \u001b[38;5;34m16\u001b[0m)     │          \u001b[38;5;34m0\u001b[0m │ conv1d_8[\u001b[38;5;34m0\u001b[0m][\u001b[38;5;34m0\u001b[0m]    │\n",
              "├─────────────────────┼───────────────────┼────────────┼───────────────────┤\n",
              "│ lstm_1 (\u001b[38;5;33mLSTM\u001b[0m)       │ (\u001b[38;5;45mNone\u001b[0m, \u001b[38;5;34m128\u001b[0m)       │     \u001b[38;5;34m74,240\u001b[0m │ reshape_1[\u001b[38;5;34m0\u001b[0m][\u001b[38;5;34m0\u001b[0m]   │\n",
              "├─────────────────────┼───────────────────┼────────────┼───────────────────┤\n",
              "│ dense_1 (\u001b[38;5;33mDense\u001b[0m)     │ (\u001b[38;5;45mNone\u001b[0m, \u001b[38;5;34m64\u001b[0m)        │      \u001b[38;5;34m8,256\u001b[0m │ lstm_1[\u001b[38;5;34m0\u001b[0m][\u001b[38;5;34m0\u001b[0m]      │\n",
              "├─────────────────────┼───────────────────┼────────────┼───────────────────┤\n",
              "│ cnn_decoder         │ (\u001b[38;5;45mNone\u001b[0m, \u001b[38;5;34m28\u001b[0m, \u001b[38;5;34m7\u001b[0m)     │     \u001b[38;5;34m14,247\u001b[0m │ conv1d_8[\u001b[38;5;34m0\u001b[0m][\u001b[38;5;34m0\u001b[0m]    │\n",
              "│ (\u001b[38;5;33mFunctional\u001b[0m)        │                   │            │                   │\n",
              "├─────────────────────┼───────────────────┼────────────┼───────────────────┤\n",
              "│ dropout_output      │ (\u001b[38;5;45mNone\u001b[0m, \u001b[38;5;34m1\u001b[0m)         │         \u001b[38;5;34m65\u001b[0m │ dense_1[\u001b[38;5;34m0\u001b[0m][\u001b[38;5;34m0\u001b[0m]     │\n",
              "│ (\u001b[38;5;33mDense\u001b[0m)             │                   │            │                   │\n",
              "└─────────────────────┴───────────────────┴────────────┴───────────────────┘\n"
            ],
            "text/html": [
              "<pre style=\"white-space:pre;overflow-x:auto;line-height:normal;font-family:Menlo,'DejaVu Sans Mono',consolas,'Courier New',monospace\">┏━━━━━━━━━━━━━━━━━━━━━┳━━━━━━━━━━━━━━━━━━━┳━━━━━━━━━━━━┳━━━━━━━━━━━━━━━━━━━┓\n",
              "┃<span style=\"font-weight: bold\"> Layer (type)        </span>┃<span style=\"font-weight: bold\"> Output Shape      </span>┃<span style=\"font-weight: bold\">    Param # </span>┃<span style=\"font-weight: bold\"> Connected to      </span>┃\n",
              "┡━━━━━━━━━━━━━━━━━━━━━╇━━━━━━━━━━━━━━━━━━━╇━━━━━━━━━━━━╇━━━━━━━━━━━━━━━━━━━┩\n",
              "│ input_layer_2       │ (<span style=\"color: #00d7ff; text-decoration-color: #00d7ff\">None</span>, <span style=\"color: #00af00; text-decoration-color: #00af00\">30</span>, <span style=\"color: #00af00; text-decoration-color: #00af00\">7</span>)     │          <span style=\"color: #00af00; text-decoration-color: #00af00\">0</span> │ -                 │\n",
              "│ (<span style=\"color: #0087ff; text-decoration-color: #0087ff\">InputLayer</span>)        │                   │            │                   │\n",
              "├─────────────────────┼───────────────────┼────────────┼───────────────────┤\n",
              "│ conv1d_6 (<span style=\"color: #0087ff; text-decoration-color: #0087ff\">Conv1D</span>)   │ (<span style=\"color: #00d7ff; text-decoration-color: #00d7ff\">None</span>, <span style=\"color: #00af00; text-decoration-color: #00af00\">30</span>, <span style=\"color: #00af00; text-decoration-color: #00af00\">64</span>)    │      <span style=\"color: #00af00; text-decoration-color: #00af00\">2,304</span> │ input_layer_2[<span style=\"color: #00af00; text-decoration-color: #00af00\">0</span>]… │\n",
              "├─────────────────────┼───────────────────┼────────────┼───────────────────┤\n",
              "│ max_pooling1d_2     │ (<span style=\"color: #00d7ff; text-decoration-color: #00d7ff\">None</span>, <span style=\"color: #00af00; text-decoration-color: #00af00\">15</span>, <span style=\"color: #00af00; text-decoration-color: #00af00\">64</span>)    │          <span style=\"color: #00af00; text-decoration-color: #00af00\">0</span> │ conv1d_6[<span style=\"color: #00af00; text-decoration-color: #00af00\">0</span>][<span style=\"color: #00af00; text-decoration-color: #00af00\">0</span>]    │\n",
              "│ (<span style=\"color: #0087ff; text-decoration-color: #0087ff\">MaxPooling1D</span>)      │                   │            │                   │\n",
              "├─────────────────────┼───────────────────┼────────────┼───────────────────┤\n",
              "│ conv1d_7 (<span style=\"color: #0087ff; text-decoration-color: #0087ff\">Conv1D</span>)   │ (<span style=\"color: #00d7ff; text-decoration-color: #00d7ff\">None</span>, <span style=\"color: #00af00; text-decoration-color: #00af00\">15</span>, <span style=\"color: #00af00; text-decoration-color: #00af00\">32</span>)    │     <span style=\"color: #00af00; text-decoration-color: #00af00\">10,272</span> │ max_pooling1d_2[<span style=\"color: #00af00; text-decoration-color: #00af00\">…</span> │\n",
              "├─────────────────────┼───────────────────┼────────────┼───────────────────┤\n",
              "│ max_pooling1d_3     │ (<span style=\"color: #00d7ff; text-decoration-color: #00d7ff\">None</span>, <span style=\"color: #00af00; text-decoration-color: #00af00\">7</span>, <span style=\"color: #00af00; text-decoration-color: #00af00\">32</span>)     │          <span style=\"color: #00af00; text-decoration-color: #00af00\">0</span> │ conv1d_7[<span style=\"color: #00af00; text-decoration-color: #00af00\">0</span>][<span style=\"color: #00af00; text-decoration-color: #00af00\">0</span>]    │\n",
              "│ (<span style=\"color: #0087ff; text-decoration-color: #0087ff\">MaxPooling1D</span>)      │                   │            │                   │\n",
              "├─────────────────────┼───────────────────┼────────────┼───────────────────┤\n",
              "│ conv1d_8 (<span style=\"color: #0087ff; text-decoration-color: #0087ff\">Conv1D</span>)   │ (<span style=\"color: #00d7ff; text-decoration-color: #00d7ff\">None</span>, <span style=\"color: #00af00; text-decoration-color: #00af00\">7</span>, <span style=\"color: #00af00; text-decoration-color: #00af00\">16</span>)     │      <span style=\"color: #00af00; text-decoration-color: #00af00\">2,576</span> │ max_pooling1d_3[<span style=\"color: #00af00; text-decoration-color: #00af00\">…</span> │\n",
              "├─────────────────────┼───────────────────┼────────────┼───────────────────┤\n",
              "│ reshape_1 (<span style=\"color: #0087ff; text-decoration-color: #0087ff\">Reshape</span>) │ (<span style=\"color: #00d7ff; text-decoration-color: #00d7ff\">None</span>, <span style=\"color: #00af00; text-decoration-color: #00af00\">7</span>, <span style=\"color: #00af00; text-decoration-color: #00af00\">16</span>)     │          <span style=\"color: #00af00; text-decoration-color: #00af00\">0</span> │ conv1d_8[<span style=\"color: #00af00; text-decoration-color: #00af00\">0</span>][<span style=\"color: #00af00; text-decoration-color: #00af00\">0</span>]    │\n",
              "├─────────────────────┼───────────────────┼────────────┼───────────────────┤\n",
              "│ lstm_1 (<span style=\"color: #0087ff; text-decoration-color: #0087ff\">LSTM</span>)       │ (<span style=\"color: #00d7ff; text-decoration-color: #00d7ff\">None</span>, <span style=\"color: #00af00; text-decoration-color: #00af00\">128</span>)       │     <span style=\"color: #00af00; text-decoration-color: #00af00\">74,240</span> │ reshape_1[<span style=\"color: #00af00; text-decoration-color: #00af00\">0</span>][<span style=\"color: #00af00; text-decoration-color: #00af00\">0</span>]   │\n",
              "├─────────────────────┼───────────────────┼────────────┼───────────────────┤\n",
              "│ dense_1 (<span style=\"color: #0087ff; text-decoration-color: #0087ff\">Dense</span>)     │ (<span style=\"color: #00d7ff; text-decoration-color: #00d7ff\">None</span>, <span style=\"color: #00af00; text-decoration-color: #00af00\">64</span>)        │      <span style=\"color: #00af00; text-decoration-color: #00af00\">8,256</span> │ lstm_1[<span style=\"color: #00af00; text-decoration-color: #00af00\">0</span>][<span style=\"color: #00af00; text-decoration-color: #00af00\">0</span>]      │\n",
              "├─────────────────────┼───────────────────┼────────────┼───────────────────┤\n",
              "│ cnn_decoder         │ (<span style=\"color: #00d7ff; text-decoration-color: #00d7ff\">None</span>, <span style=\"color: #00af00; text-decoration-color: #00af00\">28</span>, <span style=\"color: #00af00; text-decoration-color: #00af00\">7</span>)     │     <span style=\"color: #00af00; text-decoration-color: #00af00\">14,247</span> │ conv1d_8[<span style=\"color: #00af00; text-decoration-color: #00af00\">0</span>][<span style=\"color: #00af00; text-decoration-color: #00af00\">0</span>]    │\n",
              "│ (<span style=\"color: #0087ff; text-decoration-color: #0087ff\">Functional</span>)        │                   │            │                   │\n",
              "├─────────────────────┼───────────────────┼────────────┼───────────────────┤\n",
              "│ dropout_output      │ (<span style=\"color: #00d7ff; text-decoration-color: #00d7ff\">None</span>, <span style=\"color: #00af00; text-decoration-color: #00af00\">1</span>)         │         <span style=\"color: #00af00; text-decoration-color: #00af00\">65</span> │ dense_1[<span style=\"color: #00af00; text-decoration-color: #00af00\">0</span>][<span style=\"color: #00af00; text-decoration-color: #00af00\">0</span>]     │\n",
              "│ (<span style=\"color: #0087ff; text-decoration-color: #0087ff\">Dense</span>)             │                   │            │                   │\n",
              "└─────────────────────┴───────────────────┴────────────┴───────────────────┘\n",
              "</pre>\n"
            ]
          },
          "metadata": {}
        },
        {
          "output_type": "display_data",
          "data": {
            "text/plain": [
              "\u001b[1m Total params: \u001b[0m\u001b[38;5;34m111,960\u001b[0m (437.34 KB)\n"
            ],
            "text/html": [
              "<pre style=\"white-space:pre;overflow-x:auto;line-height:normal;font-family:Menlo,'DejaVu Sans Mono',consolas,'Courier New',monospace\"><span style=\"font-weight: bold\"> Total params: </span><span style=\"color: #00af00; text-decoration-color: #00af00\">111,960</span> (437.34 KB)\n",
              "</pre>\n"
            ]
          },
          "metadata": {}
        },
        {
          "output_type": "display_data",
          "data": {
            "text/plain": [
              "\u001b[1m Trainable params: \u001b[0m\u001b[38;5;34m111,960\u001b[0m (437.34 KB)\n"
            ],
            "text/html": [
              "<pre style=\"white-space:pre;overflow-x:auto;line-height:normal;font-family:Menlo,'DejaVu Sans Mono',consolas,'Courier New',monospace\"><span style=\"font-weight: bold\"> Trainable params: </span><span style=\"color: #00af00; text-decoration-color: #00af00\">111,960</span> (437.34 KB)\n",
              "</pre>\n"
            ]
          },
          "metadata": {}
        },
        {
          "output_type": "display_data",
          "data": {
            "text/plain": [
              "\u001b[1m Non-trainable params: \u001b[0m\u001b[38;5;34m0\u001b[0m (0.00 B)\n"
            ],
            "text/html": [
              "<pre style=\"white-space:pre;overflow-x:auto;line-height:normal;font-family:Menlo,'DejaVu Sans Mono',consolas,'Courier New',monospace\"><span style=\"font-weight: bold\"> Non-trainable params: </span><span style=\"color: #00af00; text-decoration-color: #00af00\">0</span> (0.00 B)\n",
              "</pre>\n"
            ]
          },
          "metadata": {}
        },
        {
          "output_type": "stream",
          "name": "stdout",
          "text": [
            "Epoch 1/20\n"
          ]
        },
        {
          "output_type": "error",
          "ename": "ValueError",
          "evalue": "Dimensions must be equal, but are 30 and 28 for '{{node compile_loss/mse/sub}} = Sub[T=DT_FLOAT](data_1, functional_1_1/cnn_decoder_1/conv1d_11_1/Sigmoid)' with input shapes: [?,30,7], [?,28,7].",
          "traceback": [
            "\u001b[0;31m---------------------------------------------------------------------------\u001b[0m",
            "\u001b[0;31mValueError\u001b[0m                                Traceback (most recent call last)",
            "\u001b[0;32m/tmp/ipython-input-5-1338962486.py\u001b[0m in \u001b[0;36m<cell line: 0>\u001b[0;34m()\u001b[0m\n\u001b[1;32m     84\u001b[0m \u001b[0;31m# -------------------------------\u001b[0m\u001b[0;34m\u001b[0m\u001b[0;34m\u001b[0m\u001b[0m\n\u001b[1;32m     85\u001b[0m \u001b[0;34m\u001b[0m\u001b[0m\n\u001b[0;32m---> 86\u001b[0;31m history = model.fit(\n\u001b[0m\u001b[1;32m     87\u001b[0m     \u001b[0mX_train\u001b[0m\u001b[0;34m,\u001b[0m\u001b[0;34m\u001b[0m\u001b[0;34m\u001b[0m\u001b[0m\n\u001b[1;32m     88\u001b[0m     \u001b[0;34m{\u001b[0m\u001b[0;34m'cnn_decoder'\u001b[0m\u001b[0;34m:\u001b[0m \u001b[0mX_train\u001b[0m\u001b[0;34m,\u001b[0m \u001b[0;34m'dropout_output'\u001b[0m\u001b[0;34m:\u001b[0m \u001b[0my_train\u001b[0m\u001b[0;34m}\u001b[0m\u001b[0;34m,\u001b[0m\u001b[0;34m\u001b[0m\u001b[0;34m\u001b[0m\u001b[0m\n",
            "\u001b[0;32m/usr/local/lib/python3.11/dist-packages/keras/src/utils/traceback_utils.py\u001b[0m in \u001b[0;36merror_handler\u001b[0;34m(*args, **kwargs)\u001b[0m\n\u001b[1;32m    120\u001b[0m             \u001b[0;31m# To get the full stack trace, call:\u001b[0m\u001b[0;34m\u001b[0m\u001b[0;34m\u001b[0m\u001b[0m\n\u001b[1;32m    121\u001b[0m             \u001b[0;31m# `keras.config.disable_traceback_filtering()`\u001b[0m\u001b[0;34m\u001b[0m\u001b[0;34m\u001b[0m\u001b[0m\n\u001b[0;32m--> 122\u001b[0;31m             \u001b[0;32mraise\u001b[0m \u001b[0me\u001b[0m\u001b[0;34m.\u001b[0m\u001b[0mwith_traceback\u001b[0m\u001b[0;34m(\u001b[0m\u001b[0mfiltered_tb\u001b[0m\u001b[0;34m)\u001b[0m \u001b[0;32mfrom\u001b[0m \u001b[0;32mNone\u001b[0m\u001b[0;34m\u001b[0m\u001b[0;34m\u001b[0m\u001b[0m\n\u001b[0m\u001b[1;32m    123\u001b[0m         \u001b[0;32mfinally\u001b[0m\u001b[0;34m:\u001b[0m\u001b[0;34m\u001b[0m\u001b[0;34m\u001b[0m\u001b[0m\n\u001b[1;32m    124\u001b[0m             \u001b[0;32mdel\u001b[0m \u001b[0mfiltered_tb\u001b[0m\u001b[0;34m\u001b[0m\u001b[0;34m\u001b[0m\u001b[0m\n",
            "\u001b[0;32m/usr/local/lib/python3.11/dist-packages/keras/src/losses/losses.py\u001b[0m in \u001b[0;36mmean_squared_error\u001b[0;34m(y_true, y_pred)\u001b[0m\n\u001b[1;32m   1677\u001b[0m     \u001b[0my_true\u001b[0m \u001b[0;34m=\u001b[0m \u001b[0mops\u001b[0m\u001b[0;34m.\u001b[0m\u001b[0mconvert_to_tensor\u001b[0m\u001b[0;34m(\u001b[0m\u001b[0my_true\u001b[0m\u001b[0;34m,\u001b[0m \u001b[0mdtype\u001b[0m\u001b[0;34m=\u001b[0m\u001b[0my_pred\u001b[0m\u001b[0;34m.\u001b[0m\u001b[0mdtype\u001b[0m\u001b[0;34m)\u001b[0m\u001b[0;34m\u001b[0m\u001b[0;34m\u001b[0m\u001b[0m\n\u001b[1;32m   1678\u001b[0m     \u001b[0my_true\u001b[0m\u001b[0;34m,\u001b[0m \u001b[0my_pred\u001b[0m \u001b[0;34m=\u001b[0m \u001b[0msqueeze_or_expand_to_same_rank\u001b[0m\u001b[0;34m(\u001b[0m\u001b[0my_true\u001b[0m\u001b[0;34m,\u001b[0m \u001b[0my_pred\u001b[0m\u001b[0;34m)\u001b[0m\u001b[0;34m\u001b[0m\u001b[0;34m\u001b[0m\u001b[0m\n\u001b[0;32m-> 1679\u001b[0;31m     \u001b[0;32mreturn\u001b[0m \u001b[0mops\u001b[0m\u001b[0;34m.\u001b[0m\u001b[0mmean\u001b[0m\u001b[0;34m(\u001b[0m\u001b[0mops\u001b[0m\u001b[0;34m.\u001b[0m\u001b[0msquare\u001b[0m\u001b[0;34m(\u001b[0m\u001b[0my_true\u001b[0m \u001b[0;34m-\u001b[0m \u001b[0my_pred\u001b[0m\u001b[0;34m)\u001b[0m\u001b[0;34m,\u001b[0m \u001b[0maxis\u001b[0m\u001b[0;34m=\u001b[0m\u001b[0;34m-\u001b[0m\u001b[0;36m1\u001b[0m\u001b[0;34m)\u001b[0m\u001b[0;34m\u001b[0m\u001b[0;34m\u001b[0m\u001b[0m\n\u001b[0m\u001b[1;32m   1680\u001b[0m \u001b[0;34m\u001b[0m\u001b[0m\n\u001b[1;32m   1681\u001b[0m \u001b[0;34m\u001b[0m\u001b[0m\n",
            "\u001b[0;31mValueError\u001b[0m: Dimensions must be equal, but are 30 and 28 for '{{node compile_loss/mse/sub}} = Sub[T=DT_FLOAT](data_1, functional_1_1/cnn_decoder_1/conv1d_11_1/Sigmoid)' with input shapes: [?,30,7], [?,28,7]."
          ]
        }
      ]
    },
    {
      "cell_type": "code",
      "source": [
        "import numpy as np\n",
        "import pandas as pd\n",
        "import tensorflow as tf\n",
        "from tensorflow.keras import layers, models, Input\n",
        "from sklearn.model_selection import train_test_split\n",
        "from sklearn.metrics import classification_report, roc_auc_score\n",
        "\n",
        "# ------------------------------\n",
        "# 1. Load Preprocessed Features\n",
        "# ------------------------------\n",
        "# If you're loading from disk:\n",
        "features_df = pd.read_csv(\"preprocessed_features.csv\")\n",
        "features_df['feature_vector'] = features_df['feature_vector'].apply(\n",
        "    lambda x: np.fromstring(x.strip(\"[]\"), sep=' ')\n",
        ")\n",
        "\n",
        "#features_df['feature_vector'] = features_df['feature_vector'].apply(eval)  # only if it's a real Python list string\n",
        "\n",
        "# If already in memory (from previous steps):\n",
        "# Assume features_df contains: ['enrollment_id', 'feature_vector', 'label']\n",
        "\n",
        "# Convert to 30×7 matrices\n",
        "X = np.array([np.array(vec).reshape(30, 7) for vec in features_df['feature_vector']])\n",
        "y = features_df['label'].fillna(0).astype(int).values\n",
        "\n",
        "# Split the data\n",
        "X_train, X_test, y_train, y_test = train_test_split(\n",
        "    X, y, test_size=0.2, random_state=42, stratify=y\n",
        ")\n",
        "\n",
        "# ------------------------------\n",
        "# 2. Build CNNAE-LSTM Model\n",
        "# ------------------------------\n",
        "\n",
        "# Encoder\n",
        "def build_encoder(input_shape):\n",
        "    inputs = Input(shape=input_shape)\n",
        "    x = layers.Conv1D(64, 3, activation='relu', padding='same')(inputs)\n",
        "    x = layers.MaxPooling1D(2, padding='same')(x)  # 30 → 15\n",
        "    encoded = layers.Conv1D(32, 3, activation='relu', padding='same')(x)\n",
        "    return models.Model(inputs, encoded, name=\"cnn_encoder\")\n",
        "\n",
        "# Decoder\n",
        "def build_decoder(encoded_shape):\n",
        "    inputs = Input(shape=encoded_shape)\n",
        "    x = layers.UpSampling1D(2)(inputs)             # 15 → 30\n",
        "    x = layers.Conv1D(64, 3, activation='relu', padding='same')(x)\n",
        "    decoded = layers.Conv1D(7, 3, activation='sigmoid', padding='same')(x)\n",
        "    return models.Model(inputs, decoded, name=\"cnn_decoder\")\n",
        "\n",
        "# Combine into full model\n",
        "input_shape = (30, 7)\n",
        "encoder = build_encoder(input_shape)\n",
        "encoded_output = encoder.output\n",
        "\n",
        "# LSTM branch\n",
        "x = layers.Reshape((encoded_output.shape[1], encoded_output.shape[2]))(encoded_output)\n",
        "x = layers.LSTM(128, dropout=0.5)(x)\n",
        "x = layers.Dense(64, activation='relu')(x)\n",
        "dropout_pred = layers.Dense(1, activation='sigmoid', name='dropout_output')(x)\n",
        "\n",
        "# Decoder branch\n",
        "decoder = build_decoder(encoded_output.shape[1:])\n",
        "reconstructed = decoder(encoded_output)\n",
        "\n",
        "# Final model\n",
        "model = models.Model(inputs=encoder.input, outputs=[reconstructed, dropout_pred])\n",
        "model.compile(\n",
        "    optimizer='adam',\n",
        "    loss={'cnn_decoder': 'mse', 'dropout_output': 'binary_crossentropy'},\n",
        "    loss_weights={'cnn_decoder': 0.5, 'dropout_output': 1.0},\n",
        "    metrics={'dropout_output': ['accuracy']}\n",
        ")\n",
        "\n",
        "model.summary()\n",
        "\n",
        "# ------------------------------\n",
        "# 3. Train the Model\n",
        "# ------------------------------\n",
        "history = model.fit(\n",
        "    X_train,\n",
        "    {'cnn_decoder': X_train, 'dropout_output': y_train},\n",
        "    validation_split=0.1,\n",
        "    epochs=20,\n",
        "    batch_size=128,\n",
        "    verbose=1\n",
        ")\n",
        "\n",
        "# ------------------------------\n",
        "# 4. Evaluate the Model\n",
        "# ------------------------------\n",
        "decoded_output, y_pred_prob = model.predict(X_test)\n",
        "y_pred = (y_pred_prob > 0.5).astype(int)\n",
        "\n",
        "print(\"\\n📊 Classification Report:\")\n",
        "print(classification_report(y_test, y_pred))\n",
        "print(f\"✅ Accuracy: {(y_pred.flatten() == y_test).mean():.4f}\")\n",
        "print(f\"🔥 AUC Score: {roc_auc_score(y_test, y_pred_prob):.4f}\")\n"
      ],
      "metadata": {
        "colab": {
          "base_uri": "https://localhost:8080/",
          "height": 1000
        },
        "id": "lTIUMG3YgSZH",
        "outputId": "3810b60a-ef80-4c8b-eb19-75b34fc93ffb"
      },
      "execution_count": 7,
      "outputs": [
        {
          "data": {
            "text/html": [
              "<pre style=\"white-space:pre;overflow-x:auto;line-height:normal;font-family:Menlo,'DejaVu Sans Mono',consolas,'Courier New',monospace\"><span style=\"font-weight: bold\">Model: \"functional_2\"</span>\n",
              "</pre>\n"
            ],
            "text/plain": [
              "\u001b[1mModel: \"functional_2\"\u001b[0m\n"
            ]
          },
          "metadata": {},
          "output_type": "display_data"
        },
        {
          "data": {
            "text/html": [
              "<pre style=\"white-space:pre;overflow-x:auto;line-height:normal;font-family:Menlo,'DejaVu Sans Mono',consolas,'Courier New',monospace\">┏━━━━━━━━━━━━━━━━━━━━━┳━━━━━━━━━━━━━━━━━━━┳━━━━━━━━━━━━┳━━━━━━━━━━━━━━━━━━━┓\n",
              "┃<span style=\"font-weight: bold\"> Layer (type)        </span>┃<span style=\"font-weight: bold\"> Output Shape      </span>┃<span style=\"font-weight: bold\">    Param # </span>┃<span style=\"font-weight: bold\"> Connected to      </span>┃\n",
              "┡━━━━━━━━━━━━━━━━━━━━━╇━━━━━━━━━━━━━━━━━━━╇━━━━━━━━━━━━╇━━━━━━━━━━━━━━━━━━━┩\n",
              "│ input_layer_4       │ (<span style=\"color: #00d7ff; text-decoration-color: #00d7ff\">None</span>, <span style=\"color: #00af00; text-decoration-color: #00af00\">30</span>, <span style=\"color: #00af00; text-decoration-color: #00af00\">7</span>)     │          <span style=\"color: #00af00; text-decoration-color: #00af00\">0</span> │ -                 │\n",
              "│ (<span style=\"color: #0087ff; text-decoration-color: #0087ff\">InputLayer</span>)        │                   │            │                   │\n",
              "├─────────────────────┼───────────────────┼────────────┼───────────────────┤\n",
              "│ conv1d_12 (<span style=\"color: #0087ff; text-decoration-color: #0087ff\">Conv1D</span>)  │ (<span style=\"color: #00d7ff; text-decoration-color: #00d7ff\">None</span>, <span style=\"color: #00af00; text-decoration-color: #00af00\">30</span>, <span style=\"color: #00af00; text-decoration-color: #00af00\">64</span>)    │      <span style=\"color: #00af00; text-decoration-color: #00af00\">1,408</span> │ input_layer_4[<span style=\"color: #00af00; text-decoration-color: #00af00\">0</span>]… │\n",
              "├─────────────────────┼───────────────────┼────────────┼───────────────────┤\n",
              "│ max_pooling1d_4     │ (<span style=\"color: #00d7ff; text-decoration-color: #00d7ff\">None</span>, <span style=\"color: #00af00; text-decoration-color: #00af00\">15</span>, <span style=\"color: #00af00; text-decoration-color: #00af00\">64</span>)    │          <span style=\"color: #00af00; text-decoration-color: #00af00\">0</span> │ conv1d_12[<span style=\"color: #00af00; text-decoration-color: #00af00\">0</span>][<span style=\"color: #00af00; text-decoration-color: #00af00\">0</span>]   │\n",
              "│ (<span style=\"color: #0087ff; text-decoration-color: #0087ff\">MaxPooling1D</span>)      │                   │            │                   │\n",
              "├─────────────────────┼───────────────────┼────────────┼───────────────────┤\n",
              "│ conv1d_13 (<span style=\"color: #0087ff; text-decoration-color: #0087ff\">Conv1D</span>)  │ (<span style=\"color: #00d7ff; text-decoration-color: #00d7ff\">None</span>, <span style=\"color: #00af00; text-decoration-color: #00af00\">15</span>, <span style=\"color: #00af00; text-decoration-color: #00af00\">32</span>)    │      <span style=\"color: #00af00; text-decoration-color: #00af00\">6,176</span> │ max_pooling1d_4[<span style=\"color: #00af00; text-decoration-color: #00af00\">…</span> │\n",
              "├─────────────────────┼───────────────────┼────────────┼───────────────────┤\n",
              "│ reshape_2 (<span style=\"color: #0087ff; text-decoration-color: #0087ff\">Reshape</span>) │ (<span style=\"color: #00d7ff; text-decoration-color: #00d7ff\">None</span>, <span style=\"color: #00af00; text-decoration-color: #00af00\">15</span>, <span style=\"color: #00af00; text-decoration-color: #00af00\">32</span>)    │          <span style=\"color: #00af00; text-decoration-color: #00af00\">0</span> │ conv1d_13[<span style=\"color: #00af00; text-decoration-color: #00af00\">0</span>][<span style=\"color: #00af00; text-decoration-color: #00af00\">0</span>]   │\n",
              "├─────────────────────┼───────────────────┼────────────┼───────────────────┤\n",
              "│ lstm_2 (<span style=\"color: #0087ff; text-decoration-color: #0087ff\">LSTM</span>)       │ (<span style=\"color: #00d7ff; text-decoration-color: #00d7ff\">None</span>, <span style=\"color: #00af00; text-decoration-color: #00af00\">128</span>)       │     <span style=\"color: #00af00; text-decoration-color: #00af00\">82,432</span> │ reshape_2[<span style=\"color: #00af00; text-decoration-color: #00af00\">0</span>][<span style=\"color: #00af00; text-decoration-color: #00af00\">0</span>]   │\n",
              "├─────────────────────┼───────────────────┼────────────┼───────────────────┤\n",
              "│ dense_2 (<span style=\"color: #0087ff; text-decoration-color: #0087ff\">Dense</span>)     │ (<span style=\"color: #00d7ff; text-decoration-color: #00d7ff\">None</span>, <span style=\"color: #00af00; text-decoration-color: #00af00\">64</span>)        │      <span style=\"color: #00af00; text-decoration-color: #00af00\">8,256</span> │ lstm_2[<span style=\"color: #00af00; text-decoration-color: #00af00\">0</span>][<span style=\"color: #00af00; text-decoration-color: #00af00\">0</span>]      │\n",
              "├─────────────────────┼───────────────────┼────────────┼───────────────────┤\n",
              "│ cnn_decoder         │ (<span style=\"color: #00d7ff; text-decoration-color: #00d7ff\">None</span>, <span style=\"color: #00af00; text-decoration-color: #00af00\">30</span>, <span style=\"color: #00af00; text-decoration-color: #00af00\">7</span>)     │      <span style=\"color: #00af00; text-decoration-color: #00af00\">7,559</span> │ conv1d_13[<span style=\"color: #00af00; text-decoration-color: #00af00\">0</span>][<span style=\"color: #00af00; text-decoration-color: #00af00\">0</span>]   │\n",
              "│ (<span style=\"color: #0087ff; text-decoration-color: #0087ff\">Functional</span>)        │                   │            │                   │\n",
              "├─────────────────────┼───────────────────┼────────────┼───────────────────┤\n",
              "│ dropout_output      │ (<span style=\"color: #00d7ff; text-decoration-color: #00d7ff\">None</span>, <span style=\"color: #00af00; text-decoration-color: #00af00\">1</span>)         │         <span style=\"color: #00af00; text-decoration-color: #00af00\">65</span> │ dense_2[<span style=\"color: #00af00; text-decoration-color: #00af00\">0</span>][<span style=\"color: #00af00; text-decoration-color: #00af00\">0</span>]     │\n",
              "│ (<span style=\"color: #0087ff; text-decoration-color: #0087ff\">Dense</span>)             │                   │            │                   │\n",
              "└─────────────────────┴───────────────────┴────────────┴───────────────────┘\n",
              "</pre>\n"
            ],
            "text/plain": [
              "┏━━━━━━━━━━━━━━━━━━━━━┳━━━━━━━━━━━━━━━━━━━┳━━━━━━━━━━━━┳━━━━━━━━━━━━━━━━━━━┓\n",
              "┃\u001b[1m \u001b[0m\u001b[1mLayer (type)       \u001b[0m\u001b[1m \u001b[0m┃\u001b[1m \u001b[0m\u001b[1mOutput Shape     \u001b[0m\u001b[1m \u001b[0m┃\u001b[1m \u001b[0m\u001b[1m   Param #\u001b[0m\u001b[1m \u001b[0m┃\u001b[1m \u001b[0m\u001b[1mConnected to     \u001b[0m\u001b[1m \u001b[0m┃\n",
              "┡━━━━━━━━━━━━━━━━━━━━━╇━━━━━━━━━━━━━━━━━━━╇━━━━━━━━━━━━╇━━━━━━━━━━━━━━━━━━━┩\n",
              "│ input_layer_4       │ (\u001b[38;5;45mNone\u001b[0m, \u001b[38;5;34m30\u001b[0m, \u001b[38;5;34m7\u001b[0m)     │          \u001b[38;5;34m0\u001b[0m │ -                 │\n",
              "│ (\u001b[38;5;33mInputLayer\u001b[0m)        │                   │            │                   │\n",
              "├─────────────────────┼───────────────────┼────────────┼───────────────────┤\n",
              "│ conv1d_12 (\u001b[38;5;33mConv1D\u001b[0m)  │ (\u001b[38;5;45mNone\u001b[0m, \u001b[38;5;34m30\u001b[0m, \u001b[38;5;34m64\u001b[0m)    │      \u001b[38;5;34m1,408\u001b[0m │ input_layer_4[\u001b[38;5;34m0\u001b[0m]… │\n",
              "├─────────────────────┼───────────────────┼────────────┼───────────────────┤\n",
              "│ max_pooling1d_4     │ (\u001b[38;5;45mNone\u001b[0m, \u001b[38;5;34m15\u001b[0m, \u001b[38;5;34m64\u001b[0m)    │          \u001b[38;5;34m0\u001b[0m │ conv1d_12[\u001b[38;5;34m0\u001b[0m][\u001b[38;5;34m0\u001b[0m]   │\n",
              "│ (\u001b[38;5;33mMaxPooling1D\u001b[0m)      │                   │            │                   │\n",
              "├─────────────────────┼───────────────────┼────────────┼───────────────────┤\n",
              "│ conv1d_13 (\u001b[38;5;33mConv1D\u001b[0m)  │ (\u001b[38;5;45mNone\u001b[0m, \u001b[38;5;34m15\u001b[0m, \u001b[38;5;34m32\u001b[0m)    │      \u001b[38;5;34m6,176\u001b[0m │ max_pooling1d_4[\u001b[38;5;34m…\u001b[0m │\n",
              "├─────────────────────┼───────────────────┼────────────┼───────────────────┤\n",
              "│ reshape_2 (\u001b[38;5;33mReshape\u001b[0m) │ (\u001b[38;5;45mNone\u001b[0m, \u001b[38;5;34m15\u001b[0m, \u001b[38;5;34m32\u001b[0m)    │          \u001b[38;5;34m0\u001b[0m │ conv1d_13[\u001b[38;5;34m0\u001b[0m][\u001b[38;5;34m0\u001b[0m]   │\n",
              "├─────────────────────┼───────────────────┼────────────┼───────────────────┤\n",
              "│ lstm_2 (\u001b[38;5;33mLSTM\u001b[0m)       │ (\u001b[38;5;45mNone\u001b[0m, \u001b[38;5;34m128\u001b[0m)       │     \u001b[38;5;34m82,432\u001b[0m │ reshape_2[\u001b[38;5;34m0\u001b[0m][\u001b[38;5;34m0\u001b[0m]   │\n",
              "├─────────────────────┼───────────────────┼────────────┼───────────────────┤\n",
              "│ dense_2 (\u001b[38;5;33mDense\u001b[0m)     │ (\u001b[38;5;45mNone\u001b[0m, \u001b[38;5;34m64\u001b[0m)        │      \u001b[38;5;34m8,256\u001b[0m │ lstm_2[\u001b[38;5;34m0\u001b[0m][\u001b[38;5;34m0\u001b[0m]      │\n",
              "├─────────────────────┼───────────────────┼────────────┼───────────────────┤\n",
              "│ cnn_decoder         │ (\u001b[38;5;45mNone\u001b[0m, \u001b[38;5;34m30\u001b[0m, \u001b[38;5;34m7\u001b[0m)     │      \u001b[38;5;34m7,559\u001b[0m │ conv1d_13[\u001b[38;5;34m0\u001b[0m][\u001b[38;5;34m0\u001b[0m]   │\n",
              "│ (\u001b[38;5;33mFunctional\u001b[0m)        │                   │            │                   │\n",
              "├─────────────────────┼───────────────────┼────────────┼───────────────────┤\n",
              "│ dropout_output      │ (\u001b[38;5;45mNone\u001b[0m, \u001b[38;5;34m1\u001b[0m)         │         \u001b[38;5;34m65\u001b[0m │ dense_2[\u001b[38;5;34m0\u001b[0m][\u001b[38;5;34m0\u001b[0m]     │\n",
              "│ (\u001b[38;5;33mDense\u001b[0m)             │                   │            │                   │\n",
              "└─────────────────────┴───────────────────┴────────────┴───────────────────┘\n"
            ]
          },
          "metadata": {},
          "output_type": "display_data"
        },
        {
          "data": {
            "text/html": [
              "<pre style=\"white-space:pre;overflow-x:auto;line-height:normal;font-family:Menlo,'DejaVu Sans Mono',consolas,'Courier New',monospace\"><span style=\"font-weight: bold\"> Total params: </span><span style=\"color: #00af00; text-decoration-color: #00af00\">105,896</span> (413.66 KB)\n",
              "</pre>\n"
            ],
            "text/plain": [
              "\u001b[1m Total params: \u001b[0m\u001b[38;5;34m105,896\u001b[0m (413.66 KB)\n"
            ]
          },
          "metadata": {},
          "output_type": "display_data"
        },
        {
          "data": {
            "text/html": [
              "<pre style=\"white-space:pre;overflow-x:auto;line-height:normal;font-family:Menlo,'DejaVu Sans Mono',consolas,'Courier New',monospace\"><span style=\"font-weight: bold\"> Trainable params: </span><span style=\"color: #00af00; text-decoration-color: #00af00\">105,896</span> (413.66 KB)\n",
              "</pre>\n"
            ],
            "text/plain": [
              "\u001b[1m Trainable params: \u001b[0m\u001b[38;5;34m105,896\u001b[0m (413.66 KB)\n"
            ]
          },
          "metadata": {},
          "output_type": "display_data"
        },
        {
          "data": {
            "text/html": [
              "<pre style=\"white-space:pre;overflow-x:auto;line-height:normal;font-family:Menlo,'DejaVu Sans Mono',consolas,'Courier New',monospace\"><span style=\"font-weight: bold\"> Non-trainable params: </span><span style=\"color: #00af00; text-decoration-color: #00af00\">0</span> (0.00 B)\n",
              "</pre>\n"
            ],
            "text/plain": [
              "\u001b[1m Non-trainable params: \u001b[0m\u001b[38;5;34m0\u001b[0m (0.00 B)\n"
            ]
          },
          "metadata": {},
          "output_type": "display_data"
        },
        {
          "output_type": "stream",
          "name": "stdout",
          "text": [
            "Epoch 1/20\n",
            "\u001b[1m679/679\u001b[0m \u001b[32m━━━━━━━━━━━━━━━━━━━━\u001b[0m\u001b[37m\u001b[0m \u001b[1m64s\u001b[0m 85ms/step - cnn_decoder_loss: 7.9580 - dropout_output_accuracy: 0.8537 - dropout_output_loss: 0.3865 - loss: 4.3655 - val_cnn_decoder_loss: 7.1371 - val_dropout_output_accuracy: 0.8648 - val_dropout_output_loss: 0.3488 - val_loss: 3.9298\n",
            "Epoch 2/20\n",
            "\u001b[1m679/679\u001b[0m \u001b[32m━━━━━━━━━━━━━━━━━━━━\u001b[0m\u001b[37m\u001b[0m \u001b[1m73s\u001b[0m 73ms/step - cnn_decoder_loss: 7.8225 - dropout_output_accuracy: 0.8657 - dropout_output_loss: 0.3458 - loss: 4.2570 - val_cnn_decoder_loss: 7.1304 - val_dropout_output_accuracy: 0.8668 - val_dropout_output_loss: 0.3451 - val_loss: 3.9228\n",
            "Epoch 3/20\n",
            "\u001b[1m679/679\u001b[0m \u001b[32m━━━━━━━━━━━━━━━━━━━━\u001b[0m\u001b[37m\u001b[0m \u001b[1m83s\u001b[0m 75ms/step - cnn_decoder_loss: 8.9913 - dropout_output_accuracy: 0.8637 - dropout_output_loss: 0.3479 - loss: 4.8434 - val_cnn_decoder_loss: 7.1283 - val_dropout_output_accuracy: 0.8685 - val_dropout_output_loss: 0.3416 - val_loss: 3.9181\n",
            "Epoch 4/20\n",
            "\u001b[1m679/679\u001b[0m \u001b[32m━━━━━━━━━━━━━━━━━━━━\u001b[0m\u001b[37m\u001b[0m \u001b[1m51s\u001b[0m 75ms/step - cnn_decoder_loss: 7.6000 - dropout_output_accuracy: 0.8675 - dropout_output_loss: 0.3417 - loss: 4.1416 - val_cnn_decoder_loss: 7.1263 - val_dropout_output_accuracy: 0.8675 - val_dropout_output_loss: 0.3425 - val_loss: 3.9182\n",
            "Epoch 5/20\n",
            "\u001b[1m679/679\u001b[0m \u001b[32m━━━━━━━━━━━━━━━━━━━━\u001b[0m\u001b[37m\u001b[0m \u001b[1m81s\u001b[0m 73ms/step - cnn_decoder_loss: 7.8127 - dropout_output_accuracy: 0.8657 - dropout_output_loss: 0.3447 - loss: 4.2511 - val_cnn_decoder_loss: 7.1257 - val_dropout_output_accuracy: 0.8667 - val_dropout_output_loss: 0.3428 - val_loss: 3.9181\n",
            "Epoch 6/20\n",
            "\u001b[1m679/679\u001b[0m \u001b[32m━━━━━━━━━━━━━━━━━━━━\u001b[0m\u001b[37m\u001b[0m \u001b[1m82s\u001b[0m 73ms/step - cnn_decoder_loss: 8.0194 - dropout_output_accuracy: 0.8639 - dropout_output_loss: 0.3454 - loss: 4.3551 - val_cnn_decoder_loss: 7.1238 - val_dropout_output_accuracy: 0.8677 - val_dropout_output_loss: 0.3401 - val_loss: 3.9146\n",
            "Epoch 7/20\n",
            "\u001b[1m679/679\u001b[0m \u001b[32m━━━━━━━━━━━━━━━━━━━━\u001b[0m\u001b[37m\u001b[0m \u001b[1m84s\u001b[0m 76ms/step - cnn_decoder_loss: 8.0427 - dropout_output_accuracy: 0.8677 - dropout_output_loss: 0.3399 - loss: 4.3610 - val_cnn_decoder_loss: 7.1239 - val_dropout_output_accuracy: 0.8671 - val_dropout_output_loss: 0.3436 - val_loss: 3.9181\n",
            "Epoch 8/20\n",
            "\u001b[1m679/679\u001b[0m \u001b[32m━━━━━━━━━━━━━━━━━━━━\u001b[0m\u001b[37m\u001b[0m \u001b[1m82s\u001b[0m 76ms/step - cnn_decoder_loss: 8.1030 - dropout_output_accuracy: 0.8664 - dropout_output_loss: 0.3406 - loss: 4.3921 - val_cnn_decoder_loss: 7.1228 - val_dropout_output_accuracy: 0.8670 - val_dropout_output_loss: 0.3411 - val_loss: 3.9149\n",
            "Epoch 9/20\n",
            "\u001b[1m679/679\u001b[0m \u001b[32m━━━━━━━━━━━━━━━━━━━━\u001b[0m\u001b[37m\u001b[0m \u001b[1m50s\u001b[0m 73ms/step - cnn_decoder_loss: 8.3872 - dropout_output_accuracy: 0.8658 - dropout_output_loss: 0.3415 - loss: 4.5351 - val_cnn_decoder_loss: 7.1222 - val_dropout_output_accuracy: 0.8672 - val_dropout_output_loss: 0.3413 - val_loss: 3.9149\n",
            "Epoch 10/20\n",
            "\u001b[1m679/679\u001b[0m \u001b[32m━━━━━━━━━━━━━━━━━━━━\u001b[0m\u001b[37m\u001b[0m \u001b[1m82s\u001b[0m 73ms/step - cnn_decoder_loss: 8.0236 - dropout_output_accuracy: 0.8682 - dropout_output_loss: 0.3407 - loss: 4.3525 - val_cnn_decoder_loss: 7.1221 - val_dropout_output_accuracy: 0.8683 - val_dropout_output_loss: 0.3414 - val_loss: 3.9149\n",
            "Epoch 11/20\n",
            "\u001b[1m679/679\u001b[0m \u001b[32m━━━━━━━━━━━━━━━━━━━━\u001b[0m\u001b[37m\u001b[0m \u001b[1m86s\u001b[0m 79ms/step - cnn_decoder_loss: 7.2827 - dropout_output_accuracy: 0.8685 - dropout_output_loss: 0.3388 - loss: 3.9802 - val_cnn_decoder_loss: 7.1221 - val_dropout_output_accuracy: 0.8698 - val_dropout_output_loss: 0.3396 - val_loss: 3.9130\n",
            "Epoch 12/20\n",
            "\u001b[1m679/679\u001b[0m \u001b[32m━━━━━━━━━━━━━━━━━━━━\u001b[0m\u001b[37m\u001b[0m \u001b[1m83s\u001b[0m 80ms/step - cnn_decoder_loss: 8.1577 - dropout_output_accuracy: 0.8667 - dropout_output_loss: 0.3403 - loss: 4.4191 - val_cnn_decoder_loss: 7.1214 - val_dropout_output_accuracy: 0.8682 - val_dropout_output_loss: 0.3396 - val_loss: 3.9127\n",
            "Epoch 13/20\n",
            "\u001b[1m679/679\u001b[0m \u001b[32m━━━━━━━━━━━━━━━━━━━━\u001b[0m\u001b[37m\u001b[0m \u001b[1m79s\u001b[0m 76ms/step - cnn_decoder_loss: 8.2701 - dropout_output_accuracy: 0.8671 - dropout_output_loss: 0.3393 - loss: 4.4742 - val_cnn_decoder_loss: 7.1217 - val_dropout_output_accuracy: 0.8688 - val_dropout_output_loss: 0.3399 - val_loss: 3.9133\n",
            "Epoch 14/20\n",
            "\u001b[1m679/679\u001b[0m \u001b[32m━━━━━━━━━━━━━━━━━━━━\u001b[0m\u001b[37m\u001b[0m \u001b[1m81s\u001b[0m 75ms/step - cnn_decoder_loss: 7.6459 - dropout_output_accuracy: 0.8673 - dropout_output_loss: 0.3389 - loss: 4.1619 - val_cnn_decoder_loss: 7.1210 - val_dropout_output_accuracy: 0.8692 - val_dropout_output_loss: 0.3419 - val_loss: 3.9149\n",
            "Epoch 15/20\n",
            "\u001b[1m679/679\u001b[0m \u001b[32m━━━━━━━━━━━━━━━━━━━━\u001b[0m\u001b[37m\u001b[0m \u001b[1m84s\u001b[0m 77ms/step - cnn_decoder_loss: 7.4285 - dropout_output_accuracy: 0.8684 - dropout_output_loss: 0.3381 - loss: 4.0524 - val_cnn_decoder_loss: 7.1215 - val_dropout_output_accuracy: 0.8682 - val_dropout_output_loss: 0.3389 - val_loss: 3.9122\n",
            "Epoch 16/20\n",
            "\u001b[1m679/679\u001b[0m \u001b[32m━━━━━━━━━━━━━━━━━━━━\u001b[0m\u001b[37m\u001b[0m \u001b[1m54s\u001b[0m 80ms/step - cnn_decoder_loss: 7.8420 - dropout_output_accuracy: 0.8696 - dropout_output_loss: 0.3348 - loss: 4.2558 - val_cnn_decoder_loss: 7.1208 - val_dropout_output_accuracy: 0.8681 - val_dropout_output_loss: 0.3386 - val_loss: 3.9115\n",
            "Epoch 17/20\n",
            "\u001b[1m679/679\u001b[0m \u001b[32m━━━━━━━━━━━━━━━━━━━━\u001b[0m\u001b[37m\u001b[0m \u001b[1m81s\u001b[0m 79ms/step - cnn_decoder_loss: 9.2537 - dropout_output_accuracy: 0.8666 - dropout_output_loss: 0.3415 - loss: 4.9684 - val_cnn_decoder_loss: 7.1209 - val_dropout_output_accuracy: 0.8672 - val_dropout_output_loss: 0.3411 - val_loss: 3.9142\n",
            "Epoch 18/20\n",
            "\u001b[1m679/679\u001b[0m \u001b[32m━━━━━━━━━━━━━━━━━━━━\u001b[0m\u001b[37m\u001b[0m \u001b[1m78s\u001b[0m 73ms/step - cnn_decoder_loss: 9.0170 - dropout_output_accuracy: 0.8679 - dropout_output_loss: 0.3396 - loss: 4.8481 - val_cnn_decoder_loss: 7.1207 - val_dropout_output_accuracy: 0.8671 - val_dropout_output_loss: 0.3420 - val_loss: 3.9147\n",
            "Epoch 19/20\n",
            "\u001b[1m679/679\u001b[0m \u001b[32m━━━━━━━━━━━━━━━━━━━━\u001b[0m\u001b[37m\u001b[0m \u001b[1m83s\u001b[0m 76ms/step - cnn_decoder_loss: 8.7291 - dropout_output_accuracy: 0.8694 - dropout_output_loss: 0.3364 - loss: 4.7009 - val_cnn_decoder_loss: 7.1206 - val_dropout_output_accuracy: 0.8684 - val_dropout_output_loss: 0.3400 - val_loss: 3.9127\n",
            "Epoch 20/20\n",
            "\u001b[1m679/679\u001b[0m \u001b[32m━━━━━━━━━━━━━━━━━━━━\u001b[0m\u001b[37m\u001b[0m \u001b[1m49s\u001b[0m 72ms/step - cnn_decoder_loss: 7.8522 - dropout_output_accuracy: 0.8686 - dropout_output_loss: 0.3366 - loss: 4.2627 - val_cnn_decoder_loss: 7.1205 - val_dropout_output_accuracy: 0.8688 - val_dropout_output_loss: 0.3411 - val_loss: 3.9139\n",
            "\u001b[1m754/754\u001b[0m \u001b[32m━━━━━━━━━━━━━━━━━━━━\u001b[0m\u001b[37m\u001b[0m \u001b[1m10s\u001b[0m 13ms/step\n",
            "\n",
            "📊 Classification Report:\n",
            "              precision    recall  f1-score   support\n",
            "\n",
            "           0       0.77      0.48      0.59      4992\n",
            "           1       0.88      0.96      0.92     19117\n",
            "\n",
            "    accuracy                           0.86     24109\n",
            "   macro avg       0.83      0.72      0.75     24109\n",
            "weighted avg       0.85      0.86      0.85     24109\n",
            "\n",
            "✅ Accuracy: 0.8629\n",
            "🔥 AUC Score: 0.8566\n"
          ]
        }
      ]
    },
    {
      "cell_type": "code",
      "source": [],
      "metadata": {
        "id": "dQSuf7p9gRwI"
      },
      "execution_count": null,
      "outputs": []
    }
  ]
}