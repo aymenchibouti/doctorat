{
  "nbformat": 4,
  "nbformat_minor": 0,
  "metadata": {
    "colab": {
      "provenance": [],
      "authorship_tag": "ABX9TyM4Ho6yct5tsi9tibDWpW99",
      "include_colab_link": true
    },
    "kernelspec": {
      "name": "python3",
      "display_name": "Python 3"
    },
    "language_info": {
      "name": "python"
    }
  },
  "cells": [
    {
      "cell_type": "markdown",
      "metadata": {
        "id": "view-in-github",
        "colab_type": "text"
      },
      "source": [
        "<a href=\"https://colab.research.google.com/github/aymenchibouti/doctorat/blob/main/CNN_Model2.ipynb\" target=\"_parent\"><img src=\"https://colab.research.google.com/assets/colab-badge.svg\" alt=\"Open In Colab\"/></a>"
      ]
    },
    {
      "cell_type": "code",
      "execution_count": null,
      "metadata": {
        "id": "VONixPrYRQgJ"
      },
      "outputs": [],
      "source": [
        "import pandas as pd\n",
        "import numpy as np\n",
        "import matplotlib.pyplot as plt\n",
        "from sklearn.model_selection import train_test_split\n",
        "from sklearn.preprocessing import StandardScaler\n",
        "from sklearn.metrics import classification_report, confusion_matrix, roc_curve, auc, precision_recall_curve\n",
        "from tensorflow.keras.models import Sequential\n",
        "from tensorflow.keras.layers import Conv1D, MaxPooling1D, Flatten, Dense, Dropout\n",
        "from tensorflow.keras.callbacks import EarlyStopping, ReduceLROnPlateau\n",
        "\n"
      ]
    },
    {
      "cell_type": "code",
      "source": [
        "# Load the files\n",
        "enrollment_df = pd.read_csv('enrollment_train.csv')\n",
        "log_df = pd.read_csv('log_train spliting.csv')\n",
        "truth_df = pd.read_csv('truth_train.csv', header=None, names=['enrollment_id', 'dropout'])\n",
        "\n",
        "# Preprocess log file\n",
        "log_df['time'] = pd.to_datetime(log_df['time'])\n",
        "min_time_per_enrollment = log_df.groupby('enrollment_id')['time'].min().reset_index().rename(columns={'time': 'start_time'})\n",
        "log_df = log_df.merge(min_time_per_enrollment, on='enrollment_id')\n",
        "log_df['day'] = (log_df['time'] - log_df['start_time']).dt.days + 1\n",
        "log_df.drop(columns=['start_time'], inplace=True)\n",
        "\n",
        "# Create event count per day\n",
        "log_df['count'] = 1\n",
        "pivot_df = log_df.pivot_table(index=['enrollment_id', 'day'], columns='event', values='count', aggfunc='sum', fill_value=0).reset_index()\n",
        "pivot_wide_df = pivot_df.pivot_table(index='enrollment_id', columns='day')\n",
        "pivot_wide_df.columns = [f\"{event}_day{day}\" for (event, day) in pivot_wide_df.columns]\n",
        "pivot_wide_df = pivot_wide_df.reset_index()\n",
        "\n",
        "# Merge all data\n",
        "merged_df = enrollment_df.merge(truth_df, on='enrollment_id', how='left')\n",
        "final_df = merged_df.merge(pivot_wide_df, on='enrollment_id', how='left')\n",
        "\n",
        "# Prepare X and y\n",
        "X = final_df.drop(columns=['enrollment_id', 'username', 'course_id', 'dropout']).fillna(0)\n",
        "y = final_df['dropout']"
      ],
      "metadata": {
        "id": "jKVdWYboTkdB"
      },
      "execution_count": null,
      "outputs": []
    },
    {
      "cell_type": "code",
      "source": [
        "# Assuming final_df is already prepared with the merged data\n",
        "\n",
        "# Define the number of days (time steps) and event types (features)\n",
        "n_timesteps = 30  # 30 days for each student\n",
        "event_types = ['access', 'problem', 'wiki', 'discussion', 'navigate', 'page_close', 'video']  # Example event types\n",
        "\n",
        "# Create 3D array (time_steps x event_types) for each student\n",
        "event_data = np.zeros((final_df.shape[0], n_timesteps, len(event_types)))\n",
        "\n",
        "# Populate event_data array for each student and day\n",
        "for i, student in final_df.iterrows():\n",
        "    for day in range(1, n_timesteps + 1):\n",
        "        for event in event_types:\n",
        "            col_name = f\"{event}_day{day}\"\n",
        "            if col_name in final_df.columns:\n",
        "                event_data[i, day-1, event_types.index(event)] = student[col_name]\n",
        "\n",
        "# Split the data into features and target variable\n",
        "X = event_data  # Shape: (samples, time_steps, features)\n",
        "y = final_df['dropout']  # Binary classification for dropout (0 or 1)\n",
        "\n",
        "# Normalize features\n",
        "from sklearn.preprocessing import StandardScaler\n",
        "scaler = StandardScaler()\n",
        "X_reshaped = X.reshape(-1, X.shape[-1])  # Flatten the last dimension (features)\n",
        "X_scaled = scaler.fit_transform(X_reshaped)\n",
        "X_scaled = X_scaled.reshape(X.shape)  # Reshape back to original shape\n",
        "\n",
        "# Split the data into training and testing sets\n",
        "X_train, X_test, y_train, y_test = train_test_split(X_scaled, y, test_size=0.2, random_state=42)\n",
        "\n",
        "# Define CNN model for Model (2)\n",
        "model = Sequential()\n",
        "model.add(Conv1D(64, kernel_size=3, activation='relu', input_shape=(n_timesteps, len(event_types))))\n",
        "model.add(MaxPooling1D(pool_size=2))\n",
        "model.add(Dropout(0.2))  # Dropout to avoid overfitting\n",
        "\n",
        "model.add(Conv1D(128, kernel_size=3, activation='relu'))\n",
        "model.add(MaxPooling1D(pool_size=2))\n",
        "model.add(Dropout(0.2))  # Dropout to avoid overfitting\n",
        "\n",
        "model.add(Flatten())  # Flatten the output for the dense layers\n",
        "model.add(Dense(64, activation='relu'))\n",
        "model.add(Dropout(0.3))  # Dropout in dense layer\n",
        "\n",
        "model.add(Dense(1, activation='sigmoid'))  # Output layer for binary classification\n",
        "\n",
        "# Compile the model\n",
        "model.compile(optimizer='adam', loss='binary_crossentropy', metrics=['accuracy'])\n",
        "\n",
        "# Use early stopping to avoid overfitting\n",
        "early_stopping = EarlyStopping(monitor='val_loss', patience=5)\n",
        "\n",
        "# Reduce learning rate when validation loss plateaus\n",
        "lr_scheduler = ReduceLROnPlateau(monitor='val_loss', factor=0.5, patience=3, min_lr=1e-6)\n",
        "\n",
        "# Train the model\n",
        "history = model.fit(X_train, y_train, epochs=50, batch_size=32, validation_split=0.2, callbacks=[early_stopping, lr_scheduler])\n",
        "\n",
        "# Evaluate model performance\n",
        "y_pred = model.predict(X_test)\n",
        "y_pred = (y_pred > 0.5).astype(int)\n",
        "\n",
        "print(confusion_matrix(y_test, y_pred))\n",
        "print(classification_report(y_test, y_pred))\n",
        "\n",
        "# Plot ROC Curve\n",
        "fpr, tpr, _ = roc_curve(y_test, y_pred)\n",
        "roc_auc = auc(fpr, tpr)\n",
        "plt.plot(fpr, tpr, label=f'ROC curve (area = {roc_auc:.2f})')\n",
        "plt.plot([0, 1], [0, 1], linestyle='--')\n",
        "plt.xlabel('False Positive Rate')\n",
        "plt.ylabel('True Positive Rate')\n",
        "plt.legend()\n",
        "plt.show()\n",
        "\n",
        "# Plot Precision-Recall Curve\n",
        "precision, recall, _ = precision_recall_curve(y_test, y_pred)\n",
        "plt.plot(recall, precision, marker='.')\n",
        "plt.xlabel('Recall')\n",
        "plt.ylabel('Precision')\n",
        "plt.title('Precision-Recall Curve')\n",
        "plt.show()\n"
      ],
      "metadata": {
        "id": "JPGH-jUWTsaJ"
      },
      "execution_count": null,
      "outputs": []
    }
  ]
}