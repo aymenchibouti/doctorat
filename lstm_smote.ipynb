{
  "nbformat": 4,
  "nbformat_minor": 0,
  "metadata": {
    "colab": {
      "provenance": [],
      "authorship_tag": "ABX9TyM5y3d/sNBJ61LQyNnmCTbU",
      "include_colab_link": true
    },
    "kernelspec": {
      "name": "python3",
      "display_name": "Python 3"
    },
    "language_info": {
      "name": "python"
    }
  },
  "cells": [
    {
      "cell_type": "markdown",
      "metadata": {
        "id": "view-in-github",
        "colab_type": "text"
      },
      "source": [
        "<a href=\"https://colab.research.google.com/github/aymenchibouti/doctorat/blob/main/lstm_smote.ipynb\" target=\"_parent\"><img src=\"https://colab.research.google.com/assets/colab-badge.svg\" alt=\"Open In Colab\"/></a>"
      ]
    },
    {
      "cell_type": "code",
      "source": [
        "import pandas as pd\n",
        "import numpy as np\n",
        "import matplotlib.pyplot as plt\n",
        "from sklearn.model_selection import train_test_split\n",
        "from sklearn.preprocessing import StandardScaler\n",
        "from sklearn.metrics import classification_report, confusion_matrix, roc_curve, auc, precision_recall_curve\n",
        "from imblearn.over_sampling import SMOTE\n",
        "from tensorflow.keras.models import Sequential\n",
        "from tensorflow.keras.layers import LSTM, Dense, Dropout, Masking\n",
        "from tensorflow.keras.callbacks import EarlyStopping, ReduceLROnPlateau"
      ],
      "metadata": {
        "id": "2YgYy6iVF5Fa"
      },
      "execution_count": null,
      "outputs": []
    },
    {
      "cell_type": "code",
      "source": [
        "# Load the files\n",
        "enrollment_df = pd.read_csv('/mnt/data/enrollment_train.csv')\n",
        "log_df = pd.read_csv('/mnt/data/log_train spliting.csv')\n",
        "truth_df = pd.read_csv('/mnt/data/truth_train.csv', header=None, names=['enrollment_id', 'dropout'])"
      ],
      "metadata": {
        "id": "n8DweI54F4-8"
      },
      "execution_count": null,
      "outputs": []
    },
    {
      "cell_type": "code",
      "source": [
        "# Preprocess log file\n",
        "log_df['time'] = pd.to_datetime(log_df['time'])\n",
        "min_time_per_enrollment = log_df.groupby('enrollment_id')['time'].min().reset_index().rename(columns={'time': 'start_time'})\n",
        "log_df = log_df.merge(min_time_per_enrollment, on='enrollment_id')\n",
        "log_df['day'] = (log_df['time'] - log_df['start_time']).dt.days + 1\n",
        "log_df.drop(columns=['start_time'], inplace=True)"
      ],
      "metadata": {
        "id": "xrwcVtrvF42W"
      },
      "execution_count": null,
      "outputs": []
    },
    {
      "cell_type": "code",
      "source": [
        "# Create event count per day\n",
        "log_df['count'] = 1\n",
        "pivot_df = log_df.pivot_table(index=['enrollment_id', 'day'], columns='event', values='count', aggfunc='sum', fill_value=0).reset_index()\n",
        "pivot_wide_df = pivot_df.pivot_table(index='enrollment_id', columns='day')\n",
        "pivot_wide_df.columns = [f\"{event}_day{day}\" for (event, day) in pivot_wide_df.columns]\n",
        "pivot_wide_df = pivot_wide_df.reset_index()"
      ],
      "metadata": {
        "id": "Xc9pM03yF4w0"
      },
      "execution_count": null,
      "outputs": []
    },
    {
      "cell_type": "code",
      "source": [
        "\n",
        "# Merge all data\n",
        "merged_df = enrollment_df.merge(truth_df, on='enrollment_id', how='left')\n",
        "final_df = merged_df.merge(pivot_wide_df, on='enrollment_id', how='left')"
      ],
      "metadata": {
        "id": "AXW385iZF4o3"
      },
      "execution_count": null,
      "outputs": []
    },
    {
      "cell_type": "code",
      "source": [
        "# Prepare X and y\n",
        "X = final_df.drop(columns=['enrollment_id', 'username', 'course_id', 'dropout']).fillna(0)\n",
        "y = final_df['dropout']"
      ],
      "metadata": {
        "id": "TasHW_kDF4h7"
      },
      "execution_count": null,
      "outputs": []
    },
    {
      "cell_type": "code",
      "source": [
        "# Standardize features\n",
        "scaler = StandardScaler()\n",
        "X_scaled = scaler.fit_transform(X)"
      ],
      "metadata": {
        "id": "bkAUR1ixF4bH"
      },
      "execution_count": null,
      "outputs": []
    },
    {
      "cell_type": "code",
      "source": [
        "# Handle imbalanced data using SMOTE\n",
        "smote = SMOTE(sampling_strategy='auto', random_state=42)\n",
        "X_res, y_res = smote.fit_resample(X_scaled, y)"
      ],
      "metadata": {
        "id": "pZ2gpWztF4S2"
      },
      "execution_count": null,
      "outputs": []
    },
    {
      "cell_type": "code",
      "source": [
        "\n",
        "# Split into train/test\n",
        "X_train, X_test, y_train, y_test = train_test_split(X_res, y_res, test_size=0.2, random_state=42)"
      ],
      "metadata": {
        "id": "fEQPXzd1F4KO"
      },
      "execution_count": null,
      "outputs": []
    },
    {
      "cell_type": "code",
      "source": [
        "# Define LSTM model with improved architecture\n",
        "model = Sequential()\n",
        "model.add(Masking(mask_value=0., input_shape=(X_train.shape[1], 1)))  # Reshape for LSTM (timesteps, features)\n",
        "model.add(LSTM(128, activation='tanh', return_sequences=True))\n",
        "model.add(Dropout(0.2))\n",
        "model.add(LSTM(64, activation='tanh'))\n",
        "model.add(Dropout(0.2))\n",
        "model.add(Dense(1, activation='sigmoid'))"
      ],
      "metadata": {
        "id": "Q84v9zI6F4DM"
      },
      "execution_count": null,
      "outputs": []
    },
    {
      "cell_type": "code",
      "source": [
        "model.compile(optimizer='adam', loss='binary_crossentropy', metrics=['accuracy'])"
      ],
      "metadata": {
        "id": "dHnoGaWYF37I"
      },
      "execution_count": null,
      "outputs": []
    },
    {
      "cell_type": "code",
      "source": [
        "\n",
        "# Use early stopping to avoid overfitting\n",
        "early_stopping = EarlyStopping(monitor='val_loss', patience=5)\n"
      ],
      "metadata": {
        "id": "jzxmhUS8F3z-"
      },
      "execution_count": null,
      "outputs": []
    },
    {
      "cell_type": "code",
      "source": [
        "# Reduce learning rate when validation loss plateaus\n",
        "lr_scheduler = ReduceLROnPlateau(monitor='val_loss', factor=0.5, patience=3, min_lr=1e-6)\n"
      ],
      "metadata": {
        "id": "98DIMPx1F3sW"
      },
      "execution_count": null,
      "outputs": []
    },
    {
      "cell_type": "code",
      "source": [
        "# Reshape the input data to fit LSTM\n",
        "X_train_3d = X_train.reshape((X_train.shape[0], 1, X_train.shape[1]))\n",
        "X_test_3d = X_test.reshape((X_test.shape[0], 1, X_test.shape[1]))\n",
        "\n"
      ],
      "metadata": {
        "id": "3qvPOm99F3Pl"
      },
      "execution_count": null,
      "outputs": []
    },
    {
      "cell_type": "code",
      "source": [
        "# Train the model\n",
        "history = model.fit(X_train_3d, y_train, epochs=50, batch_size=32, validation_split=0.2, callbacks=[early_stopping, lr_scheduler])\n",
        "\n"
      ],
      "metadata": {
        "id": "lifffrBLF3Dz"
      },
      "execution_count": null,
      "outputs": []
    },
    {
      "cell_type": "code",
      "execution_count": null,
      "metadata": {
        "id": "qXLfO2uYFS3_"
      },
      "outputs": [],
      "source": [
        "# Evaluate model\n",
        "y_pred_prob = model.predict(X_test_3d)\n",
        "y_pred = (y_pred_prob > 0.5).astype(int)\n",
        "\n",
        "print(confusion_matrix(y_test, y_pred))\n",
        "print(classification_report(y_test, y_pred))\n",
        "\n"
      ]
    },
    {
      "cell_type": "code",
      "source": [
        "# Plot ROC Curve\n",
        "fpr, tpr, _ = roc_curve(y_test, y_pred_prob)\n",
        "roc_auc = auc(fpr, tpr)\n",
        "plt.plot(fpr, tpr, label=f'ROC curve (area = {roc_auc:.2f})')\n",
        "plt.plot([0, 1], [0, 1], linestyle='--')\n",
        "plt.xlabel('False Positive Rate')\n",
        "plt.ylabel('True Positive Rate')\n",
        "plt.legend()\n",
        "plt.show()\n",
        "\n"
      ],
      "metadata": {
        "id": "hANMx5-EHQUH"
      },
      "execution_count": null,
      "outputs": []
    },
    {
      "cell_type": "code",
      "source": [
        "# Plot Precision-Recall Curve\n",
        "precision, recall, _ = precision_recall_curve(y_test, y_pred_prob)\n",
        "plt.plot(recall, precision, marker='.')\n",
        "plt.xlabel('Recall')\n",
        "plt.ylabel('Precision')\n",
        "plt.title('Precision-Recall Curve')\n",
        "plt.show()\n"
      ],
      "metadata": {
        "id": "YZ_VfDhiHQLx"
      },
      "execution_count": null,
      "outputs": []
    },
    {
      "cell_type": "code",
      "source": [],
      "metadata": {
        "id": "HY3mclLrHQFf"
      },
      "execution_count": null,
      "outputs": []
    },
    {
      "cell_type": "code",
      "source": [],
      "metadata": {
        "id": "tCuiG-fcHP_M"
      },
      "execution_count": null,
      "outputs": []
    },
    {
      "cell_type": "code",
      "source": [],
      "metadata": {
        "id": "0xDI9BFkHP4F"
      },
      "execution_count": null,
      "outputs": []
    }
  ]
}