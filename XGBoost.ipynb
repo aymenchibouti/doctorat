{
  "nbformat": 4,
  "nbformat_minor": 0,
  "metadata": {
    "colab": {
      "provenance": [],
      "authorship_tag": "ABX9TyNtyF11FVGpJDvO67wPImLV",
      "include_colab_link": true
    },
    "kernelspec": {
      "name": "python3",
      "display_name": "Python 3"
    },
    "language_info": {
      "name": "python"
    }
  },
  "cells": [
    {
      "cell_type": "markdown",
      "metadata": {
        "id": "view-in-github",
        "colab_type": "text"
      },
      "source": [
        "<a href=\"https://colab.research.google.com/github/aymenchibouti/doctorat/blob/main/XGBoost.ipynb\" target=\"_parent\"><img src=\"https://colab.research.google.com/assets/colab-badge.svg\" alt=\"Open In Colab\"/></a>"
      ]
    },
    {
      "cell_type": "code",
      "execution_count": 2,
      "metadata": {
        "id": "gdz-U9qseb2a"
      },
      "outputs": [],
      "source": [
        "# -*- coding: utf-8 -*-\n",
        "\"\"\"\n",
        "MOOC Dropout Prediction using XGBoost + GridSearchCV\n",
        "\"\"\"\n",
        "\n",
        "# ------------------------------\n",
        "# Import Required Libraries\n",
        "# ------------------------------\n",
        "import pandas as pd\n",
        "import numpy as np\n",
        "import matplotlib.pyplot as plt\n",
        "from xgboost import XGBClassifier, plot_importance\n",
        "from sklearn.model_selection import train_test_split, GridSearchCV\n",
        "from sklearn.metrics import accuracy_score, precision_score, recall_score, f1_score\n",
        "import warnings\n",
        "\n",
        "# ------------------------------\n",
        "# Step 1: Load and Preprocess Data\n",
        "# ------------------------------\n",
        "def load_data():\n",
        "    # Load CSV files\n",
        "    enrollment = pd.read_csv(\"enrollment_train.csv\")\n",
        "    logs = pd.read_csv(\"log_train.csv\")\n",
        "    truth = pd.read_csv(\"truth_train.csv\", header=None, names=['enrollment_id', 'label'])\n",
        "\n",
        "    # Convert time column to datetime\n",
        "    logs['time'] = pd.to_datetime(logs['time'])\n",
        "\n",
        "    # Merge enrollment info\n",
        "    logs = logs.merge(enrollment, on='enrollment_id', how='left')\n",
        "\n",
        "    # Compute day since enrollment\n",
        "    logs['start_time'] = logs.groupby('enrollment_id')['time'].transform('min')\n",
        "    logs['day'] = (logs['time'] - logs['start_time']).dt.days\n",
        "    logs = logs[(logs['day'] >= 0) & (logs['day'] < 30)]  # Limit to first 30 days\n",
        "\n",
        "    # Define behavior categories\n",
        "    behaviors = ['access', 'problem', 'discussion', 'navigate', 'video', 'wiki', 'page_close']\n",
        "    enrollment_ids = enrollment['enrollment_id'].unique()\n",
        "    eid_to_index = {eid: idx for idx, eid in enumerate(enrollment_ids)}\n",
        "    behavior_to_index = {b: i for i, b in enumerate(behaviors)}\n",
        "\n",
        "    # Initialize tensor [#enrollments x 30 days x 7 behaviors]\n",
        "    feature_tensor = np.zeros((len(enrollment_ids), 30, len(behaviors)), dtype=np.float32)\n",
        "\n",
        "    # Fill tensor with counts of behaviors per day\n",
        "    for _, row in logs.iterrows():\n",
        "        if row['event'] in behavior_to_index:\n",
        "            i = eid_to_index[row['enrollment_id']]\n",
        "            d = row['day']\n",
        "            j = behavior_to_index[row['event']]\n",
        "            feature_tensor[i, d, j] += 1\n",
        "\n",
        "    # Build label array\n",
        "    labels = np.array([\n",
        "        truth[truth['enrollment_id'] == eid]['label'].values[0]\n",
        "        for eid in enrollment_ids\n",
        "    ])\n",
        "\n",
        "    return feature_tensor, labels, behaviors\n",
        "\n"
      ]
    },
    {
      "cell_type": "code",
      "source": [
        "# ------------------------------\n",
        "# Step 2: Flatten Time Series Features\n",
        "# ------------------------------\n",
        "def flatten_features(X, behaviors):\n",
        "    stats = []\n",
        "    feature_names = []\n",
        "\n",
        "    for i, behavior in enumerate(behaviors):\n",
        "        data = X[:, :, i]\n",
        "        stats.append(data.sum(axis=1))            # Total activity\n",
        "        stats.append(data.mean(axis=1))           # Mean daily activity\n",
        "        stats.append(data.std(axis=1))            # Std dev\n",
        "        stats.append((data > 0).sum(axis=1))      # Number of active days\n",
        "\n",
        "        feature_names.extend([\n",
        "            f\"{behavior}_sum\", f\"{behavior}_mean\",\n",
        "            f\"{behavior}_std\", f\"{behavior}_active_days\"\n",
        "        ])\n",
        "\n",
        "    return np.stack(stats, axis=1), feature_names\n",
        "\n",
        "# ------------------------------\n",
        "# Step 3: Train XGBoost with GridSearchCV"
      ],
      "metadata": {
        "id": "WRC8eN-nftgJ"
      },
      "execution_count": 6,
      "outputs": []
    },
    {
      "cell_type": "code",
      "source": [
        "\n",
        "    # Load and process\n",
        "    X_ts, y, behaviors = load_data()\n",
        "    X, feature_names = flatten_features(X_ts, behaviors)\n",
        "\n",
        "    # Train-test split\n",
        "    X_train, X_test, y_train, y_test = train_test_split(\n",
        "        X, y, test_size=0.2, random_state=42\n",
        "    )\n",
        "\n",
        "    # Define XGBoost model\n",
        "    xgb = XGBClassifier(use_label_encoder=False, eval_metric='logloss')\n",
        "\n",
        "    # Define grid for hyperparameter search\n",
        "    param_grid = {\n",
        "        'n_estimators': [50, 100, 150],\n",
        "        'max_depth': [3, 5, 7],\n",
        "        'learning_rate': [0.01, 0.1, 0.2],\n",
        "        'subsample': [0.8, 1],\n",
        "        'colsample_bytree': [0.8, 1]\n",
        "    }\n",
        "\n",
        "    # Run GridSearchCV with 3-fold cross-validation\n",
        "    print(\"Starting grid search...\")\n",
        "    with warnings.catch_warnings():\n",
        "        warnings.simplefilter(\"ignore\")\n",
        "        grid_search = GridSearchCV(\n",
        "            estimator=xgb,\n",
        "            param_grid=param_grid,\n",
        "            scoring='f1',\n",
        "            cv=3,\n",
        "            verbose=1,\n",
        "            n_jobs=-1\n",
        "        )\n",
        "        grid_search.fit(X_train, y_train)\n",
        "\n",
        "    # Retrieve the best model\n",
        "    best_model = grid_search.best_estimator_\n",
        "    print(\"Best parameters found:\", grid_search.best_params_)\n",
        "\n",
        "    # Evaluate the best model\n",
        "    y_pred = best_model.predict(X_test)\n",
        "    print(\"\\n=== Evaluation Results on Test Set ===\")\n",
        "    print(\"Accuracy :\", accuracy_score(y_test, y_pred))\n",
        "    print(\"Precision:\", precision_score(y_test, y_pred))\n",
        "    print(\"Recall   :\", recall_score(y_test, y_pred))\n",
        "    print(\"F1 Score :\", f1_score(y_test, y_pred))\n",
        "\n",
        "    # Plot top 20 features by gain\n",
        "    plt.figure(figsize=(12, 6))\n",
        "    plot_importance(best_model, importance_type='gain', max_num_features=20,\n",
        "                    show_values=False, height=0.5, xlabel=\"Gain\")\n",
        "    plt.title(\"Top 20 Feature Importances (by Gain)\")\n",
        "    plt.tight_layout()\n",
        "    plt.show()\n"
      ],
      "metadata": {
        "colab": {
          "base_uri": "https://localhost:8080/",
          "height": 661
        },
        "id": "Q4cM44xLfugW",
        "outputId": "8b388991-7966-4698-a530-52592815888d"
      },
      "execution_count": 7,
      "outputs": [
        {
          "output_type": "stream",
          "name": "stdout",
          "text": [
            "Starting grid search...\n",
            "Fitting 3 folds for each of 108 candidates, totalling 324 fits\n",
            "Best parameters found: {'colsample_bytree': 1, 'learning_rate': 0.1, 'max_depth': 3, 'n_estimators': 50, 'subsample': 0.8}\n",
            "\n",
            "=== Evaluation Results on Test Set ===\n",
            "Accuracy : 0.800655356920652\n",
            "Precision: 0.8010993657505285\n",
            "Recall   : 0.994645107097858\n",
            "F1 Score : 0.8874420347557263\n"
          ]
        },
        {
          "output_type": "display_data",
          "data": {
            "text/plain": [
              "<Figure size 1200x600 with 0 Axes>"
            ]
          },
          "metadata": {}
        },
        {
          "output_type": "display_data",
          "data": {
            "text/plain": [
              "<Figure size 640x480 with 1 Axes>"
            ],
            "image/png": "[encoded data removed]"
          },
          "metadata": {}
        }
      ]
    },
    {
      "cell_type": "code",
      "source": [
        "import joblib\n",
        "from sklearn.metrics import confusion_matrix, ConfusionMatrixDisplay\n",
        "\n",
        "    # Step 8: Save the best model\n",
        "    joblib.dump(best_model, \"best_xgboost_model.pkl\")\n",
        "    print(\"✔️ Best model saved as 'best_xgboost_model.pkl'.\")\n",
        "\n",
        "    # Step 9: Plot confusion matrix\n",
        "    cm = confusion_matrix(y_test, y_pred)\n",
        "    disp = ConfusionMatrixDisplay(confusion_matrix=cm, display_labels=[\"No Dropout\", \"Dropout\"])\n",
        "    disp.plot(cmap=plt.cm.Blues)\n",
        "    plt.title(\"Confusion Matrix\")\n",
        "    plt.show()\n"
      ],
      "metadata": {
        "colab": {
          "base_uri": "https://localhost:8080/",
          "height": 106
        },
        "id": "gixdIWHSfuNh",
        "outputId": "aaf4c2c6-5131-41b4-8d16-70c0a6be176c"
      },
      "execution_count": 9,
      "outputs": [
        {
          "output_type": "error",
          "ename": "IndentationError",
          "evalue": "unexpected indent (ipython-input-9-2187717036.py, line 5)",
          "traceback": [
            "\u001b[0;36m  File \u001b[0;32m\"/tmp/ipython-input-9-2187717036.py\"\u001b[0;36m, line \u001b[0;32m5\u001b[0m\n\u001b[0;31m    joblib.dump(best_model, \"best_xgboost_model.pkl\")\u001b[0m\n\u001b[0m    ^\u001b[0m\n\u001b[0;31mIndentationError\u001b[0m\u001b[0;31m:\u001b[0m unexpected indent\n"
          ]
        }
      ]
    },
    {
      "cell_type": "code",
      "source": [],
      "metadata": {
        "id": "X7Zs6QHBjD72"
      },
      "execution_count": null,
      "outputs": []
    },
    {
      "cell_type": "code",
      "source": [],
      "metadata": {
        "id": "kKmwpaizjDnV"
      },
      "execution_count": null,
      "outputs": []
    }
  ]
}