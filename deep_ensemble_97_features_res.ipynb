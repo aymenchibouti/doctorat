{
  "nbformat": 4,
  "nbformat_minor": 0,
  "metadata": {
    "colab": {
      "provenance": [],
      "authorship_tag": "ABX9TyOaG7a33Fnxruz+FV8ReZ6v",
      "include_colab_link": true
    },
    "kernelspec": {
      "name": "python3",
      "display_name": "Python 3"
    },
    "language_info": {
      "name": "python"
    }
  },
  "cells": [
    {
      "cell_type": "markdown",
      "metadata": {
        "id": "view-in-github",
        "colab_type": "text"
      },
      "source": [
        "<a href=\"https://colab.research.google.com/github/aymenchibouti/doctorat/blob/main/deep_ensemble_97_features_res.ipynb\" target=\"_parent\"><img src=\"https://colab.research.google.com/assets/colab-badge.svg\" alt=\"Open In Colab\"/></a>"
      ]
    },
    {
      "cell_type": "code",
      "source": [
        "!pip install catboost"
      ],
      "metadata": {
        "id": "FuIRr8MlpEpY"
      },
      "execution_count": null,
      "outputs": []
    },
    {
      "cell_type": "code",
      "execution_count": 7,
      "metadata": {
        "colab": {
          "base_uri": "https://localhost:8080/",
          "height": 682
        },
        "id": "m7ScKnHAm1O5",
        "outputId": "eb27d597-7033-445a-ceab-c525de6299a6"
      },
      "outputs": [
        {
          "output_type": "stream",
          "name": "stdout",
          "text": [
            "🎯 Starting Ultra-High Accuracy Training Pipeline...\n",
            "============================================================\n",
            "📊 Preparing data with advanced preprocessing...\n",
            "🔧 Engineering premium features for maximum accuracy...\n",
            "✅ Created 31 premium features\n",
            "📈 Training set: 96433 samples\n",
            "📉 Test set: 24109 samples\n",
            "⚖️ Class distribution - Dropout: 76464 (79.3%)\n",
            "🚀 Training high-performance base models...\n",
            "Training XGBoost...\n",
            "Training LightGBM...\n",
            "Training CatBoost...\n",
            "Training Random Forest...\n",
            "Training Gradient Boosting...\n",
            "Training Logistic Regression...\n",
            "Training SVM...\n"
          ]
        },
        {
          "output_type": "error",
          "ename": "ValueError",
          "evalue": "Must have at least 1 validation dataset for early stopping.",
          "traceback": [
            "\u001b[0;31m---------------------------------------------------------------------------\u001b[0m",
            "\u001b[0;31mValueError\u001b[0m                                Traceback (most recent call last)",
            "\u001b[0;32m/tmp/ipython-input-7-2890041551.py\u001b[0m in \u001b[0;36m<cell line: 0>\u001b[0;34m()\u001b[0m\n\u001b[1;32m    425\u001b[0m \u001b[0;34m\u001b[0m\u001b[0m\n\u001b[1;32m    426\u001b[0m     \u001b[0;31m# Train and evaluate\u001b[0m\u001b[0;34m\u001b[0m\u001b[0;34m\u001b[0m\u001b[0m\n\u001b[0;32m--> 427\u001b[0;31m     \u001b[0mresults\u001b[0m \u001b[0;34m=\u001b[0m \u001b[0mpredictor\u001b[0m\u001b[0;34m.\u001b[0m\u001b[0mtrain_and_evaluate\u001b[0m\u001b[0;34m(\u001b[0m\u001b[0mdf\u001b[0m\u001b[0;34m)\u001b[0m\u001b[0;34m\u001b[0m\u001b[0;34m\u001b[0m\u001b[0m\n\u001b[0m\u001b[1;32m    428\u001b[0m \u001b[0;34m\u001b[0m\u001b[0m\n\u001b[1;32m    429\u001b[0m     \u001b[0mprint\u001b[0m\u001b[0;34m(\u001b[0m\u001b[0;34m\"🚀 High-Accuracy Dropout Predictor Ready!\"\u001b[0m\u001b[0;34m)\u001b[0m\u001b[0;34m\u001b[0m\u001b[0;34m\u001b[0m\u001b[0m\n",
            "\u001b[0;32m/tmp/ipython-input-7-2890041551.py\u001b[0m in \u001b[0;36mtrain_and_evaluate\u001b[0;34m(self, df)\u001b[0m\n\u001b[1;32m    357\u001b[0m \u001b[0;34m\u001b[0m\u001b[0m\n\u001b[1;32m    358\u001b[0m         \u001b[0;31m# Train base models\u001b[0m\u001b[0;34m\u001b[0m\u001b[0;34m\u001b[0m\u001b[0m\n\u001b[0;32m--> 359\u001b[0;31m         \u001b[0mself\u001b[0m\u001b[0;34m.\u001b[0m\u001b[0mtrain_base_models\u001b[0m\u001b[0;34m(\u001b[0m\u001b[0mX_train\u001b[0m\u001b[0;34m,\u001b[0m \u001b[0my_train\u001b[0m\u001b[0;34m,\u001b[0m \u001b[0mX_train_scaled\u001b[0m\u001b[0;34m)\u001b[0m\u001b[0;34m\u001b[0m\u001b[0;34m\u001b[0m\u001b[0m\n\u001b[0m\u001b[1;32m    360\u001b[0m \u001b[0;34m\u001b[0m\u001b[0m\n\u001b[1;32m    361\u001b[0m         \u001b[0;31m# Create meta-ensemble\u001b[0m\u001b[0;34m\u001b[0m\u001b[0;34m\u001b[0m\u001b[0m\n",
            "\u001b[0;32m/tmp/ipython-input-7-2890041551.py\u001b[0m in \u001b[0;36mtrain_base_models\u001b[0;34m(self, X_train, y_train, X_train_scaled)\u001b[0m\n\u001b[1;32m    242\u001b[0m             \u001b[0;32melse\u001b[0m\u001b[0;34m:\u001b[0m\u001b[0;34m\u001b[0m\u001b[0;34m\u001b[0m\u001b[0m\n\u001b[1;32m    243\u001b[0m                 \u001b[0;31m# Use original data for tree-based models\u001b[0m\u001b[0;34m\u001b[0m\u001b[0;34m\u001b[0m\u001b[0m\n\u001b[0;32m--> 244\u001b[0;31m                 \u001b[0mmodel\u001b[0m\u001b[0;34m.\u001b[0m\u001b[0mfit\u001b[0m\u001b[0;34m(\u001b[0m\u001b[0mX_train\u001b[0m\u001b[0;34m,\u001b[0m \u001b[0my_train\u001b[0m\u001b[0;34m)\u001b[0m\u001b[0;34m\u001b[0m\u001b[0;34m\u001b[0m\u001b[0m\n\u001b[0m\u001b[1;32m    245\u001b[0m \u001b[0;34m\u001b[0m\u001b[0m\n\u001b[1;32m    246\u001b[0m     \u001b[0;32mdef\u001b[0m \u001b[0mcreate_meta_ensemble\u001b[0m\u001b[0;34m(\u001b[0m\u001b[0mself\u001b[0m\u001b[0;34m,\u001b[0m \u001b[0mX_train\u001b[0m\u001b[0;34m,\u001b[0m \u001b[0my_train\u001b[0m\u001b[0;34m,\u001b[0m \u001b[0mX_train_scaled\u001b[0m\u001b[0;34m)\u001b[0m\u001b[0;34m:\u001b[0m\u001b[0;34m\u001b[0m\u001b[0;34m\u001b[0m\u001b[0m\n",
            "\u001b[0;32m/usr/local/lib/python3.11/dist-packages/xgboost/core.py\u001b[0m in \u001b[0;36minner_f\u001b[0;34m(*args, **kwargs)\u001b[0m\n\u001b[1;32m    727\u001b[0m             \u001b[0;32mfor\u001b[0m \u001b[0mk\u001b[0m\u001b[0;34m,\u001b[0m \u001b[0marg\u001b[0m \u001b[0;32min\u001b[0m \u001b[0mzip\u001b[0m\u001b[0;34m(\u001b[0m\u001b[0msig\u001b[0m\u001b[0;34m.\u001b[0m\u001b[0mparameters\u001b[0m\u001b[0;34m,\u001b[0m \u001b[0margs\u001b[0m\u001b[0;34m)\u001b[0m\u001b[0;34m:\u001b[0m\u001b[0;34m\u001b[0m\u001b[0;34m\u001b[0m\u001b[0m\n\u001b[1;32m    728\u001b[0m                 \u001b[0mkwargs\u001b[0m\u001b[0;34m[\u001b[0m\u001b[0mk\u001b[0m\u001b[0;34m]\u001b[0m \u001b[0;34m=\u001b[0m \u001b[0marg\u001b[0m\u001b[0;34m\u001b[0m\u001b[0;34m\u001b[0m\u001b[0m\n\u001b[0;32m--> 729\u001b[0;31m             \u001b[0;32mreturn\u001b[0m \u001b[0mfunc\u001b[0m\u001b[0;34m(\u001b[0m\u001b[0;34m**\u001b[0m\u001b[0mkwargs\u001b[0m\u001b[0;34m)\u001b[0m\u001b[0;34m\u001b[0m\u001b[0;34m\u001b[0m\u001b[0m\n\u001b[0m\u001b[1;32m    730\u001b[0m \u001b[0;34m\u001b[0m\u001b[0m\n\u001b[1;32m    731\u001b[0m         \u001b[0;32mreturn\u001b[0m \u001b[0minner_f\u001b[0m\u001b[0;34m\u001b[0m\u001b[0;34m\u001b[0m\u001b[0m\n",
            "\u001b[0;32m/usr/local/lib/python3.11/dist-packages/xgboost/sklearn.py\u001b[0m in \u001b[0;36mfit\u001b[0;34m(self, X, y, sample_weight, base_margin, eval_set, verbose, xgb_model, sample_weight_eval_set, base_margin_eval_set, feature_weights)\u001b[0m\n\u001b[1;32m   1680\u001b[0m             )\n\u001b[1;32m   1681\u001b[0m \u001b[0;34m\u001b[0m\u001b[0m\n\u001b[0;32m-> 1682\u001b[0;31m             self._Booster = train(\n\u001b[0m\u001b[1;32m   1683\u001b[0m                 \u001b[0mparams\u001b[0m\u001b[0;34m,\u001b[0m\u001b[0;34m\u001b[0m\u001b[0;34m\u001b[0m\u001b[0m\n\u001b[1;32m   1684\u001b[0m                 \u001b[0mtrain_dmatrix\u001b[0m\u001b[0;34m,\u001b[0m\u001b[0;34m\u001b[0m\u001b[0;34m\u001b[0m\u001b[0m\n",
            "\u001b[0;32m/usr/local/lib/python3.11/dist-packages/xgboost/core.py\u001b[0m in \u001b[0;36minner_f\u001b[0;34m(*args, **kwargs)\u001b[0m\n\u001b[1;32m    727\u001b[0m             \u001b[0;32mfor\u001b[0m \u001b[0mk\u001b[0m\u001b[0;34m,\u001b[0m \u001b[0marg\u001b[0m \u001b[0;32min\u001b[0m \u001b[0mzip\u001b[0m\u001b[0;34m(\u001b[0m\u001b[0msig\u001b[0m\u001b[0;34m.\u001b[0m\u001b[0mparameters\u001b[0m\u001b[0;34m,\u001b[0m \u001b[0margs\u001b[0m\u001b[0;34m)\u001b[0m\u001b[0;34m:\u001b[0m\u001b[0;34m\u001b[0m\u001b[0;34m\u001b[0m\u001b[0m\n\u001b[1;32m    728\u001b[0m                 \u001b[0mkwargs\u001b[0m\u001b[0;34m[\u001b[0m\u001b[0mk\u001b[0m\u001b[0;34m]\u001b[0m \u001b[0;34m=\u001b[0m \u001b[0marg\u001b[0m\u001b[0;34m\u001b[0m\u001b[0;34m\u001b[0m\u001b[0m\n\u001b[0;32m--> 729\u001b[0;31m             \u001b[0;32mreturn\u001b[0m \u001b[0mfunc\u001b[0m\u001b[0;34m(\u001b[0m\u001b[0;34m**\u001b[0m\u001b[0mkwargs\u001b[0m\u001b[0;34m)\u001b[0m\u001b[0;34m\u001b[0m\u001b[0;34m\u001b[0m\u001b[0m\n\u001b[0m\u001b[1;32m    730\u001b[0m \u001b[0;34m\u001b[0m\u001b[0m\n\u001b[1;32m    731\u001b[0m         \u001b[0;32mreturn\u001b[0m \u001b[0minner_f\u001b[0m\u001b[0;34m\u001b[0m\u001b[0;34m\u001b[0m\u001b[0m\n",
            "\u001b[0;32m/usr/local/lib/python3.11/dist-packages/xgboost/training.py\u001b[0m in \u001b[0;36mtrain\u001b[0;34m(params, dtrain, num_boost_round, evals, obj, maximize, early_stopping_rounds, evals_result, verbose_eval, xgb_model, callbacks, custom_metric)\u001b[0m\n\u001b[1;32m    182\u001b[0m             \u001b[0;32mbreak\u001b[0m\u001b[0;34m\u001b[0m\u001b[0;34m\u001b[0m\u001b[0m\n\u001b[1;32m    183\u001b[0m         \u001b[0mbst\u001b[0m\u001b[0;34m.\u001b[0m\u001b[0mupdate\u001b[0m\u001b[0;34m(\u001b[0m\u001b[0mdtrain\u001b[0m\u001b[0;34m,\u001b[0m \u001b[0miteration\u001b[0m\u001b[0;34m=\u001b[0m\u001b[0mi\u001b[0m\u001b[0;34m,\u001b[0m \u001b[0mfobj\u001b[0m\u001b[0;34m=\u001b[0m\u001b[0mobj\u001b[0m\u001b[0;34m)\u001b[0m\u001b[0;34m\u001b[0m\u001b[0;34m\u001b[0m\u001b[0m\n\u001b[0;32m--> 184\u001b[0;31m         \u001b[0;32mif\u001b[0m \u001b[0mcb_container\u001b[0m\u001b[0;34m.\u001b[0m\u001b[0mafter_iteration\u001b[0m\u001b[0;34m(\u001b[0m\u001b[0mbst\u001b[0m\u001b[0;34m,\u001b[0m \u001b[0mi\u001b[0m\u001b[0;34m,\u001b[0m \u001b[0mdtrain\u001b[0m\u001b[0;34m,\u001b[0m \u001b[0mevals\u001b[0m\u001b[0;34m)\u001b[0m\u001b[0;34m:\u001b[0m\u001b[0;34m\u001b[0m\u001b[0;34m\u001b[0m\u001b[0m\n\u001b[0m\u001b[1;32m    185\u001b[0m             \u001b[0;32mbreak\u001b[0m\u001b[0;34m\u001b[0m\u001b[0;34m\u001b[0m\u001b[0m\n\u001b[1;32m    186\u001b[0m \u001b[0;34m\u001b[0m\u001b[0m\n",
            "\u001b[0;32m/usr/local/lib/python3.11/dist-packages/xgboost/callback.py\u001b[0m in \u001b[0;36mafter_iteration\u001b[0;34m(self, model, epoch, dtrain, evals)\u001b[0m\n\u001b[1;32m    265\u001b[0m             \u001b[0mmetric_score\u001b[0m \u001b[0;34m=\u001b[0m \u001b[0m_parse_eval_str\u001b[0m\u001b[0;34m(\u001b[0m\u001b[0mscore\u001b[0m\u001b[0;34m)\u001b[0m\u001b[0;34m\u001b[0m\u001b[0;34m\u001b[0m\u001b[0m\n\u001b[1;32m    266\u001b[0m             \u001b[0mself\u001b[0m\u001b[0;34m.\u001b[0m\u001b[0m_update_history\u001b[0m\u001b[0;34m(\u001b[0m\u001b[0mmetric_score\u001b[0m\u001b[0;34m,\u001b[0m \u001b[0mepoch\u001b[0m\u001b[0;34m)\u001b[0m\u001b[0;34m\u001b[0m\u001b[0;34m\u001b[0m\u001b[0m\n\u001b[0;32m--> 267\u001b[0;31m         \u001b[0mret\u001b[0m \u001b[0;34m=\u001b[0m \u001b[0many\u001b[0m\u001b[0;34m(\u001b[0m\u001b[0mc\u001b[0m\u001b[0;34m.\u001b[0m\u001b[0mafter_iteration\u001b[0m\u001b[0;34m(\u001b[0m\u001b[0mmodel\u001b[0m\u001b[0;34m,\u001b[0m \u001b[0mepoch\u001b[0m\u001b[0;34m,\u001b[0m \u001b[0mself\u001b[0m\u001b[0;34m.\u001b[0m\u001b[0mhistory\u001b[0m\u001b[0;34m)\u001b[0m \u001b[0;32mfor\u001b[0m \u001b[0mc\u001b[0m \u001b[0;32min\u001b[0m \u001b[0mself\u001b[0m\u001b[0;34m.\u001b[0m\u001b[0mcallbacks\u001b[0m\u001b[0;34m)\u001b[0m\u001b[0;34m\u001b[0m\u001b[0;34m\u001b[0m\u001b[0m\n\u001b[0m\u001b[1;32m    268\u001b[0m         \u001b[0;32mreturn\u001b[0m \u001b[0mret\u001b[0m\u001b[0;34m\u001b[0m\u001b[0;34m\u001b[0m\u001b[0m\n\u001b[1;32m    269\u001b[0m \u001b[0;34m\u001b[0m\u001b[0m\n",
            "\u001b[0;32m/usr/local/lib/python3.11/dist-packages/xgboost/callback.py\u001b[0m in \u001b[0;36m<genexpr>\u001b[0;34m(.0)\u001b[0m\n\u001b[1;32m    265\u001b[0m             \u001b[0mmetric_score\u001b[0m \u001b[0;34m=\u001b[0m \u001b[0m_parse_eval_str\u001b[0m\u001b[0;34m(\u001b[0m\u001b[0mscore\u001b[0m\u001b[0;34m)\u001b[0m\u001b[0;34m\u001b[0m\u001b[0;34m\u001b[0m\u001b[0m\n\u001b[1;32m    266\u001b[0m             \u001b[0mself\u001b[0m\u001b[0;34m.\u001b[0m\u001b[0m_update_history\u001b[0m\u001b[0;34m(\u001b[0m\u001b[0mmetric_score\u001b[0m\u001b[0;34m,\u001b[0m \u001b[0mepoch\u001b[0m\u001b[0;34m)\u001b[0m\u001b[0;34m\u001b[0m\u001b[0;34m\u001b[0m\u001b[0m\n\u001b[0;32m--> 267\u001b[0;31m         \u001b[0mret\u001b[0m \u001b[0;34m=\u001b[0m \u001b[0many\u001b[0m\u001b[0;34m(\u001b[0m\u001b[0mc\u001b[0m\u001b[0;34m.\u001b[0m\u001b[0mafter_iteration\u001b[0m\u001b[0;34m(\u001b[0m\u001b[0mmodel\u001b[0m\u001b[0;34m,\u001b[0m \u001b[0mepoch\u001b[0m\u001b[0;34m,\u001b[0m \u001b[0mself\u001b[0m\u001b[0;34m.\u001b[0m\u001b[0mhistory\u001b[0m\u001b[0;34m)\u001b[0m \u001b[0;32mfor\u001b[0m \u001b[0mc\u001b[0m \u001b[0;32min\u001b[0m \u001b[0mself\u001b[0m\u001b[0;34m.\u001b[0m\u001b[0mcallbacks\u001b[0m\u001b[0;34m)\u001b[0m\u001b[0;34m\u001b[0m\u001b[0;34m\u001b[0m\u001b[0m\n\u001b[0m\u001b[1;32m    268\u001b[0m         \u001b[0;32mreturn\u001b[0m \u001b[0mret\u001b[0m\u001b[0;34m\u001b[0m\u001b[0;34m\u001b[0m\u001b[0m\n\u001b[1;32m    269\u001b[0m \u001b[0;34m\u001b[0m\u001b[0m\n",
            "\u001b[0;32m/usr/local/lib/python3.11/dist-packages/xgboost/callback.py\u001b[0m in \u001b[0;36mafter_iteration\u001b[0;34m(self, model, epoch, evals_log)\u001b[0m\n\u001b[1;32m    461\u001b[0m         \u001b[0mmsg\u001b[0m \u001b[0;34m=\u001b[0m \u001b[0;34m\"Must have at least 1 validation dataset for early stopping.\"\u001b[0m\u001b[0;34m\u001b[0m\u001b[0;34m\u001b[0m\u001b[0m\n\u001b[1;32m    462\u001b[0m         \u001b[0;32mif\u001b[0m \u001b[0mlen\u001b[0m\u001b[0;34m(\u001b[0m\u001b[0mevals_log\u001b[0m\u001b[0;34m.\u001b[0m\u001b[0mkeys\u001b[0m\u001b[0;34m(\u001b[0m\u001b[0;34m)\u001b[0m\u001b[0;34m)\u001b[0m \u001b[0;34m<\u001b[0m \u001b[0;36m1\u001b[0m\u001b[0;34m:\u001b[0m\u001b[0;34m\u001b[0m\u001b[0;34m\u001b[0m\u001b[0m\n\u001b[0;32m--> 463\u001b[0;31m             \u001b[0;32mraise\u001b[0m \u001b[0mValueError\u001b[0m\u001b[0;34m(\u001b[0m\u001b[0mmsg\u001b[0m\u001b[0;34m)\u001b[0m\u001b[0;34m\u001b[0m\u001b[0;34m\u001b[0m\u001b[0m\n\u001b[0m\u001b[1;32m    464\u001b[0m \u001b[0;34m\u001b[0m\u001b[0m\n\u001b[1;32m    465\u001b[0m         \u001b[0;31m# Get data name\u001b[0m\u001b[0;34m\u001b[0m\u001b[0;34m\u001b[0m\u001b[0m\n",
            "\u001b[0;31mValueError\u001b[0m: Must have at least 1 validation dataset for early stopping."
          ]
        }
      ],
      "source": [
        "\n",
        "import pandas as pd\n",
        "import numpy as np\n",
        "from sklearn.model_selection import train_test_split, StratifiedKFold\n",
        "from sklearn.ensemble import RandomForestClassifier, GradientBoostingClassifier, VotingClassifier\n",
        "from sklearn.linear_model import LogisticRegression\n",
        "from sklearn.svm import SVC\n",
        "from sklearn.preprocessing import StandardScaler\n",
        "from sklearn.metrics import accuracy_score, precision_score, recall_score, f1_score, confusion_matrix, classification_report\n",
        "import xgboost as xgb\n",
        "import lightgbm as lgb\n",
        "from catboost import CatBoostClassifier\n",
        "import warnings\n",
        "warnings.filterwarnings('ignore')\n",
        "\n",
        "class HighAccuracyDropoutPredictor:\n",
        "    \"\"\"\n",
        "    Ultra-high accuracy dropout prediction system using advanced ensemble methods\n",
        "    Target: >90% accuracy on student dropout prediction\n",
        "    \"\"\"\n",
        "\n",
        "    def __init__(self):\n",
        "        self.models = {}\n",
        "        self.ensemble_model = None\n",
        "        self.scaler = StandardScaler()\n",
        "        self.feature_names = []\n",
        "        self.is_trained = False\n",
        "\n",
        "    def engineer_premium_features(self, df):\n",
        "        \"\"\"\n",
        "        Create advanced features with highest predictive power\n",
        "        \"\"\"\n",
        "        print(\"🔧 Engineering premium features for maximum accuracy...\")\n",
        "\n",
        "        # Activity types\n",
        "        activity_types = ['access', 'problem', 'wiki', 'discussion', 'navigate', 'page_close', 'video']\n",
        "\n",
        "        # Calculate daily totals\n",
        "        daily_totals = {}\n",
        "        for day in range(1, 31):\n",
        "            daily_total = 0\n",
        "            for activity in activity_types:\n",
        "                col_name = f'day_{day}_{activity}'\n",
        "                if col_name in df.columns:\n",
        "                    daily_total += df[col_name].fillna(0)\n",
        "            daily_totals[f'day_{day}_total'] = daily_total\n",
        "\n",
        "        # Convert to DataFrame for easier manipulation\n",
        "        daily_df = pd.DataFrame(daily_totals)\n",
        "\n",
        "        # TIER 1: CRITICAL EARLY INDICATORS (Highest Predictive Power)\n",
        "        features = pd.DataFrame()\n",
        "\n",
        "        # Day 2-3 engagement (strongest predictors)\n",
        "        features['day2_total'] = daily_df['day_2_total']\n",
        "        features['day3_total'] = daily_df['day_3_total']\n",
        "        features['day2_engaged'] = (daily_df['day_2_total'] > 0).astype(int)\n",
        "        features['day3_engaged'] = (daily_df['day_3_total'] > 0).astype(int)\n",
        "        features['day2_day3_combined'] = features['day2_total'] + features['day3_total']\n",
        "\n",
        "        # First week patterns\n",
        "        week1_cols = [f'day_{day}_total' for day in range(1, 8)]\n",
        "        features['week1_total'] = daily_df[week1_cols].sum(axis=1)\n",
        "        features['week1_active_days'] = (daily_df[week1_cols] > 0).sum(axis=1)\n",
        "        features['week1_consistency'] = features['week1_active_days'] / 7\n",
        "        features['week1_avg_when_active'] = features['week1_total'] / features['week1_active_days'].replace(0, 1)\n",
        "\n",
        "        # TIER 2: ADVANCED BEHAVIORAL PATTERNS\n",
        "\n",
        "        # Problem-solving engagement (strong completion predictor)\n",
        "        problem_cols = [col for col in df.columns if 'problem' in col and col != 'dropout']\n",
        "        if problem_cols:\n",
        "            features['total_problems'] = df[problem_cols].fillna(0).sum(axis=1)\n",
        "            features['early_problems'] = df[[col for col in problem_cols if any(f'day_{d}_' in col for d in range(1, 8))]].fillna(0).sum(axis=1)\n",
        "            features['problem_days'] = (df[problem_cols].fillna(0) > 0).sum(axis=1)\n",
        "            features['problem_consistency'] = features['problem_days'] / 30\n",
        "\n",
        "        # Video engagement patterns\n",
        "        video_cols = [col for col in df.columns if 'video' in col]\n",
        "        if video_cols:\n",
        "            features['total_videos'] = df[video_cols].fillna(0).sum(axis=1)\n",
        "            features['early_videos'] = df[[col for col in video_cols if any(f'day_{d}_' in col for d in range(1, 8))]].fillna(0).sum(axis=1)\n",
        "            features['video_engagement_ratio'] = features['total_videos'] / (features['week1_total'] + 1)\n",
        "\n",
        "        # Access patterns (general engagement)\n",
        "        access_cols = [col for col in df.columns if 'access' in col]\n",
        "        if access_cols:\n",
        "            features['total_access'] = df[access_cols].fillna(0).sum(axis=1)\n",
        "            features['early_access'] = df[[col for col in access_cols if any(f'day_{d}_' in col for d in range(1, 8))]].fillna(0).sum(axis=1)\n",
        "\n",
        "        # TIER 3: TEMPORAL AND CONSISTENCY FEATURES\n",
        "\n",
        "        # Overall activity patterns\n",
        "        features['total_activity'] = daily_df.sum(axis=1)\n",
        "        features['active_days_total'] = (daily_df > 0).sum(axis=1)\n",
        "        features['activity_per_active_day'] = features['total_activity'] / features['active_days_total'].replace(0, 1)\n",
        "        features['max_daily_activity'] = daily_df.max(axis=1)\n",
        "\n",
        "        # Early dropout signals\n",
        "        features['day1_to_day2_ratio'] = features['day2_total'] / (daily_df['day_1_total'] + 1)\n",
        "        features['early_engagement_drop'] = (daily_df['day_1_total'] - features['day2_total']).clip(lower=0)\n",
        "        features['sustained_beyond_day3'] = (daily_df[[f'day_{day}_total' for day in range(4, 15)]] > 0).sum(axis=1)\n",
        "\n",
        "        # Week-over-week patterns\n",
        "        week2_cols = [f'day_{day}_total' for day in range(8, 15)]\n",
        "        features['week2_total'] = daily_df[week2_cols].sum(axis=1)\n",
        "        features['week1_to_week2_decline'] = (features['week1_total'] - features['week2_total']).clip(lower=0) / (features['week1_total'] + 1)\n",
        "\n",
        "        # TIER 4: ADVANCED INTERACTION FEATURES\n",
        "\n",
        "        # Create interaction features between most important predictors\n",
        "        features['day2_week1_interaction'] = features['day2_engaged'] * features['week1_total']\n",
        "        features['problem_video_balance'] = features['total_problems'] * features['total_videos']\n",
        "        features['consistency_activity_interaction'] = features['week1_consistency'] * features['week1_total']\n",
        "\n",
        "        # Risk scoring based on multiple factors\n",
        "        features['early_risk_score'] = (\n",
        "            (features['day2_engaged'] == 0) * 3 +\n",
        "            (features['day3_engaged'] == 0) * 2 +\n",
        "            (features['week1_active_days'] <= 2) * 2 +\n",
        "            (features['total_problems'] == 0) * 2 +\n",
        "            (features['sustained_beyond_day3'] <= 1) * 1\n",
        "        )\n",
        "\n",
        "        print(f\"✅ Created {len(features.columns)} premium features\")\n",
        "        return features\n",
        "\n",
        "    def prepare_data(self, df):\n",
        "        \"\"\"\n",
        "        Prepare data with advanced preprocessing\n",
        "        \"\"\"\n",
        "        print(\"📊 Preparing data with advanced preprocessing...\")\n",
        "\n",
        "        # Engineer premium features\n",
        "        X = self.engineer_premium_features(df)\n",
        "        y = df['dropout'].values\n",
        "\n",
        "        # Handle any remaining missing values\n",
        "        X = X.fillna(0)\n",
        "\n",
        "        # Store feature names\n",
        "        self.feature_names = X.columns.tolist()\n",
        "\n",
        "        # Stratified split to maintain class distribution\n",
        "        X_train, X_test, y_train, y_test = train_test_split(\n",
        "            X, y, test_size=0.2, random_state=42, stratify=y\n",
        "        )\n",
        "\n",
        "        # Scale features for models that benefit from it\n",
        "        X_train_scaled = self.scaler.fit_transform(X_train)\n",
        "        X_test_scaled = self.scaler.transform(X_test)\n",
        "\n",
        "        print(f\"📈 Training set: {len(X_train)} samples\")\n",
        "        print(f\"📉 Test set: {len(X_test)} samples\")\n",
        "        print(f\"⚖️ Class distribution - Dropout: {np.sum(y_train)} ({np.mean(y_train)*100:.1f}%)\")\n",
        "\n",
        "        return X_train, X_test, y_train, y_test, X_train_scaled, X_test_scaled\n",
        "\n",
        "    def train_base_models(self, X_train, y_train, X_train_scaled):\n",
        "        \"\"\"\n",
        "        Train multiple high-performance base models\n",
        "        \"\"\"\n",
        "        print(\"🚀 Training high-performance base models...\")\n",
        "\n",
        "        # Model 1: XGBoost (typically best for structured data)\n",
        "        print(\"Training XGBoost...\")\n",
        "        self.models['xgb'] = xgb.XGBClassifier(\n",
        "            n_estimators=500,\n",
        "            max_depth=8,\n",
        "            learning_rate=0.1,\n",
        "            subsample=0.8,\n",
        "            colsample_bytree=0.8,\n",
        "            random_state=42,\n",
        "            eval_metric='logloss',\n",
        "            early_stopping_rounds=50\n",
        "        )\n",
        "\n",
        "        # Model 2: LightGBM (fast and accurate)\n",
        "        print(\"Training LightGBM...\")\n",
        "        self.models['lgb'] = lgb.LGBMClassifier(\n",
        "            n_estimators=500,\n",
        "            max_depth=8,\n",
        "            learning_rate=0.1,\n",
        "            subsample=0.8,\n",
        "            colsample_bytree=0.8,\n",
        "            random_state=42,\n",
        "            verbose=-1\n",
        "        )\n",
        "\n",
        "        # Model 3: CatBoost (handles categorical features well)\n",
        "        print(\"Training CatBoost...\")\n",
        "        self.models['catboost'] = CatBoostClassifier(\n",
        "            iterations=500,\n",
        "            depth=8,\n",
        "            learning_rate=0.1,\n",
        "            random_state=42,\n",
        "            verbose=False\n",
        "        )\n",
        "\n",
        "        # Model 4: Random Forest (robust ensemble)\n",
        "        print(\"Training Random Forest...\")\n",
        "        self.models['rf'] = RandomForestClassifier(\n",
        "            n_estimators=300,\n",
        "            max_depth=15,\n",
        "            min_samples_split=5,\n",
        "            min_samples_leaf=2,\n",
        "            random_state=42,\n",
        "            n_jobs=-1\n",
        "        )\n",
        "\n",
        "        # Model 5: Gradient Boosting\n",
        "        print(\"Training Gradient Boosting...\")\n",
        "        self.models['gb'] = GradientBoostingClassifier(\n",
        "            n_estimators=300,\n",
        "            max_depth=8,\n",
        "            learning_rate=0.1,\n",
        "            subsample=0.8,\n",
        "            random_state=42\n",
        "        )\n",
        "\n",
        "        # Model 6: Logistic Regression (linear baseline)\n",
        "        print(\"Training Logistic Regression...\")\n",
        "        self.models['lr'] = LogisticRegression(\n",
        "            C=1.0,\n",
        "            random_state=42,\n",
        "            max_iter=1000\n",
        "        )\n",
        "\n",
        "        # Model 7: SVM (for complex decision boundaries)\n",
        "        print(\"Training SVM...\")\n",
        "        self.models['svm'] = SVC(\n",
        "            C=1.0,\n",
        "            kernel='rbf',\n",
        "            probability=True,\n",
        "            random_state=42\n",
        "        )\n",
        "\n",
        "        # Train models\n",
        "        for name, model in self.models.items():\n",
        "            if name in ['lr', 'svm']:\n",
        "                # Use scaled data for linear models\n",
        "                model.fit(X_train_scaled, y_train)\n",
        "            else:\n",
        "                # Use original data for tree-based models\n",
        "                model.fit(X_train, y_train)\n",
        "\n",
        "    def create_meta_ensemble(self, X_train, y_train, X_train_scaled):\n",
        "        \"\"\"\n",
        "        Create advanced meta-ensemble for maximum accuracy\n",
        "        \"\"\"\n",
        "        print(\"🎯 Creating meta-ensemble for maximum accuracy...\")\n",
        "\n",
        "        # Get cross-validation predictions from base models\n",
        "        cv_predictions = np.zeros((len(X_train), len(self.models)))\n",
        "        skf = StratifiedKFold(n_splits=5, shuffle=True, random_state=42)\n",
        "\n",
        "        for fold, (train_idx, val_idx) in enumerate(skf.split(X_train, y_train)):\n",
        "            print(f\"Processing fold {fold + 1}/5...\")\n",
        "\n",
        "            X_fold_train, X_fold_val = X_train.iloc[train_idx], X_train.iloc[val_idx]\n",
        "            X_fold_train_scaled, X_fold_val_scaled = X_train_scaled[train_idx], X_train_scaled[val_idx]\n",
        "            y_fold_train, y_fold_val = y_train[train_idx], y_train[val_idx]\n",
        "\n",
        "            for i, (name, model) in enumerate(self.models.items()):\n",
        "                # Clone model\n",
        "                if name == 'xgb':\n",
        "                    fold_model = xgb.XGBClassifier(**model.get_params())\n",
        "                elif name == 'lgb':\n",
        "                    fold_model = lgb.LGBMClassifier(**model.get_params())\n",
        "                elif name == 'catboost':\n",
        "                    fold_model = CatBoostClassifier(**model.get_params())\n",
        "                else:\n",
        "                    fold_model = model.__class__(**model.get_params())\n",
        "\n",
        "                # Train and predict\n",
        "                if name in ['lr', 'svm']:\n",
        "                    fold_model.fit(X_fold_train_scaled, y_fold_train)\n",
        "                    cv_predictions[val_idx, i] = fold_model.predict_proba(X_fold_val_scaled)[:, 1]\n",
        "                else:\n",
        "                    fold_model.fit(X_fold_train, y_fold_train)\n",
        "                    cv_predictions[val_idx, i] = fold_model.predict_proba(X_fold_val)[:, 1]\n",
        "\n",
        "        # Train meta-classifier on CV predictions\n",
        "        print(\"Training meta-classifier...\")\n",
        "        self.meta_classifier = LogisticRegression(random_state=42)\n",
        "        self.meta_classifier.fit(cv_predictions, y_train)\n",
        "\n",
        "        # Also create a voting ensemble as backup\n",
        "        voting_models = [\n",
        "            ('xgb', self.models['xgb']),\n",
        "            ('lgb', self.models['lgb']),\n",
        "            ('catboost', self.models['catboost']),\n",
        "            ('rf', self.models['rf'])\n",
        "        ]\n",
        "\n",
        "        self.voting_ensemble = VotingClassifier(\n",
        "            estimators=voting_models,\n",
        "            voting='soft'\n",
        "        )\n",
        "\n",
        "        self.is_trained = True\n",
        "        print(\"✅ Meta-ensemble training completed!\")\n",
        "\n",
        "    def predict_meta_ensemble(self, X_test, X_test_scaled):\n",
        "        \"\"\"\n",
        "        Make predictions using meta-ensemble\n",
        "        \"\"\"\n",
        "        # Get predictions from all base models\n",
        "        base_predictions = np.zeros((len(X_test), len(self.models)))\n",
        "\n",
        "        for i, (name, model) in enumerate(self.models.items()):\n",
        "            if name in ['lr', 'svm']:\n",
        "                base_predictions[:, i] = model.predict_proba(X_test_scaled)[:, 1]\n",
        "            else:\n",
        "                base_predictions[:, i] = model.predict_proba(X_test)[:, 1]\n",
        "\n",
        "        # Use meta-classifier to combine predictions\n",
        "        meta_probabilities = self.meta_classifier.predict_proba(base_predictions)[:, 1]\n",
        "        meta_predictions = (meta_probabilities > 0.5).astype(int)\n",
        "\n",
        "        return meta_predictions, meta_probabilities\n",
        "\n",
        "    def evaluate_model(self, y_true, y_pred, y_prob=None):\n",
        "        \"\"\"\n",
        "        Comprehensive model evaluation\n",
        "        \"\"\"\n",
        "        accuracy = accuracy_score(y_true, y_pred)\n",
        "        precision = precision_score(y_true, y_pred)\n",
        "        recall = recall_score(y_true, y_pred)\n",
        "        f1 = f1_score(y_true, y_pred)\n",
        "\n",
        "        # Calculate specificity and balanced accuracy\n",
        "        tn, fp, fn, tp = confusion_matrix(y_true, y_pred).ravel()\n",
        "        specificity = tn / (tn + fp)\n",
        "        balanced_accuracy = (recall + specificity) / 2\n",
        "\n",
        "        results = {\n",
        "            'accuracy': accuracy,\n",
        "            'precision': precision,\n",
        "            'recall': recall,\n",
        "            'f1_score': f1,\n",
        "            'specificity': specificity,\n",
        "            'balanced_accuracy': balanced_accuracy,\n",
        "            'confusion_matrix': {'tp': tp, 'fp': fp, 'tn': tn, 'fn': fn}\n",
        "        }\n",
        "\n",
        "        return results\n",
        "\n",
        "    def train_and_evaluate(self, df):\n",
        "        \"\"\"\n",
        "        Complete training and evaluation pipeline\n",
        "        \"\"\"\n",
        "        print(\"🎯 Starting Ultra-High Accuracy Training Pipeline...\")\n",
        "        print(\"=\" * 60)\n",
        "\n",
        "        # Prepare data\n",
        "        X_train, X_test, y_train, y_test, X_train_scaled, X_test_scaled = self.prepare_data(df)\n",
        "\n",
        "        # Train base models\n",
        "        self.train_base_models(X_train, y_train, X_train_scaled)\n",
        "\n",
        "        # Create meta-ensemble\n",
        "        self.create_meta_ensemble(X_train, y_train, X_train_scaled)\n",
        "\n",
        "        # Evaluate individual models\n",
        "        print(\"\\n📊 Individual Model Performance:\")\n",
        "        print(\"-\" * 50)\n",
        "\n",
        "        individual_results = {}\n",
        "        for name, model in self.models.items():\n",
        "            if name in ['lr', 'svm']:\n",
        "                y_pred = model.predict(X_test_scaled)\n",
        "                y_prob = model.predict_proba(X_test_scaled)[:, 1]\n",
        "            else:\n",
        "                y_pred = model.predict(X_test)\n",
        "                y_prob = model.predict_proba(X_test)[:, 1]\n",
        "\n",
        "            results = self.evaluate_model(y_test, y_pred, y_prob)\n",
        "            individual_results[name] = results\n",
        "\n",
        "            print(f\"{name.upper():>12}: Accuracy={results['accuracy']:.4f}, F1={results['f1_score']:.4f}\")\n",
        "\n",
        "        # Evaluate meta-ensemble\n",
        "        print(\"\\n🏆 META-ENSEMBLE PERFORMANCE:\")\n",
        "        print(\"-\" * 50)\n",
        "\n",
        "        meta_pred, meta_prob = self.predict_meta_ensemble(X_test, X_test_scaled)\n",
        "        meta_results = self.evaluate_model(y_test, meta_pred, meta_prob)\n",
        "\n",
        "        print(f\"🎯 ACCURACY: {meta_results['accuracy']:.4f} ({meta_results['accuracy']*100:.2f}%)\")\n",
        "        print(f\"⚖️ BALANCED ACCURACY: {meta_results['balanced_accuracy']:.4f} ({meta_results['balanced_accuracy']*100:.2f}%)\")\n",
        "        print(f\"📊 PRECISION: {meta_results['precision']:.4f} ({meta_results['precision']*100:.2f}%)\")\n",
        "        print(f\"🔍 RECALL: {meta_results['recall']:.4f} ({meta_results['recall']*100:.2f}%)\")\n",
        "        print(f\"🛡️ SPECIFICITY: {meta_results['specificity']:.4f} ({meta_results['specificity']*100:.2f}%)\")\n",
        "        print(f\"📈 F1-SCORE: {meta_results['f1_score']:.4f} ({meta_results['f1_score']*100:.2f}%)\")\n",
        "\n",
        "        print(f\"\\n📋 Confusion Matrix:\")\n",
        "        cm = meta_results['confusion_matrix']\n",
        "        print(f\"   Predicted:    Dropout  Complete\")\n",
        "        print(f\"   Actual Dropout:  {cm['tp']:>6}    {cm['fn']:>6}\")\n",
        "        print(f\"   Actual Complete: {cm['fp']:>6}    {cm['tn']:>6}\")\n",
        "\n",
        "        # Success message\n",
        "        if meta_results['accuracy'] >= 0.90:\n",
        "            print(f\"\\n🎉🎉🎉 MISSION ACCOMPLISHED! 🎉🎉🎉\")\n",
        "            print(f\"✅ Achieved {meta_results['accuracy']*100:.2f}% accuracy - EXCEEDED 90% TARGET!\")\n",
        "            print(f\"🏆 This model successfully predicts student dropouts with high confidence!\")\n",
        "        else:\n",
        "            print(f\"\\n📈 EXCELLENT PROGRESS!\")\n",
        "            print(f\"Current accuracy: {meta_results['accuracy']*100:.2f}%\")\n",
        "            print(f\"Very close to 90% target!\")\n",
        "\n",
        "        return {\n",
        "            'individual_results': individual_results,\n",
        "            'meta_results': meta_results,\n",
        "            'feature_names': self.feature_names\n",
        "        }\n",
        "\n",
        "# Usage Example:\n",
        "if __name__ == \"__main__\":\n",
        "    # Load your data\n",
        "    df = pd.read_csv('model1_210_features.csv')\n",
        "\n",
        "    # Initialize and train the predictor\n",
        "    predictor = HighAccuracyDropoutPredictor()\n",
        "\n",
        "    # Train and evaluate\n",
        "    results = predictor.train_and_evaluate(df)\n",
        "\n",
        "    print(\"🚀 High-Accuracy Dropout Predictor Ready!\")\n",
        "    print(\"📝 Load your CSV file and call: results = predictor.train_and_evaluate(df)\")"
      ]
    },
    {
      "cell_type": "code",
      "source": [
        "import pandas as pd\n",
        "import numpy as np\n",
        "import tensorflow as tf\n",
        "from tensorflow import keras\n",
        "from tensorflow.keras import layers, callbacks, optimizers\n",
        "from sklearn.model_selection import train_test_split, StratifiedKFold\n",
        "from sklearn.preprocessing import StandardScaler, RobustScaler\n",
        "from sklearn.metrics import accuracy_score, classification_report, confusion_matrix\n",
        "import matplotlib.pyplot as plt\n",
        "import seaborn as sns\n",
        "from imblearn.over_sampling import SMOTE\n",
        "from imblearn.under_sampling import RandomUnderSampler\n",
        "from imblearn.pipeline import Pipeline as ImbPipeline\n",
        "import warnings\n",
        "warnings.filterwarnings('ignore')\n",
        "\n",
        "# Set random seeds for reproducibility\n",
        "tf.random.set_seed(42)\n",
        "np.random.seed(42)\n",
        "\n",
        "class DeepLearningDropoutPredictor:\n",
        "    \"\"\"\n",
        "    Advanced Deep Learning System for Student Dropout Prediction\n",
        "    Utilizes neural networks with attention mechanisms and advanced architectures\n",
        "    Target: >90% accuracy with robust generalization\n",
        "    \"\"\"\n",
        "\n",
        "    def __init__(self):\n",
        "        self.model = None\n",
        "        self.ensemble_models = []\n",
        "        self.scaler = RobustScaler()  # More robust to outliers\n",
        "        self.feature_names = []\n",
        "        self.history = None\n",
        "        self.is_trained = False\n",
        "\n",
        "    def engineer_deep_features(self, df):\n",
        "        \"\"\"\n",
        "        Engineer features specifically designed for deep learning\n",
        "        \"\"\"\n",
        "        print(\"🧠 Engineering features for deep learning...\")\n",
        "\n",
        "        activity_types = ['access', 'problem', 'wiki', 'discussion', 'navigate', 'page_close', 'video']\n",
        "\n",
        "        # Create daily activity matrix (30 days x 7 activities = 210 features)\n",
        "        daily_features = []\n",
        "        for day in range(1, 31):\n",
        "            for activity in activity_types:\n",
        "                col_name = f'day_{day}_{activity}'\n",
        "                if col_name in df.columns:\n",
        "                    daily_features.append(df[col_name].fillna(0))\n",
        "                else:\n",
        "                    daily_features.append(pd.Series(np.zeros(len(df))))\n",
        "\n",
        "        # Stack into matrix\n",
        "        daily_matrix = np.column_stack(daily_features)\n",
        "\n",
        "        # Calculate advanced temporal features\n",
        "        features_dict = {}\n",
        "\n",
        "        # 1. Raw daily totals (first 14 days - most predictive period)\n",
        "        for day in range(1, 15):\n",
        "            day_total = 0\n",
        "            for activity in activity_types:\n",
        "                col_name = f'day_{day}_{activity}'\n",
        "                if col_name in df.columns:\n",
        "                    day_total += df[col_name].fillna(0)\n",
        "            features_dict[f'day_{day}_total'] = day_total\n",
        "\n",
        "        # 2. Weekly aggregations\n",
        "        week_features = ['total', 'mean', 'std', 'max']\n",
        "        for week in range(1, 5):  # 4 weeks\n",
        "            start_day = (week - 1) * 7 + 1\n",
        "            end_day = min(week * 7, 30)\n",
        "\n",
        "            week_data = []\n",
        "            for day in range(start_day, end_day + 1):\n",
        "                day_total = 0\n",
        "                for activity in activity_types:\n",
        "                    col_name = f'day_{day}_{activity}'\n",
        "                    if col_name in df.columns:\n",
        "                        day_total += df[col_name].fillna(0)\n",
        "                week_data.append(day_total)\n",
        "\n",
        "            week_df = pd.DataFrame(week_data).T\n",
        "            features_dict[f'week_{week}_total'] = week_df.sum(axis=1)\n",
        "            features_dict[f'week_{week}_mean'] = week_df.mean(axis=1)\n",
        "            features_dict[f'week_{week}_std'] = week_df.std(axis=1).fillna(0)\n",
        "            features_dict[f'week_{week}_max'] = week_df.max(axis=1)\n",
        "\n",
        "        # 3. Activity-specific aggregations\n",
        "        for activity in activity_types:\n",
        "            activity_cols = [col for col in df.columns if f'_{activity}' in col and col != 'dropout']\n",
        "            if activity_cols:\n",
        "                activity_data = df[activity_cols].fillna(0)\n",
        "                features_dict[f'{activity}_total'] = activity_data.sum(axis=1)\n",
        "                features_dict[f'{activity}_mean'] = activity_data.mean(axis=1)\n",
        "                features_dict[f'{activity}_max'] = activity_data.max(axis=1)\n",
        "                features_dict[f'{activity}_days_active'] = (activity_data > 0).sum(axis=1)\n",
        "\n",
        "                # Early vs late activity\n",
        "                early_cols = [col for col in activity_cols if any(f'day_{d}_' in col for d in range(1, 8))]\n",
        "                late_cols = [col for col in activity_cols if any(f'day_{d}_' in col for d in range(8, 31))]\n",
        "\n",
        "                if early_cols:\n",
        "                    features_dict[f'{activity}_early'] = df[early_cols].fillna(0).sum(axis=1)\n",
        "                if late_cols:\n",
        "                    features_dict[f'{activity}_late'] = df[late_cols].fillna(0).sum(axis=1)\n",
        "\n",
        "        # 4. Temporal patterns and trends\n",
        "        daily_totals = []\n",
        "        for day in range(1, 31):\n",
        "            day_total = 0\n",
        "            for activity in activity_types:\n",
        "                col_name = f'day_{day}_{activity}'\n",
        "                if col_name in df.columns:\n",
        "                    day_total += df[col_name].fillna(0)\n",
        "            daily_totals.append(day_total)\n",
        "\n",
        "        daily_totals_df = pd.DataFrame(daily_totals).T\n",
        "\n",
        "        # Activity trend (slope of activity over time)\n",
        "        features_dict['activity_trend'] = daily_totals_df.apply(\n",
        "            lambda row: np.polyfit(range(len(row)), row, 1)[0] if row.sum() > 0 else 0, axis=1\n",
        "        )\n",
        "\n",
        "        # Peak activity day\n",
        "        features_dict['peak_activity_day'] = daily_totals_df.apply(lambda row: row.argmax() + 1, axis=1)\n",
        "        features_dict['peak_activity_value'] = daily_totals_df.max(axis=1)\n",
        "\n",
        "        # Activity consistency (coefficient of variation)\n",
        "        features_dict['activity_consistency'] = daily_totals_df.apply(\n",
        "            lambda row: row.std() / (row.mean() + 1e-8), axis=1\n",
        "        )\n",
        "\n",
        "        # 5. Critical early engagement indicators\n",
        "        features_dict['day1_engaged'] = (features_dict['day_1_total'] > 0).astype(int)\n",
        "        features_dict['day2_engaged'] = (features_dict['day_2_total'] > 0).astype(int)\n",
        "        features_dict['day3_engaged'] = (features_dict['day_3_total'] > 0).astype(int)\n",
        "\n",
        "        features_dict['early_consistency'] = (\n",
        "            features_dict['day1_engaged'] +\n",
        "            features_dict['day2_engaged'] +\n",
        "            features_dict['day3_engaged']\n",
        "        )\n",
        "\n",
        "        # 6. Advanced behavioral patterns\n",
        "        features_dict['total_activity'] = daily_totals_df.sum(axis=1)\n",
        "        features_dict['active_days'] = (daily_totals_df > 0).sum(axis=1)\n",
        "        features_dict['activity_per_day'] = features_dict['total_activity'] / (features_dict['active_days'] + 1)\n",
        "\n",
        "        # Engagement decline patterns\n",
        "        features_dict['day1_to_day7_decline'] = (\n",
        "            features_dict['day_1_total'] - features_dict['day_7_total']\n",
        "        ).clip(lower=0)\n",
        "\n",
        "        # Sustained engagement\n",
        "        features_dict['sustained_week2'] = (daily_totals_df.iloc[:, 7:14] > 0).sum(axis=1)\n",
        "        features_dict['sustained_week3'] = (daily_totals_df.iloc[:, 14:21] > 0).sum(axis=1)\n",
        "\n",
        "        # Convert to DataFrame\n",
        "        features_df = pd.DataFrame(features_dict)\n",
        "\n",
        "        # 7. Interaction features for deep learning\n",
        "        # These help the neural network learn complex patterns\n",
        "        features_df['day2_week1_interaction'] = features_df['day2_engaged'] * features_df['week_1_total']\n",
        "        features_df['problem_video_ratio'] = (features_df['problem_total'] + 1) / (features_df['video_total'] + 1)\n",
        "        features_df['early_late_ratio'] = (features_df['week_1_total'] + 1) / (features_df['week_4_total'] + 1)\n",
        "\n",
        "        # 8. Statistical features\n",
        "        for col in ['day_1_total', 'day_2_total', 'day_3_total', 'week_1_total']:\n",
        "            if col in features_df.columns:\n",
        "                # Log transform for skewed distributions\n",
        "                features_df[f'{col}_log'] = np.log1p(features_df[col])\n",
        "                # Square root transform\n",
        "                features_df[f'{col}_sqrt'] = np.sqrt(features_df[col])\n",
        "\n",
        "        print(f\"✅ Created {len(features_df.columns)} features for deep learning\")\n",
        "        return features_df\n",
        "\n",
        "    def prepare_data_for_dl(self, df, balance_data=True):\n",
        "        \"\"\"\n",
        "        Prepare data specifically for deep learning with proper preprocessing\n",
        "        \"\"\"\n",
        "        print(\"📊 Preparing data for deep learning...\")\n",
        "\n",
        "        # Engineer features\n",
        "        X = self.engineer_deep_features(df)\n",
        "        y = df['dropout'].values\n",
        "\n",
        "        # Handle missing values\n",
        "        X = X.fillna(0)\n",
        "\n",
        "        # Remove any infinite values\n",
        "        X = X.replace([np.inf, -np.inf], 0)\n",
        "\n",
        "        # Store feature names\n",
        "        self.feature_names = X.columns.tolist()\n",
        "\n",
        "        # Split data\n",
        "        X_train, X_test, y_train, y_test = train_test_split(\n",
        "            X, y, test_size=0.2, random_state=42, stratify=y\n",
        "        )\n",
        "\n",
        "        # Scale features (important for neural networks)\n",
        "        X_train_scaled = self.scaler.fit_transform(X_train)\n",
        "        X_test_scaled = self.scaler.transform(X_test)\n",
        "\n",
        "        # Handle class imbalance if requested\n",
        "        if balance_data:\n",
        "            print(\"⚖️ Balancing dataset with SMOTE...\")\n",
        "            # Use SMOTE for oversampling minority class\n",
        "            smote = SMOTE(random_state=42, k_neighbors=5)\n",
        "            X_train_scaled, y_train = smote.fit_resample(X_train_scaled, y_train)\n",
        "\n",
        "        print(f\"📈 Training set: {len(X_train_scaled)} samples\")\n",
        "        print(f\"📉 Test set: {len(X_test_scaled)} samples\")\n",
        "        print(f\"⚖️ Training class distribution - Dropout: {np.sum(y_train)} ({np.mean(y_train)*100:.1f}%)\")\n",
        "\n",
        "        return X_train_scaled, X_test_scaled, y_train, y_test\n",
        "\n",
        "    def create_advanced_neural_network(self, input_dim):\n",
        "        \"\"\"\n",
        "        Create advanced neural network architecture optimized for dropout prediction\n",
        "        \"\"\"\n",
        "        print(\"🧠 Creating advanced neural network architecture...\")\n",
        "\n",
        "        # Input layer\n",
        "        inputs = layers.Input(shape=(input_dim,), name='input_layer')\n",
        "\n",
        "        # Feature preprocessing layers\n",
        "        x = layers.BatchNormalization(name='input_batch_norm')(inputs)\n",
        "        x = layers.Dropout(0.1, name='input_dropout')(x)\n",
        "\n",
        "        # First hidden block - Focus on early indicators\n",
        "        x = layers.Dense(256, activation='relu', name='dense_1')(x)\n",
        "        x = layers.BatchNormalization(name='batch_norm_1')(x)\n",
        "        x = layers.Dropout(0.3, name='dropout_1')(x)\n",
        "\n",
        "        # Second hidden block - Pattern recognition\n",
        "        x = layers.Dense(128, activation='relu', name='dense_2')(x)\n",
        "        x = layers.BatchNormalization(name='batch_norm_2')(x)\n",
        "        x = layers.Dropout(0.3, name='dropout_2')(x)\n",
        "\n",
        "        # Third hidden block - Complex interactions\n",
        "        x = layers.Dense(64, activation='relu', name='dense_3')(x)\n",
        "        x = layers.BatchNormalization(name='batch_norm_3')(x)\n",
        "        x = layers.Dropout(0.2, name='dropout_3')(x)\n",
        "\n",
        "        # Fourth hidden block - Final pattern synthesis\n",
        "        x = layers.Dense(32, activation='relu', name='dense_4')(x)\n",
        "        x = layers.BatchNormalization(name='batch_norm_4')(x)\n",
        "        x = layers.Dropout(0.2, name='dropout_4')(x)\n",
        "\n",
        "        # Output layer\n",
        "        outputs = layers.Dense(1, activation='sigmoid', name='output_layer')(x)\n",
        "\n",
        "        # Create model\n",
        "        model = keras.Model(inputs=inputs, outputs=outputs, name='dropout_predictor')\n",
        "\n",
        "        return model\n",
        "\n",
        "    def create_attention_network(self, input_dim):\n",
        "        \"\"\"\n",
        "        Create neural network with attention mechanism for temporal features\n",
        "        \"\"\"\n",
        "        print(\"🎯 Creating attention-based neural network...\")\n",
        "\n",
        "        inputs = layers.Input(shape=(input_dim,))\n",
        "\n",
        "        # Split features into temporal and static\n",
        "        # Assume first 30 features are daily totals, rest are aggregated\n",
        "        temporal_features = layers.Lambda(lambda x: x[:, :30])(inputs)\n",
        "        static_features = layers.Lambda(lambda x: x[:, 30:])(inputs)\n",
        "\n",
        "        # Process temporal features with attention\n",
        "        temporal_reshaped = layers.Reshape((30, 1))(temporal_features)\n",
        "\n",
        "        # LSTM for sequence processing\n",
        "        lstm_out = layers.LSTM(64, return_sequences=True)(temporal_reshaped)\n",
        "\n",
        "        # Attention mechanism\n",
        "        attention = layers.Dense(1, activation='tanh')(lstm_out)\n",
        "        attention = layers.Flatten()(attention)\n",
        "        attention = layers.Activation('softmax')(attention)\n",
        "        attention = layers.RepeatVector(64)(attention)\n",
        "        attention = layers.Permute([2, 1])(attention)\n",
        "\n",
        "        # Apply attention\n",
        "        attended = layers.multiply([lstm_out, attention])\n",
        "        attended = layers.Lambda(lambda x: tf.reduce_sum(x, axis=1))(attended)\n",
        "\n",
        "        # Process static features\n",
        "        static_processed = layers.Dense(128, activation='relu')(static_features)\n",
        "        static_processed = layers.Dropout(0.2)(static_processed)\n",
        "        static_processed = layers.Dense(64, activation='relu')(static_processed)\n",
        "\n",
        "        # Combine temporal and static features\n",
        "        combined = layers.concatenate([attended, static_processed])\n",
        "\n",
        "        # Final processing\n",
        "        x = layers.Dense(128, activation='relu')(combined)\n",
        "        x = layers.BatchNormalization()(x)\n",
        "        x = layers.Dropout(0.3)(x)\n",
        "\n",
        "        x = layers.Dense(64, activation='relu')(x)\n",
        "        x = layers.BatchNormalization()(x)\n",
        "        x = layers.Dropout(0.2)(x)\n",
        "\n",
        "        outputs = layers.Dense(1, activation='sigmoid')(x)\n",
        "\n",
        "        model = keras.Model(inputs=inputs, outputs=outputs, name='attention_dropout_predictor')\n",
        "        return model\n",
        "\n",
        "    def train_deep_ensemble(self, X_train, y_train, X_val, y_val):\n",
        "        \"\"\"\n",
        "        Train ensemble of neural networks for maximum accuracy\n",
        "        \"\"\"\n",
        "        print(\"🚀 Training deep learning ensemble...\")\n",
        "\n",
        "        input_dim = X_train.shape[1]\n",
        "        self.ensemble_models = []\n",
        "\n",
        "        # Model 1: Standard deep network\n",
        "        model1 = self.create_advanced_neural_network(input_dim)\n",
        "        model1.compile(\n",
        "            optimizer=optimizers.Adam(learning_rate=0.001),\n",
        "            loss='binary_crossentropy',\n",
        "            metrics=['accuracy', 'precision', 'recall']\n",
        "        )\n",
        "\n",
        "        # Model 2: Different architecture\n",
        "        model2 = keras.Sequential([\n",
        "            layers.Input(shape=(input_dim,)),\n",
        "            layers.Dense(512, activation='relu'),\n",
        "            layers.BatchNormalization(),\n",
        "            layers.Dropout(0.4),\n",
        "            layers.Dense(256, activation='relu'),\n",
        "            layers.BatchNormalization(),\n",
        "            layers.Dropout(0.3),\n",
        "            layers.Dense(128, activation='relu'),\n",
        "            layers.BatchNormalization(),\n",
        "            layers.Dropout(0.2),\n",
        "            layers.Dense(64, activation='relu'),\n",
        "            layers.Dropout(0.2),\n",
        "            layers.Dense(1, activation='sigmoid')\n",
        "        ], name='deep_network_2')\n",
        "\n",
        "        model2.compile(\n",
        "            optimizer=optimizers.Adam(learning_rate=0.0005),\n",
        "            loss='binary_crossentropy',\n",
        "            metrics=['accuracy', 'precision', 'recall']\n",
        "        )\n",
        "\n",
        "        # Model 3: Attention-based (if we have enough temporal features)\n",
        "        if input_dim >= 60:  # Need enough features for attention mechanism\n",
        "            model3 = self.create_attention_network(input_dim)\n",
        "            model3.compile(\n",
        "                optimizer=optimizers.Adam(learning_rate=0.001),\n",
        "                loss='binary_crossentropy',\n",
        "                metrics=['accuracy', 'precision', 'recall']\n",
        "            )\n",
        "        else:\n",
        "            # Fallback to another standard architecture\n",
        "            model3 = keras.Sequential([\n",
        "                layers.Input(shape=(input_dim,)),\n",
        "                layers.Dense(256, activation='swish'),\n",
        "                layers.BatchNormalization(),\n",
        "                layers.Dropout(0.3),\n",
        "                layers.Dense(128, activation='swish'),\n",
        "                layers.BatchNormalization(),\n",
        "                layers.Dropout(0.2),\n",
        "                layers.Dense(64, activation='swish'),\n",
        "                layers.Dropout(0.2),\n",
        "                layers.Dense(1, activation='sigmoid')\n",
        "            ], name='swish_network')\n",
        "\n",
        "            model3.compile(\n",
        "                optimizer=optimizers.Adam(learning_rate=0.001),\n",
        "                loss='binary_crossentropy',\n",
        "                metrics=['accuracy', 'precision', 'recall']\n",
        "            )\n",
        "\n",
        "        # Callbacks for training\n",
        "        callbacks_list = [\n",
        "            callbacks.EarlyStopping(\n",
        "                monitor='val_accuracy',\n",
        "                patience=15,\n",
        "                restore_best_weights=True,\n",
        "                verbose=1\n",
        "            ),\n",
        "            callbacks.ReduceLROnPlateau(\n",
        "                monitor='val_loss',\n",
        "                factor=0.5,\n",
        "                patience=8,\n",
        "                min_lr=1e-7,\n",
        "                verbose=1\n",
        "            ),\n",
        "            callbacks.ModelCheckpoint(\n",
        "                'best_model_{epoch:02d}_{val_accuracy:.4f}.h5',\n",
        "                monitor='val_accuracy',\n",
        "                save_best_only=True,\n",
        "                verbose=1\n",
        "            )\n",
        "        ]\n",
        "\n",
        "        # Train each model\n",
        "        models = [model1, model2, model3]\n",
        "        histories = []\n",
        "\n",
        "        for i, model in enumerate(models):\n",
        "            print(f\"\\n🔥 Training Model {i+1}/3...\")\n",
        "\n",
        "            history = model.fit(\n",
        "                X_train, y_train,\n",
        "                validation_data=(X_val, y_val),\n",
        "                epochs=100,\n",
        "                batch_size=64,\n",
        "                callbacks=callbacks_list,\n",
        "                verbose=1\n",
        "            )\n",
        "\n",
        "            histories.append(history)\n",
        "            self.ensemble_models.append(model)\n",
        "\n",
        "        self.history = histories\n",
        "        self.is_trained = True\n",
        "        print(\"✅ Ensemble training completed!\")\n",
        "\n",
        "        return histories\n",
        "\n",
        "    def predict_ensemble(self, X_test):\n",
        "        \"\"\"\n",
        "        Make predictions using ensemble of models\n",
        "        \"\"\"\n",
        "        if not self.is_trained:\n",
        "            raise ValueError(\"Models must be trained first!\")\n",
        "\n",
        "        # Get predictions from all models\n",
        "        predictions = []\n",
        "        probabilities = []\n",
        "\n",
        "        for i, model in enumerate(self.ensemble_models):\n",
        "            pred_proba = model.predict(X_test, verbose=0)\n",
        "            pred_binary = (pred_proba > 0.5).astype(int)\n",
        "\n",
        "            predictions.append(pred_binary.flatten())\n",
        "            probabilities.append(pred_proba.flatten())\n",
        "\n",
        "        # Ensemble methods\n",
        "        # Method 1: Average probabilities\n",
        "        avg_probabilities = np.mean(probabilities, axis=0)\n",
        "        avg_predictions = (avg_probabilities > 0.5).astype(int)\n",
        "\n",
        "        # Method 2: Majority voting\n",
        "        majority_predictions = np.round(np.mean(predictions, axis=0)).astype(int)\n",
        "\n",
        "        # Method 3: Weighted average (give more weight to better performing models)\n",
        "        # For simplicity, using equal weights here\n",
        "        ensemble_probabilities = avg_probabilities\n",
        "        ensemble_predictions = avg_predictions\n",
        "\n",
        "        return ensemble_predictions, ensemble_probabilities\n",
        "\n",
        "    def evaluate_deep_learning(self, X_test, y_test):\n",
        "        \"\"\"\n",
        "        Comprehensive evaluation of deep learning models\n",
        "        \"\"\"\n",
        "        print(\"📊 Evaluating Deep Learning Models...\")\n",
        "\n",
        "        # Individual model performance\n",
        "        individual_results = {}\n",
        "\n",
        "        for i, model in enumerate(self.ensemble_models):\n",
        "            pred_proba = model.predict(X_test, verbose=0)\n",
        "            pred_binary = (pred_proba > 0.5).astype(int).flatten()\n",
        "\n",
        "            accuracy = accuracy_score(y_test, pred_binary)\n",
        "            individual_results[f'model_{i+1}'] = {\n",
        "                'accuracy': accuracy,\n",
        "                'predictions': pred_binary,\n",
        "                'probabilities': pred_proba.flatten()\n",
        "            }\n",
        "\n",
        "            print(f\"Model {i+1} Accuracy: {accuracy:.4f} ({accuracy*100:.2f}%)\")\n",
        "\n",
        "        # Ensemble performance\n",
        "        ensemble_pred, ensemble_prob = self.predict_ensemble(X_test)\n",
        "\n",
        "        # Calculate comprehensive metrics\n",
        "        accuracy = accuracy_score(y_test, ensemble_pred)\n",
        "\n",
        "        # Confusion matrix\n",
        "        tn, fp, fn, tp = confusion_matrix(y_test, ensemble_pred).ravel()\n",
        "\n",
        "        precision = tp / (tp + fp) if (tp + fp) > 0 else 0\n",
        "        recall = tp / (tp + fn) if (tp + fn) > 0 else 0\n",
        "        specificity = tn / (tn + fp) if (tn + fp) > 0 else 0\n",
        "        f1 = 2 * (precision * recall) / (precision + recall) if (precision + recall) > 0 else 0\n",
        "        balanced_accuracy = (recall + specificity) / 2\n",
        "\n",
        "        ensemble_results = {\n",
        "            'accuracy': accuracy,\n",
        "            'precision': precision,\n",
        "            'recall': recall,\n",
        "            'specificity': specificity,\n",
        "            'f1_score': f1,\n",
        "            'balanced_accuracy': balanced_accuracy,\n",
        "            'confusion_matrix': {'tp': tp, 'fp': fp, 'tn': tn, 'fn': fn}\n",
        "        }\n",
        "\n",
        "        return individual_results, ensemble_results\n",
        "\n",
        "    def train_and_evaluate(self, df):\n",
        "        \"\"\"\n",
        "        Complete deep learning pipeline\n",
        "        \"\"\"\n",
        "        print(\"🧠 Starting Deep Learning Pipeline for Dropout Prediction...\")\n",
        "        print(\"=\" * 70)\n",
        "\n",
        "        # Prepare data\n",
        "        X_train, X_test, y_train, y_test = self.prepare_data_for_dl(df)\n",
        "\n",
        "        # Create validation split\n",
        "        X_train_final, X_val, y_train_final, y_val = train_test_split(\n",
        "            X_train, y_train, test_size=0.2, random_state=42, stratify=y_train\n",
        "        )\n",
        "\n",
        "        # Train ensemble\n",
        "        histories = self.train_deep_ensemble(X_train_final, y_train_final, X_val, y_val)\n",
        "\n",
        "        # Evaluate models\n",
        "        individual_results, ensemble_results = self.evaluate_deep_learning(X_test, y_test)\n",
        "\n",
        "        # Print results\n",
        "        print(\"\\n🏆 DEEP LEARNING ENSEMBLE RESULTS:\")\n",
        "        print(\"-\" * 50)\n",
        "        print(f\"🎯 ACCURACY: {ensemble_results['accuracy']:.4f} ({ensemble_results['accuracy']*100:.2f}%)\")\n",
        "        print(f\"⚖️ BALANCED ACCURACY: {ensemble_results['balanced_accuracy']:.4f} ({ensemble_results['balanced_accuracy']*100:.2f}%)\")\n",
        "        print(f\"📊 PRECISION: {ensemble_results['precision']:.4f} ({ensemble_results['precision']*100:.2f}%)\")\n",
        "        print(f\"🔍 RECALL: {ensemble_results['recall']:.4f} ({ensemble_results['recall']*100:.2f}%)\")\n",
        "        print(f\"🛡️ SPECIFICITY: {ensemble_results['specificity']:.4f} ({ensemble_results['specificity']*100:.2f}%)\")\n",
        "        print(f\"📈 F1-SCORE: {ensemble_results['f1_score']:.4f} ({ensemble_results['f1_score']*100:.2f}%)\")\n",
        "\n",
        "        cm = ensemble_results['confusion_matrix']\n",
        "        print(f\"\\n📋 Confusion Matrix:\")\n",
        "        print(f\"   Predicted:    Dropout  Complete\")\n",
        "        print(f\"   Actual Dropout:  {cm['tp']:>6}    {cm['fn']:>6}\")\n",
        "        print(f\"   Actual Complete: {cm['fp']:>6}    {cm['tn']:>6}\")\n",
        "\n",
        "        # Success evaluation\n",
        "        if ensemble_results['accuracy'] >= 0.90:\n",
        "            print(f\"\\n🎉🎉🎉 DEEP LEARNING SUCCESS! 🎉🎉🎉\")\n",
        "            print(f\"✅ Achieved {ensemble_results['accuracy']*100:.2f}% accuracy!\")\n",
        "            print(f\"🧠 Neural networks successfully learned complex dropout patterns!\")\n",
        "        else:\n",
        "            print(f\"\\n🚀 EXCELLENT DEEP LEARNING PERFORMANCE!\")\n",
        "            print(f\"📈 Achieved {ensemble_results['accuracy']*100:.2f}% accuracy\")\n",
        "            print(f\"🎯 Very competitive results with traditional ML methods!\")\n",
        "\n",
        "        return {\n",
        "            'individual_results': individual_results,\n",
        "            'ensemble_results': ensemble_results,\n",
        "            'training_histories': histories,\n",
        "            'feature_names': self.feature_names\n",
        "        }\n",
        "\n",
        "    def plot_training_history(self):\n",
        "        \"\"\"\n",
        "        Plot training history for all models\n",
        "        \"\"\"\n",
        "        if not self.history:\n",
        "            print(\"No training history available!\")\n",
        "            return\n",
        "\n",
        "        fig, axes = plt.subplots(2, 2, figsize=(15, 10))\n",
        "\n",
        "        for i, history in enumerate(self.history):\n",
        "            # Accuracy plot\n",
        "            axes[0, 0].plot(history.history['accuracy'], label=f'Model {i+1} Train')\n",
        "            axes[0, 0].plot(history.history['val_accuracy'], label=f'Model {i+1} Val')\n",
        "\n",
        "        axes[0, 0].set_title('Model Accuracy')\n",
        "        axes[0, 0].set_xlabel('Epoch')\n",
        "        axes[0, 0].set_ylabel('Accuracy')\n",
        "        axes[0, 0].legend()\n",
        "\n",
        "        # Loss plot\n",
        "        for i, history in enumerate(self.history):\n",
        "            axes[0, 1].plot(history.history['loss'], label=f'Model {i+1} Train')\n",
        "            axes[0, 1].plot(history.history['val_loss'], label=f'Model {i+1} Val')\n",
        "\n",
        "        axes[0, 1].set_title('Model Loss')\n",
        "        axes[0, 1].set_xlabel('Epoch')\n",
        "        axes[0, 1].set_ylabel('Loss')\n",
        "        axes[0, 1].legend()\n",
        "\n",
        "        plt.tight_layout()\n",
        "        plt.show()\n",
        "\n",
        "# Usage Example:\n",
        "if __name__ == \"__main__\":\n",
        "    # Initialize the deep learning predictor\n",
        "    dl_predictor = DeepLearningDropoutPredictor()\n",
        "\n",
        "    # Load your data\n",
        "    df = pd.read_csv('model1_210_features.csv')\n",
        "\n",
        "    # Train and evaluate\n",
        "    results = dl_predictor.train_and_evaluate(df)\n",
        "\n",
        "    # Plot training history\n",
        "    dl_predictor.plot_training_history()\n",
        "\n",
        "    print(\"🧠 Deep Learning Dropout Predictor Ready!\")\n",
        "    print(\"📝 Load your CSV file and call: results = dl_predictor.train_and_evaluate(df)\")"
      ],
      "metadata": {
        "colab": {
          "base_uri": "https://localhost:8080/",
          "height": 1000
        },
        "id": "t4c2PDA3tt9I",
        "outputId": "c1ca3ec0-c664-4da0-a9af-c457eafcb80e"
      },
      "execution_count": 8,
      "outputs": [
        {
          "metadata": {
            "tags": null
          },
          "name": "stdout",
          "output_type": "stream",
          "text": [
            "🧠 Starting Deep Learning Pipeline for Dropout Prediction...\n",
            "======================================================================\n",
            "📊 Preparing data for deep learning...\n",
            "🧠 Engineering features for deep learning...\n",
            "✅ Created 97 features for deep learning\n",
            "⚖️ Balancing dataset with SMOTE...\n",
            "📈 Training set: 152928 samples\n",
            "📉 Test set: 24109 samples\n",
            "⚖️ Training class distribution - Dropout: 76464 (50.0%)\n",
            "🚀 Training deep learning ensemble...\n",
            "🧠 Creating advanced neural network architecture...\n",
            "🎯 Creating attention-based neural network...\n",
            "\n",
            "🔥 Training Model 1/3...\n",
            "Epoch 1/100\n",
            "\u001b[1m1907/1912\u001b[0m \u001b[32m━━━━━━━━━━━━━━━━━━━\u001b[0m\u001b[37m━\u001b[0m \u001b[1m0s\u001b[0m 9ms/step - accuracy: 0.7614 - loss: 0.5187 - precision: 0.7416 - recall: 0.8023\n",
            "Epoch 1: val_accuracy improved from -inf to 0.78124, saving model to best_model_01_0.7812.h5\n"
          ]
        },
        {
          "metadata": {
            "tags": null
          },
          "name": "stderr",
          "output_type": "stream",
          "text": [
            "WARNING:absl:You are saving your model as an HDF5 file via `model.save()` or `keras.saving.save_model(model)`. This file format is considered legacy. We recommend using instead the native Keras format, e.g. `model.save('my_model.keras')` or `keras.saving.save_model(model, 'my_model.keras')`. \n"
          ]
        },
        {
          "metadata": {
            "tags": null
          },
          "name": "stdout",
          "output_type": "stream",
          "text": [
            "\u001b[1m1912/1912\u001b[0m \u001b[32m━━━━━━━━━━━━━━━━━━━━\u001b[0m\u001b[37m\u001b[0m \u001b[1m33s\u001b[0m 11ms/step - accuracy: 0.7615 - loss: 0.5186 - precision: 0.7416 - recall: 0.8024 - val_accuracy: 0.7812 - val_loss: 0.4744 - val_precision: 0.7569 - val_recall: 0.8287 - learning_rate: 0.0010\n",
            "Epoch 2/100\n",
            "\u001b[1m1911/1912\u001b[0m \u001b[32m━━━━━━━━━━━━━━━━━━━\u001b[0m\u001b[37m━\u001b[0m \u001b[1m0s\u001b[0m 9ms/step - accuracy: 0.7817 - loss: 0.4786 - precision: 0.7559 - recall: 0.8324\n",
            "Epoch 2: val_accuracy did not improve from 0.78124\n",
            "\u001b[1m1912/1912\u001b[0m \u001b[32m━━━━━━━━━━━━━━━━━━━━\u001b[0m\u001b[37m\u001b[0m \u001b[1m39s\u001b[0m 10ms/step - accuracy: 0.7817 - loss: 0.4786 - precision: 0.7559 - recall: 0.8324 - val_accuracy: 0.7807 - val_loss: 0.4726 - val_precision: 0.7608 - val_recall: 0.8190 - learning_rate: 0.0010\n",
            "Epoch 3/100\n",
            "\u001b[1m1907/1912\u001b[0m \u001b[32m━━━━━━━━━━━━━━━━━━━\u001b[0m\u001b[37m━\u001b[0m \u001b[1m0s\u001b[0m 9ms/step - accuracy: 0.7822 - loss: 0.4763 - precision: 0.7560 - recall: 0.8336\n",
            "Epoch 3: val_accuracy improved from 0.78124 to 0.78291, saving model to best_model_03_0.7829.h5\n"
          ]
        },
        {
          "metadata": {
            "tags": null
          },
          "name": "stderr",
          "output_type": "stream",
          "text": [
            "WARNING:absl:You are saving your model as an HDF5 file via `model.save()` or `keras.saving.save_model(model)`. This file format is considered legacy. We recommend using instead the native Keras format, e.g. `model.save('my_model.keras')` or `keras.saving.save_model(model, 'my_model.keras')`. \n"
          ]
        },
        {
          "metadata": {
            "tags": null
          },
          "name": "stdout",
          "output_type": "stream",
          "text": [
            "\u001b[1m1912/1912\u001b[0m \u001b[32m━━━━━━━━━━━━━━━━━━━━\u001b[0m\u001b[37m\u001b[0m \u001b[1m20s\u001b[0m 10ms/step - accuracy: 0.7822 - loss: 0.4763 - precision: 0.7560 - recall: 0.8336 - val_accuracy: 0.7829 - val_loss: 0.4694 - val_precision: 0.7563 - val_recall: 0.8349 - learning_rate: 0.0010\n",
            "Epoch 4/100\n",
            "\u001b[1m1912/1912\u001b[0m \u001b[32m━━━━━━━━━━━━━━━━━━━━\u001b[0m\u001b[37m\u001b[0m \u001b[1m0s\u001b[0m 9ms/step - accuracy: 0.7829 - loss: 0.4733 - precision: 0.7552 - recall: 0.8373\n",
            "Epoch 4: val_accuracy did not improve from 0.78291\n",
            "\u001b[1m1912/1912\u001b[0m \u001b[32m━━━━━━━━━━━━━━━━━━━━\u001b[0m\u001b[37m\u001b[0m \u001b[1m20s\u001b[0m 11ms/step - accuracy: 0.7829 - loss: 0.4733 - precision: 0.7552 - recall: 0.8373 - val_accuracy: 0.7820 - val_loss: 0.4684 - val_precision: 0.7612 - val_recall: 0.8218 - learning_rate: 0.0010\n",
            "Epoch 5/100\n",
            "\u001b[1m1911/1912\u001b[0m \u001b[32m━━━━━━━━━━━━━━━━━━━\u001b[0m\u001b[37m━\u001b[0m \u001b[1m0s\u001b[0m 9ms/step - accuracy: 0.7842 - loss: 0.4709 - precision: 0.7559 - recall: 0.8398\n",
            "Epoch 5: val_accuracy did not improve from 0.78291\n",
            "\u001b[1m1912/1912\u001b[0m \u001b[32m━━━━━━━━━━━━━━━━━━━━\u001b[0m\u001b[37m\u001b[0m \u001b[1m18s\u001b[0m 10ms/step - accuracy: 0.7842 - loss: 0.4709 - precision: 0.7559 - recall: 0.8398 - val_accuracy: 0.7827 - val_loss: 0.4686 - val_precision: 0.7701 - val_recall: 0.8060 - learning_rate: 0.0010\n",
            "Epoch 6/100\n",
            "\u001b[1m1906/1912\u001b[0m \u001b[32m━━━━━━━━━━━━━━━━━━━\u001b[0m\u001b[37m━\u001b[0m \u001b[1m0s\u001b[0m 9ms/step - accuracy: 0.7847 - loss: 0.4703 - precision: 0.7552 - recall: 0.8427\n",
            "Epoch 6: val_accuracy did not improve from 0.78291\n",
            "\u001b[1m1912/1912\u001b[0m \u001b[32m━━━━━━━━━━━━━━━━━━━━\u001b[0m\u001b[37m\u001b[0m \u001b[1m20s\u001b[0m 10ms/step - accuracy: 0.7847 - loss: 0.4703 - precision: 0.7552 - recall: 0.8428 - val_accuracy: 0.7800 - val_loss: 0.4698 - val_precision: 0.7715 - val_recall: 0.7957 - learning_rate: 0.0010\n",
            "Epoch 7/100\n",
            "\u001b[1m1910/1912\u001b[0m \u001b[32m━━━━━━━━━━━━━━━━━━━\u001b[0m\u001b[37m━\u001b[0m \u001b[1m0s\u001b[0m 10ms/step - accuracy: 0.7863 - loss: 0.4686 - precision: 0.7573 - recall: 0.8427\n",
            "Epoch 7: val_accuracy did not improve from 0.78291\n",
            "\u001b[1m1912/1912\u001b[0m \u001b[32m━━━━━━━━━━━━━━━━━━━━\u001b[0m\u001b[37m\u001b[0m \u001b[1m22s\u001b[0m 11ms/step - accuracy: 0.7863 - loss: 0.4686 - precision: 0.7573 - recall: 0.8427 - val_accuracy: 0.7811 - val_loss: 0.4678 - val_precision: 0.7762 - val_recall: 0.7900 - learning_rate: 0.0010\n",
            "Epoch 8/100\n",
            "\u001b[1m1910/1912\u001b[0m \u001b[32m━━━━━━━━━━━━━━━━━━━\u001b[0m\u001b[37m━\u001b[0m \u001b[1m0s\u001b[0m 10ms/step - accuracy: 0.7863 - loss: 0.4661 - precision: 0.7573 - recall: 0.8428\n",
            "Epoch 8: val_accuracy did not improve from 0.78291\n",
            "\u001b[1m1912/1912\u001b[0m \u001b[32m━━━━━━━━━━━━━━━━━━━━\u001b[0m\u001b[37m\u001b[0m \u001b[1m21s\u001b[0m 11ms/step - accuracy: 0.7863 - loss: 0.4661 - precision: 0.7573 - recall: 0.8428 - val_accuracy: 0.7800 - val_loss: 0.4687 - val_precision: 0.7767 - val_recall: 0.7859 - learning_rate: 0.0010\n",
            "Epoch 9/100\n",
            "\u001b[1m1911/1912\u001b[0m \u001b[32m━━━━━━━━━━━━━━━━━━━\u001b[0m\u001b[37m━\u001b[0m \u001b[1m0s\u001b[0m 9ms/step - accuracy: 0.7873 - loss: 0.4640 - precision: 0.7572 - recall: 0.8459\n",
            "Epoch 9: val_accuracy did not improve from 0.78291\n",
            "\u001b[1m1912/1912\u001b[0m \u001b[32m━━━━━━━━━━━━━━━━━━━━\u001b[0m\u001b[37m\u001b[0m \u001b[1m20s\u001b[0m 10ms/step - accuracy: 0.7873 - loss: 0.4640 - precision: 0.7572 - recall: 0.8459 - val_accuracy: 0.7775 - val_loss: 0.4747 - val_precision: 0.7790 - val_recall: 0.7748 - learning_rate: 0.0010\n",
            "Epoch 10/100\n",
            "\u001b[1m1912/1912\u001b[0m \u001b[32m━━━━━━━━━━━━━━━━━━━━\u001b[0m\u001b[37m\u001b[0m \u001b[1m0s\u001b[0m 10ms/step - accuracy: 0.7888 - loss: 0.4639 - precision: 0.7576 - recall: 0.8496\n",
            "Epoch 10: val_accuracy did not improve from 0.78291\n",
            "\u001b[1m1912/1912\u001b[0m \u001b[32m━━━━━━━━━━━━━━━━━━━━\u001b[0m\u001b[37m\u001b[0m \u001b[1m21s\u001b[0m 11ms/step - accuracy: 0.7888 - loss: 0.4639 - precision: 0.7576 - recall: 0.8496 - val_accuracy: 0.7758 - val_loss: 0.4735 - val_precision: 0.7821 - val_recall: 0.7646 - learning_rate: 0.0010\n",
            "Epoch 11/100\n",
            "\u001b[1m1907/1912\u001b[0m \u001b[32m━━━━━━━━━━━━━━━━━━━\u001b[0m\u001b[37m━\u001b[0m \u001b[1m0s\u001b[0m 9ms/step - accuracy: 0.7894 - loss: 0.4619 - precision: 0.7574 - recall: 0.8518\n",
            "Epoch 11: val_accuracy did not improve from 0.78291\n",
            "\u001b[1m1912/1912\u001b[0m \u001b[32m━━━━━━━━━━━━━━━━━━━━\u001b[0m\u001b[37m\u001b[0m \u001b[1m20s\u001b[0m 10ms/step - accuracy: 0.7894 - loss: 0.4619 - precision: 0.7574 - recall: 0.8518 - val_accuracy: 0.7761 - val_loss: 0.4722 - val_precision: 0.7794 - val_recall: 0.7703 - learning_rate: 0.0010\n",
            "Epoch 12/100\n",
            "\u001b[1m1908/1912\u001b[0m \u001b[32m━━━━━━━━━━━━━━━━━━━\u001b[0m\u001b[37m━\u001b[0m \u001b[1m0s\u001b[0m 10ms/step - accuracy: 0.7892 - loss: 0.4617 - precision: 0.7572 - recall: 0.8516\n",
            "Epoch 12: val_accuracy did not improve from 0.78291\n",
            "\u001b[1m1912/1912\u001b[0m \u001b[32m━━━━━━━━━━━━━━━━━━━━\u001b[0m\u001b[37m\u001b[0m \u001b[1m21s\u001b[0m 11ms/step - accuracy: 0.7892 - loss: 0.4617 - precision: 0.7572 - recall: 0.8516 - val_accuracy: 0.7680 - val_loss: 0.4818 - val_precision: 0.7937 - val_recall: 0.7243 - learning_rate: 0.0010\n",
            "Epoch 13/100\n",
            "\u001b[1m1909/1912\u001b[0m \u001b[32m━━━━━━━━━━━━━━━━━━━\u001b[0m\u001b[37m━\u001b[0m \u001b[1m0s\u001b[0m 9ms/step - accuracy: 0.7894 - loss: 0.4609 - precision: 0.7571 - recall: 0.8525\n",
            "Epoch 13: val_accuracy did not improve from 0.78291\n",
            "\u001b[1m1912/1912\u001b[0m \u001b[32m━━━━━━━━━━━━━━━━━━━━\u001b[0m\u001b[37m\u001b[0m \u001b[1m20s\u001b[0m 10ms/step - accuracy: 0.7894 - loss: 0.4609 - precision: 0.7571 - recall: 0.8525 - val_accuracy: 0.7655 - val_loss: 0.4882 - val_precision: 0.7957 - val_recall: 0.7144 - learning_rate: 0.0010\n",
            "Epoch 14/100\n",
            "\u001b[1m1906/1912\u001b[0m \u001b[32m━━━━━━━━━━━━━━━━━━━\u001b[0m\u001b[37m━\u001b[0m \u001b[1m0s\u001b[0m 9ms/step - accuracy: 0.7912 - loss: 0.4599 - precision: 0.7593 - recall: 0.8530\n",
            "Epoch 14: val_accuracy did not improve from 0.78291\n",
            "\u001b[1m1912/1912\u001b[0m \u001b[32m━━━━━━━━━━━━━━━━━━━━\u001b[0m\u001b[37m\u001b[0m \u001b[1m20s\u001b[0m 10ms/step - accuracy: 0.7912 - loss: 0.4599 - precision: 0.7593 - recall: 0.8530 - val_accuracy: 0.7667 - val_loss: 0.4841 - val_precision: 0.7967 - val_recall: 0.7161 - learning_rate: 0.0010\n",
            "Epoch 15/100\n",
            "\u001b[1m1910/1912\u001b[0m \u001b[32m━━━━━━━━━━━━━━━━━━━\u001b[0m\u001b[37m━\u001b[0m \u001b[1m0s\u001b[0m 9ms/step - accuracy: 0.7908 - loss: 0.4587 - precision: 0.7577 - recall: 0.8553\n",
            "Epoch 15: ReduceLROnPlateau reducing learning rate to 0.0005000000237487257.\n",
            "\n",
            "Epoch 15: val_accuracy did not improve from 0.78291\n",
            "\u001b[1m1912/1912\u001b[0m \u001b[32m━━━━━━━━━━━━━━━━━━━━\u001b[0m\u001b[37m\u001b[0m \u001b[1m20s\u001b[0m 11ms/step - accuracy: 0.7908 - loss: 0.4587 - precision: 0.7577 - recall: 0.8553 - val_accuracy: 0.7712 - val_loss: 0.4798 - val_precision: 0.7878 - val_recall: 0.7425 - learning_rate: 0.0010\n",
            "Epoch 16/100\n",
            "\u001b[1m1906/1912\u001b[0m \u001b[32m━━━━━━━━━━━━━━━━━━━\u001b[0m\u001b[37m━\u001b[0m \u001b[1m0s\u001b[0m 9ms/step - accuracy: 0.7927 - loss: 0.4567 - precision: 0.7581 - recall: 0.8597\n",
            "Epoch 16: val_accuracy did not improve from 0.78291\n",
            "\u001b[1m1912/1912\u001b[0m \u001b[32m━━━━━━━━━━━━━━━━━━━━\u001b[0m\u001b[37m\u001b[0m \u001b[1m20s\u001b[0m 10ms/step - accuracy: 0.7927 - loss: 0.4566 - precision: 0.7581 - recall: 0.8597 - val_accuracy: 0.7678 - val_loss: 0.4891 - val_precision: 0.7977 - val_recall: 0.7176 - learning_rate: 5.0000e-04\n",
            "Epoch 17/100\n",
            "\u001b[1m1910/1912\u001b[0m \u001b[32m━━━━━━━━━━━━━━━━━━━\u001b[0m\u001b[37m━\u001b[0m \u001b[1m0s\u001b[0m 10ms/step - accuracy: 0.7933 - loss: 0.4551 - precision: 0.7589 - recall: 0.8598\n",
            "Epoch 17: val_accuracy did not improve from 0.78291\n",
            "\u001b[1m1912/1912\u001b[0m \u001b[32m━━━━━━━━━━━━━━━━━━━━\u001b[0m\u001b[37m\u001b[0m \u001b[1m21s\u001b[0m 11ms/step - accuracy: 0.7933 - loss: 0.4551 - precision: 0.7589 - recall: 0.8598 - val_accuracy: 0.7666 - val_loss: 0.4896 - val_precision: 0.7973 - val_recall: 0.7150 - learning_rate: 5.0000e-04\n",
            "Epoch 18/100\n",
            "\u001b[1m1910/1912\u001b[0m \u001b[32m━━━━━━━━━━━━━━━━━━━\u001b[0m\u001b[37m━\u001b[0m \u001b[1m0s\u001b[0m 10ms/step - accuracy: 0.7936 - loss: 0.4543 - precision: 0.7597 - recall: 0.8591\n",
            "Epoch 18: val_accuracy did not improve from 0.78291\n",
            "\u001b[1m1912/1912\u001b[0m \u001b[32m━━━━━━━━━━━━━━━━━━━━\u001b[0m\u001b[37m\u001b[0m \u001b[1m41s\u001b[0m 11ms/step - accuracy: 0.7936 - loss: 0.4543 - precision: 0.7597 - recall: 0.8591 - val_accuracy: 0.7629 - val_loss: 0.4990 - val_precision: 0.7996 - val_recall: 0.7017 - learning_rate: 5.0000e-04\n",
            "Epoch 18: early stopping\n",
            "Restoring model weights from the end of the best epoch: 3.\n",
            "\n",
            "🔥 Training Model 2/3...\n",
            "Epoch 1/100\n",
            "\u001b[1m1911/1912\u001b[0m \u001b[32m━━━━━━━━━━━━━━━━━━━\u001b[0m\u001b[37m━\u001b[0m \u001b[1m0s\u001b[0m 14ms/step - accuracy: 0.7632 - loss: 0.5175 - precision: 0.7373 - recall: 0.8182\n",
            "Epoch 1: val_accuracy did not improve from 0.78291\n",
            "\u001b[1m1912/1912\u001b[0m \u001b[32m━━━━━━━━━━━━━━━━━━━━\u001b[0m\u001b[37m\u001b[0m \u001b[1m35s\u001b[0m 16ms/step - accuracy: 0.7632 - loss: 0.5175 - precision: 0.7373 - recall: 0.8182 - val_accuracy: 0.7791 - val_loss: 0.4807 - val_precision: 0.7451 - val_recall: 0.8486 - learning_rate: 5.0000e-04\n",
            "Epoch 2/100\n",
            "\u001b[1m1912/1912\u001b[0m \u001b[32m━━━━━━━━━━━━━━━━━━━━\u001b[0m\u001b[37m\u001b[0m \u001b[1m0s\u001b[0m 14ms/step - accuracy: 0.7812 - loss: 0.4812 - precision: 0.7568 - recall: 0.8289\n",
            "Epoch 2: val_accuracy did not improve from 0.78291\n",
            "\u001b[1m1912/1912\u001b[0m \u001b[32m━━━━━━━━━━━━━━━━━━━━\u001b[0m\u001b[37m\u001b[0m \u001b[1m41s\u001b[0m 15ms/step - accuracy: 0.7812 - loss: 0.4812 - precision: 0.7568 - recall: 0.8289 - val_accuracy: 0.7790 - val_loss: 0.4764 - val_precision: 0.7430 - val_recall: 0.8531 - learning_rate: 5.0000e-04\n",
            "Epoch 3/100\n",
            "\u001b[1m1912/1912\u001b[0m \u001b[32m━━━━━━━━━━━━━━━━━━━━\u001b[0m\u001b[37m\u001b[0m \u001b[1m0s\u001b[0m 14ms/step - accuracy: 0.7831 - loss: 0.4757 - precision: 0.7579 - recall: 0.8322\n",
            "Epoch 3: val_accuracy did not improve from 0.78291\n",
            "\u001b[1m1912/1912\u001b[0m \u001b[32m━━━━━━━━━━━━━━━━━━━━\u001b[0m\u001b[37m\u001b[0m \u001b[1m41s\u001b[0m 15ms/step - accuracy: 0.7831 - loss: 0.4757 - precision: 0.7579 - recall: 0.8322 - val_accuracy: 0.7804 - val_loss: 0.4742 - val_precision: 0.7505 - val_recall: 0.8400 - learning_rate: 5.0000e-04\n",
            "Epoch 4/100\n",
            "\u001b[1m1911/1912\u001b[0m \u001b[32m━━━━━━━━━━━━━━━━━━━\u001b[0m\u001b[37m━\u001b[0m \u001b[1m0s\u001b[0m 14ms/step - accuracy: 0.7841 - loss: 0.4726 - precision: 0.7593 - recall: 0.8320\n",
            "Epoch 4: val_accuracy did not improve from 0.78291\n",
            "\u001b[1m1912/1912\u001b[0m \u001b[32m━━━━━━━━━━━━━━━━━━━━\u001b[0m\u001b[37m\u001b[0m \u001b[1m41s\u001b[0m 15ms/step - accuracy: 0.7841 - loss: 0.4726 - precision: 0.7593 - recall: 0.8320 - val_accuracy: 0.7821 - val_loss: 0.4730 - val_precision: 0.7479 - val_recall: 0.8508 - learning_rate: 5.0000e-04\n",
            "Epoch 5/100\n",
            "\u001b[1m1911/1912\u001b[0m \u001b[32m━━━━━━━━━━━━━━━━━━━\u001b[0m\u001b[37m━\u001b[0m \u001b[1m0s\u001b[0m 14ms/step - accuracy: 0.7853 - loss: 0.4707 - precision: 0.7590 - recall: 0.8364\n",
            "Epoch 5: val_accuracy improved from 0.78291 to 0.78425, saving model to best_model_05_0.7842.h5\n"
          ]
        },
        {
          "metadata": {
            "tags": null
          },
          "name": "stderr",
          "output_type": "stream",
          "text": [
            "WARNING:absl:You are saving your model as an HDF5 file via `model.save()` or `keras.saving.save_model(model)`. This file format is considered legacy. We recommend using instead the native Keras format, e.g. `model.save('my_model.keras')` or `keras.saving.save_model(model, 'my_model.keras')`. \n"
          ]
        },
        {
          "metadata": {
            "tags": null
          },
          "name": "stdout",
          "output_type": "stream",
          "text": [
            "\u001b[1m1912/1912\u001b[0m \u001b[32m━━━━━━━━━━━━━━━━━━━━\u001b[0m\u001b[37m\u001b[0m \u001b[1m29s\u001b[0m 15ms/step - accuracy: 0.7853 - loss: 0.4707 - precision: 0.7590 - recall: 0.8364 - val_accuracy: 0.7842 - val_loss: 0.4713 - val_precision: 0.7524 - val_recall: 0.8473 - learning_rate: 5.0000e-04\n",
            "Epoch 6/100\n",
            "\u001b[1m1911/1912\u001b[0m \u001b[32m━━━━━━━━━━━━━━━━━━━\u001b[0m\u001b[37m━\u001b[0m \u001b[1m0s\u001b[0m 14ms/step - accuracy: 0.7859 - loss: 0.4689 - precision: 0.7595 - recall: 0.8369\n",
            "Epoch 6: val_accuracy did not improve from 0.78425\n",
            "\u001b[1m1912/1912\u001b[0m \u001b[32m━━━━━━━━━━━━━━━━━━━━\u001b[0m\u001b[37m\u001b[0m \u001b[1m40s\u001b[0m 15ms/step - accuracy: 0.7859 - loss: 0.4689 - precision: 0.7595 - recall: 0.8369 - val_accuracy: 0.7829 - val_loss: 0.4714 - val_precision: 0.7526 - val_recall: 0.8429 - learning_rate: 5.0000e-04\n",
            "Epoch 7/100\n",
            "\u001b[1m1912/1912\u001b[0m \u001b[32m━━━━━━━━━━━━━━━━━━━━\u001b[0m\u001b[37m\u001b[0m \u001b[1m0s\u001b[0m 14ms/step - accuracy: 0.7874 - loss: 0.4671 - precision: 0.7601 - recall: 0.8401\n",
            "Epoch 7: val_accuracy did not improve from 0.78425\n",
            "\u001b[1m1912/1912\u001b[0m \u001b[32m━━━━━━━━━━━━━━━━━━━━\u001b[0m\u001b[37m\u001b[0m \u001b[1m41s\u001b[0m 15ms/step - accuracy: 0.7874 - loss: 0.4671 - precision: 0.7601 - recall: 0.8401 - val_accuracy: 0.7837 - val_loss: 0.4698 - val_precision: 0.7474 - val_recall: 0.8571 - learning_rate: 5.0000e-04\n",
            "Epoch 8/100\n",
            "\u001b[1m1909/1912\u001b[0m \u001b[32m━━━━━━━━━━━━━━━━━━━\u001b[0m\u001b[37m━\u001b[0m \u001b[1m0s\u001b[0m 14ms/step - accuracy: 0.7890 - loss: 0.4654 - precision: 0.7597 - recall: 0.8456\n",
            "Epoch 8: val_accuracy improved from 0.78425 to 0.78539, saving model to best_model_08_0.7854.h5\n"
          ]
        },
        {
          "metadata": {
            "tags": null
          },
          "name": "stderr",
          "output_type": "stream",
          "text": [
            "WARNING:absl:You are saving your model as an HDF5 file via `model.save()` or `keras.saving.save_model(model)`. This file format is considered legacy. We recommend using instead the native Keras format, e.g. `model.save('my_model.keras')` or `keras.saving.save_model(model, 'my_model.keras')`. \n"
          ]
        },
        {
          "metadata": {
            "tags": null
          },
          "name": "stdout",
          "output_type": "stream",
          "text": [
            "\u001b[1m1912/1912\u001b[0m \u001b[32m━━━━━━━━━━━━━━━━━━━━\u001b[0m\u001b[37m\u001b[0m \u001b[1m28s\u001b[0m 15ms/step - accuracy: 0.7890 - loss: 0.4654 - precision: 0.7597 - recall: 0.8456 - val_accuracy: 0.7854 - val_loss: 0.4679 - val_precision: 0.7533 - val_recall: 0.8487 - learning_rate: 5.0000e-04\n",
            "Epoch 9/100\n",
            "\u001b[1m1908/1912\u001b[0m \u001b[32m━━━━━━━━━━━━━━━━━━━\u001b[0m\u001b[37m━\u001b[0m \u001b[1m0s\u001b[0m 14ms/step - accuracy: 0.7890 - loss: 0.4639 - precision: 0.7608 - recall: 0.8432\n",
            "Epoch 9: val_accuracy improved from 0.78539 to 0.78634, saving model to best_model_09_0.7863.h5\n"
          ]
        },
        {
          "metadata": {
            "tags": null
          },
          "name": "stderr",
          "output_type": "stream",
          "text": [
            "WARNING:absl:You are saving your model as an HDF5 file via `model.save()` or `keras.saving.save_model(model)`. This file format is considered legacy. We recommend using instead the native Keras format, e.g. `model.save('my_model.keras')` or `keras.saving.save_model(model, 'my_model.keras')`. \n"
          ]
        },
        {
          "metadata": {
            "tags": null
          },
          "name": "stdout",
          "output_type": "stream",
          "text": [
            "\u001b[1m1912/1912\u001b[0m \u001b[32m━━━━━━━━━━━━━━━━━━━━\u001b[0m\u001b[37m\u001b[0m \u001b[1m42s\u001b[0m 15ms/step - accuracy: 0.7890 - loss: 0.4639 - precision: 0.7608 - recall: 0.8432 - val_accuracy: 0.7863 - val_loss: 0.4678 - val_precision: 0.7568 - val_recall: 0.8439 - learning_rate: 5.0000e-04\n",
            "Epoch 10/100\n",
            "\u001b[1m1909/1912\u001b[0m \u001b[32m━━━━━━━━━━━━━━━━━━━\u001b[0m\u001b[37m━\u001b[0m \u001b[1m0s\u001b[0m 14ms/step - accuracy: 0.7909 - loss: 0.4622 - precision: 0.7624 - recall: 0.8455\n",
            "Epoch 10: val_accuracy did not improve from 0.78634\n",
            "\u001b[1m1912/1912\u001b[0m \u001b[32m━━━━━━━━━━━━━━━━━━━━\u001b[0m\u001b[37m\u001b[0m \u001b[1m29s\u001b[0m 15ms/step - accuracy: 0.7909 - loss: 0.4622 - precision: 0.7624 - recall: 0.8455 - val_accuracy: 0.7852 - val_loss: 0.4673 - val_precision: 0.7459 - val_recall: 0.8650 - learning_rate: 5.0000e-04\n",
            "Epoch 11/100\n",
            "\u001b[1m1910/1912\u001b[0m \u001b[32m━━━━━━━━━━━━━━━━━━━\u001b[0m\u001b[37m━\u001b[0m \u001b[1m0s\u001b[0m 14ms/step - accuracy: 0.7904 - loss: 0.4608 - precision: 0.7613 - recall: 0.8464\n",
            "Epoch 11: val_accuracy improved from 0.78634 to 0.78683, saving model to best_model_11_0.7868.h5\n"
          ]
        },
        {
          "metadata": {
            "tags": null
          },
          "name": "stderr",
          "output_type": "stream",
          "text": [
            "WARNING:absl:You are saving your model as an HDF5 file via `model.save()` or `keras.saving.save_model(model)`. This file format is considered legacy. We recommend using instead the native Keras format, e.g. `model.save('my_model.keras')` or `keras.saving.save_model(model, 'my_model.keras')`. \n"
          ]
        },
        {
          "metadata": {
            "tags": null
          },
          "name": "stdout",
          "output_type": "stream",
          "text": [
            "\u001b[1m1912/1912\u001b[0m \u001b[32m━━━━━━━━━━━━━━━━━━━━\u001b[0m\u001b[37m\u001b[0m \u001b[1m42s\u001b[0m 16ms/step - accuracy: 0.7904 - loss: 0.4608 - precision: 0.7613 - recall: 0.8464 - val_accuracy: 0.7868 - val_loss: 0.4665 - val_precision: 0.7516 - val_recall: 0.8567 - learning_rate: 5.0000e-04\n",
            "Epoch 12/100\n",
            "\u001b[1m1910/1912\u001b[0m \u001b[32m━━━━━━━━━━━━━━━━━━━\u001b[0m\u001b[37m━\u001b[0m \u001b[1m0s\u001b[0m 14ms/step - accuracy: 0.7915 - loss: 0.4599 - precision: 0.7623 - recall: 0.8474\n",
            "Epoch 12: val_accuracy improved from 0.78683 to 0.78719, saving model to best_model_12_0.7872.h5\n"
          ]
        },
        {
          "metadata": {
            "tags": null
          },
          "name": "stderr",
          "output_type": "stream",
          "text": [
            "WARNING:absl:You are saving your model as an HDF5 file via `model.save()` or `keras.saving.save_model(model)`. This file format is considered legacy. We recommend using instead the native Keras format, e.g. `model.save('my_model.keras')` or `keras.saving.save_model(model, 'my_model.keras')`. \n"
          ]
        },
        {
          "metadata": {
            "tags": null
          },
          "name": "stdout",
          "output_type": "stream",
          "text": [
            "\u001b[1m1912/1912\u001b[0m \u001b[32m━━━━━━━━━━━━━━━━━━━━\u001b[0m\u001b[37m\u001b[0m \u001b[1m29s\u001b[0m 15ms/step - accuracy: 0.7915 - loss: 0.4599 - precision: 0.7623 - recall: 0.8474 - val_accuracy: 0.7872 - val_loss: 0.4659 - val_precision: 0.7534 - val_recall: 0.8539 - learning_rate: 5.0000e-04\n",
            "Epoch 13/100\n",
            "\u001b[1m1911/1912\u001b[0m \u001b[32m━━━━━━━━━━━━━━━━━━━\u001b[0m\u001b[37m━\u001b[0m \u001b[1m0s\u001b[0m 14ms/step - accuracy: 0.7931 - loss: 0.4591 - precision: 0.7634 - recall: 0.8496\n",
            "Epoch 13: val_accuracy improved from 0.78719 to 0.78765, saving model to best_model_13_0.7876.h5\n"
          ]
        },
        {
          "metadata": {
            "tags": null
          },
          "name": "stderr",
          "output_type": "stream",
          "text": [
            "WARNING:absl:You are saving your model as an HDF5 file via `model.save()` or `keras.saving.save_model(model)`. This file format is considered legacy. We recommend using instead the native Keras format, e.g. `model.save('my_model.keras')` or `keras.saving.save_model(model, 'my_model.keras')`. \n"
          ]
        },
        {
          "metadata": {
            "tags": null
          },
          "name": "stdout",
          "output_type": "stream",
          "text": [
            "\u001b[1m1912/1912\u001b[0m \u001b[32m━━━━━━━━━━━━━━━━━━━━\u001b[0m\u001b[37m\u001b[0m \u001b[1m29s\u001b[0m 15ms/step - accuracy: 0.7931 - loss: 0.4591 - precision: 0.7634 - recall: 0.8496 - val_accuracy: 0.7876 - val_loss: 0.4642 - val_precision: 0.7531 - val_recall: 0.8558 - learning_rate: 5.0000e-04\n",
            "Epoch 14/100\n",
            "\u001b[1m1908/1912\u001b[0m \u001b[32m━━━━━━━━━━━━━━━━━━━\u001b[0m\u001b[37m━\u001b[0m \u001b[1m0s\u001b[0m 14ms/step - accuracy: 0.7940 - loss: 0.4578 - precision: 0.7643 - recall: 0.8501\n",
            "Epoch 14: val_accuracy improved from 0.78765 to 0.78892, saving model to best_model_14_0.7889.h5\n"
          ]
        },
        {
          "metadata": {
            "tags": null
          },
          "name": "stderr",
          "output_type": "stream",
          "text": [
            "WARNING:absl:You are saving your model as an HDF5 file via `model.save()` or `keras.saving.save_model(model)`. This file format is considered legacy. We recommend using instead the native Keras format, e.g. `model.save('my_model.keras')` or `keras.saving.save_model(model, 'my_model.keras')`. \n"
          ]
        },
        {
          "metadata": {
            "tags": null
          },
          "name": "stdout",
          "output_type": "stream",
          "text": [
            "\u001b[1m1912/1912\u001b[0m \u001b[32m━━━━━━━━━━━━━━━━━━━━\u001b[0m\u001b[37m\u001b[0m \u001b[1m40s\u001b[0m 15ms/step - accuracy: 0.7940 - loss: 0.4578 - precision: 0.7643 - recall: 0.8501 - val_accuracy: 0.7889 - val_loss: 0.4629 - val_precision: 0.7518 - val_recall: 0.8626 - learning_rate: 5.0000e-04\n",
            "Epoch 15/100\n",
            "\u001b[1m1911/1912\u001b[0m \u001b[32m━━━━━━━━━━━━━━━━━━━\u001b[0m\u001b[37m━\u001b[0m \u001b[1m0s\u001b[0m 14ms/step - accuracy: 0.7936 - loss: 0.4567 - precision: 0.7648 - recall: 0.8481\n",
            "Epoch 15: val_accuracy did not improve from 0.78892\n",
            "\u001b[1m1912/1912\u001b[0m \u001b[32m━━━━━━━━━━━━━━━━━━━━\u001b[0m\u001b[37m\u001b[0m \u001b[1m41s\u001b[0m 15ms/step - accuracy: 0.7936 - loss: 0.4567 - precision: 0.7648 - recall: 0.8481 - val_accuracy: 0.7876 - val_loss: 0.4638 - val_precision: 0.7492 - val_recall: 0.8646 - learning_rate: 5.0000e-04\n",
            "Epoch 16/100\n",
            "\u001b[1m1911/1912\u001b[0m \u001b[32m━━━━━━━━━━━━━━━━━━━\u001b[0m\u001b[37m━\u001b[0m \u001b[1m0s\u001b[0m 14ms/step - accuracy: 0.7952 - loss: 0.4550 - precision: 0.7661 - recall: 0.8501\n",
            "Epoch 16: val_accuracy improved from 0.78892 to 0.78918, saving model to best_model_16_0.7892.h5\n"
          ]
        },
        {
          "metadata": {
            "tags": null
          },
          "name": "stderr",
          "output_type": "stream",
          "text": [
            "WARNING:absl:You are saving your model as an HDF5 file via `model.save()` or `keras.saving.save_model(model)`. This file format is considered legacy. We recommend using instead the native Keras format, e.g. `model.save('my_model.keras')` or `keras.saving.save_model(model, 'my_model.keras')`. \n"
          ]
        },
        {
          "metadata": {
            "tags": null
          },
          "name": "stdout",
          "output_type": "stream",
          "text": [
            "\u001b[1m1912/1912\u001b[0m \u001b[32m━━━━━━━━━━━━━━━━━━━━\u001b[0m\u001b[37m\u001b[0m \u001b[1m29s\u001b[0m 15ms/step - accuracy: 0.7952 - loss: 0.4550 - precision: 0.7661 - recall: 0.8501 - val_accuracy: 0.7892 - val_loss: 0.4625 - val_precision: 0.7546 - val_recall: 0.8572 - learning_rate: 5.0000e-04\n",
            "Epoch 17/100\n",
            "\u001b[1m1910/1912\u001b[0m \u001b[32m━━━━━━━━━━━━━━━━━━━\u001b[0m\u001b[37m━\u001b[0m \u001b[1m0s\u001b[0m 14ms/step - accuracy: 0.7961 - loss: 0.4531 - precision: 0.7658 - recall: 0.8533\n",
            "Epoch 17: val_accuracy did not improve from 0.78918\n",
            "\u001b[1m1912/1912\u001b[0m \u001b[32m━━━━━━━━━━━━━━━━━━━━\u001b[0m\u001b[37m\u001b[0m \u001b[1m43s\u001b[0m 16ms/step - accuracy: 0.7961 - loss: 0.4531 - precision: 0.7658 - recall: 0.8533 - val_accuracy: 0.7888 - val_loss: 0.4622 - val_precision: 0.7545 - val_recall: 0.8561 - learning_rate: 5.0000e-04\n",
            "Epoch 18/100\n",
            "\u001b[1m1909/1912\u001b[0m \u001b[32m━━━━━━━━━━━━━━━━━━━\u001b[0m\u001b[37m━\u001b[0m \u001b[1m0s\u001b[0m 14ms/step - accuracy: 0.7953 - loss: 0.4548 - precision: 0.7653 - recall: 0.8521\n",
            "Epoch 18: val_accuracy improved from 0.78918 to 0.79039, saving model to best_model_18_0.7904.h5\n"
          ]
        },
        {
          "metadata": {
            "tags": null
          },
          "name": "stderr",
          "output_type": "stream",
          "text": [
            "WARNING:absl:You are saving your model as an HDF5 file via `model.save()` or `keras.saving.save_model(model)`. This file format is considered legacy. We recommend using instead the native Keras format, e.g. `model.save('my_model.keras')` or `keras.saving.save_model(model, 'my_model.keras')`. \n"
          ]
        },
        {
          "metadata": {
            "tags": null
          },
          "name": "stdout",
          "output_type": "stream",
          "text": [
            "\u001b[1m1912/1912\u001b[0m \u001b[32m━━━━━━━━━━━━━━━━━━━━\u001b[0m\u001b[37m\u001b[0m \u001b[1m39s\u001b[0m 15ms/step - accuracy: 0.7953 - loss: 0.4548 - precision: 0.7653 - recall: 0.8521 - val_accuracy: 0.7904 - val_loss: 0.4605 - val_precision: 0.7578 - val_recall: 0.8535 - learning_rate: 5.0000e-04\n",
            "Epoch 19/100\n",
            "\u001b[1m1911/1912\u001b[0m \u001b[32m━━━━━━━━━━━━━━━━━━━\u001b[0m\u001b[37m━\u001b[0m \u001b[1m0s\u001b[0m 14ms/step - accuracy: 0.7982 - loss: 0.4512 - precision: 0.7681 - recall: 0.8545\n",
            "Epoch 19: val_accuracy did not improve from 0.79039\n",
            "\u001b[1m1912/1912\u001b[0m \u001b[32m━━━━━━━━━━━━━━━━━━━━\u001b[0m\u001b[37m\u001b[0m \u001b[1m29s\u001b[0m 15ms/step - accuracy: 0.7982 - loss: 0.4512 - precision: 0.7681 - recall: 0.8545 - val_accuracy: 0.7898 - val_loss: 0.4594 - val_precision: 0.7598 - val_recall: 0.8474 - learning_rate: 5.0000e-04\n",
            "Epoch 20/100\n",
            "\u001b[1m1910/1912\u001b[0m \u001b[32m━━━━━━━━━━━━━━━━━━━\u001b[0m\u001b[37m━\u001b[0m \u001b[1m0s\u001b[0m 14ms/step - accuracy: 0.7974 - loss: 0.4513 - precision: 0.7666 - recall: 0.8552\n",
            "Epoch 20: val_accuracy improved from 0.79039 to 0.79389, saving model to best_model_20_0.7939.h5\n"
          ]
        },
        {
          "metadata": {
            "tags": null
          },
          "name": "stderr",
          "output_type": "stream",
          "text": [
            "WARNING:absl:You are saving your model as an HDF5 file via `model.save()` or `keras.saving.save_model(model)`. This file format is considered legacy. We recommend using instead the native Keras format, e.g. `model.save('my_model.keras')` or `keras.saving.save_model(model, 'my_model.keras')`. \n"
          ]
        },
        {
          "metadata": {
            "tags": null
          },
          "name": "stdout",
          "output_type": "stream",
          "text": [
            "\u001b[1m1912/1912\u001b[0m \u001b[32m━━━━━━━━━━━━━━━━━━━━\u001b[0m\u001b[37m\u001b[0m \u001b[1m29s\u001b[0m 15ms/step - accuracy: 0.7974 - loss: 0.4513 - precision: 0.7666 - recall: 0.8552 - val_accuracy: 0.7939 - val_loss: 0.4580 - val_precision: 0.7529 - val_recall: 0.8749 - learning_rate: 5.0000e-04\n",
            "Epoch 21/100\n",
            "\u001b[1m1908/1912\u001b[0m \u001b[32m━━━━━━━━━━━━━━━━━━━\u001b[0m\u001b[37m━\u001b[0m \u001b[1m0s\u001b[0m 14ms/step - accuracy: 0.7991 - loss: 0.4475 - precision: 0.7678 - recall: 0.8576\n",
            "Epoch 21: val_accuracy did not improve from 0.79389\n",
            "\u001b[1m1912/1912\u001b[0m \u001b[32m━━━━━━━━━━━━━━━━━━━━\u001b[0m\u001b[37m\u001b[0m \u001b[1m30s\u001b[0m 16ms/step - accuracy: 0.7991 - loss: 0.4475 - precision: 0.7678 - recall: 0.8576 - val_accuracy: 0.7928 - val_loss: 0.4581 - val_precision: 0.7530 - val_recall: 0.8714 - learning_rate: 5.0000e-04\n",
            "Epoch 22/100\n",
            "\u001b[1m1908/1912\u001b[0m \u001b[32m━━━━━━━━━━━━━━━━━━━\u001b[0m\u001b[37m━\u001b[0m \u001b[1m0s\u001b[0m 14ms/step - accuracy: 0.7990 - loss: 0.4481 - precision: 0.7668 - recall: 0.8593\n",
            "Epoch 22: val_accuracy did not improve from 0.79389\n",
            "\u001b[1m1912/1912\u001b[0m \u001b[32m━━━━━━━━━━━━━━━━━━━━\u001b[0m\u001b[37m\u001b[0m \u001b[1m31s\u001b[0m 16ms/step - accuracy: 0.7990 - loss: 0.4481 - precision: 0.7668 - recall: 0.8593 - val_accuracy: 0.7939 - val_loss: 0.4574 - val_precision: 0.7551 - val_recall: 0.8700 - learning_rate: 5.0000e-04\n",
            "Epoch 23/100\n",
            "\u001b[1m1911/1912\u001b[0m \u001b[32m━━━━━━━━━━━━━━━━━━━\u001b[0m\u001b[37m━\u001b[0m \u001b[1m0s\u001b[0m 14ms/step - accuracy: 0.8002 - loss: 0.4467 - precision: 0.7701 - recall: 0.8562\n",
            "Epoch 23: val_accuracy did not improve from 0.79389\n",
            "\u001b[1m1912/1912\u001b[0m \u001b[32m━━━━━━━━━━━━━━━━━━━━\u001b[0m\u001b[37m\u001b[0m \u001b[1m38s\u001b[0m 15ms/step - accuracy: 0.8002 - loss: 0.4467 - precision: 0.7701 - recall: 0.8562 - val_accuracy: 0.7930 - val_loss: 0.4565 - val_precision: 0.7531 - val_recall: 0.8719 - learning_rate: 5.0000e-04\n",
            "Epoch 24/100\n",
            "\u001b[1m1909/1912\u001b[0m \u001b[32m━━━━━━━━━━━━━━━━━━━\u001b[0m\u001b[37m━\u001b[0m \u001b[1m0s\u001b[0m 14ms/step - accuracy: 0.8007 - loss: 0.4457 - precision: 0.7705 - recall: 0.8569\n",
            "Epoch 24: val_accuracy did not improve from 0.79389\n",
            "\u001b[1m1912/1912\u001b[0m \u001b[32m━━━━━━━━━━━━━━━━━━━━\u001b[0m\u001b[37m\u001b[0m \u001b[1m41s\u001b[0m 15ms/step - accuracy: 0.8007 - loss: 0.4457 - precision: 0.7705 - recall: 0.8569 - val_accuracy: 0.7937 - val_loss: 0.4560 - val_precision: 0.7542 - val_recall: 0.8714 - learning_rate: 5.0000e-04\n",
            "Epoch 25/100\n",
            "\u001b[1m1911/1912\u001b[0m \u001b[32m━━━━━━━━━━━━━━━━━━━\u001b[0m\u001b[37m━\u001b[0m \u001b[1m0s\u001b[0m 14ms/step - accuracy: 0.8013 - loss: 0.4448 - precision: 0.7706 - recall: 0.8581\n",
            "Epoch 25: val_accuracy improved from 0.79389 to 0.79474, saving model to best_model_25_0.7947.h5\n"
          ]
        },
        {
          "metadata": {
            "tags": null
          },
          "name": "stderr",
          "output_type": "stream",
          "text": [
            "WARNING:absl:You are saving your model as an HDF5 file via `model.save()` or `keras.saving.save_model(model)`. This file format is considered legacy. We recommend using instead the native Keras format, e.g. `model.save('my_model.keras')` or `keras.saving.save_model(model, 'my_model.keras')`. \n"
          ]
        },
        {
          "metadata": {
            "tags": null
          },
          "name": "stdout",
          "output_type": "stream",
          "text": [
            "\u001b[1m1912/1912\u001b[0m \u001b[32m━━━━━━━━━━━━━━━━━━━━\u001b[0m\u001b[37m\u001b[0m \u001b[1m29s\u001b[0m 15ms/step - accuracy: 0.8013 - loss: 0.4448 - precision: 0.7706 - recall: 0.8581 - val_accuracy: 0.7947 - val_loss: 0.4564 - val_precision: 0.7524 - val_recall: 0.8787 - learning_rate: 5.0000e-04\n",
            "Epoch 26/100\n",
            "\u001b[1m1908/1912\u001b[0m \u001b[32m━━━━━━━━━━━━━━━━━━━\u001b[0m\u001b[37m━\u001b[0m \u001b[1m0s\u001b[0m 14ms/step - accuracy: 0.8034 - loss: 0.4434 - precision: 0.7720 - recall: 0.8612\n",
            "Epoch 26: val_accuracy improved from 0.79474 to 0.79494, saving model to best_model_26_0.7949.h5\n"
          ]
        },
        {
          "metadata": {
            "tags": null
          },
          "name": "stderr",
          "output_type": "stream",
          "text": [
            "WARNING:absl:You are saving your model as an HDF5 file via `model.save()` or `keras.saving.save_model(model)`. This file format is considered legacy. We recommend using instead the native Keras format, e.g. `model.save('my_model.keras')` or `keras.saving.save_model(model, 'my_model.keras')`. \n"
          ]
        },
        {
          "metadata": {
            "tags": null
          },
          "name": "stdout",
          "output_type": "stream",
          "text": [
            "\u001b[1m1912/1912\u001b[0m \u001b[32m━━━━━━━━━━━━━━━━━━━━\u001b[0m\u001b[37m\u001b[0m \u001b[1m29s\u001b[0m 15ms/step - accuracy: 0.8034 - loss: 0.4434 - precision: 0.7720 - recall: 0.8613 - val_accuracy: 0.7949 - val_loss: 0.4540 - val_precision: 0.7593 - val_recall: 0.8637 - learning_rate: 5.0000e-04\n",
            "Epoch 27/100\n",
            "\u001b[1m1911/1912\u001b[0m \u001b[32m━━━━━━━━━━━━━━━━━━━\u001b[0m\u001b[37m━\u001b[0m \u001b[1m0s\u001b[0m 14ms/step - accuracy: 0.8030 - loss: 0.4419 - precision: 0.7712 - recall: 0.8616\n",
            "Epoch 27: val_accuracy improved from 0.79494 to 0.79628, saving model to best_model_27_0.7963.h5\n"
          ]
        },
        {
          "metadata": {
            "tags": null
          },
          "name": "stderr",
          "output_type": "stream",
          "text": [
            "WARNING:absl:You are saving your model as an HDF5 file via `model.save()` or `keras.saving.save_model(model)`. This file format is considered legacy. We recommend using instead the native Keras format, e.g. `model.save('my_model.keras')` or `keras.saving.save_model(model, 'my_model.keras')`. \n"
          ]
        },
        {
          "metadata": {
            "tags": null
          },
          "name": "stdout",
          "output_type": "stream",
          "text": [
            "\u001b[1m1912/1912\u001b[0m \u001b[32m━━━━━━━━━━━━━━━━━━━━\u001b[0m\u001b[37m\u001b[0m \u001b[1m41s\u001b[0m 15ms/step - accuracy: 0.8030 - loss: 0.4419 - precision: 0.7712 - recall: 0.8617 - val_accuracy: 0.7963 - val_loss: 0.4540 - val_precision: 0.7545 - val_recall: 0.8784 - learning_rate: 5.0000e-04\n",
            "Epoch 28/100\n",
            "\u001b[1m1912/1912\u001b[0m \u001b[32m━━━━━━━━━━━━━━━━━━━━\u001b[0m\u001b[37m\u001b[0m \u001b[1m0s\u001b[0m 14ms/step - accuracy: 0.8045 - loss: 0.4403 - precision: 0.7725 - recall: 0.8633\n",
            "Epoch 28: val_accuracy did not improve from 0.79628\n",
            "\u001b[1m1912/1912\u001b[0m \u001b[32m━━━━━━━━━━━━━━━━━━━━\u001b[0m\u001b[37m\u001b[0m \u001b[1m31s\u001b[0m 16ms/step - accuracy: 0.8045 - loss: 0.4403 - precision: 0.7725 - recall: 0.8633 - val_accuracy: 0.7939 - val_loss: 0.4555 - val_precision: 0.7499 - val_recall: 0.8818 - learning_rate: 5.0000e-04\n",
            "Epoch 29/100\n",
            "\u001b[1m1911/1912\u001b[0m \u001b[32m━━━━━━━━━━━━━━━━━━━\u001b[0m\u001b[37m━\u001b[0m \u001b[1m0s\u001b[0m 14ms/step - accuracy: 0.8047 - loss: 0.4405 - precision: 0.7701 - recall: 0.8687\n",
            "Epoch 29: val_accuracy did not improve from 0.79628\n",
            "\u001b[1m1912/1912\u001b[0m \u001b[32m━━━━━━━━━━━━━━━━━━━━\u001b[0m\u001b[37m\u001b[0m \u001b[1m29s\u001b[0m 15ms/step - accuracy: 0.8047 - loss: 0.4405 - precision: 0.7701 - recall: 0.8687 - val_accuracy: 0.7959 - val_loss: 0.4519 - val_precision: 0.7567 - val_recall: 0.8721 - learning_rate: 5.0000e-04\n",
            "Epoch 30/100\n",
            "\u001b[1m1912/1912\u001b[0m \u001b[32m━━━━━━━━━━━━━━━━━━━━\u001b[0m\u001b[37m\u001b[0m \u001b[1m0s\u001b[0m 14ms/step - accuracy: 0.8076 - loss: 0.4360 - precision: 0.7732 - recall: 0.8706\n",
            "Epoch 30: val_accuracy improved from 0.79628 to 0.79684, saving model to best_model_30_0.7968.h5\n"
          ]
        },
        {
          "metadata": {
            "tags": null
          },
          "name": "stderr",
          "output_type": "stream",
          "text": [
            "WARNING:absl:You are saving your model as an HDF5 file via `model.save()` or `keras.saving.save_model(model)`. This file format is considered legacy. We recommend using instead the native Keras format, e.g. `model.save('my_model.keras')` or `keras.saving.save_model(model, 'my_model.keras')`. \n"
          ]
        },
        {
          "metadata": {
            "tags": null
          },
          "name": "stdout",
          "output_type": "stream",
          "text": [
            "\u001b[1m1912/1912\u001b[0m \u001b[32m━━━━━━━━━━━━━━━━━━━━\u001b[0m\u001b[37m\u001b[0m \u001b[1m29s\u001b[0m 15ms/step - accuracy: 0.8076 - loss: 0.4360 - precision: 0.7732 - recall: 0.8706 - val_accuracy: 0.7968 - val_loss: 0.4533 - val_precision: 0.7535 - val_recall: 0.8822 - learning_rate: 5.0000e-04\n",
            "Epoch 31/100\n",
            "\u001b[1m1910/1912\u001b[0m \u001b[32m━━━━━━━━━━━━━━━━━━━\u001b[0m\u001b[37m━\u001b[0m \u001b[1m0s\u001b[0m 14ms/step - accuracy: 0.8052 - loss: 0.4392 - precision: 0.7707 - recall: 0.8689\n",
            "Epoch 31: val_accuracy improved from 0.79684 to 0.79870, saving model to best_model_31_0.7987.h5\n"
          ]
        },
        {
          "metadata": {
            "tags": null
          },
          "name": "stderr",
          "output_type": "stream",
          "text": [
            "WARNING:absl:You are saving your model as an HDF5 file via `model.save()` or `keras.saving.save_model(model)`. This file format is considered legacy. We recommend using instead the native Keras format, e.g. `model.save('my_model.keras')` or `keras.saving.save_model(model, 'my_model.keras')`. \n"
          ]
        },
        {
          "metadata": {
            "tags": null
          },
          "name": "stdout",
          "output_type": "stream",
          "text": [
            "\u001b[1m1912/1912\u001b[0m \u001b[32m━━━━━━━━━━━━━━━━━━━━\u001b[0m\u001b[37m\u001b[0m \u001b[1m41s\u001b[0m 15ms/step - accuracy: 0.8052 - loss: 0.4392 - precision: 0.7707 - recall: 0.8689 - val_accuracy: 0.7987 - val_loss: 0.4502 - val_precision: 0.7604 - val_recall: 0.8722 - learning_rate: 5.0000e-04\n",
            "Epoch 32/100\n",
            "\u001b[1m1911/1912\u001b[0m \u001b[32m━━━━━━━━━━━━━━━━━━━\u001b[0m\u001b[37m━\u001b[0m \u001b[1m0s\u001b[0m 14ms/step - accuracy: 0.8078 - loss: 0.4360 - precision: 0.7748 - recall: 0.8679\n",
            "Epoch 32: val_accuracy did not improve from 0.79870\n",
            "\u001b[1m1912/1912\u001b[0m \u001b[32m━━━━━━━━━━━━━━━━━━━━\u001b[0m\u001b[37m\u001b[0m \u001b[1m41s\u001b[0m 15ms/step - accuracy: 0.8078 - loss: 0.4360 - precision: 0.7748 - recall: 0.8679 - val_accuracy: 0.7975 - val_loss: 0.4519 - val_precision: 0.7582 - val_recall: 0.8735 - learning_rate: 5.0000e-04\n",
            "Epoch 33/100\n",
            "\u001b[1m1911/1912\u001b[0m \u001b[32m━━━━━━━━━━━━━━━━━━━\u001b[0m\u001b[37m━\u001b[0m \u001b[1m0s\u001b[0m 14ms/step - accuracy: 0.8087 - loss: 0.4346 - precision: 0.7745 - recall: 0.8710\n",
            "Epoch 33: val_accuracy did not improve from 0.79870\n",
            "\u001b[1m1912/1912\u001b[0m \u001b[32m━━━━━━━━━━━━━━━━━━━━\u001b[0m\u001b[37m\u001b[0m \u001b[1m41s\u001b[0m 15ms/step - accuracy: 0.8087 - loss: 0.4346 - precision: 0.7745 - recall: 0.8710 - val_accuracy: 0.7986 - val_loss: 0.4511 - val_precision: 0.7551 - val_recall: 0.8840 - learning_rate: 5.0000e-04\n",
            "Epoch 34/100\n",
            "\u001b[1m1909/1912\u001b[0m \u001b[32m━━━━━━━━━━━━━━━━━━━\u001b[0m\u001b[37m━\u001b[0m \u001b[1m0s\u001b[0m 14ms/step - accuracy: 0.8082 - loss: 0.4337 - precision: 0.7734 - recall: 0.8721\n",
            "Epoch 34: val_accuracy did not improve from 0.79870\n",
            "\u001b[1m1912/1912\u001b[0m \u001b[32m━━━━━━━━━━━━━━━━━━━━\u001b[0m\u001b[37m\u001b[0m \u001b[1m28s\u001b[0m 15ms/step - accuracy: 0.8082 - loss: 0.4337 - precision: 0.7734 - recall: 0.8721 - val_accuracy: 0.7979 - val_loss: 0.4510 - val_precision: 0.7581 - val_recall: 0.8752 - learning_rate: 5.0000e-04\n",
            "Epoch 35/100\n",
            "\u001b[1m1911/1912\u001b[0m \u001b[32m━━━━━━━━━━━━━━━━━━━\u001b[0m\u001b[37m━\u001b[0m \u001b[1m0s\u001b[0m 14ms/step - accuracy: 0.8082 - loss: 0.4342 - precision: 0.7752 - recall: 0.8683\n",
            "Epoch 35: val_accuracy improved from 0.79870 to 0.79939, saving model to best_model_35_0.7994.h5\n"
          ]
        },
        {
          "metadata": {
            "tags": null
          },
          "name": "stderr",
          "output_type": "stream",
          "text": [
            "WARNING:absl:You are saving your model as an HDF5 file via `model.save()` or `keras.saving.save_model(model)`. This file format is considered legacy. We recommend using instead the native Keras format, e.g. `model.save('my_model.keras')` or `keras.saving.save_model(model, 'my_model.keras')`. \n"
          ]
        },
        {
          "metadata": {
            "tags": null
          },
          "name": "stdout",
          "output_type": "stream",
          "text": [
            "\u001b[1m1912/1912\u001b[0m \u001b[32m━━━━━━━━━━━━━━━━━━━━\u001b[0m\u001b[37m\u001b[0m \u001b[1m42s\u001b[0m 15ms/step - accuracy: 0.8082 - loss: 0.4342 - precision: 0.7752 - recall: 0.8683 - val_accuracy: 0.7994 - val_loss: 0.4518 - val_precision: 0.7582 - val_recall: 0.8792 - learning_rate: 5.0000e-04\n",
            "Epoch 36/100\n",
            "\u001b[1m1911/1912\u001b[0m \u001b[32m━━━━━━━━━━━━━━━━━━━\u001b[0m\u001b[37m━\u001b[0m \u001b[1m0s\u001b[0m 14ms/step - accuracy: 0.8093 - loss: 0.4327 - precision: 0.7759 - recall: 0.8699\n",
            "Epoch 36: val_accuracy did not improve from 0.79939\n",
            "\u001b[1m1912/1912\u001b[0m \u001b[32m━━━━━━━━━━━━━━━━━━━━\u001b[0m\u001b[37m\u001b[0m \u001b[1m40s\u001b[0m 15ms/step - accuracy: 0.8093 - loss: 0.4327 - precision: 0.7759 - recall: 0.8699 - val_accuracy: 0.7986 - val_loss: 0.4517 - val_precision: 0.7552 - val_recall: 0.8837 - learning_rate: 5.0000e-04\n",
            "Epoch 37/100\n",
            "\u001b[1m1911/1912\u001b[0m \u001b[32m━━━━━━━━━━━━━━━━━━━\u001b[0m\u001b[37m━\u001b[0m \u001b[1m0s\u001b[0m 14ms/step - accuracy: 0.8108 - loss: 0.4301 - precision: 0.7762 - recall: 0.8736\n",
            "Epoch 37: val_accuracy improved from 0.79939 to 0.80030, saving model to best_model_37_0.8003.h5\n"
          ]
        },
        {
          "metadata": {
            "tags": null
          },
          "name": "stderr",
          "output_type": "stream",
          "text": [
            "WARNING:absl:You are saving your model as an HDF5 file via `model.save()` or `keras.saving.save_model(model)`. This file format is considered legacy. We recommend using instead the native Keras format, e.g. `model.save('my_model.keras')` or `keras.saving.save_model(model, 'my_model.keras')`. \n"
          ]
        },
        {
          "metadata": {
            "tags": null
          },
          "name": "stdout",
          "output_type": "stream",
          "text": [
            "\u001b[1m1912/1912\u001b[0m \u001b[32m━━━━━━━━━━━━━━━━━━━━\u001b[0m\u001b[37m\u001b[0m \u001b[1m40s\u001b[0m 15ms/step - accuracy: 0.8108 - loss: 0.4301 - precision: 0.7762 - recall: 0.8736 - val_accuracy: 0.8003 - val_loss: 0.4509 - val_precision: 0.7598 - val_recall: 0.8782 - learning_rate: 5.0000e-04\n",
            "Epoch 38/100\n",
            "\u001b[1m1908/1912\u001b[0m \u001b[32m━━━━━━━━━━━━━━━━━━━\u001b[0m\u001b[37m━\u001b[0m \u001b[1m0s\u001b[0m 14ms/step - accuracy: 0.8104 - loss: 0.4302 - precision: 0.7758 - recall: 0.8732\n",
            "Epoch 38: val_accuracy did not improve from 0.80030\n",
            "\u001b[1m1912/1912\u001b[0m \u001b[32m━━━━━━━━━━━━━━━━━━━━\u001b[0m\u001b[37m\u001b[0m \u001b[1m30s\u001b[0m 15ms/step - accuracy: 0.8104 - loss: 0.4302 - precision: 0.7758 - recall: 0.8732 - val_accuracy: 0.7985 - val_loss: 0.4501 - val_precision: 0.7542 - val_recall: 0.8856 - learning_rate: 5.0000e-04\n",
            "Epoch 39/100\n",
            "\u001b[1m1910/1912\u001b[0m \u001b[32m━━━━━━━━━━━━━━━━━━━\u001b[0m\u001b[37m━\u001b[0m \u001b[1m0s\u001b[0m 14ms/step - accuracy: 0.8103 - loss: 0.4290 - precision: 0.7748 - recall: 0.8752\n",
            "Epoch 39: val_accuracy improved from 0.80030 to 0.80076, saving model to best_model_39_0.8008.h5\n"
          ]
        },
        {
          "metadata": {
            "tags": null
          },
          "name": "stderr",
          "output_type": "stream",
          "text": [
            "WARNING:absl:You are saving your model as an HDF5 file via `model.save()` or `keras.saving.save_model(model)`. This file format is considered legacy. We recommend using instead the native Keras format, e.g. `model.save('my_model.keras')` or `keras.saving.save_model(model, 'my_model.keras')`. \n"
          ]
        },
        {
          "metadata": {
            "tags": null
          },
          "name": "stdout",
          "output_type": "stream",
          "text": [
            "\u001b[1m1912/1912\u001b[0m \u001b[32m━━━━━━━━━━━━━━━━━━━━\u001b[0m\u001b[37m\u001b[0m \u001b[1m30s\u001b[0m 15ms/step - accuracy: 0.8103 - loss: 0.4290 - precision: 0.7748 - recall: 0.8752 - val_accuracy: 0.8008 - val_loss: 0.4491 - val_precision: 0.7589 - val_recall: 0.8816 - learning_rate: 5.0000e-04\n",
            "Epoch 40/100\n",
            "\u001b[1m1910/1912\u001b[0m \u001b[32m━━━━━━━━━━━━━━━━━━━\u001b[0m\u001b[37m━\u001b[0m \u001b[1m0s\u001b[0m 14ms/step - accuracy: 0.8124 - loss: 0.4277 - precision: 0.7774 - recall: 0.8755\n",
            "Epoch 40: val_accuracy did not improve from 0.80076\n",
            "\u001b[1m1912/1912\u001b[0m \u001b[32m━━━━━━━━━━━━━━━━━━━━\u001b[0m\u001b[37m\u001b[0m \u001b[1m40s\u001b[0m 15ms/step - accuracy: 0.8124 - loss: 0.4277 - precision: 0.7774 - recall: 0.8755 - val_accuracy: 0.7993 - val_loss: 0.4495 - val_precision: 0.7566 - val_recall: 0.8824 - learning_rate: 5.0000e-04\n",
            "Epoch 41/100\n",
            "\u001b[1m1912/1912\u001b[0m \u001b[32m━━━━━━━━━━━━━━━━━━━━\u001b[0m\u001b[37m\u001b[0m \u001b[1m0s\u001b[0m 14ms/step - accuracy: 0.8123 - loss: 0.4258 - precision: 0.7780 - recall: 0.8742\n",
            "Epoch 41: val_accuracy improved from 0.80076 to 0.80135, saving model to best_model_41_0.8013.h5\n"
          ]
        },
        {
          "metadata": {
            "tags": null
          },
          "name": "stderr",
          "output_type": "stream",
          "text": [
            "WARNING:absl:You are saving your model as an HDF5 file via `model.save()` or `keras.saving.save_model(model)`. This file format is considered legacy. We recommend using instead the native Keras format, e.g. `model.save('my_model.keras')` or `keras.saving.save_model(model, 'my_model.keras')`. \n"
          ]
        },
        {
          "metadata": {
            "tags": null
          },
          "name": "stdout",
          "output_type": "stream",
          "text": [
            "\u001b[1m1912/1912\u001b[0m \u001b[32m━━━━━━━━━━━━━━━━━━━━\u001b[0m\u001b[37m\u001b[0m \u001b[1m29s\u001b[0m 15ms/step - accuracy: 0.8123 - loss: 0.4258 - precision: 0.7780 - recall: 0.8742 - val_accuracy: 0.8013 - val_loss: 0.4481 - val_precision: 0.7645 - val_recall: 0.8709 - learning_rate: 5.0000e-04\n",
            "Epoch 42/100\n",
            "\u001b[1m1912/1912\u001b[0m \u001b[32m━━━━━━━━━━━━━━━━━━━━\u001b[0m\u001b[37m\u001b[0m \u001b[1m0s\u001b[0m 14ms/step - accuracy: 0.8140 - loss: 0.4271 - precision: 0.7788 - recall: 0.8772\n",
            "Epoch 42: val_accuracy did not improve from 0.80135\n",
            "\u001b[1m1912/1912\u001b[0m \u001b[32m━━━━━━━━━━━━━━━━━━━━\u001b[0m\u001b[37m\u001b[0m \u001b[1m42s\u001b[0m 15ms/step - accuracy: 0.8140 - loss: 0.4271 - precision: 0.7788 - recall: 0.8772 - val_accuracy: 0.7995 - val_loss: 0.4484 - val_precision: 0.7548 - val_recall: 0.8873 - learning_rate: 5.0000e-04\n",
            "Epoch 43/100\n",
            "\u001b[1m1911/1912\u001b[0m \u001b[32m━━━━━━━━━━━━━━━━━━━\u001b[0m\u001b[37m━\u001b[0m \u001b[1m0s\u001b[0m 14ms/step - accuracy: 0.8130 - loss: 0.4254 - precision: 0.7762 - recall: 0.8797\n",
            "Epoch 43: val_accuracy did not improve from 0.80135\n",
            "\u001b[1m1912/1912\u001b[0m \u001b[32m━━━━━━━━━━━━━━━━━━━━\u001b[0m\u001b[37m\u001b[0m \u001b[1m41s\u001b[0m 15ms/step - accuracy: 0.8130 - loss: 0.4254 - precision: 0.7762 - recall: 0.8797 - val_accuracy: 0.8005 - val_loss: 0.4476 - val_precision: 0.7579 - val_recall: 0.8829 - learning_rate: 5.0000e-04\n",
            "Epoch 44/100\n",
            "\u001b[1m1911/1912\u001b[0m \u001b[32m━━━━━━━━━━━━━━━━━━━\u001b[0m\u001b[37m━\u001b[0m \u001b[1m0s\u001b[0m 13ms/step - accuracy: 0.8143 - loss: 0.4250 - precision: 0.7779 - recall: 0.8800\n",
            "Epoch 44: val_accuracy did not improve from 0.80135\n",
            "\u001b[1m1912/1912\u001b[0m \u001b[32m━━━━━━━━━━━━━━━━━━━━\u001b[0m\u001b[37m\u001b[0m \u001b[1m43s\u001b[0m 16ms/step - accuracy: 0.8143 - loss: 0.4250 - precision: 0.7779 - recall: 0.8800 - val_accuracy: 0.8009 - val_loss: 0.4469 - val_precision: 0.7620 - val_recall: 0.8750 - learning_rate: 5.0000e-04\n",
            "Epoch 45/100\n",
            "\u001b[1m1910/1912\u001b[0m \u001b[32m━━━━━━━━━━━━━━━━━━━\u001b[0m\u001b[37m━\u001b[0m \u001b[1m0s\u001b[0m 14ms/step - accuracy: 0.8135 - loss: 0.4248 - precision: 0.7761 - recall: 0.8814\n",
            "Epoch 45: val_accuracy did not improve from 0.80135\n",
            "\u001b[1m1912/1912\u001b[0m \u001b[32m━━━━━━━━━━━━━━━━━━━━\u001b[0m\u001b[37m\u001b[0m \u001b[1m39s\u001b[0m 15ms/step - accuracy: 0.8135 - loss: 0.4248 - precision: 0.7761 - recall: 0.8814 - val_accuracy: 0.8010 - val_loss: 0.4473 - val_precision: 0.7590 - val_recall: 0.8818 - learning_rate: 5.0000e-04\n",
            "Epoch 46/100\n",
            "\u001b[1m1912/1912\u001b[0m \u001b[32m━━━━━━━━━━━━━━━━━━━━\u001b[0m\u001b[37m\u001b[0m \u001b[1m0s\u001b[0m 14ms/step - accuracy: 0.8153 - loss: 0.4229 - precision: 0.7804 - recall: 0.8778\n",
            "Epoch 46: val_accuracy did not improve from 0.80135\n",
            "\u001b[1m1912/1912\u001b[0m \u001b[32m━━━━━━━━━━━━━━━━━━━━\u001b[0m\u001b[37m\u001b[0m \u001b[1m41s\u001b[0m 15ms/step - accuracy: 0.8153 - loss: 0.4229 - precision: 0.7804 - recall: 0.8778 - val_accuracy: 0.8013 - val_loss: 0.4472 - val_precision: 0.7591 - val_recall: 0.8828 - learning_rate: 5.0000e-04\n",
            "Epoch 47/100\n",
            "\u001b[1m1908/1912\u001b[0m \u001b[32m━━━━━━━━━━━━━━━━━━━\u001b[0m\u001b[37m━\u001b[0m \u001b[1m0s\u001b[0m 14ms/step - accuracy: 0.8145 - loss: 0.4211 - precision: 0.7785 - recall: 0.8792\n",
            "Epoch 47: val_accuracy improved from 0.80135 to 0.80311, saving model to best_model_47_0.8031.h5\n"
          ]
        },
        {
          "metadata": {
            "tags": null
          },
          "name": "stderr",
          "output_type": "stream",
          "text": [
            "WARNING:absl:You are saving your model as an HDF5 file via `model.save()` or `keras.saving.save_model(model)`. This file format is considered legacy. We recommend using instead the native Keras format, e.g. `model.save('my_model.keras')` or `keras.saving.save_model(model, 'my_model.keras')`. \n"
          ]
        },
        {
          "metadata": {
            "tags": null
          },
          "name": "stdout",
          "output_type": "stream",
          "text": [
            "\u001b[1m1912/1912\u001b[0m \u001b[32m━━━━━━━━━━━━━━━━━━━━\u001b[0m\u001b[37m\u001b[0m \u001b[1m42s\u001b[0m 16ms/step - accuracy: 0.8145 - loss: 0.4211 - precision: 0.7785 - recall: 0.8792 - val_accuracy: 0.8031 - val_loss: 0.4451 - val_precision: 0.7652 - val_recall: 0.8745 - learning_rate: 5.0000e-04\n",
            "Epoch 48/100\n",
            "\u001b[1m1910/1912\u001b[0m \u001b[32m━━━━━━━━━━━━━━━━━━━\u001b[0m\u001b[37m━\u001b[0m \u001b[1m0s\u001b[0m 14ms/step - accuracy: 0.8169 - loss: 0.4205 - precision: 0.7804 - recall: 0.8821\n",
            "Epoch 48: val_accuracy did not improve from 0.80311\n",
            "\u001b[1m1912/1912\u001b[0m \u001b[32m━━━━━━━━━━━━━━━━━━━━\u001b[0m\u001b[37m\u001b[0m \u001b[1m41s\u001b[0m 16ms/step - accuracy: 0.8169 - loss: 0.4205 - precision: 0.7804 - recall: 0.8821 - val_accuracy: 0.8028 - val_loss: 0.4458 - val_precision: 0.7595 - val_recall: 0.8863 - learning_rate: 5.0000e-04\n",
            "Epoch 49/100\n",
            "\u001b[1m1911/1912\u001b[0m \u001b[32m━━━━━━━━━━━━━━━━━━━\u001b[0m\u001b[37m━\u001b[0m \u001b[1m0s\u001b[0m 14ms/step - accuracy: 0.8159 - loss: 0.4195 - precision: 0.7787 - recall: 0.8830\n",
            "Epoch 49: val_accuracy did not improve from 0.80311\n",
            "\u001b[1m1912/1912\u001b[0m \u001b[32m━━━━━━━━━━━━━━━━━━━━\u001b[0m\u001b[37m\u001b[0m \u001b[1m32s\u001b[0m 17ms/step - accuracy: 0.8159 - loss: 0.4195 - precision: 0.7786 - recall: 0.8830 - val_accuracy: 0.8010 - val_loss: 0.4464 - val_precision: 0.7562 - val_recall: 0.8885 - learning_rate: 5.0000e-04\n",
            "Epoch 50/100\n",
            "\u001b[1m1911/1912\u001b[0m \u001b[32m━━━━━━━━━━━━━━━━━━━\u001b[0m\u001b[37m━\u001b[0m \u001b[1m0s\u001b[0m 15ms/step - accuracy: 0.8164 - loss: 0.4190 - precision: 0.7787 - recall: 0.8842\n",
            "Epoch 50: val_accuracy did not improve from 0.80311\n",
            "\u001b[1m1912/1912\u001b[0m \u001b[32m━━━━━━━━━━━━━━━━━━━━\u001b[0m\u001b[37m\u001b[0m \u001b[1m39s\u001b[0m 16ms/step - accuracy: 0.8165 - loss: 0.4190 - precision: 0.7787 - recall: 0.8842 - val_accuracy: 0.8029 - val_loss: 0.4464 - val_precision: 0.7574 - val_recall: 0.8913 - learning_rate: 5.0000e-04\n",
            "Epoch 51/100\n",
            "\u001b[1m1912/1912\u001b[0m \u001b[32m━━━━━━━━━━━━━━━━━━━━\u001b[0m\u001b[37m\u001b[0m \u001b[1m0s\u001b[0m 14ms/step - accuracy: 0.8178 - loss: 0.4181 - precision: 0.7817 - recall: 0.8822\n",
            "Epoch 51: val_accuracy improved from 0.80311 to 0.80318, saving model to best_model_51_0.8032.h5\n"
          ]
        },
        {
          "metadata": {
            "tags": null
          },
          "name": "stderr",
          "output_type": "stream",
          "text": [
            "WARNING:absl:You are saving your model as an HDF5 file via `model.save()` or `keras.saving.save_model(model)`. This file format is considered legacy. We recommend using instead the native Keras format, e.g. `model.save('my_model.keras')` or `keras.saving.save_model(model, 'my_model.keras')`. \n"
          ]
        },
        {
          "metadata": {
            "tags": null
          },
          "name": "stdout",
          "output_type": "stream",
          "text": [
            "\u001b[1m1912/1912\u001b[0m \u001b[32m━━━━━━━━━━━━━━━━━━━━\u001b[0m\u001b[37m\u001b[0m \u001b[1m29s\u001b[0m 15ms/step - accuracy: 0.8178 - loss: 0.4181 - precision: 0.7817 - recall: 0.8822 - val_accuracy: 0.8032 - val_loss: 0.4453 - val_precision: 0.7596 - val_recall: 0.8872 - learning_rate: 5.0000e-04\n",
            "Epoch 52/100\n",
            "\u001b[1m1910/1912\u001b[0m \u001b[32m━━━━━━━━━━━━━━━━━━━\u001b[0m\u001b[37m━\u001b[0m \u001b[1m0s\u001b[0m 14ms/step - accuracy: 0.8168 - loss: 0.4191 - precision: 0.7801 - recall: 0.8824\n",
            "Epoch 52: val_accuracy improved from 0.80318 to 0.80413, saving model to best_model_52_0.8041.h5\n"
          ]
        },
        {
          "metadata": {
            "tags": null
          },
          "name": "stderr",
          "output_type": "stream",
          "text": [
            "WARNING:absl:You are saving your model as an HDF5 file via `model.save()` or `keras.saving.save_model(model)`. This file format is considered legacy. We recommend using instead the native Keras format, e.g. `model.save('my_model.keras')` or `keras.saving.save_model(model, 'my_model.keras')`. \n"
          ]
        },
        {
          "metadata": {
            "tags": null
          },
          "name": "stdout",
          "output_type": "stream",
          "text": [
            "\u001b[1m1912/1912\u001b[0m \u001b[32m━━━━━━━━━━━━━━━━━━━━\u001b[0m\u001b[37m\u001b[0m \u001b[1m41s\u001b[0m 15ms/step - accuracy: 0.8168 - loss: 0.4191 - precision: 0.7801 - recall: 0.8824 - val_accuracy: 0.8041 - val_loss: 0.4451 - val_precision: 0.7591 - val_recall: 0.8911 - learning_rate: 5.0000e-04\n",
            "Epoch 53/100\n",
            "\u001b[1m1910/1912\u001b[0m \u001b[32m━━━━━━━━━━━━━━━━━━━\u001b[0m\u001b[37m━\u001b[0m \u001b[1m0s\u001b[0m 14ms/step - accuracy: 0.8178 - loss: 0.4168 - precision: 0.7797 - recall: 0.8860\n",
            "Epoch 53: val_accuracy did not improve from 0.80413\n",
            "\u001b[1m1912/1912\u001b[0m \u001b[32m━━━━━━━━━━━━━━━━━━━━\u001b[0m\u001b[37m\u001b[0m \u001b[1m28s\u001b[0m 15ms/step - accuracy: 0.8178 - loss: 0.4168 - precision: 0.7797 - recall: 0.8860 - val_accuracy: 0.8020 - val_loss: 0.4454 - val_precision: 0.7571 - val_recall: 0.8894 - learning_rate: 5.0000e-04\n",
            "Epoch 54/100\n",
            "\u001b[1m1908/1912\u001b[0m \u001b[32m━━━━━━━━━━━━━━━━━━━\u001b[0m\u001b[37m━\u001b[0m \u001b[1m0s\u001b[0m 14ms/step - accuracy: 0.8197 - loss: 0.4158 - precision: 0.7826 - recall: 0.8854\n",
            "Epoch 54: val_accuracy improved from 0.80413 to 0.80445, saving model to best_model_54_0.8045.h5\n"
          ]
        },
        {
          "metadata": {
            "tags": null
          },
          "name": "stderr",
          "output_type": "stream",
          "text": [
            "WARNING:absl:You are saving your model as an HDF5 file via `model.save()` or `keras.saving.save_model(model)`. This file format is considered legacy. We recommend using instead the native Keras format, e.g. `model.save('my_model.keras')` or `keras.saving.save_model(model, 'my_model.keras')`. \n"
          ]
        },
        {
          "metadata": {
            "tags": null
          },
          "name": "stdout",
          "output_type": "stream",
          "text": [
            "\u001b[1m1912/1912\u001b[0m \u001b[32m━━━━━━━━━━━━━━━━━━━━\u001b[0m\u001b[37m\u001b[0m \u001b[1m29s\u001b[0m 15ms/step - accuracy: 0.8197 - loss: 0.4158 - precision: 0.7826 - recall: 0.8854 - val_accuracy: 0.8045 - val_loss: 0.4442 - val_precision: 0.7627 - val_recall: 0.8840 - learning_rate: 5.0000e-04\n",
            "Epoch 55/100\n",
            "\u001b[1m1912/1912\u001b[0m \u001b[32m━━━━━━━━━━━━━━━━━━━━\u001b[0m\u001b[37m\u001b[0m \u001b[1m0s\u001b[0m 14ms/step - accuracy: 0.8194 - loss: 0.4164 - precision: 0.7833 - recall: 0.8832\n",
            "Epoch 55: val_accuracy improved from 0.80445 to 0.80583, saving model to best_model_55_0.8058.h5\n"
          ]
        },
        {
          "metadata": {
            "tags": null
          },
          "name": "stderr",
          "output_type": "stream",
          "text": [
            "WARNING:absl:You are saving your model as an HDF5 file via `model.save()` or `keras.saving.save_model(model)`. This file format is considered legacy. We recommend using instead the native Keras format, e.g. `model.save('my_model.keras')` or `keras.saving.save_model(model, 'my_model.keras')`. \n"
          ]
        },
        {
          "metadata": {
            "tags": null
          },
          "name": "stdout",
          "output_type": "stream",
          "text": [
            "\u001b[1m1912/1912\u001b[0m \u001b[32m━━━━━━━━━━━━━━━━━━━━\u001b[0m\u001b[37m\u001b[0m \u001b[1m41s\u001b[0m 15ms/step - accuracy: 0.8194 - loss: 0.4164 - precision: 0.7833 - recall: 0.8832 - val_accuracy: 0.8058 - val_loss: 0.4436 - val_precision: 0.7587 - val_recall: 0.8968 - learning_rate: 5.0000e-04\n",
            "Epoch 56/100\n",
            "\u001b[1m1908/1912\u001b[0m \u001b[32m━━━━━━━━━━━━━━━━━━━\u001b[0m\u001b[37m━\u001b[0m \u001b[1m0s\u001b[0m 14ms/step - accuracy: 0.8185 - loss: 0.4150 - precision: 0.7807 - recall: 0.8860\n",
            "Epoch 56: val_accuracy did not improve from 0.80583\n",
            "\u001b[1m1912/1912\u001b[0m \u001b[32m━━━━━━━━━━━━━━━━━━━━\u001b[0m\u001b[37m\u001b[0m \u001b[1m41s\u001b[0m 16ms/step - accuracy: 0.8185 - loss: 0.4150 - precision: 0.7807 - recall: 0.8860 - val_accuracy: 0.8053 - val_loss: 0.4449 - val_precision: 0.7616 - val_recall: 0.8888 - learning_rate: 5.0000e-04\n",
            "Epoch 57/100\n",
            "\u001b[1m1912/1912\u001b[0m \u001b[32m━━━━━━━━━━━━━━━━━━━━\u001b[0m\u001b[37m\u001b[0m \u001b[1m0s\u001b[0m 14ms/step - accuracy: 0.8190 - loss: 0.4145 - precision: 0.7812 - recall: 0.8863\n",
            "Epoch 57: val_accuracy did not improve from 0.80583\n",
            "\u001b[1m1912/1912\u001b[0m \u001b[32m━━━━━━━━━━━━━━━━━━━━\u001b[0m\u001b[37m\u001b[0m \u001b[1m40s\u001b[0m 15ms/step - accuracy: 0.8190 - loss: 0.4145 - precision: 0.7812 - recall: 0.8863 - val_accuracy: 0.8049 - val_loss: 0.4442 - val_precision: 0.7646 - val_recall: 0.8811 - learning_rate: 5.0000e-04\n",
            "Epoch 58/100\n",
            "\u001b[1m1909/1912\u001b[0m \u001b[32m━━━━━━━━━━━━━━━━━━━\u001b[0m\u001b[37m━\u001b[0m \u001b[1m0s\u001b[0m 14ms/step - accuracy: 0.8199 - loss: 0.4130 - precision: 0.7836 - recall: 0.8840\n",
            "Epoch 58: val_accuracy did not improve from 0.80583\n",
            "\u001b[1m1912/1912\u001b[0m \u001b[32m━━━━━━━━━━━━━━━━━━━━\u001b[0m\u001b[37m\u001b[0m \u001b[1m41s\u001b[0m 15ms/step - accuracy: 0.8199 - loss: 0.4130 - precision: 0.7836 - recall: 0.8840 - val_accuracy: 0.8027 - val_loss: 0.4489 - val_precision: 0.7508 - val_recall: 0.9062 - learning_rate: 5.0000e-04\n",
            "Epoch 59/100\n",
            "\u001b[1m1910/1912\u001b[0m \u001b[32m━━━━━━━━━━━━━━━━━━━\u001b[0m\u001b[37m━\u001b[0m \u001b[1m0s\u001b[0m 14ms/step - accuracy: 0.8212 - loss: 0.4118 - precision: 0.7821 - recall: 0.8906\n",
            "Epoch 59: val_accuracy did not improve from 0.80583\n",
            "\u001b[1m1912/1912\u001b[0m \u001b[32m━━━━━━━━━━━━━━━━━━━━\u001b[0m\u001b[37m\u001b[0m \u001b[1m41s\u001b[0m 15ms/step - accuracy: 0.8212 - loss: 0.4118 - precision: 0.7821 - recall: 0.8906 - val_accuracy: 0.8052 - val_loss: 0.4447 - val_precision: 0.7617 - val_recall: 0.8883 - learning_rate: 5.0000e-04\n",
            "Epoch 60/100\n",
            "\u001b[1m1908/1912\u001b[0m \u001b[32m━━━━━━━━━━━━━━━━━━━\u001b[0m\u001b[37m━\u001b[0m \u001b[1m0s\u001b[0m 14ms/step - accuracy: 0.8216 - loss: 0.4112 - precision: 0.7852 - recall: 0.8856\n",
            "Epoch 60: val_accuracy did not improve from 0.80583\n",
            "\u001b[1m1912/1912\u001b[0m \u001b[32m━━━━━━━━━━━━━━━━━━━━\u001b[0m\u001b[37m\u001b[0m \u001b[1m32s\u001b[0m 17ms/step - accuracy: 0.8216 - loss: 0.4112 - precision: 0.7852 - recall: 0.8856 - val_accuracy: 0.8056 - val_loss: 0.4445 - val_precision: 0.7594 - val_recall: 0.8946 - learning_rate: 5.0000e-04\n",
            "Epoch 61/100\n",
            "\u001b[1m1911/1912\u001b[0m \u001b[32m━━━━━━━━━━━━━━━━━━━\u001b[0m\u001b[37m━\u001b[0m \u001b[1m0s\u001b[0m 14ms/step - accuracy: 0.8226 - loss: 0.4100 - precision: 0.7856 - recall: 0.8876\n",
            "Epoch 61: val_accuracy did not improve from 0.80583\n",
            "\u001b[1m1912/1912\u001b[0m \u001b[32m━━━━━━━━━━━━━━━━━━━━\u001b[0m\u001b[37m\u001b[0m \u001b[1m29s\u001b[0m 15ms/step - accuracy: 0.8226 - loss: 0.4100 - precision: 0.7856 - recall: 0.8876 - val_accuracy: 0.8023 - val_loss: 0.4465 - val_precision: 0.7498 - val_recall: 0.9074 - learning_rate: 5.0000e-04\n",
            "Epoch 62/100\n",
            "\u001b[1m1911/1912\u001b[0m \u001b[32m━━━━━━━━━━━━━━━━━━━\u001b[0m\u001b[37m━\u001b[0m \u001b[1m0s\u001b[0m 14ms/step - accuracy: 0.8219 - loss: 0.4109 - precision: 0.7836 - recall: 0.8896\n",
            "Epoch 62: val_accuracy improved from 0.80583 to 0.80655, saving model to best_model_62_0.8065.h5\n"
          ]
        },
        {
          "metadata": {
            "tags": null
          },
          "name": "stderr",
          "output_type": "stream",
          "text": [
            "WARNING:absl:You are saving your model as an HDF5 file via `model.save()` or `keras.saving.save_model(model)`. This file format is considered legacy. We recommend using instead the native Keras format, e.g. `model.save('my_model.keras')` or `keras.saving.save_model(model, 'my_model.keras')`. \n"
          ]
        },
        {
          "metadata": {
            "tags": null
          },
          "name": "stdout",
          "output_type": "stream",
          "text": [
            "\u001b[1m1912/1912\u001b[0m \u001b[32m━━━━━━━━━━━━━━━━━━━━\u001b[0m\u001b[37m\u001b[0m \u001b[1m41s\u001b[0m 15ms/step - accuracy: 0.8219 - loss: 0.4109 - precision: 0.7836 - recall: 0.8896 - val_accuracy: 0.8065 - val_loss: 0.4442 - val_precision: 0.7570 - val_recall: 0.9029 - learning_rate: 5.0000e-04\n",
            "Epoch 63/100\n",
            "\u001b[1m1908/1912\u001b[0m \u001b[32m━━━━━━━━━━━━━━━━━━━\u001b[0m\u001b[37m━\u001b[0m \u001b[1m0s\u001b[0m 14ms/step - accuracy: 0.8225 - loss: 0.4090 - precision: 0.7839 - recall: 0.8908\n",
            "Epoch 63: ReduceLROnPlateau reducing learning rate to 0.0002500000118743628.\n",
            "\n",
            "Epoch 63: val_accuracy did not improve from 0.80655\n",
            "\u001b[1m1912/1912\u001b[0m \u001b[32m━━━━━━━━━━━━━━━━━━━━\u001b[0m\u001b[37m\u001b[0m \u001b[1m41s\u001b[0m 15ms/step - accuracy: 0.8225 - loss: 0.4090 - precision: 0.7839 - recall: 0.8908 - val_accuracy: 0.8044 - val_loss: 0.4452 - val_precision: 0.7544 - val_recall: 0.9026 - learning_rate: 5.0000e-04\n",
            "Epoch 64/100\n",
            "\u001b[1m1911/1912\u001b[0m \u001b[32m━━━━━━━━━━━━━━━━━━━\u001b[0m\u001b[37m━\u001b[0m \u001b[1m0s\u001b[0m 14ms/step - accuracy: 0.8249 - loss: 0.4063 - precision: 0.7871 - recall: 0.8908\n",
            "Epoch 64: val_accuracy did not improve from 0.80655\n",
            "\u001b[1m1912/1912\u001b[0m \u001b[32m━━━━━━━━━━━━━━━━━━━━\u001b[0m\u001b[37m\u001b[0m \u001b[1m32s\u001b[0m 17ms/step - accuracy: 0.8249 - loss: 0.4063 - precision: 0.7871 - recall: 0.8908 - val_accuracy: 0.8051 - val_loss: 0.4454 - val_precision: 0.7534 - val_recall: 0.9071 - learning_rate: 2.5000e-04\n",
            "Epoch 65/100\n",
            "\u001b[1m1911/1912\u001b[0m \u001b[32m━━━━━━━━━━━━━━━━━━━\u001b[0m\u001b[37m━\u001b[0m \u001b[1m0s\u001b[0m 14ms/step - accuracy: 0.8270 - loss: 0.4010 - precision: 0.7876 - recall: 0.8956\n",
            "Epoch 65: val_accuracy did not improve from 0.80655\n",
            "\u001b[1m1912/1912\u001b[0m \u001b[32m━━━━━━━━━━━━━━━━━━━━\u001b[0m\u001b[37m\u001b[0m \u001b[1m29s\u001b[0m 15ms/step - accuracy: 0.8270 - loss: 0.4010 - precision: 0.7876 - recall: 0.8956 - val_accuracy: 0.8059 - val_loss: 0.4448 - val_precision: 0.7555 - val_recall: 0.9045 - learning_rate: 2.5000e-04\n",
            "Epoch 66/100\n",
            "\u001b[1m1911/1912\u001b[0m \u001b[32m━━━━━━━━━━━━━━━━━━━\u001b[0m\u001b[37m━\u001b[0m \u001b[1m0s\u001b[0m 14ms/step - accuracy: 0.8273 - loss: 0.3988 - precision: 0.7882 - recall: 0.8952\n",
            "Epoch 66: val_accuracy did not improve from 0.80655\n",
            "\u001b[1m1912/1912\u001b[0m \u001b[32m━━━━━━━━━━━━━━━━━━━━\u001b[0m\u001b[37m\u001b[0m \u001b[1m29s\u001b[0m 15ms/step - accuracy: 0.8273 - loss: 0.3988 - precision: 0.7882 - recall: 0.8952 - val_accuracy: 0.8056 - val_loss: 0.4470 - val_precision: 0.7531 - val_recall: 0.9092 - learning_rate: 2.5000e-04\n",
            "Epoch 67/100\n",
            "\u001b[1m1910/1912\u001b[0m \u001b[32m━━━━━━━━━━━━━━━━━━━\u001b[0m\u001b[37m━\u001b[0m \u001b[1m0s\u001b[0m 14ms/step - accuracy: 0.8270 - loss: 0.3976 - precision: 0.7881 - recall: 0.8945\n",
            "Epoch 67: val_accuracy did not improve from 0.80655\n",
            "\u001b[1m1912/1912\u001b[0m \u001b[32m━━━━━━━━━━━━━━━━━━━━\u001b[0m\u001b[37m\u001b[0m \u001b[1m29s\u001b[0m 15ms/step - accuracy: 0.8270 - loss: 0.3976 - precision: 0.7881 - recall: 0.8945 - val_accuracy: 0.8039 - val_loss: 0.4472 - val_precision: 0.7503 - val_recall: 0.9109 - learning_rate: 2.5000e-04\n",
            "Epoch 68/100\n",
            "\u001b[1m1909/1912\u001b[0m \u001b[32m━━━━━━━━━━━━━━━━━━━\u001b[0m\u001b[37m━\u001b[0m \u001b[1m0s\u001b[0m 14ms/step - accuracy: 0.8309 - loss: 0.3940 - precision: 0.7913 - recall: 0.8991\n",
            "Epoch 68: val_accuracy improved from 0.80655 to 0.80700, saving model to best_model_68_0.8070.h5\n"
          ]
        },
        {
          "metadata": {
            "tags": null
          },
          "name": "stderr",
          "output_type": "stream",
          "text": [
            "WARNING:absl:You are saving your model as an HDF5 file via `model.save()` or `keras.saving.save_model(model)`. This file format is considered legacy. We recommend using instead the native Keras format, e.g. `model.save('my_model.keras')` or `keras.saving.save_model(model, 'my_model.keras')`. \n"
          ]
        },
        {
          "output_type": "stream",
          "name": "stdout",
          "text": [
            "\u001b[1m1912/1912\u001b[0m \u001b[32m━━━━━━━━━━━━━━━━━━━━\u001b[0m\u001b[37m\u001b[0m \u001b[1m29s\u001b[0m 15ms/step - accuracy: 0.8309 - loss: 0.3940 - precision: 0.7913 - recall: 0.8991 - val_accuracy: 0.8070 - val_loss: 0.4444 - val_precision: 0.7539 - val_recall: 0.9117 - learning_rate: 2.5000e-04\n",
            "Epoch 69/100\n",
            "\u001b[1m1910/1912\u001b[0m \u001b[32m━━━━━━━━━━━━━━━━━━━\u001b[0m\u001b[37m━\u001b[0m \u001b[1m0s\u001b[0m 14ms/step - accuracy: 0.8298 - loss: 0.3954 - precision: 0.7909 - recall: 0.8969\n",
            "Epoch 69: val_accuracy did not improve from 0.80700\n",
            "\u001b[1m1912/1912\u001b[0m \u001b[32m━━━━━━━━━━━━━━━━━━━━\u001b[0m\u001b[37m\u001b[0m \u001b[1m41s\u001b[0m 15ms/step - accuracy: 0.8298 - loss: 0.3954 - precision: 0.7909 - recall: 0.8969 - val_accuracy: 0.8066 - val_loss: 0.4425 - val_precision: 0.7564 - val_recall: 0.9045 - learning_rate: 2.5000e-04\n",
            "Epoch 70/100\n",
            "\u001b[1m1910/1912\u001b[0m \u001b[32m━━━━━━━━━━━━━━━━━━━\u001b[0m\u001b[37m━\u001b[0m \u001b[1m0s\u001b[0m 14ms/step - accuracy: 0.8322 - loss: 0.3914 - precision: 0.7915 - recall: 0.9019\n",
            "Epoch 70: val_accuracy did not improve from 0.80700\n",
            "\u001b[1m1912/1912\u001b[0m \u001b[32m━━━━━━━━━━━━━━━━━━━━\u001b[0m\u001b[37m\u001b[0m \u001b[1m29s\u001b[0m 15ms/step - accuracy: 0.8322 - loss: 0.3914 - precision: 0.7915 - recall: 0.9019 - val_accuracy: 0.8060 - val_loss: 0.4447 - val_precision: 0.7527 - val_recall: 0.9115 - learning_rate: 2.5000e-04\n",
            "Epoch 71/100\n",
            "\u001b[1m1909/1912\u001b[0m \u001b[32m━━━━━━━━━━━━━━━━━━━\u001b[0m\u001b[37m━\u001b[0m \u001b[1m0s\u001b[0m 14ms/step - accuracy: 0.8316 - loss: 0.3921 - precision: 0.7926 - recall: 0.8983\n",
            "Epoch 71: val_accuracy did not improve from 0.80700\n",
            "\u001b[1m1912/1912\u001b[0m \u001b[32m━━━━━━━━━━━━━━━━━━━━\u001b[0m\u001b[37m\u001b[0m \u001b[1m42s\u001b[0m 15ms/step - accuracy: 0.8316 - loss: 0.3921 - precision: 0.7926 - recall: 0.8983 - val_accuracy: 0.8068 - val_loss: 0.4441 - val_precision: 0.7526 - val_recall: 0.9140 - learning_rate: 2.5000e-04\n",
            "Epoch 72/100\n",
            "\u001b[1m1911/1912\u001b[0m \u001b[32m━━━━━━━━━━━━━━━━━━━\u001b[0m\u001b[37m━\u001b[0m \u001b[1m0s\u001b[0m 14ms/step - accuracy: 0.8325 - loss: 0.3921 - precision: 0.7927 - recall: 0.9006\n",
            "Epoch 72: val_accuracy did not improve from 0.80700\n",
            "\u001b[1m1912/1912\u001b[0m \u001b[32m━━━━━━━━━━━━━━━━━━━━\u001b[0m\u001b[37m\u001b[0m \u001b[1m40s\u001b[0m 15ms/step - accuracy: 0.8325 - loss: 0.3921 - precision: 0.7927 - recall: 0.9006 - val_accuracy: 0.8029 - val_loss: 0.4491 - val_precision: 0.7444 - val_recall: 0.9226 - learning_rate: 2.5000e-04\n",
            "Epoch 73/100\n",
            "\u001b[1m1909/1912\u001b[0m \u001b[32m━━━━━━━━━━━━━━━━━━━\u001b[0m\u001b[37m━\u001b[0m \u001b[1m0s\u001b[0m 14ms/step - accuracy: 0.8319 - loss: 0.3909 - precision: 0.7923 - recall: 0.8999\n",
            "Epoch 73: val_accuracy did not improve from 0.80700\n",
            "\u001b[1m1912/1912\u001b[0m \u001b[32m━━━━━━━━━━━━━━━━━━━━\u001b[0m\u001b[37m\u001b[0m \u001b[1m42s\u001b[0m 15ms/step - accuracy: 0.8319 - loss: 0.3909 - precision: 0.7923 - recall: 0.8999 - val_accuracy: 0.8037 - val_loss: 0.4490 - val_precision: 0.7462 - val_recall: 0.9207 - learning_rate: 2.5000e-04\n",
            "Epoch 74/100\n",
            "\u001b[1m1912/1912\u001b[0m \u001b[32m━━━━━━━━━━━━━━━━━━━━\u001b[0m\u001b[37m\u001b[0m \u001b[1m0s\u001b[0m 14ms/step - accuracy: 0.8329 - loss: 0.3904 - precision: 0.7936 - recall: 0.8999\n",
            "Epoch 74: val_accuracy did not improve from 0.80700\n",
            "\u001b[1m1912/1912\u001b[0m \u001b[32m━━━━━━━━━━━━━━━━━━━━\u001b[0m\u001b[37m\u001b[0m \u001b[1m43s\u001b[0m 17ms/step - accuracy: 0.8329 - loss: 0.3904 - precision: 0.7936 - recall: 0.8999 - val_accuracy: 0.7981 - val_loss: 0.4532 - val_precision: 0.7363 - val_recall: 0.9290 - learning_rate: 2.5000e-04\n",
            "Epoch 75/100\n",
            "\u001b[1m1912/1912\u001b[0m \u001b[32m━━━━━━━━━━━━━━━━━━━━\u001b[0m\u001b[37m\u001b[0m \u001b[1m0s\u001b[0m 14ms/step - accuracy: 0.8333 - loss: 0.3901 - precision: 0.7923 - recall: 0.9034\n",
            "Epoch 75: val_accuracy did not improve from 0.80700\n",
            "\u001b[1m1912/1912\u001b[0m \u001b[32m━━━━━━━━━━━━━━━━━━━━\u001b[0m\u001b[37m\u001b[0m \u001b[1m38s\u001b[0m 15ms/step - accuracy: 0.8333 - loss: 0.3901 - precision: 0.7923 - recall: 0.9034 - val_accuracy: 0.8067 - val_loss: 0.4449 - val_precision: 0.7516 - val_recall: 0.9162 - learning_rate: 2.5000e-04\n",
            "Epoch 76/100\n",
            "\u001b[1m1910/1912\u001b[0m \u001b[32m━━━━━━━━━━━━━━━━━━━\u001b[0m\u001b[37m━\u001b[0m \u001b[1m0s\u001b[0m 14ms/step - accuracy: 0.8335 - loss: 0.3882 - precision: 0.7935 - recall: 0.9016\n",
            "Epoch 76: val_accuracy did not improve from 0.80700\n",
            "\u001b[1m1912/1912\u001b[0m \u001b[32m━━━━━━━━━━━━━━━━━━━━\u001b[0m\u001b[37m\u001b[0m \u001b[1m29s\u001b[0m 15ms/step - accuracy: 0.8335 - loss: 0.3882 - precision: 0.7935 - recall: 0.9016 - val_accuracy: 0.8055 - val_loss: 0.4472 - val_precision: 0.7479 - val_recall: 0.9215 - learning_rate: 2.5000e-04\n",
            "Epoch 77/100\n",
            "\u001b[1m1910/1912\u001b[0m \u001b[32m━━━━━━━━━━━━━━━━━━━\u001b[0m\u001b[37m━\u001b[0m \u001b[1m0s\u001b[0m 14ms/step - accuracy: 0.8321 - loss: 0.3884 - precision: 0.7920 - recall: 0.9010\n",
            "Epoch 77: ReduceLROnPlateau reducing learning rate to 0.0001250000059371814.\n",
            "\n",
            "Epoch 77: val_accuracy did not improve from 0.80700\n",
            "\u001b[1m1912/1912\u001b[0m \u001b[32m━━━━━━━━━━━━━━━━━━━━\u001b[0m\u001b[37m\u001b[0m \u001b[1m29s\u001b[0m 15ms/step - accuracy: 0.8321 - loss: 0.3884 - precision: 0.7920 - recall: 0.9010 - val_accuracy: 0.8036 - val_loss: 0.4481 - val_precision: 0.7444 - val_recall: 0.9247 - learning_rate: 2.5000e-04\n",
            "Epoch 78/100\n",
            "\u001b[1m1911/1912\u001b[0m \u001b[32m━━━━━━━━━━━━━━━━━━━\u001b[0m\u001b[37m━\u001b[0m \u001b[1m0s\u001b[0m 14ms/step - accuracy: 0.8322 - loss: 0.3884 - precision: 0.7916 - recall: 0.9019\n",
            "Epoch 78: val_accuracy did not improve from 0.80700\n",
            "\u001b[1m1912/1912\u001b[0m \u001b[32m━━━━━━━━━━━━━━━━━━━━\u001b[0m\u001b[37m\u001b[0m \u001b[1m40s\u001b[0m 15ms/step - accuracy: 0.8322 - loss: 0.3884 - precision: 0.7916 - recall: 0.9019 - val_accuracy: 0.8065 - val_loss: 0.4458 - val_precision: 0.7506 - val_recall: 0.9183 - learning_rate: 1.2500e-04\n",
            "Epoch 79/100\n",
            "\u001b[1m1908/1912\u001b[0m \u001b[32m━━━━━━━━━━━━━━━━━━━\u001b[0m\u001b[37m━\u001b[0m \u001b[1m0s\u001b[0m 14ms/step - accuracy: 0.8332 - loss: 0.3862 - precision: 0.7925 - recall: 0.9029\n",
            "Epoch 79: val_accuracy did not improve from 0.80700\n",
            "\u001b[1m1912/1912\u001b[0m \u001b[32m━━━━━━━━━━━━━━━━━━━━\u001b[0m\u001b[37m\u001b[0m \u001b[1m30s\u001b[0m 15ms/step - accuracy: 0.8332 - loss: 0.3862 - precision: 0.7925 - recall: 0.9029 - val_accuracy: 0.8058 - val_loss: 0.4453 - val_precision: 0.7496 - val_recall: 0.9184 - learning_rate: 1.2500e-04\n",
            "Epoch 80/100\n",
            "\u001b[1m1911/1912\u001b[0m \u001b[32m━━━━━━━━━━━━━━━━━━━\u001b[0m\u001b[37m━\u001b[0m \u001b[1m0s\u001b[0m 14ms/step - accuracy: 0.8339 - loss: 0.3834 - precision: 0.7934 - recall: 0.9030\n",
            "Epoch 80: val_accuracy did not improve from 0.80700\n",
            "\u001b[1m1912/1912\u001b[0m \u001b[32m━━━━━━━━━━━━━━━━━━━━\u001b[0m\u001b[37m\u001b[0m \u001b[1m30s\u001b[0m 15ms/step - accuracy: 0.8339 - loss: 0.3834 - precision: 0.7934 - recall: 0.9030 - val_accuracy: 0.8026 - val_loss: 0.4484 - val_precision: 0.7436 - val_recall: 0.9236 - learning_rate: 1.2500e-04\n",
            "Epoch 81/100\n",
            "\u001b[1m1909/1912\u001b[0m \u001b[32m━━━━━━━━━━━━━━━━━━━\u001b[0m\u001b[37m━\u001b[0m \u001b[1m0s\u001b[0m 14ms/step - accuracy: 0.8373 - loss: 0.3813 - precision: 0.7970 - recall: 0.9054\n",
            "Epoch 81: val_accuracy did not improve from 0.80700\n",
            "\u001b[1m1912/1912\u001b[0m \u001b[32m━━━━━━━━━━━━━━━━━━━━\u001b[0m\u001b[37m\u001b[0m \u001b[1m29s\u001b[0m 15ms/step - accuracy: 0.8373 - loss: 0.3813 - precision: 0.7970 - recall: 0.9054 - val_accuracy: 0.8018 - val_loss: 0.4489 - val_precision: 0.7420 - val_recall: 0.9253 - learning_rate: 1.2500e-04\n",
            "Epoch 82/100\n",
            "\u001b[1m1910/1912\u001b[0m \u001b[32m━━━━━━━━━━━━━━━━━━━\u001b[0m\u001b[37m━\u001b[0m \u001b[1m0s\u001b[0m 14ms/step - accuracy: 0.8369 - loss: 0.3812 - precision: 0.7952 - recall: 0.9076\n",
            "Epoch 82: val_accuracy did not improve from 0.80700\n",
            "\u001b[1m1912/1912\u001b[0m \u001b[32m━━━━━━━━━━━━━━━━━━━━\u001b[0m\u001b[37m\u001b[0m \u001b[1m30s\u001b[0m 15ms/step - accuracy: 0.8369 - loss: 0.3812 - precision: 0.7952 - recall: 0.9076 - val_accuracy: 0.8006 - val_loss: 0.4511 - val_precision: 0.7404 - val_recall: 0.9260 - learning_rate: 1.2500e-04\n",
            "Epoch 83/100\n",
            "\u001b[1m1911/1912\u001b[0m \u001b[32m━━━━━━━━━━━━━━━━━━━\u001b[0m\u001b[37m━\u001b[0m \u001b[1m0s\u001b[0m 14ms/step - accuracy: 0.8377 - loss: 0.3796 - precision: 0.7968 - recall: 0.9067\n",
            "Epoch 83: val_accuracy did not improve from 0.80700\n",
            "\u001b[1m1912/1912\u001b[0m \u001b[32m━━━━━━━━━━━━━━━━━━━━\u001b[0m\u001b[37m\u001b[0m \u001b[1m30s\u001b[0m 16ms/step - accuracy: 0.8377 - loss: 0.3796 - precision: 0.7968 - recall: 0.9067 - val_accuracy: 0.8017 - val_loss: 0.4502 - val_precision: 0.7416 - val_recall: 0.9261 - learning_rate: 1.2500e-04\n",
            "Epoch 83: early stopping\n",
            "Restoring model weights from the end of the best epoch: 68.\n",
            "\n",
            "🔥 Training Model 3/3...\n",
            "Epoch 1/100\n",
            "\u001b[1m1912/1912\u001b[0m \u001b[32m━━━━━━━━━━━━━━━━━━━━\u001b[0m\u001b[37m\u001b[0m \u001b[1m0s\u001b[0m 32ms/step - accuracy: 0.7688 - loss: 0.5092 - precision: 0.7423 - recall: 0.8239\n",
            "Epoch 1: val_accuracy did not improve from 0.80700\n",
            "\u001b[1m1912/1912\u001b[0m \u001b[32m━━━━━━━━━━━━━━━━━━━━\u001b[0m\u001b[37m\u001b[0m \u001b[1m83s\u001b[0m 38ms/step - accuracy: 0.7688 - loss: 0.5091 - precision: 0.7423 - recall: 0.8239 - val_accuracy: 0.7734 - val_loss: 0.4778 - val_precision: 0.7192 - val_recall: 0.8970 - learning_rate: 0.0010\n",
            "Epoch 2/100\n",
            "\u001b[1m1912/1912\u001b[0m \u001b[32m━━━━━━━━━━━━━━━━━━━━\u001b[0m\u001b[37m\u001b[0m \u001b[1m0s\u001b[0m 32ms/step - accuracy: 0.7860 - loss: 0.4675 - precision: 0.7528 - recall: 0.8518\n",
            "Epoch 2: val_accuracy did not improve from 0.80700\n",
            "\u001b[1m1912/1912\u001b[0m \u001b[32m━━━━━━━━━━━━━━━━━━━━\u001b[0m\u001b[37m\u001b[0m \u001b[1m81s\u001b[0m 38ms/step - accuracy: 0.7860 - loss: 0.4675 - precision: 0.7528 - recall: 0.8518 - val_accuracy: 0.7811 - val_loss: 0.4662 - val_precision: 0.7277 - val_recall: 0.8983 - learning_rate: 0.0010\n",
            "Epoch 3/100\n",
            "\u001b[1m1911/1912\u001b[0m \u001b[32m━━━━━━━━━━━━━━━━━━━\u001b[0m\u001b[37m━\u001b[0m \u001b[1m0s\u001b[0m 32ms/step - accuracy: 0.7904 - loss: 0.4587 - precision: 0.7575 - recall: 0.8546\n",
            "Epoch 3: val_accuracy did not improve from 0.80700\n",
            "\u001b[1m1912/1912\u001b[0m \u001b[32m━━━━━━━━━━━━━━━━━━━━\u001b[0m\u001b[37m\u001b[0m \u001b[1m71s\u001b[0m 37ms/step - accuracy: 0.7904 - loss: 0.4587 - precision: 0.7575 - recall: 0.8546 - val_accuracy: 0.7861 - val_loss: 0.4601 - val_precision: 0.7316 - val_recall: 0.9040 - learning_rate: 0.0010\n",
            "Epoch 4/100\n",
            "\u001b[1m1911/1912\u001b[0m \u001b[32m━━━━━━━━━━━━━━━━━━━\u001b[0m\u001b[37m━\u001b[0m \u001b[1m0s\u001b[0m 32ms/step - accuracy: 0.7923 - loss: 0.4542 - precision: 0.7580 - recall: 0.8590\n",
            "Epoch 4: val_accuracy did not improve from 0.80700\n",
            "\u001b[1m1912/1912\u001b[0m \u001b[32m━━━━━━━━━━━━━━━━━━━━\u001b[0m\u001b[37m\u001b[0m \u001b[1m83s\u001b[0m 38ms/step - accuracy: 0.7923 - loss: 0.4542 - precision: 0.7580 - recall: 0.8591 - val_accuracy: 0.7841 - val_loss: 0.4621 - val_precision: 0.7232 - val_recall: 0.9207 - learning_rate: 0.0010\n",
            "Epoch 5/100\n",
            "\u001b[1m1912/1912\u001b[0m \u001b[32m━━━━━━━━━━━━━━━━━━━━\u001b[0m\u001b[37m\u001b[0m \u001b[1m0s\u001b[0m 33ms/step - accuracy: 0.7952 - loss: 0.4503 - precision: 0.7600 - recall: 0.8631\n",
            "Epoch 5: val_accuracy did not improve from 0.80700\n",
            "\u001b[1m1912/1912\u001b[0m \u001b[32m━━━━━━━━━━━━━━━━━━━━\u001b[0m\u001b[37m\u001b[0m \u001b[1m72s\u001b[0m 38ms/step - accuracy: 0.7952 - loss: 0.4503 - precision: 0.7600 - recall: 0.8631 - val_accuracy: 0.7925 - val_loss: 0.4497 - val_precision: 0.7356 - val_recall: 0.9134 - learning_rate: 0.0010\n",
            "Epoch 6/100\n",
            "\u001b[1m1912/1912\u001b[0m \u001b[32m━━━━━━━━━━━━━━━━━━━━\u001b[0m\u001b[37m\u001b[0m \u001b[1m0s\u001b[0m 32ms/step - accuracy: 0.7982 - loss: 0.4452 - precision: 0.7615 - recall: 0.8685\n",
            "Epoch 6: val_accuracy did not improve from 0.80700\n",
            "\u001b[1m1912/1912\u001b[0m \u001b[32m━━━━━━━━━━━━━━━━━━━━\u001b[0m\u001b[37m\u001b[0m \u001b[1m81s\u001b[0m 38ms/step - accuracy: 0.7982 - loss: 0.4452 - precision: 0.7615 - recall: 0.8685 - val_accuracy: 0.7908 - val_loss: 0.4520 - val_precision: 0.7288 - val_recall: 0.9263 - learning_rate: 0.0010\n",
            "Epoch 7/100\n",
            "\u001b[1m1911/1912\u001b[0m \u001b[32m━━━━━━━━━━━━━━━━━━━\u001b[0m\u001b[37m━\u001b[0m \u001b[1m0s\u001b[0m 32ms/step - accuracy: 0.7992 - loss: 0.4414 - precision: 0.7618 - recall: 0.8708\n",
            "Epoch 7: val_accuracy did not improve from 0.80700\n",
            "\u001b[1m1912/1912\u001b[0m \u001b[32m━━━━━━━━━━━━━━━━━━━━\u001b[0m\u001b[37m\u001b[0m \u001b[1m78s\u001b[0m 35ms/step - accuracy: 0.7992 - loss: 0.4414 - precision: 0.7618 - recall: 0.8708 - val_accuracy: 0.7974 - val_loss: 0.4428 - val_precision: 0.7412 - val_recall: 0.9139 - learning_rate: 0.0010\n",
            "Epoch 8/100\n",
            "\u001b[1m1912/1912\u001b[0m \u001b[32m━━━━━━━━━━━━━━━━━━━━\u001b[0m\u001b[37m\u001b[0m \u001b[1m0s\u001b[0m 32ms/step - accuracy: 0.7999 - loss: 0.4384 - precision: 0.7620 - recall: 0.8722\n",
            "Epoch 8: val_accuracy did not improve from 0.80700\n",
            "\u001b[1m1912/1912\u001b[0m \u001b[32m━━━━━━━━━━━━━━━━━━━━\u001b[0m\u001b[37m\u001b[0m \u001b[1m71s\u001b[0m 37ms/step - accuracy: 0.7999 - loss: 0.4384 - precision: 0.7620 - recall: 0.8722 - val_accuracy: 0.7923 - val_loss: 0.4469 - val_precision: 0.7281 - val_recall: 0.9328 - learning_rate: 0.0010\n",
            "Epoch 9/100\n",
            "\u001b[1m1910/1912\u001b[0m \u001b[32m━━━━━━━━━━━━━━━━━━━\u001b[0m\u001b[37m━\u001b[0m \u001b[1m0s\u001b[0m 33ms/step - accuracy: 0.8033 - loss: 0.4344 - precision: 0.7642 - recall: 0.8774\n",
            "Epoch 9: val_accuracy did not improve from 0.80700\n",
            "\u001b[1m1912/1912\u001b[0m \u001b[32m━━━━━━━━━━━━━━━━━━━━\u001b[0m\u001b[37m\u001b[0m \u001b[1m80s\u001b[0m 36ms/step - accuracy: 0.8033 - loss: 0.4344 - precision: 0.7642 - recall: 0.8774 - val_accuracy: 0.7990 - val_loss: 0.4342 - val_precision: 0.7430 - val_recall: 0.9140 - learning_rate: 0.0010\n",
            "Epoch 10/100\n",
            "\u001b[1m1912/1912\u001b[0m \u001b[32m━━━━━━━━━━━━━━━━━━━━\u001b[0m\u001b[37m\u001b[0m \u001b[1m0s\u001b[0m 33ms/step - accuracy: 0.8039 - loss: 0.4323 - precision: 0.7647 - recall: 0.8779\n",
            "Epoch 10: val_accuracy did not improve from 0.80700\n",
            "\u001b[1m1912/1912\u001b[0m \u001b[32m━━━━━━━━━━━━━━━━━━━━\u001b[0m\u001b[37m\u001b[0m \u001b[1m85s\u001b[0m 38ms/step - accuracy: 0.8039 - loss: 0.4323 - precision: 0.7647 - recall: 0.8779 - val_accuracy: 0.7981 - val_loss: 0.4381 - val_precision: 0.7363 - val_recall: 0.9291 - learning_rate: 0.0010\n",
            "Epoch 11/100\n",
            "\u001b[1m1910/1912\u001b[0m \u001b[32m━━━━━━━━━━━━━━━━━━━\u001b[0m\u001b[37m━\u001b[0m \u001b[1m0s\u001b[0m 32ms/step - accuracy: 0.8066 - loss: 0.4289 - precision: 0.7676 - recall: 0.8795\n",
            "Epoch 11: val_accuracy did not improve from 0.80700\n",
            "\u001b[1m1912/1912\u001b[0m \u001b[32m━━━━━━━━━━━━━━━━━━━━\u001b[0m\u001b[37m\u001b[0m \u001b[1m71s\u001b[0m 37ms/step - accuracy: 0.8066 - loss: 0.4289 - precision: 0.7676 - recall: 0.8795 - val_accuracy: 0.8028 - val_loss: 0.4285 - val_precision: 0.7501 - val_recall: 0.9082 - learning_rate: 0.0010\n",
            "Epoch 12/100\n",
            "\u001b[1m1911/1912\u001b[0m \u001b[32m━━━━━━━━━━━━━━━━━━━\u001b[0m\u001b[37m━\u001b[0m \u001b[1m0s\u001b[0m 32ms/step - accuracy: 0.8067 - loss: 0.4262 - precision: 0.7672 - recall: 0.8807\n",
            "Epoch 12: val_accuracy did not improve from 0.80700\n",
            "\u001b[1m1912/1912\u001b[0m \u001b[32m━━━━━━━━━━━━━━━━━━━━\u001b[0m\u001b[37m\u001b[0m \u001b[1m68s\u001b[0m 36ms/step - accuracy: 0.8067 - loss: 0.4262 - precision: 0.7672 - recall: 0.8807 - val_accuracy: 0.8061 - val_loss: 0.4251 - val_precision: 0.7609 - val_recall: 0.8928 - learning_rate: 0.0010\n",
            "Epoch 13/100\n",
            "\u001b[1m1912/1912\u001b[0m \u001b[32m━━━━━━━━━━━━━━━━━━━━\u001b[0m\u001b[37m\u001b[0m \u001b[1m0s\u001b[0m 33ms/step - accuracy: 0.8082 - loss: 0.4226 - precision: 0.7693 - recall: 0.8805\n",
            "Epoch 13: val_accuracy did not improve from 0.80700\n",
            "\u001b[1m1912/1912\u001b[0m \u001b[32m━━━━━━━━━━━━━━━━━━━━\u001b[0m\u001b[37m\u001b[0m \u001b[1m73s\u001b[0m 38ms/step - accuracy: 0.8082 - loss: 0.4226 - precision: 0.7693 - recall: 0.8805 - val_accuracy: 0.8041 - val_loss: 0.4281 - val_precision: 0.7524 - val_recall: 0.9067 - learning_rate: 0.0010\n",
            "Epoch 14/100\n",
            "\u001b[1m1912/1912\u001b[0m \u001b[32m━━━━━━━━━━━━━━━━━━━━\u001b[0m\u001b[37m\u001b[0m \u001b[1m0s\u001b[0m 33ms/step - accuracy: 0.8092 - loss: 0.4223 - precision: 0.7691 - recall: 0.8838\n",
            "Epoch 14: val_accuracy did not improve from 0.80700\n",
            "\u001b[1m1912/1912\u001b[0m \u001b[32m━━━━━━━━━━━━━━━━━━━━\u001b[0m\u001b[37m\u001b[0m \u001b[1m77s\u001b[0m 36ms/step - accuracy: 0.8092 - loss: 0.4223 - precision: 0.7691 - recall: 0.8838 - val_accuracy: 0.8059 - val_loss: 0.4254 - val_precision: 0.7518 - val_recall: 0.9133 - learning_rate: 0.0010\n",
            "Epoch 15/100\n",
            "\u001b[1m1911/1912\u001b[0m \u001b[32m━━━━━━━━━━━━━━━━━━━\u001b[0m\u001b[37m━\u001b[0m \u001b[1m0s\u001b[0m 33ms/step - accuracy: 0.8095 - loss: 0.4203 - precision: 0.7708 - recall: 0.8811\n",
            "Epoch 15: val_accuracy did not improve from 0.80700\n",
            "\u001b[1m1912/1912\u001b[0m \u001b[32m━━━━━━━━━━━━━━━━━━━━\u001b[0m\u001b[37m\u001b[0m \u001b[1m87s\u001b[0m 39ms/step - accuracy: 0.8095 - loss: 0.4203 - precision: 0.7708 - recall: 0.8811 - val_accuracy: 0.8021 - val_loss: 0.4287 - val_precision: 0.7407 - val_recall: 0.9297 - learning_rate: 0.0010\n",
            "Epoch 16/100\n",
            "\u001b[1m1911/1912\u001b[0m \u001b[32m━━━━━━━━━━━━━━━━━━━\u001b[0m\u001b[37m━\u001b[0m \u001b[1m0s\u001b[0m 33ms/step - accuracy: 0.8116 - loss: 0.4183 - precision: 0.7709 - recall: 0.8869\n",
            "Epoch 16: val_accuracy improved from 0.80700 to 0.80726, saving model to best_model_16_0.8073.h5\n"
          ]
        },
        {
          "output_type": "stream",
          "name": "stderr",
          "text": [
            "WARNING:absl:You are saving your model as an HDF5 file via `model.save()` or `keras.saving.save_model(model)`. This file format is considered legacy. We recommend using instead the native Keras format, e.g. `model.save('my_model.keras')` or `keras.saving.save_model(model, 'my_model.keras')`. \n"
          ]
        },
        {
          "output_type": "stream",
          "name": "stdout",
          "text": [
            "\b\b\b\b\b\b\b\b\b\b\b\b\b\b\b\b\b\b\b\b\b\b\b\b\b\b\b\b\b\b\b\b\b\b\b\b\b\b\b\b\b\b\b\b\b\b\b\b\b\b\b\b\b\b\b\b\b\b\b\b\b\b\b\b\b\b\b\b\b\b\b\b\b\b\b\b\b\b\b\b\b\b\b\b\b\b\b\b\b\b\b\b\b\b\b\b\b\b\b\b\b\b\b\b\b\b\b\b\b\b\b\b\b\b\r\u001b[1m1912/1912\u001b[0m \u001b[32m━━━━━━━━━━━━━━━━━━━━\u001b[0m\u001b[37m\u001b[0m \u001b[1m73s\u001b[0m 38ms/step - accuracy: 0.8116 - loss: 0.4183 - precision: 0.7709 - recall: 0.8869 - val_accuracy: 0.8073 - val_loss: 0.4212 - val_precision: 0.7553 - val_recall: 0.9090 - learning_rate: 0.0010\n",
            "Epoch 17/100\n",
            "\u001b[1m1911/1912\u001b[0m \u001b[32m━━━━━━━━━━━━━━━━━━━\u001b[0m\u001b[37m━\u001b[0m \u001b[1m0s\u001b[0m 33ms/step - accuracy: 0.8120 - loss: 0.4157 - precision: 0.7712 - recall: 0.8872\n",
            "Epoch 17: val_accuracy did not improve from 0.80726\n",
            "\u001b[1m1912/1912\u001b[0m \u001b[32m━━━━━━━━━━━━━━━━━━━━\u001b[0m\u001b[37m\u001b[0m \u001b[1m77s\u001b[0m 36ms/step - accuracy: 0.8120 - loss: 0.4157 - precision: 0.7712 - recall: 0.8872 - val_accuracy: 0.8039 - val_loss: 0.4255 - val_precision: 0.7430 - val_recall: 0.9292 - learning_rate: 0.0010\n",
            "Epoch 18/100\n",
            "\u001b[1m1911/1912\u001b[0m \u001b[32m━━━━━━━━━━━━━━━━━━━\u001b[0m\u001b[37m━\u001b[0m \u001b[1m0s\u001b[0m 33ms/step - accuracy: 0.8135 - loss: 0.4137 - precision: 0.7731 - recall: 0.8876\n",
            "Epoch 18: val_accuracy improved from 0.80726 to 0.80926, saving model to best_model_18_0.8093.h5\n"
          ]
        },
        {
          "output_type": "stream",
          "name": "stderr",
          "text": [
            "WARNING:absl:You are saving your model as an HDF5 file via `model.save()` or `keras.saving.save_model(model)`. This file format is considered legacy. We recommend using instead the native Keras format, e.g. `model.save('my_model.keras')` or `keras.saving.save_model(model, 'my_model.keras')`. \n"
          ]
        },
        {
          "output_type": "stream",
          "name": "stdout",
          "text": [
            "\b\b\b\b\b\b\b\b\b\b\b\b\b\b\b\b\b\b\b\b\b\b\b\b\b\b\b\b\b\b\b\b\b\b\b\b\b\b\b\b\b\b\b\b\b\b\b\b\b\b\b\b\b\b\b\b\b\b\b\b\b\b\b\b\b\b\b\b\b\b\b\b\b\b\b\b\b\b\b\b\b\b\b\b\b\b\b\b\b\b\b\b\b\b\b\b\b\b\b\b\b\b\b\b\b\b\b\b\b\b\b\b\b\b\r\u001b[1m1912/1912\u001b[0m \u001b[32m━━━━━━━━━━━━━━━━━━━━\u001b[0m\u001b[37m\u001b[0m \u001b[1m87s\u001b[0m 39ms/step - accuracy: 0.8135 - loss: 0.4137 - precision: 0.7731 - recall: 0.8876 - val_accuracy: 0.8093 - val_loss: 0.4200 - val_precision: 0.7550 - val_recall: 0.9157 - learning_rate: 0.0010\n",
            "Epoch 19/100\n",
            "\u001b[1m1911/1912\u001b[0m \u001b[32m━━━━━━━━━━━━━━━━━━━\u001b[0m\u001b[37m━\u001b[0m \u001b[1m0s\u001b[0m 32ms/step - accuracy: 0.8136 - loss: 0.4126 - precision: 0.7737 - recall: 0.8866\n",
            "Epoch 19: val_accuracy did not improve from 0.80926\n",
            "\u001b[1m1912/1912\u001b[0m \u001b[32m━━━━━━━━━━━━━━━━━━━━\u001b[0m\u001b[37m\u001b[0m \u001b[1m80s\u001b[0m 38ms/step - accuracy: 0.8136 - loss: 0.4126 - precision: 0.7737 - recall: 0.8866 - val_accuracy: 0.8058 - val_loss: 0.4234 - val_precision: 0.7462 - val_recall: 0.9267 - learning_rate: 0.0010\n",
            "Epoch 20/100\n",
            "\u001b[1m1911/1912\u001b[0m \u001b[32m━━━━━━━━━━━━━━━━━━━\u001b[0m\u001b[37m━\u001b[0m \u001b[1m0s\u001b[0m 32ms/step - accuracy: 0.8164 - loss: 0.4097 - precision: 0.7760 - recall: 0.8897\n",
            "Epoch 20: val_accuracy improved from 0.80926 to 0.81014, saving model to best_model_20_0.8101.h5\n"
          ]
        },
        {
          "output_type": "stream",
          "name": "stderr",
          "text": [
            "WARNING:absl:You are saving your model as an HDF5 file via `model.save()` or `keras.saving.save_model(model)`. This file format is considered legacy. We recommend using instead the native Keras format, e.g. `model.save('my_model.keras')` or `keras.saving.save_model(model, 'my_model.keras')`. \n"
          ]
        },
        {
          "output_type": "stream",
          "name": "stdout",
          "text": [
            "\b\b\b\b\b\b\b\b\b\b\b\b\b\b\b\b\b\b\b\b\b\b\b\b\b\b\b\b\b\b\b\b\b\b\b\b\b\b\b\b\b\b\b\b\b\b\b\b\b\b\b\b\b\b\b\b\b\b\b\b\b\b\b\b\b\b\b\b\b\b\b\b\b\b\b\b\b\b\b\b\b\b\b\b\b\b\b\b\b\b\b\b\b\b\b\b\b\b\b\b\b\b\b\b\b\b\b\b\b\b\b\b\b\b\r\u001b[1m1912/1912\u001b[0m \u001b[32m━━━━━━━━━━━━━━━━━━━━\u001b[0m\u001b[37m\u001b[0m \u001b[1m81s\u001b[0m 37ms/step - accuracy: 0.8164 - loss: 0.4097 - precision: 0.7760 - recall: 0.8897 - val_accuracy: 0.8101 - val_loss: 0.4166 - val_precision: 0.7671 - val_recall: 0.8908 - learning_rate: 0.0010\n",
            "Epoch 21/100\n",
            "\u001b[1m1911/1912\u001b[0m \u001b[32m━━━━━━━━━━━━━━━━━━━\u001b[0m\u001b[37m━\u001b[0m \u001b[1m0s\u001b[0m 32ms/step - accuracy: 0.8144 - loss: 0.4087 - precision: 0.7741 - recall: 0.8879\n",
            "Epoch 21: val_accuracy improved from 0.81014 to 0.81070, saving model to best_model_21_0.8107.h5\n"
          ]
        },
        {
          "output_type": "stream",
          "name": "stderr",
          "text": [
            "WARNING:absl:You are saving your model as an HDF5 file via `model.save()` or `keras.saving.save_model(model)`. This file format is considered legacy. We recommend using instead the native Keras format, e.g. `model.save('my_model.keras')` or `keras.saving.save_model(model, 'my_model.keras')`. \n"
          ]
        },
        {
          "output_type": "stream",
          "name": "stdout",
          "text": [
            "\b\b\b\b\b\b\b\b\b\b\b\b\b\b\b\b\b\b\b\b\b\b\b\b\b\b\b\b\b\b\b\b\b\b\b\b\b\b\b\b\b\b\b\b\b\b\b\b\b\b\b\b\b\b\b\b\b\b\b\b\b\b\b\b\b\b\b\b\b\b\b\b\b\b\b\b\b\b\b\b\b\b\b\b\b\b\b\b\b\b\b\b\b\b\b\b\b\b\b\b\b\b\b\b\b\b\b\b\b\b\b\b\b\b\r\u001b[1m1912/1912\u001b[0m \u001b[32m━━━━━━━━━━━━━━━━━━━━\u001b[0m\u001b[37m\u001b[0m \u001b[1m78s\u001b[0m 35ms/step - accuracy: 0.8144 - loss: 0.4087 - precision: 0.7741 - recall: 0.8879 - val_accuracy: 0.8107 - val_loss: 0.4183 - val_precision: 0.7558 - val_recall: 0.9179 - learning_rate: 0.0010\n",
            "Epoch 22/100\n",
            "\u001b[1m1912/1912\u001b[0m \u001b[32m━━━━━━━━━━━━━━━━━━━━\u001b[0m\u001b[37m\u001b[0m \u001b[1m0s\u001b[0m 32ms/step - accuracy: 0.8160 - loss: 0.4088 - precision: 0.7749 - recall: 0.8907\n",
            "Epoch 22: val_accuracy improved from 0.81070 to 0.81364, saving model to best_model_22_0.8136.h5\n"
          ]
        },
        {
          "output_type": "stream",
          "name": "stderr",
          "text": [
            "WARNING:absl:You are saving your model as an HDF5 file via `model.save()` or `keras.saving.save_model(model)`. This file format is considered legacy. We recommend using instead the native Keras format, e.g. `model.save('my_model.keras')` or `keras.saving.save_model(model, 'my_model.keras')`. \n"
          ]
        },
        {
          "output_type": "stream",
          "name": "stdout",
          "text": [
            "\b\b\b\b\b\b\b\b\b\b\b\b\b\b\b\b\b\b\b\b\b\b\b\b\b\b\b\b\b\b\b\b\b\b\b\b\b\b\b\b\b\b\b\b\b\b\b\b\b\b\b\b\b\b\b\b\b\b\b\b\b\b\b\b\b\b\b\b\b\b\b\b\b\b\b\b\b\b\b\b\b\b\b\b\b\b\b\b\b\b\b\b\b\b\b\b\b\b\b\b\b\b\b\b\b\b\b\b\b\b\b\b\b\b\r\u001b[1m1912/1912\u001b[0m \u001b[32m━━━━━━━━━━━━━━━━━━━━\u001b[0m\u001b[37m\u001b[0m \u001b[1m68s\u001b[0m 35ms/step - accuracy: 0.8160 - loss: 0.4088 - precision: 0.7749 - recall: 0.8907 - val_accuracy: 0.8136 - val_loss: 0.4158 - val_precision: 0.7638 - val_recall: 0.9081 - learning_rate: 0.0010\n",
            "Epoch 23/100\n",
            "\u001b[1m1911/1912\u001b[0m \u001b[32m━━━━━━━━━━━━━━━━━━━\u001b[0m\u001b[37m━\u001b[0m \u001b[1m0s\u001b[0m 32ms/step - accuracy: 0.8181 - loss: 0.4062 - precision: 0.7779 - recall: 0.8907\n",
            "Epoch 23: val_accuracy did not improve from 0.81364\n",
            "\u001b[1m1912/1912\u001b[0m \u001b[32m━━━━━━━━━━━━━━━━━━━━\u001b[0m\u001b[37m\u001b[0m \u001b[1m67s\u001b[0m 35ms/step - accuracy: 0.8181 - loss: 0.4062 - precision: 0.7779 - recall: 0.8907 - val_accuracy: 0.8112 - val_loss: 0.4191 - val_precision: 0.7524 - val_recall: 0.9277 - learning_rate: 0.0010\n",
            "Epoch 24/100\n",
            "\u001b[1m1912/1912\u001b[0m \u001b[32m━━━━━━━━━━━━━━━━━━━━\u001b[0m\u001b[37m\u001b[0m \u001b[1m0s\u001b[0m 32ms/step - accuracy: 0.8184 - loss: 0.4055 - precision: 0.7780 - recall: 0.8913\n",
            "Epoch 24: val_accuracy did not improve from 0.81364\n",
            "\u001b[1m1912/1912\u001b[0m \u001b[32m━━━━━━━━━━━━━━━━━━━━\u001b[0m\u001b[37m\u001b[0m \u001b[1m72s\u001b[0m 38ms/step - accuracy: 0.8184 - loss: 0.4055 - precision: 0.7780 - recall: 0.8913 - val_accuracy: 0.8120 - val_loss: 0.4171 - val_precision: 0.7593 - val_recall: 0.9136 - learning_rate: 0.0010\n",
            "Epoch 25/100\n",
            "\u001b[1m1912/1912\u001b[0m \u001b[32m━━━━━━━━━━━━━━━━━━━━\u001b[0m\u001b[37m\u001b[0m \u001b[1m0s\u001b[0m 33ms/step - accuracy: 0.8184 - loss: 0.4045 - precision: 0.7778 - recall: 0.8915\n",
            "Epoch 25: val_accuracy did not improve from 0.81364\n",
            "\u001b[1m1912/1912\u001b[0m \u001b[32m━━━━━━━━━━━━━━━━━━━━\u001b[0m\u001b[37m\u001b[0m \u001b[1m78s\u001b[0m 36ms/step - accuracy: 0.8184 - loss: 0.4045 - precision: 0.7778 - recall: 0.8915 - val_accuracy: 0.8110 - val_loss: 0.4159 - val_precision: 0.7597 - val_recall: 0.9099 - learning_rate: 0.0010\n",
            "Epoch 26/100\n",
            "\u001b[1m1910/1912\u001b[0m \u001b[32m━━━━━━━━━━━━━━━━━━━\u001b[0m\u001b[37m━\u001b[0m \u001b[1m0s\u001b[0m 33ms/step - accuracy: 0.8198 - loss: 0.4019 - precision: 0.7794 - recall: 0.8921\n",
            "Epoch 26: val_accuracy did not improve from 0.81364\n",
            "\u001b[1m1912/1912\u001b[0m \u001b[32m━━━━━━━━━━━━━━━━━━━━\u001b[0m\u001b[37m\u001b[0m \u001b[1m73s\u001b[0m 38ms/step - accuracy: 0.8198 - loss: 0.4019 - precision: 0.7794 - recall: 0.8921 - val_accuracy: 0.8127 - val_loss: 0.4153 - val_precision: 0.7637 - val_recall: 0.9056 - learning_rate: 0.0010\n",
            "Epoch 27/100\n",
            "\u001b[1m1912/1912\u001b[0m \u001b[32m━━━━━━━━━━━━━━━━━━━━\u001b[0m\u001b[37m\u001b[0m \u001b[1m0s\u001b[0m 32ms/step - accuracy: 0.8199 - loss: 0.4015 - precision: 0.7782 - recall: 0.8949\n",
            "Epoch 27: val_accuracy did not improve from 0.81364\n",
            "\u001b[1m1912/1912\u001b[0m \u001b[32m━━━━━━━━━━━━━━━━━━━━\u001b[0m\u001b[37m\u001b[0m \u001b[1m71s\u001b[0m 37ms/step - accuracy: 0.8199 - loss: 0.4015 - precision: 0.7782 - recall: 0.8949 - val_accuracy: 0.8132 - val_loss: 0.4149 - val_precision: 0.7677 - val_recall: 0.8984 - learning_rate: 0.0010\n",
            "Epoch 28/100\n",
            "\u001b[1m1911/1912\u001b[0m \u001b[32m━━━━━━━━━━━━━━━━━━━\u001b[0m\u001b[37m━\u001b[0m \u001b[1m0s\u001b[0m 33ms/step - accuracy: 0.8202 - loss: 0.3995 - precision: 0.7793 - recall: 0.8936\n",
            "Epoch 28: val_accuracy did not improve from 0.81364\n",
            "\u001b[1m1912/1912\u001b[0m \u001b[32m━━━━━━━━━━━━━━━━━━━━\u001b[0m\u001b[37m\u001b[0m \u001b[1m80s\u001b[0m 36ms/step - accuracy: 0.8202 - loss: 0.3995 - precision: 0.7793 - recall: 0.8936 - val_accuracy: 0.8115 - val_loss: 0.4165 - val_precision: 0.7608 - val_recall: 0.9088 - learning_rate: 0.0010\n",
            "Epoch 29/100\n",
            "\u001b[1m1911/1912\u001b[0m \u001b[32m━━━━━━━━━━━━━━━━━━━\u001b[0m\u001b[37m━\u001b[0m \u001b[1m0s\u001b[0m 33ms/step - accuracy: 0.8228 - loss: 0.3978 - precision: 0.7812 - recall: 0.8969\n",
            "Epoch 29: val_accuracy did not improve from 0.81364\n",
            "\u001b[1m1912/1912\u001b[0m \u001b[32m━━━━━━━━━━━━━━━━━━━━\u001b[0m\u001b[37m\u001b[0m \u001b[1m82s\u001b[0m 36ms/step - accuracy: 0.8228 - loss: 0.3978 - precision: 0.7812 - recall: 0.8969 - val_accuracy: 0.8133 - val_loss: 0.4140 - val_precision: 0.7653 - val_recall: 0.9039 - learning_rate: 0.0010\n",
            "Epoch 30/100\n",
            "\u001b[1m1911/1912\u001b[0m \u001b[32m━━━━━━━━━━━━━━━━━━━\u001b[0m\u001b[37m━\u001b[0m \u001b[1m0s\u001b[0m 33ms/step - accuracy: 0.8237 - loss: 0.3970 - precision: 0.7821 - recall: 0.8975\n",
            "Epoch 30: val_accuracy did not improve from 0.81364\n",
            "\u001b[1m1912/1912\u001b[0m \u001b[32m━━━━━━━━━━━━━━━━━━━━\u001b[0m\u001b[37m\u001b[0m \u001b[1m73s\u001b[0m 38ms/step - accuracy: 0.8237 - loss: 0.3970 - precision: 0.7821 - recall: 0.8975 - val_accuracy: 0.8129 - val_loss: 0.4160 - val_precision: 0.7664 - val_recall: 0.9002 - learning_rate: 0.0010\n",
            "Epoch 31/100\n",
            "\u001b[1m1911/1912\u001b[0m \u001b[32m━━━━━━━━━━━━━━━━━━━\u001b[0m\u001b[37m━\u001b[0m \u001b[1m0s\u001b[0m 33ms/step - accuracy: 0.8236 - loss: 0.3956 - precision: 0.7821 - recall: 0.8973\n",
            "Epoch 31: val_accuracy improved from 0.81364 to 0.81452, saving model to best_model_31_0.8145.h5\n"
          ]
        },
        {
          "output_type": "stream",
          "name": "stderr",
          "text": [
            "WARNING:absl:You are saving your model as an HDF5 file via `model.save()` or `keras.saving.save_model(model)`. This file format is considered legacy. We recommend using instead the native Keras format, e.g. `model.save('my_model.keras')` or `keras.saving.save_model(model, 'my_model.keras')`. \n"
          ]
        },
        {
          "output_type": "stream",
          "name": "stdout",
          "text": [
            "\b\b\b\b\b\b\b\b\b\b\b\b\b\b\b\b\b\b\b\b\b\b\b\b\b\b\b\b\b\b\b\b\b\b\b\b\b\b\b\b\b\b\b\b\b\b\b\b\b\b\b\b\b\b\b\b\b\b\b\b\b\b\b\b\b\b\b\b\b\b\b\b\b\b\b\b\b\b\b\b\b\b\b\b\b\b\b\b\b\b\b\b\b\b\b\b\b\b\b\b\b\b\b\b\b\b\b\b\b\b\b\b\b\b\r\u001b[1m1912/1912\u001b[0m \u001b[32m━━━━━━━━━━━━━━━━━━━━\u001b[0m\u001b[37m\u001b[0m \u001b[1m82s\u001b[0m 38ms/step - accuracy: 0.8236 - loss: 0.3956 - precision: 0.7821 - recall: 0.8973 - val_accuracy: 0.8145 - val_loss: 0.4151 - val_precision: 0.7657 - val_recall: 0.9064 - learning_rate: 0.0010\n",
            "Epoch 32/100\n",
            "\u001b[1m1912/1912\u001b[0m \u001b[32m━━━━━━━━━━━━━━━━━━━━\u001b[0m\u001b[37m\u001b[0m \u001b[1m0s\u001b[0m 32ms/step - accuracy: 0.8250 - loss: 0.3935 - precision: 0.7837 - recall: 0.8979\n",
            "Epoch 32: val_accuracy did not improve from 0.81452\n",
            "\u001b[1m1912/1912\u001b[0m \u001b[32m━━━━━━━━━━━━━━━━━━━━\u001b[0m\u001b[37m\u001b[0m \u001b[1m68s\u001b[0m 35ms/step - accuracy: 0.8250 - loss: 0.3935 - precision: 0.7837 - recall: 0.8979 - val_accuracy: 0.8135 - val_loss: 0.4149 - val_precision: 0.7621 - val_recall: 0.9114 - learning_rate: 0.0010\n",
            "Epoch 33/100\n",
            "\u001b[1m1912/1912\u001b[0m \u001b[32m━━━━━━━━━━━━━━━━━━━━\u001b[0m\u001b[37m\u001b[0m \u001b[1m0s\u001b[0m 32ms/step - accuracy: 0.8256 - loss: 0.3916 - precision: 0.7837 - recall: 0.8997\n",
            "Epoch 33: val_accuracy did not improve from 0.81452\n",
            "\u001b[1m1912/1912\u001b[0m \u001b[32m━━━━━━━━━━━━━━━━━━━━\u001b[0m\u001b[37m\u001b[0m \u001b[1m68s\u001b[0m 36ms/step - accuracy: 0.8256 - loss: 0.3916 - precision: 0.7837 - recall: 0.8997 - val_accuracy: 0.8128 - val_loss: 0.4145 - val_precision: 0.7632 - val_recall: 0.9070 - learning_rate: 0.0010\n",
            "Epoch 34/100\n",
            "\u001b[1m1912/1912\u001b[0m \u001b[32m━━━━━━━━━━━━━━━━━━━━\u001b[0m\u001b[37m\u001b[0m \u001b[1m0s\u001b[0m 33ms/step - accuracy: 0.8258 - loss: 0.3916 - precision: 0.7842 - recall: 0.8990\n",
            "Epoch 34: val_accuracy improved from 0.81452 to 0.81505, saving model to best_model_34_0.8150.h5\n"
          ]
        },
        {
          "output_type": "stream",
          "name": "stderr",
          "text": [
            "WARNING:absl:You are saving your model as an HDF5 file via `model.save()` or `keras.saving.save_model(model)`. This file format is considered legacy. We recommend using instead the native Keras format, e.g. `model.save('my_model.keras')` or `keras.saving.save_model(model, 'my_model.keras')`. \n"
          ]
        },
        {
          "output_type": "stream",
          "name": "stdout",
          "text": [
            "\b\b\b\b\b\b\b\b\b\b\b\b\b\b\b\b\b\b\b\b\b\b\b\b\b\b\b\b\b\b\b\b\b\b\b\b\b\b\b\b\b\b\b\b\b\b\b\b\b\b\b\b\b\b\b\b\b\b\b\b\b\b\b\b\b\b\b\b\b\b\b\b\b\b\b\b\b\b\b\b\b\b\b\b\b\b\b\b\b\b\b\b\b\b\b\b\b\b\b\b\b\b\b\b\b\b\b\b\b\b\b\b\b\b\r\u001b[1m1912/1912\u001b[0m \u001b[32m━━━━━━━━━━━━━━━━━━━━\u001b[0m\u001b[37m\u001b[0m \u001b[1m87s\u001b[0m 38ms/step - accuracy: 0.8258 - loss: 0.3916 - precision: 0.7842 - recall: 0.8990 - val_accuracy: 0.8150 - val_loss: 0.4140 - val_precision: 0.7672 - val_recall: 0.9047 - learning_rate: 0.0010\n",
            "Epoch 35/100\n",
            "\u001b[1m1911/1912\u001b[0m \u001b[32m━━━━━━━━━━━━━━━━━━━\u001b[0m\u001b[37m━\u001b[0m \u001b[1m0s\u001b[0m 33ms/step - accuracy: 0.8277 - loss: 0.3897 - precision: 0.7855 - recall: 0.9017\n",
            "Epoch 35: val_accuracy improved from 0.81505 to 0.81603, saving model to best_model_35_0.8160.h5\n"
          ]
        },
        {
          "output_type": "stream",
          "name": "stderr",
          "text": [
            "WARNING:absl:You are saving your model as an HDF5 file via `model.save()` or `keras.saving.save_model(model)`. This file format is considered legacy. We recommend using instead the native Keras format, e.g. `model.save('my_model.keras')` or `keras.saving.save_model(model, 'my_model.keras')`. \n"
          ]
        },
        {
          "output_type": "stream",
          "name": "stdout",
          "text": [
            "\b\b\b\b\b\b\b\b\b\b\b\b\b\b\b\b\b\b\b\b\b\b\b\b\b\b\b\b\b\b\b\b\b\b\b\b\b\b\b\b\b\b\b\b\b\b\b\b\b\b\b\b\b\b\b\b\b\b\b\b\b\b\b\b\b\b\b\b\b\b\b\b\b\b\b\b\b\b\b\b\b\b\b\b\b\b\b\b\b\b\b\b\b\b\b\b\b\b\b\b\b\b\b\b\b\b\b\b\b\b\b\b\b\b\r\u001b[1m1912/1912\u001b[0m \u001b[32m━━━━━━━━━━━━━━━━━━━━\u001b[0m\u001b[37m\u001b[0m \u001b[1m82s\u001b[0m 38ms/step - accuracy: 0.8277 - loss: 0.3897 - precision: 0.7855 - recall: 0.9017 - val_accuracy: 0.8160 - val_loss: 0.4134 - val_precision: 0.7730 - val_recall: 0.8949 - learning_rate: 0.0010\n",
            "Epoch 36/100\n",
            "\u001b[1m1911/1912\u001b[0m \u001b[32m━━━━━━━━━━━━━━━━━━━\u001b[0m\u001b[37m━\u001b[0m \u001b[1m0s\u001b[0m 32ms/step - accuracy: 0.8283 - loss: 0.3876 - precision: 0.7856 - recall: 0.9030\n",
            "Epoch 36: val_accuracy did not improve from 0.81603\n",
            "\u001b[1m1912/1912\u001b[0m \u001b[32m━━━━━━━━━━━━━━━━━━━━\u001b[0m\u001b[37m\u001b[0m \u001b[1m67s\u001b[0m 35ms/step - accuracy: 0.8283 - loss: 0.3876 - precision: 0.7856 - recall: 0.9030 - val_accuracy: 0.8160 - val_loss: 0.4157 - val_precision: 0.7682 - val_recall: 0.9050 - learning_rate: 0.0010\n",
            "Epoch 37/100\n",
            "\u001b[1m1912/1912\u001b[0m \u001b[32m━━━━━━━━━━━━━━━━━━━━\u001b[0m\u001b[37m\u001b[0m \u001b[1m0s\u001b[0m 32ms/step - accuracy: 0.8288 - loss: 0.3872 - precision: 0.7866 - recall: 0.9024\n",
            "Epoch 37: val_accuracy did not improve from 0.81603\n",
            "\u001b[1m1912/1912\u001b[0m \u001b[32m━━━━━━━━━━━━━━━━━━━━\u001b[0m\u001b[37m\u001b[0m \u001b[1m72s\u001b[0m 37ms/step - accuracy: 0.8288 - loss: 0.3872 - precision: 0.7866 - recall: 0.9024 - val_accuracy: 0.8150 - val_loss: 0.4132 - val_precision: 0.7713 - val_recall: 0.8956 - learning_rate: 0.0010\n",
            "Epoch 38/100\n",
            "\u001b[1m1912/1912\u001b[0m \u001b[32m━━━━━━━━━━━━━━━━━━━━\u001b[0m\u001b[37m\u001b[0m \u001b[1m0s\u001b[0m 33ms/step - accuracy: 0.8285 - loss: 0.3861 - precision: 0.7856 - recall: 0.9037\n",
            "Epoch 38: val_accuracy did not improve from 0.81603\n",
            "\u001b[1m1912/1912\u001b[0m \u001b[32m━━━━━━━━━━━━━━━━━━━━\u001b[0m\u001b[37m\u001b[0m \u001b[1m68s\u001b[0m 36ms/step - accuracy: 0.8285 - loss: 0.3861 - precision: 0.7856 - recall: 0.9037 - val_accuracy: 0.8154 - val_loss: 0.4127 - val_precision: 0.7657 - val_recall: 0.9088 - learning_rate: 0.0010\n",
            "Epoch 39/100\n",
            "\u001b[1m1911/1912\u001b[0m \u001b[32m━━━━━━━━━━━━━━━━━━━\u001b[0m\u001b[37m━\u001b[0m \u001b[1m0s\u001b[0m 33ms/step - accuracy: 0.8303 - loss: 0.3844 - precision: 0.7873 - recall: 0.9052\n",
            "Epoch 39: val_accuracy did not improve from 0.81603\n",
            "\u001b[1m1912/1912\u001b[0m \u001b[32m━━━━━━━━━━━━━━━━━━━━\u001b[0m\u001b[37m\u001b[0m \u001b[1m68s\u001b[0m 36ms/step - accuracy: 0.8303 - loss: 0.3844 - precision: 0.7873 - recall: 0.9052 - val_accuracy: 0.8146 - val_loss: 0.4167 - val_precision: 0.7640 - val_recall: 0.9105 - learning_rate: 0.0010\n",
            "Epoch 40/100\n",
            "\u001b[1m1912/1912\u001b[0m \u001b[32m━━━━━━━━━━━━━━━━━━━━\u001b[0m\u001b[37m\u001b[0m \u001b[1m0s\u001b[0m 32ms/step - accuracy: 0.8303 - loss: 0.3830 - precision: 0.7867 - recall: 0.9064\n",
            "Epoch 40: val_accuracy improved from 0.81603 to 0.81684, saving model to best_model_40_0.8168.h5\n"
          ]
        },
        {
          "output_type": "stream",
          "name": "stderr",
          "text": [
            "WARNING:absl:You are saving your model as an HDF5 file via `model.save()` or `keras.saving.save_model(model)`. This file format is considered legacy. We recommend using instead the native Keras format, e.g. `model.save('my_model.keras')` or `keras.saving.save_model(model, 'my_model.keras')`. \n"
          ]
        },
        {
          "output_type": "stream",
          "name": "stdout",
          "text": [
            "\b\b\b\b\b\b\b\b\b\b\b\b\b\b\b\b\b\b\b\b\b\b\b\b\b\b\b\b\b\b\b\b\b\b\b\b\b\b\b\b\b\b\b\b\b\b\b\b\b\b\b\b\b\b\b\b\b\b\b\b\b\b\b\b\b\b\b\b\b\b\b\b\b\b\b\b\b\b\b\b\b\b\b\b\b\b\b\b\b\b\b\b\b\b\b\b\b\b\b\b\b\b\b\b\b\b\b\b\b\b\b\b\b\b\r\u001b[1m1912/1912\u001b[0m \u001b[32m━━━━━━━━━━━━━━━━━━━━\u001b[0m\u001b[37m\u001b[0m \u001b[1m86s\u001b[0m 38ms/step - accuracy: 0.8303 - loss: 0.3829 - precision: 0.7867 - recall: 0.9064 - val_accuracy: 0.8168 - val_loss: 0.4151 - val_precision: 0.7697 - val_recall: 0.9042 - learning_rate: 0.0010\n",
            "Epoch 41/100\n",
            "\u001b[1m1911/1912\u001b[0m \u001b[32m━━━━━━━━━━━━━━━━━━━\u001b[0m\u001b[37m━\u001b[0m \u001b[1m0s\u001b[0m 32ms/step - accuracy: 0.8331 - loss: 0.3802 - precision: 0.7901 - recall: 0.9074\n",
            "Epoch 41: val_accuracy did not improve from 0.81684\n",
            "\u001b[1m1912/1912\u001b[0m \u001b[32m━━━━━━━━━━━━━━━━━━━━\u001b[0m\u001b[37m\u001b[0m \u001b[1m72s\u001b[0m 37ms/step - accuracy: 0.8331 - loss: 0.3802 - precision: 0.7901 - recall: 0.9074 - val_accuracy: 0.8145 - val_loss: 0.4178 - val_precision: 0.7722 - val_recall: 0.8921 - learning_rate: 0.0010\n",
            "Epoch 42/100\n",
            "\u001b[1m1911/1912\u001b[0m \u001b[32m━━━━━━━━━━━━━━━━━━━\u001b[0m\u001b[37m━\u001b[0m \u001b[1m0s\u001b[0m 33ms/step - accuracy: 0.8335 - loss: 0.3801 - precision: 0.7900 - recall: 0.9087\n",
            "Epoch 42: val_accuracy did not improve from 0.81684\n",
            "\u001b[1m1912/1912\u001b[0m \u001b[32m━━━━━━━━━━━━━━━━━━━━\u001b[0m\u001b[37m\u001b[0m \u001b[1m83s\u001b[0m 38ms/step - accuracy: 0.8335 - loss: 0.3801 - precision: 0.7900 - recall: 0.9087 - val_accuracy: 0.8138 - val_loss: 0.4155 - val_precision: 0.7578 - val_recall: 0.9224 - learning_rate: 0.0010\n",
            "Epoch 43/100\n",
            "\u001b[1m1912/1912\u001b[0m \u001b[32m━━━━━━━━━━━━━━━━━━━━\u001b[0m\u001b[37m\u001b[0m \u001b[1m0s\u001b[0m 32ms/step - accuracy: 0.8336 - loss: 0.3787 - precision: 0.7905 - recall: 0.9079\n",
            "Epoch 43: val_accuracy improved from 0.81684 to 0.81698, saving model to best_model_43_0.8170.h5\n"
          ]
        },
        {
          "output_type": "stream",
          "name": "stderr",
          "text": [
            "WARNING:absl:You are saving your model as an HDF5 file via `model.save()` or `keras.saving.save_model(model)`. This file format is considered legacy. We recommend using instead the native Keras format, e.g. `model.save('my_model.keras')` or `keras.saving.save_model(model, 'my_model.keras')`. \n"
          ]
        },
        {
          "output_type": "stream",
          "name": "stdout",
          "text": [
            "\b\b\b\b\b\b\b\b\b\b\b\b\b\b\b\b\b\b\b\b\b\b\b\b\b\b\b\b\b\b\b\b\b\b\b\b\b\b\b\b\b\b\b\b\b\b\b\b\b\b\b\b\b\b\b\b\b\b\b\b\b\b\b\b\b\b\b\b\b\b\b\b\b\b\b\b\b\b\b\b\b\b\b\b\b\b\b\b\b\b\b\b\b\b\b\b\b\b\b\b\b\b\b\b\b\b\b\b\b\b\b\b\b\b\r\u001b[1m1912/1912\u001b[0m \u001b[32m━━━━━━━━━━━━━━━━━━━━\u001b[0m\u001b[37m\u001b[0m \u001b[1m68s\u001b[0m 35ms/step - accuracy: 0.8336 - loss: 0.3787 - precision: 0.7905 - recall: 0.9079 - val_accuracy: 0.8170 - val_loss: 0.4174 - val_precision: 0.7669 - val_recall: 0.9109 - learning_rate: 0.0010\n",
            "Epoch 44/100\n",
            "\u001b[1m1911/1912\u001b[0m \u001b[32m━━━━━━━━━━━━━━━━━━━\u001b[0m\u001b[37m━\u001b[0m \u001b[1m0s\u001b[0m 32ms/step - accuracy: 0.8345 - loss: 0.3766 - precision: 0.7914 - recall: 0.9085\n",
            "Epoch 44: val_accuracy did not improve from 0.81698\n",
            "\u001b[1m1912/1912\u001b[0m \u001b[32m━━━━━━━━━━━━━━━━━━━━\u001b[0m\u001b[37m\u001b[0m \u001b[1m86s\u001b[0m 37ms/step - accuracy: 0.8345 - loss: 0.3766 - precision: 0.7914 - recall: 0.9085 - val_accuracy: 0.8163 - val_loss: 0.4171 - val_precision: 0.7693 - val_recall: 0.9034 - learning_rate: 0.0010\n",
            "Epoch 45/100\n",
            "\u001b[1m1912/1912\u001b[0m \u001b[32m━━━━━━━━━━━━━━━━━━━━\u001b[0m\u001b[37m\u001b[0m \u001b[1m0s\u001b[0m 33ms/step - accuracy: 0.8350 - loss: 0.3767 - precision: 0.7921 - recall: 0.9086\n",
            "Epoch 45: val_accuracy improved from 0.81698 to 0.81802, saving model to best_model_45_0.8180.h5\n"
          ]
        },
        {
          "output_type": "stream",
          "name": "stderr",
          "text": [
            "WARNING:absl:You are saving your model as an HDF5 file via `model.save()` or `keras.saving.save_model(model)`. This file format is considered legacy. We recommend using instead the native Keras format, e.g. `model.save('my_model.keras')` or `keras.saving.save_model(model, 'my_model.keras')`. \n"
          ]
        },
        {
          "output_type": "stream",
          "name": "stdout",
          "text": [
            "\b\b\b\b\b\b\b\b\b\b\b\b\b\b\b\b\b\b\b\b\b\b\b\b\b\b\b\b\b\b\b\b\b\b\b\b\b\b\b\b\b\b\b\b\b\b\b\b\b\b\b\b\b\b\b\b\b\b\b\b\b\b\b\b\b\b\b\b\b\b\b\b\b\b\b\b\b\b\b\b\b\b\b\b\b\b\b\b\b\b\b\b\b\b\b\b\b\b\b\b\b\b\b\b\b\b\b\b\b\b\b\b\b\b\r\u001b[1m1912/1912\u001b[0m \u001b[32m━━━━━━━━━━━━━━━━━━━━\u001b[0m\u001b[37m\u001b[0m \u001b[1m84s\u001b[0m 38ms/step - accuracy: 0.8350 - loss: 0.3767 - precision: 0.7921 - recall: 0.9086 - val_accuracy: 0.8180 - val_loss: 0.4168 - val_precision: 0.7720 - val_recall: 0.9026 - learning_rate: 0.0010\n",
            "Epoch 46/100\n",
            "\u001b[1m1911/1912\u001b[0m \u001b[32m━━━━━━━━━━━━━━━━━━━\u001b[0m\u001b[37m━\u001b[0m \u001b[1m0s\u001b[0m 32ms/step - accuracy: 0.8364 - loss: 0.3759 - precision: 0.7935 - recall: 0.9096\n",
            "Epoch 46: ReduceLROnPlateau reducing learning rate to 0.0005000000237487257.\n",
            "\n",
            "Epoch 46: val_accuracy did not improve from 0.81802\n",
            "\u001b[1m1912/1912\u001b[0m \u001b[32m━━━━━━━━━━━━━━━━━━━━\u001b[0m\u001b[37m\u001b[0m \u001b[1m72s\u001b[0m 38ms/step - accuracy: 0.8364 - loss: 0.3759 - precision: 0.7935 - recall: 0.9096 - val_accuracy: 0.8174 - val_loss: 0.4184 - val_precision: 0.7687 - val_recall: 0.9081 - learning_rate: 0.0010\n",
            "Epoch 47/100\n",
            "\u001b[1m1911/1912\u001b[0m \u001b[32m━━━━━━━━━━━━━━━━━━━\u001b[0m\u001b[37m━\u001b[0m \u001b[1m0s\u001b[0m 32ms/step - accuracy: 0.8396 - loss: 0.3676 - precision: 0.7959 - recall: 0.9135\n",
            "Epoch 47: val_accuracy improved from 0.81802 to 0.81979, saving model to best_model_47_0.8198.h5\n"
          ]
        },
        {
          "output_type": "stream",
          "name": "stderr",
          "text": [
            "WARNING:absl:You are saving your model as an HDF5 file via `model.save()` or `keras.saving.save_model(model)`. This file format is considered legacy. We recommend using instead the native Keras format, e.g. `model.save('my_model.keras')` or `keras.saving.save_model(model, 'my_model.keras')`. \n"
          ]
        },
        {
          "output_type": "stream",
          "name": "stdout",
          "text": [
            "\b\b\b\b\b\b\b\b\b\b\b\b\b\b\b\b\b\b\b\b\b\b\b\b\b\b\b\b\b\b\b\b\b\b\b\b\b\b\b\b\b\b\b\b\b\b\b\b\b\b\b\b\b\b\b\b\b\b\b\b\b\b\b\b\b\b\b\b\b\b\b\b\b\b\b\b\b\b\b\b\b\b\b\b\b\b\b\b\b\b\b\b\b\b\b\b\b\b\b\b\b\b\b\b\b\b\b\b\b\b\b\b\b\b\r\u001b[1m1912/1912\u001b[0m \u001b[32m━━━━━━━━━━━━━━━━━━━━\u001b[0m\u001b[37m\u001b[0m \u001b[1m77s\u001b[0m 35ms/step - accuracy: 0.8396 - loss: 0.3676 - precision: 0.7959 - recall: 0.9135 - val_accuracy: 0.8198 - val_loss: 0.4152 - val_precision: 0.7731 - val_recall: 0.9052 - learning_rate: 5.0000e-04\n",
            "Epoch 48/100\n",
            "\u001b[1m1911/1912\u001b[0m \u001b[32m━━━━━━━━━━━━━━━━━━━\u001b[0m\u001b[37m━\u001b[0m \u001b[1m0s\u001b[0m 32ms/step - accuracy: 0.8431 - loss: 0.3622 - precision: 0.8003 - recall: 0.9144\n",
            "Epoch 48: val_accuracy did not improve from 0.81979\n",
            "\u001b[1m1912/1912\u001b[0m \u001b[32m━━━━━━━━━━━━━━━━━━━━\u001b[0m\u001b[37m\u001b[0m \u001b[1m87s\u001b[0m 38ms/step - accuracy: 0.8431 - loss: 0.3622 - precision: 0.8003 - recall: 0.9144 - val_accuracy: 0.8195 - val_loss: 0.4177 - val_precision: 0.7754 - val_recall: 0.8994 - learning_rate: 5.0000e-04\n",
            "Epoch 49/100\n",
            "\u001b[1m1912/1912\u001b[0m \u001b[32m━━━━━━━━━━━━━━━━━━━━\u001b[0m\u001b[37m\u001b[0m \u001b[1m0s\u001b[0m 33ms/step - accuracy: 0.8450 - loss: 0.3596 - precision: 0.8010 - recall: 0.9182\n",
            "Epoch 49: val_accuracy did not improve from 0.81979\n",
            "\u001b[1m1912/1912\u001b[0m \u001b[32m━━━━━━━━━━━━━━━━━━━━\u001b[0m\u001b[37m\u001b[0m \u001b[1m82s\u001b[0m 38ms/step - accuracy: 0.8450 - loss: 0.3596 - precision: 0.8010 - recall: 0.9182 - val_accuracy: 0.8190 - val_loss: 0.4160 - val_precision: 0.7703 - val_recall: 0.9092 - learning_rate: 5.0000e-04\n",
            "Epoch 50/100\n",
            "\u001b[1m1912/1912\u001b[0m \u001b[32m━━━━━━━━━━━━━━━━━━━━\u001b[0m\u001b[37m\u001b[0m \u001b[1m0s\u001b[0m 33ms/step - accuracy: 0.8453 - loss: 0.3587 - precision: 0.8017 - recall: 0.9177\n",
            "Epoch 50: val_accuracy did not improve from 0.81979\n",
            "\u001b[1m1912/1912\u001b[0m \u001b[32m━━━━━━━━━━━━━━━━━━━━\u001b[0m\u001b[37m\u001b[0m \u001b[1m83s\u001b[0m 39ms/step - accuracy: 0.8453 - loss: 0.3587 - precision: 0.8017 - recall: 0.9177 - val_accuracy: 0.8188 - val_loss: 0.4153 - val_precision: 0.7700 - val_recall: 0.9092 - learning_rate: 5.0000e-04\n",
            "Epoch 51/100\n",
            "\u001b[1m1911/1912\u001b[0m \u001b[32m━━━━━━━━━━━━━━━━━━━\u001b[0m\u001b[37m━\u001b[0m \u001b[1m0s\u001b[0m 32ms/step - accuracy: 0.8453 - loss: 0.3578 - precision: 0.8017 - recall: 0.9178\n",
            "Epoch 51: val_accuracy improved from 0.81979 to 0.82028, saving model to best_model_51_0.8203.h5\n"
          ]
        },
        {
          "output_type": "stream",
          "name": "stderr",
          "text": [
            "WARNING:absl:You are saving your model as an HDF5 file via `model.save()` or `keras.saving.save_model(model)`. This file format is considered legacy. We recommend using instead the native Keras format, e.g. `model.save('my_model.keras')` or `keras.saving.save_model(model, 'my_model.keras')`. \n"
          ]
        },
        {
          "output_type": "stream",
          "name": "stdout",
          "text": [
            "\b\b\b\b\b\b\b\b\b\b\b\b\b\b\b\b\b\b\b\b\b\b\b\b\b\b\b\b\b\b\b\b\b\b\b\b\b\b\b\b\b\b\b\b\b\b\b\b\b\b\b\b\b\b\b\b\b\b\b\b\b\b\b\b\b\b\b\b\b\b\b\b\b\b\b\b\b\b\b\b\b\b\b\b\b\b\b\b\b\b\b\b\b\b\b\b\b\b\b\b\b\b\b\b\b\b\b\b\b\b\b\b\b\b\r\u001b[1m1912/1912\u001b[0m \u001b[32m━━━━━━━━━━━━━━━━━━━━\u001b[0m\u001b[37m\u001b[0m \u001b[1m80s\u001b[0m 38ms/step - accuracy: 0.8453 - loss: 0.3578 - precision: 0.8017 - recall: 0.9178 - val_accuracy: 0.8203 - val_loss: 0.4206 - val_precision: 0.7727 - val_recall: 0.9075 - learning_rate: 5.0000e-04\n",
            "Epoch 52/100\n",
            "\u001b[1m1912/1912\u001b[0m \u001b[32m━━━━━━━━━━━━━━━━━━━━\u001b[0m\u001b[37m\u001b[0m \u001b[1m0s\u001b[0m 33ms/step - accuracy: 0.8456 - loss: 0.3567 - precision: 0.8018 - recall: 0.9183\n",
            "Epoch 52: val_accuracy improved from 0.82028 to 0.82080, saving model to best_model_52_0.8208.h5\n"
          ]
        },
        {
          "output_type": "stream",
          "name": "stderr",
          "text": [
            "WARNING:absl:You are saving your model as an HDF5 file via `model.save()` or `keras.saving.save_model(model)`. This file format is considered legacy. We recommend using instead the native Keras format, e.g. `model.save('my_model.keras')` or `keras.saving.save_model(model, 'my_model.keras')`. \n"
          ]
        },
        {
          "output_type": "stream",
          "name": "stdout",
          "text": [
            "\b\b\b\b\b\b\b\b\b\b\b\b\b\b\b\b\b\b\b\b\b\b\b\b\b\b\b\b\b\b\b\b\b\b\b\b\b\b\b\b\b\b\b\b\b\b\b\b\b\b\b\b\b\b\b\b\b\b\b\b\b\b\b\b\b\b\b\b\b\b\b\b\b\b\b\b\b\b\b\b\b\b\b\b\b\b\b\b\b\b\b\b\b\b\b\b\b\b\b\b\b\b\b\b\b\b\b\b\b\b\b\b\b\b\r\u001b[1m1912/1912\u001b[0m \u001b[32m━━━━━━━━━━━━━━━━━━━━\u001b[0m\u001b[37m\u001b[0m \u001b[1m73s\u001b[0m 38ms/step - accuracy: 0.8456 - loss: 0.3567 - precision: 0.8018 - recall: 0.9183 - val_accuracy: 0.8208 - val_loss: 0.4223 - val_precision: 0.7744 - val_recall: 0.9054 - learning_rate: 5.0000e-04\n",
            "Epoch 53/100\n",
            "\u001b[1m1911/1912\u001b[0m \u001b[32m━━━━━━━━━━━━━━━━━━━\u001b[0m\u001b[37m━\u001b[0m \u001b[1m0s\u001b[0m 33ms/step - accuracy: 0.8459 - loss: 0.3546 - precision: 0.8020 - recall: 0.9187\n",
            "Epoch 53: val_accuracy did not improve from 0.82080\n",
            "\u001b[1m1912/1912\u001b[0m \u001b[32m━━━━━━━━━━━━━━━━━━━━\u001b[0m\u001b[37m\u001b[0m \u001b[1m74s\u001b[0m 38ms/step - accuracy: 0.8459 - loss: 0.3546 - precision: 0.8020 - recall: 0.9187 - val_accuracy: 0.8202 - val_loss: 0.4193 - val_precision: 0.7766 - val_recall: 0.8990 - learning_rate: 5.0000e-04\n",
            "Epoch 54/100\n",
            "\u001b[1m1911/1912\u001b[0m \u001b[32m━━━━━━━━━━━━━━━━━━━\u001b[0m\u001b[37m━\u001b[0m \u001b[1m0s\u001b[0m 32ms/step - accuracy: 0.8479 - loss: 0.3538 - precision: 0.8046 - recall: 0.9191\n",
            "Epoch 54: ReduceLROnPlateau reducing learning rate to 0.0002500000118743628.\n",
            "\n",
            "Epoch 54: val_accuracy did not improve from 0.82080\n",
            "\u001b[1m1912/1912\u001b[0m \u001b[32m━━━━━━━━━━━━━━━━━━━━\u001b[0m\u001b[37m\u001b[0m \u001b[1m80s\u001b[0m 38ms/step - accuracy: 0.8479 - loss: 0.3538 - precision: 0.8046 - recall: 0.9191 - val_accuracy: 0.8196 - val_loss: 0.4203 - val_precision: 0.7746 - val_recall: 0.9015 - learning_rate: 5.0000e-04\n",
            "Epoch 55/100\n",
            "\u001b[1m1911/1912\u001b[0m \u001b[32m━━━━━━━━━━━━━━━━━━━\u001b[0m\u001b[37m━\u001b[0m \u001b[1m0s\u001b[0m 33ms/step - accuracy: 0.8491 - loss: 0.3506 - precision: 0.8050 - recall: 0.9214\n",
            "Epoch 55: val_accuracy did not improve from 0.82080\n",
            "\u001b[1m1912/1912\u001b[0m \u001b[32m━━━━━━━━━━━━━━━━━━━━\u001b[0m\u001b[37m\u001b[0m \u001b[1m73s\u001b[0m 38ms/step - accuracy: 0.8491 - loss: 0.3506 - precision: 0.8050 - recall: 0.9214 - val_accuracy: 0.8194 - val_loss: 0.4205 - val_precision: 0.7739 - val_recall: 0.9024 - learning_rate: 2.5000e-04\n",
            "Epoch 56/100\n",
            "\u001b[1m1912/1912\u001b[0m \u001b[32m━━━━━━━━━━━━━━━━━━━━\u001b[0m\u001b[37m\u001b[0m \u001b[1m0s\u001b[0m 33ms/step - accuracy: 0.8513 - loss: 0.3477 - precision: 0.8071 - recall: 0.9235\n",
            "Epoch 56: val_accuracy improved from 0.82080 to 0.82119, saving model to best_model_56_0.8212.h5\n"
          ]
        },
        {
          "output_type": "stream",
          "name": "stderr",
          "text": [
            "WARNING:absl:You are saving your model as an HDF5 file via `model.save()` or `keras.saving.save_model(model)`. This file format is considered legacy. We recommend using instead the native Keras format, e.g. `model.save('my_model.keras')` or `keras.saving.save_model(model, 'my_model.keras')`. \n"
          ]
        },
        {
          "output_type": "stream",
          "name": "stdout",
          "text": [
            "\b\b\b\b\b\b\b\b\b\b\b\b\b\b\b\b\b\b\b\b\b\b\b\b\b\b\b\b\b\b\b\b\b\b\b\b\b\b\b\b\b\b\b\b\b\b\b\b\b\b\b\b\b\b\b\b\b\b\b\b\b\b\b\b\b\b\b\b\b\b\b\b\b\b\b\b\b\b\b\b\b\b\b\b\b\b\b\b\b\b\b\b\b\b\b\b\b\b\b\b\b\b\b\b\b\b\b\b\b\b\b\b\b\b\r\u001b[1m1912/1912\u001b[0m \u001b[32m━━━━━━━━━━━━━━━━━━━━\u001b[0m\u001b[37m\u001b[0m \u001b[1m73s\u001b[0m 38ms/step - accuracy: 0.8513 - loss: 0.3477 - precision: 0.8071 - recall: 0.9235 - val_accuracy: 0.8212 - val_loss: 0.4198 - val_precision: 0.7785 - val_recall: 0.8979 - learning_rate: 2.5000e-04\n",
            "Epoch 57/100\n",
            "\u001b[1m1910/1912\u001b[0m \u001b[32m━━━━━━━━━━━━━━━━━━━\u001b[0m\u001b[37m━\u001b[0m \u001b[1m0s\u001b[0m 32ms/step - accuracy: 0.8517 - loss: 0.3460 - precision: 0.8088 - recall: 0.9213\n",
            "Epoch 57: val_accuracy did not improve from 0.82119\n",
            "\u001b[1m1912/1912\u001b[0m \u001b[32m━━━━━━━━━━━━━━━━━━━━\u001b[0m\u001b[37m\u001b[0m \u001b[1m80s\u001b[0m 38ms/step - accuracy: 0.8517 - loss: 0.3460 - precision: 0.8088 - recall: 0.9213 - val_accuracy: 0.8200 - val_loss: 0.4208 - val_precision: 0.7749 - val_recall: 0.9022 - learning_rate: 2.5000e-04\n",
            "Epoch 58/100\n",
            "\u001b[1m1912/1912\u001b[0m \u001b[32m━━━━━━━━━━━━━━━━━━━━\u001b[0m\u001b[37m\u001b[0m \u001b[1m0s\u001b[0m 32ms/step - accuracy: 0.8533 - loss: 0.3444 - precision: 0.8090 - recall: 0.9249\n",
            "Epoch 58: val_accuracy improved from 0.82119 to 0.82240, saving model to best_model_58_0.8224.h5\n"
          ]
        },
        {
          "output_type": "stream",
          "name": "stderr",
          "text": [
            "WARNING:absl:You are saving your model as an HDF5 file via `model.save()` or `keras.saving.save_model(model)`. This file format is considered legacy. We recommend using instead the native Keras format, e.g. `model.save('my_model.keras')` or `keras.saving.save_model(model, 'my_model.keras')`. \n"
          ]
        },
        {
          "output_type": "stream",
          "name": "stdout",
          "text": [
            "\b\b\b\b\b\b\b\b\b\b\b\b\b\b\b\b\b\b\b\b\b\b\b\b\b\b\b\b\b\b\b\b\b\b\b\b\b\b\b\b\b\b\b\b\b\b\b\b\b\b\b\b\b\b\b\b\b\b\b\b\b\b\b\b\b\b\b\b\b\b\b\b\b\b\b\b\b\b\b\b\b\b\b\b\b\b\b\b\b\b\b\b\b\b\b\b\b\b\b\b\b\b\b\b\b\b\b\b\b\b\b\b\b\b\r\u001b[1m1912/1912\u001b[0m \u001b[32m━━━━━━━━━━━━━━━━━━━━\u001b[0m\u001b[37m\u001b[0m \u001b[1m81s\u001b[0m 37ms/step - accuracy: 0.8533 - loss: 0.3444 - precision: 0.8090 - recall: 0.9249 - val_accuracy: 0.8224 - val_loss: 0.4214 - val_precision: 0.7761 - val_recall: 0.9063 - learning_rate: 2.5000e-04\n",
            "Epoch 59/100\n",
            "\u001b[1m1911/1912\u001b[0m \u001b[32m━━━━━━━━━━━━━━━━━━━\u001b[0m\u001b[37m━\u001b[0m \u001b[1m0s\u001b[0m 33ms/step - accuracy: 0.8547 - loss: 0.3425 - precision: 0.8114 - recall: 0.9243\n",
            "Epoch 59: val_accuracy did not improve from 0.82240\n",
            "\u001b[1m1912/1912\u001b[0m \u001b[32m━━━━━━━━━━━━━━━━━━━━\u001b[0m\u001b[37m\u001b[0m \u001b[1m83s\u001b[0m 38ms/step - accuracy: 0.8547 - loss: 0.3425 - precision: 0.8114 - recall: 0.9243 - val_accuracy: 0.8206 - val_loss: 0.4231 - val_precision: 0.7781 - val_recall: 0.8969 - learning_rate: 2.5000e-04\n",
            "Epoch 60/100\n",
            "\u001b[1m1912/1912\u001b[0m \u001b[32m━━━━━━━━━━━━━━━━━━━━\u001b[0m\u001b[37m\u001b[0m \u001b[1m0s\u001b[0m 33ms/step - accuracy: 0.8529 - loss: 0.3415 - precision: 0.8093 - recall: 0.9235\n",
            "Epoch 60: val_accuracy did not improve from 0.82240\n",
            "\u001b[1m1912/1912\u001b[0m \u001b[32m━━━━━━━━━━━━━━━━━━━━\u001b[0m\u001b[37m\u001b[0m \u001b[1m68s\u001b[0m 36ms/step - accuracy: 0.8529 - loss: 0.3415 - precision: 0.8093 - recall: 0.9235 - val_accuracy: 0.8210 - val_loss: 0.4230 - val_precision: 0.7762 - val_recall: 0.9020 - learning_rate: 2.5000e-04\n",
            "Epoch 61/100\n",
            "\u001b[1m1911/1912\u001b[0m \u001b[32m━━━━━━━━━━━━━━━━━━━\u001b[0m\u001b[37m━\u001b[0m \u001b[1m0s\u001b[0m 31ms/step - accuracy: 0.8526 - loss: 0.3430 - precision: 0.8086 - recall: 0.9240\n",
            "Epoch 61: val_accuracy did not improve from 0.82240\n",
            "\u001b[1m1912/1912\u001b[0m \u001b[32m━━━━━━━━━━━━━━━━━━━━\u001b[0m\u001b[37m\u001b[0m \u001b[1m84s\u001b[0m 37ms/step - accuracy: 0.8526 - loss: 0.3430 - precision: 0.8087 - recall: 0.9240 - val_accuracy: 0.8202 - val_loss: 0.4247 - val_precision: 0.7758 - val_recall: 0.9008 - learning_rate: 2.5000e-04\n",
            "Epoch 62/100\n",
            "\u001b[1m1910/1912\u001b[0m \u001b[32m━━━━━━━━━━━━━━━━━━━\u001b[0m\u001b[37m━\u001b[0m \u001b[1m0s\u001b[0m 28ms/step - accuracy: 0.8549 - loss: 0.3416 - precision: 0.8113 - recall: 0.9250\n",
            "Epoch 62: ReduceLROnPlateau reducing learning rate to 0.0001250000059371814.\n",
            "\n",
            "Epoch 62: val_accuracy did not improve from 0.82240\n",
            "\u001b[1m1912/1912\u001b[0m \u001b[32m━━━━━━━━━━━━━━━━━━━━\u001b[0m\u001b[37m\u001b[0m \u001b[1m70s\u001b[0m 31ms/step - accuracy: 0.8549 - loss: 0.3416 - precision: 0.8113 - recall: 0.9250 - val_accuracy: 0.8213 - val_loss: 0.4247 - val_precision: 0.7781 - val_recall: 0.8988 - learning_rate: 2.5000e-04\n",
            "Epoch 63/100\n",
            "\u001b[1m1910/1912\u001b[0m \u001b[32m━━━━━━━━━━━━━━━━━━━\u001b[0m\u001b[37m━\u001b[0m \u001b[1m0s\u001b[0m 28ms/step - accuracy: 0.8560 - loss: 0.3400 - precision: 0.8122 - recall: 0.9263\n",
            "Epoch 63: val_accuracy did not improve from 0.82240\n",
            "\u001b[1m1912/1912\u001b[0m \u001b[32m━━━━━━━━━━━━━━━━━━━━\u001b[0m\u001b[37m\u001b[0m \u001b[1m87s\u001b[0m 33ms/step - accuracy: 0.8560 - loss: 0.3400 - precision: 0.8122 - recall: 0.9263 - val_accuracy: 0.8198 - val_loss: 0.4211 - val_precision: 0.7751 - val_recall: 0.9011 - learning_rate: 1.2500e-04\n",
            "Epoch 64/100\n",
            "\u001b[1m1911/1912\u001b[0m \u001b[32m━━━━━━━━━━━━━━━━━━━\u001b[0m\u001b[37m━\u001b[0m \u001b[1m0s\u001b[0m 28ms/step - accuracy: 0.8555 - loss: 0.3399 - precision: 0.8121 - recall: 0.9250\n",
            "Epoch 64: val_accuracy did not improve from 0.82240\n",
            "\u001b[1m1912/1912\u001b[0m \u001b[32m━━━━━━━━━━━━━━━━━━━━\u001b[0m\u001b[37m\u001b[0m \u001b[1m64s\u001b[0m 33ms/step - accuracy: 0.8555 - loss: 0.3399 - precision: 0.8121 - recall: 0.9250 - val_accuracy: 0.8210 - val_loss: 0.4227 - val_precision: 0.7764 - val_recall: 0.9017 - learning_rate: 1.2500e-04\n",
            "Epoch 65/100\n",
            "\u001b[1m1911/1912\u001b[0m \u001b[32m━━━━━━━━━━━━━━━━━━━\u001b[0m\u001b[37m━\u001b[0m \u001b[1m0s\u001b[0m 28ms/step - accuracy: 0.8582 - loss: 0.3383 - precision: 0.8150 - recall: 0.9270\n",
            "Epoch 65: val_accuracy did not improve from 0.82240\n",
            "\u001b[1m1912/1912\u001b[0m \u001b[32m━━━━━━━━━━━━━━━━━━━━\u001b[0m\u001b[37m\u001b[0m \u001b[1m58s\u001b[0m 31ms/step - accuracy: 0.8582 - loss: 0.3383 - precision: 0.8150 - recall: 0.9270 - val_accuracy: 0.8209 - val_loss: 0.4231 - val_precision: 0.7765 - val_recall: 0.9013 - learning_rate: 1.2500e-04\n",
            "Epoch 66/100\n",
            "\u001b[1m1912/1912\u001b[0m \u001b[32m━━━━━━━━━━━━━━━━━━━━\u001b[0m\u001b[37m\u001b[0m \u001b[1m0s\u001b[0m 28ms/step - accuracy: 0.8594 - loss: 0.3353 - precision: 0.8164 - recall: 0.9275\n",
            "Epoch 66: val_accuracy did not improve from 0.82240\n",
            "\u001b[1m1912/1912\u001b[0m \u001b[32m━━━━━━━━━━━━━━━━━━━━\u001b[0m\u001b[37m\u001b[0m \u001b[1m59s\u001b[0m 31ms/step - accuracy: 0.8594 - loss: 0.3353 - precision: 0.8164 - recall: 0.9275 - val_accuracy: 0.8212 - val_loss: 0.4232 - val_precision: 0.7785 - val_recall: 0.8980 - learning_rate: 1.2500e-04\n",
            "Epoch 67/100\n",
            "\u001b[1m1910/1912\u001b[0m \u001b[32m━━━━━━━━━━━━━━━━━━━\u001b[0m\u001b[37m━\u001b[0m \u001b[1m0s\u001b[0m 28ms/step - accuracy: 0.8575 - loss: 0.3357 - precision: 0.8138 - recall: 0.9273\n",
            "Epoch 67: val_accuracy did not improve from 0.82240\n",
            "\u001b[1m1912/1912\u001b[0m \u001b[32m━━━━━━━━━━━━━━━━━━━━\u001b[0m\u001b[37m\u001b[0m \u001b[1m81s\u001b[0m 30ms/step - accuracy: 0.8575 - loss: 0.3357 - precision: 0.8138 - recall: 0.9273 - val_accuracy: 0.8218 - val_loss: 0.4250 - val_precision: 0.7791 - val_recall: 0.8984 - learning_rate: 1.2500e-04\n",
            "Epoch 68/100\n",
            "\u001b[1m1911/1912\u001b[0m \u001b[32m━━━━━━━━━━━━━━━━━━━\u001b[0m\u001b[37m━\u001b[0m \u001b[1m0s\u001b[0m 28ms/step - accuracy: 0.8584 - loss: 0.3360 - precision: 0.8147 - recall: 0.9281\n",
            "Epoch 68: val_accuracy did not improve from 0.82240\n",
            "\u001b[1m1912/1912\u001b[0m \u001b[32m━━━━━━━━━━━━━━━━━━━━\u001b[0m\u001b[37m\u001b[0m \u001b[1m59s\u001b[0m 31ms/step - accuracy: 0.8584 - loss: 0.3360 - precision: 0.8147 - recall: 0.9281 - val_accuracy: 0.8217 - val_loss: 0.4245 - val_precision: 0.7775 - val_recall: 0.9015 - learning_rate: 1.2500e-04\n",
            "Epoch 69/100\n",
            "\u001b[1m1911/1912\u001b[0m \u001b[32m━━━━━━━━━━━━━━━━━━━\u001b[0m\u001b[37m━\u001b[0m \u001b[1m0s\u001b[0m 28ms/step - accuracy: 0.8585 - loss: 0.3339 - precision: 0.8147 - recall: 0.9281\n",
            "Epoch 69: val_accuracy did not improve from 0.82240\n",
            "\u001b[1m1912/1912\u001b[0m \u001b[32m━━━━━━━━━━━━━━━━━━━━\u001b[0m\u001b[37m\u001b[0m \u001b[1m58s\u001b[0m 31ms/step - accuracy: 0.8585 - loss: 0.3339 - precision: 0.8147 - recall: 0.9281 - val_accuracy: 0.8213 - val_loss: 0.4239 - val_precision: 0.7785 - val_recall: 0.8982 - learning_rate: 1.2500e-04\n",
            "Epoch 70/100\n",
            "\u001b[1m1912/1912\u001b[0m \u001b[32m━━━━━━━━━━━━━━━━━━━━\u001b[0m\u001b[37m\u001b[0m \u001b[1m0s\u001b[0m 28ms/step - accuracy: 0.8595 - loss: 0.3342 - precision: 0.8153 - recall: 0.9295\n",
            "Epoch 70: ReduceLROnPlateau reducing learning rate to 6.25000029685907e-05.\n",
            "\n",
            "Epoch 70: val_accuracy improved from 0.82240 to 0.82253, saving model to best_model_70_0.8225.h5\n"
          ]
        },
        {
          "output_type": "stream",
          "name": "stderr",
          "text": [
            "WARNING:absl:You are saving your model as an HDF5 file via `model.save()` or `keras.saving.save_model(model)`. This file format is considered legacy. We recommend using instead the native Keras format, e.g. `model.save('my_model.keras')` or `keras.saving.save_model(model, 'my_model.keras')`. \n"
          ]
        },
        {
          "output_type": "stream",
          "name": "stdout",
          "text": [
            "\b\b\b\b\b\b\b\b\b\b\b\b\b\b\b\b\b\b\b\b\b\b\b\b\b\b\b\b\b\b\b\b\b\b\b\b\b\b\b\b\b\b\b\b\b\b\b\b\b\b\b\b\b\b\b\b\b\b\b\b\b\b\b\b\b\b\b\b\b\b\b\b\b\b\b\b\b\b\b\b\b\b\b\b\b\b\b\b\b\b\b\b\b\b\b\b\b\b\b\b\b\b\b\b\b\b\b\b\b\b\b\b\b\b\r\u001b[1m1912/1912\u001b[0m \u001b[32m━━━━━━━━━━━━━━━━━━━━\u001b[0m\u001b[37m\u001b[0m \u001b[1m82s\u001b[0m 31ms/step - accuracy: 0.8595 - loss: 0.3342 - precision: 0.8153 - recall: 0.9295 - val_accuracy: 0.8225 - val_loss: 0.4274 - val_precision: 0.7801 - val_recall: 0.8983 - learning_rate: 1.2500e-04\n",
            "Epoch 71/100\n",
            "\u001b[1m1912/1912\u001b[0m \u001b[32m━━━━━━━━━━━━━━━━━━━━\u001b[0m\u001b[37m\u001b[0m \u001b[1m0s\u001b[0m 28ms/step - accuracy: 0.8582 - loss: 0.3349 - precision: 0.8150 - recall: 0.9269\n",
            "Epoch 71: val_accuracy improved from 0.82253 to 0.82289, saving model to best_model_71_0.8229.h5\n"
          ]
        },
        {
          "output_type": "stream",
          "name": "stderr",
          "text": [
            "WARNING:absl:You are saving your model as an HDF5 file via `model.save()` or `keras.saving.save_model(model)`. This file format is considered legacy. We recommend using instead the native Keras format, e.g. `model.save('my_model.keras')` or `keras.saving.save_model(model, 'my_model.keras')`. \n"
          ]
        },
        {
          "output_type": "stream",
          "name": "stdout",
          "text": [
            "\b\b\b\b\b\b\b\b\b\b\b\b\b\b\b\b\b\b\b\b\b\b\b\b\b\b\b\b\b\b\b\b\b\b\b\b\b\b\b\b\b\b\b\b\b\b\b\b\b\b\b\b\b\b\b\b\b\b\b\b\b\b\b\b\b\b\b\b\b\b\b\b\b\b\b\b\b\b\b\b\b\b\b\b\b\b\b\b\b\b\b\b\b\b\b\b\b\b\b\b\b\b\b\b\b\b\b\b\b\b\b\b\b\b\r\u001b[1m1912/1912\u001b[0m \u001b[32m━━━━━━━━━━━━━━━━━━━━\u001b[0m\u001b[37m\u001b[0m \u001b[1m87s\u001b[0m 33ms/step - accuracy: 0.8582 - loss: 0.3349 - precision: 0.8150 - recall: 0.9269 - val_accuracy: 0.8229 - val_loss: 0.4260 - val_precision: 0.7797 - val_recall: 0.9001 - learning_rate: 6.2500e-05\n",
            "Epoch 72/100\n",
            "\u001b[1m1911/1912\u001b[0m \u001b[32m━━━━━━━━━━━━━━━━━━━\u001b[0m\u001b[37m━\u001b[0m \u001b[1m0s\u001b[0m 28ms/step - accuracy: 0.8595 - loss: 0.3328 - precision: 0.8164 - recall: 0.9278\n",
            "Epoch 72: val_accuracy did not improve from 0.82289\n",
            "\u001b[1m1912/1912\u001b[0m \u001b[32m━━━━━━━━━━━━━━━━━━━━\u001b[0m\u001b[37m\u001b[0m \u001b[1m59s\u001b[0m 31ms/step - accuracy: 0.8596 - loss: 0.3328 - precision: 0.8164 - recall: 0.9278 - val_accuracy: 0.8226 - val_loss: 0.4255 - val_precision: 0.7807 - val_recall: 0.8973 - learning_rate: 6.2500e-05\n",
            "Epoch 73/100\n",
            "\u001b[1m1910/1912\u001b[0m \u001b[32m━━━━━━━━━━━━━━━━━━━\u001b[0m\u001b[37m━\u001b[0m \u001b[1m0s\u001b[0m 28ms/step - accuracy: 0.8600 - loss: 0.3335 - precision: 0.8165 - recall: 0.9290\n",
            "Epoch 73: val_accuracy did not improve from 0.82289\n",
            "\u001b[1m1912/1912\u001b[0m \u001b[32m━━━━━━━━━━━━━━━━━━━━\u001b[0m\u001b[37m\u001b[0m \u001b[1m82s\u001b[0m 31ms/step - accuracy: 0.8601 - loss: 0.3335 - precision: 0.8165 - recall: 0.9290 - val_accuracy: 0.8222 - val_loss: 0.4239 - val_precision: 0.7783 - val_recall: 0.9011 - learning_rate: 6.2500e-05\n",
            "Epoch 74/100\n",
            "\u001b[1m1912/1912\u001b[0m \u001b[32m━━━━━━━━━━━━━━━━━━━━\u001b[0m\u001b[37m\u001b[0m \u001b[1m0s\u001b[0m 28ms/step - accuracy: 0.8599 - loss: 0.3327 - precision: 0.8161 - recall: 0.9293\n",
            "Epoch 74: val_accuracy did not improve from 0.82289\n",
            "\u001b[1m1912/1912\u001b[0m \u001b[32m━━━━━━━━━━━━━━━━━━━━\u001b[0m\u001b[37m\u001b[0m \u001b[1m59s\u001b[0m 31ms/step - accuracy: 0.8599 - loss: 0.3327 - precision: 0.8161 - recall: 0.9293 - val_accuracy: 0.8215 - val_loss: 0.4257 - val_precision: 0.7793 - val_recall: 0.8971 - learning_rate: 6.2500e-05\n",
            "Epoch 75/100\n",
            "\u001b[1m1912/1912\u001b[0m \u001b[32m━━━━━━━━━━━━━━━━━━━━\u001b[0m\u001b[37m\u001b[0m \u001b[1m0s\u001b[0m 28ms/step - accuracy: 0.8597 - loss: 0.3307 - precision: 0.8158 - recall: 0.9294\n",
            "Epoch 75: val_accuracy did not improve from 0.82289\n",
            "\u001b[1m1912/1912\u001b[0m \u001b[32m━━━━━━━━━━━━━━━━━━━━\u001b[0m\u001b[37m\u001b[0m \u001b[1m87s\u001b[0m 33ms/step - accuracy: 0.8598 - loss: 0.3307 - precision: 0.8158 - recall: 0.9294 - val_accuracy: 0.8227 - val_loss: 0.4259 - val_precision: 0.7811 - val_recall: 0.8968 - learning_rate: 6.2500e-05\n",
            "Epoch 76/100\n",
            "\u001b[1m1911/1912\u001b[0m \u001b[32m━━━━━━━━━━━━━━━━━━━\u001b[0m\u001b[37m━\u001b[0m \u001b[1m0s\u001b[0m 28ms/step - accuracy: 0.8598 - loss: 0.3318 - precision: 0.8159 - recall: 0.9295\n",
            "Epoch 76: val_accuracy improved from 0.82289 to 0.82293, saving model to best_model_76_0.8229.h5\n"
          ]
        },
        {
          "output_type": "stream",
          "name": "stderr",
          "text": [
            "WARNING:absl:You are saving your model as an HDF5 file via `model.save()` or `keras.saving.save_model(model)`. This file format is considered legacy. We recommend using instead the native Keras format, e.g. `model.save('my_model.keras')` or `keras.saving.save_model(model, 'my_model.keras')`. \n"
          ]
        },
        {
          "output_type": "stream",
          "name": "stdout",
          "text": [
            "\b\b\b\b\b\b\b\b\b\b\b\b\b\b\b\b\b\b\b\b\b\b\b\b\b\b\b\b\b\b\b\b\b\b\b\b\b\b\b\b\b\b\b\b\b\b\b\b\b\b\b\b\b\b\b\b\b\b\b\b\b\b\b\b\b\b\b\b\b\b\b\b\b\b\b\b\b\b\b\b\b\b\b\b\b\b\b\b\b\b\b\b\b\b\b\b\b\b\b\b\b\b\b\b\b\b\b\b\b\b\b\b\b\b\r\u001b[1m1912/1912\u001b[0m \u001b[32m━━━━━━━━━━━━━━━━━━━━\u001b[0m\u001b[37m\u001b[0m \u001b[1m77s\u001b[0m 31ms/step - accuracy: 0.8598 - loss: 0.3318 - precision: 0.8159 - recall: 0.9295 - val_accuracy: 0.8229 - val_loss: 0.4263 - val_precision: 0.7808 - val_recall: 0.8979 - learning_rate: 6.2500e-05\n",
            "Epoch 77/100\n",
            "\u001b[1m1910/1912\u001b[0m \u001b[32m━━━━━━━━━━━━━━━━━━━\u001b[0m\u001b[37m━\u001b[0m \u001b[1m0s\u001b[0m 28ms/step - accuracy: 0.8597 - loss: 0.3314 - precision: 0.8154 - recall: 0.9299\n",
            "Epoch 77: val_accuracy did not improve from 0.82293\n",
            "\u001b[1m1912/1912\u001b[0m \u001b[32m━━━━━━━━━━━━━━━━━━━━\u001b[0m\u001b[37m\u001b[0m \u001b[1m59s\u001b[0m 31ms/step - accuracy: 0.8597 - loss: 0.3314 - precision: 0.8154 - recall: 0.9299 - val_accuracy: 0.8229 - val_loss: 0.4257 - val_precision: 0.7787 - val_recall: 0.9022 - learning_rate: 6.2500e-05\n",
            "Epoch 78/100\n",
            "\u001b[1m1912/1912\u001b[0m \u001b[32m━━━━━━━━━━━━━━━━━━━━\u001b[0m\u001b[37m\u001b[0m \u001b[1m0s\u001b[0m 28ms/step - accuracy: 0.8608 - loss: 0.3300 - precision: 0.8165 - recall: 0.9310\n",
            "Epoch 78: ReduceLROnPlateau reducing learning rate to 3.125000148429535e-05.\n",
            "\n",
            "Epoch 78: val_accuracy did not improve from 0.82293\n",
            "\u001b[1m1912/1912\u001b[0m \u001b[32m━━━━━━━━━━━━━━━━━━━━\u001b[0m\u001b[37m\u001b[0m \u001b[1m81s\u001b[0m 30ms/step - accuracy: 0.8608 - loss: 0.3300 - precision: 0.8165 - recall: 0.9310 - val_accuracy: 0.8222 - val_loss: 0.4264 - val_precision: 0.7790 - val_recall: 0.8996 - learning_rate: 6.2500e-05\n",
            "Epoch 79/100\n",
            "\u001b[1m1910/1912\u001b[0m \u001b[32m━━━━━━━━━━━━━━━━━━━\u001b[0m\u001b[37m━\u001b[0m \u001b[1m0s\u001b[0m 28ms/step - accuracy: 0.8607 - loss: 0.3319 - precision: 0.8161 - recall: 0.9312\n",
            "Epoch 79: val_accuracy did not improve from 0.82293\n",
            "\u001b[1m1912/1912\u001b[0m \u001b[32m━━━━━━━━━━━━━━━━━━━━\u001b[0m\u001b[37m\u001b[0m \u001b[1m88s\u001b[0m 34ms/step - accuracy: 0.8607 - loss: 0.3319 - precision: 0.8162 - recall: 0.9312 - val_accuracy: 0.8221 - val_loss: 0.4282 - val_precision: 0.7813 - val_recall: 0.8947 - learning_rate: 3.1250e-05\n",
            "Epoch 80/100\n",
            "\u001b[1m1911/1912\u001b[0m \u001b[32m━━━━━━━━━━━━━━━━━━━\u001b[0m\u001b[37m━\u001b[0m \u001b[1m0s\u001b[0m 28ms/step - accuracy: 0.8608 - loss: 0.3307 - precision: 0.8165 - recall: 0.9309\n",
            "Epoch 80: val_accuracy did not improve from 0.82293\n",
            "\u001b[1m1912/1912\u001b[0m \u001b[32m━━━━━━━━━━━━━━━━━━━━\u001b[0m\u001b[37m\u001b[0m \u001b[1m59s\u001b[0m 31ms/step - accuracy: 0.8608 - loss: 0.3307 - precision: 0.8165 - recall: 0.9309 - val_accuracy: 0.8223 - val_loss: 0.4273 - val_precision: 0.7806 - val_recall: 0.8966 - learning_rate: 3.1250e-05\n",
            "Epoch 81/100\n",
            "\u001b[1m1912/1912\u001b[0m \u001b[32m━━━━━━━━━━━━━━━━━━━━\u001b[0m\u001b[37m\u001b[0m \u001b[1m0s\u001b[0m 28ms/step - accuracy: 0.8602 - loss: 0.3312 - precision: 0.8159 - recall: 0.9304\n",
            "Epoch 81: val_accuracy did not improve from 0.82293\n",
            "\u001b[1m1912/1912\u001b[0m \u001b[32m━━━━━━━━━━━━━━━━━━━━\u001b[0m\u001b[37m\u001b[0m \u001b[1m83s\u001b[0m 31ms/step - accuracy: 0.8602 - loss: 0.3312 - precision: 0.8159 - recall: 0.9304 - val_accuracy: 0.8226 - val_loss: 0.4268 - val_precision: 0.7800 - val_recall: 0.8985 - learning_rate: 3.1250e-05\n",
            "Epoch 82/100\n",
            "\u001b[1m1910/1912\u001b[0m \u001b[32m━━━━━━━━━━━━━━━━━━━\u001b[0m\u001b[37m━\u001b[0m \u001b[1m0s\u001b[0m 28ms/step - accuracy: 0.8602 - loss: 0.3300 - precision: 0.8157 - recall: 0.9307\n",
            "Epoch 82: val_accuracy improved from 0.82293 to 0.82312, saving model to best_model_82_0.8231.h5\n"
          ]
        },
        {
          "output_type": "stream",
          "name": "stderr",
          "text": [
            "WARNING:absl:You are saving your model as an HDF5 file via `model.save()` or `keras.saving.save_model(model)`. This file format is considered legacy. We recommend using instead the native Keras format, e.g. `model.save('my_model.keras')` or `keras.saving.save_model(model, 'my_model.keras')`. \n"
          ]
        },
        {
          "output_type": "stream",
          "name": "stdout",
          "text": [
            "\b\b\b\b\b\b\b\b\b\b\b\b\b\b\b\b\b\b\b\b\b\b\b\b\b\b\b\b\b\b\b\b\b\b\b\b\b\b\b\b\b\b\b\b\b\b\b\b\b\b\b\b\b\b\b\b\b\b\b\b\b\b\b\b\b\b\b\b\b\b\b\b\b\b\b\b\b\b\b\b\b\b\b\b\b\b\b\b\b\b\b\b\b\b\b\b\b\b\b\b\b\b\b\b\b\b\b\b\b\b\b\b\b\b\r\u001b[1m1912/1912\u001b[0m \u001b[32m━━━━━━━━━━━━━━━━━━━━\u001b[0m\u001b[37m\u001b[0m \u001b[1m82s\u001b[0m 31ms/step - accuracy: 0.8602 - loss: 0.3300 - precision: 0.8157 - recall: 0.9307 - val_accuracy: 0.8231 - val_loss: 0.4281 - val_precision: 0.7821 - val_recall: 0.8958 - learning_rate: 3.1250e-05\n",
            "Epoch 83/100\n",
            "\u001b[1m1911/1912\u001b[0m \u001b[32m━━━━━━━━━━━━━━━━━━━\u001b[0m\u001b[37m━\u001b[0m \u001b[1m0s\u001b[0m 28ms/step - accuracy: 0.8623 - loss: 0.3292 - precision: 0.8180 - recall: 0.9319\n",
            "Epoch 83: val_accuracy did not improve from 0.82312\n",
            "\u001b[1m1912/1912\u001b[0m \u001b[32m━━━━━━━━━━━━━━━━━━━━\u001b[0m\u001b[37m\u001b[0m \u001b[1m86s\u001b[0m 33ms/step - accuracy: 0.8623 - loss: 0.3292 - precision: 0.8180 - recall: 0.9319 - val_accuracy: 0.8229 - val_loss: 0.4275 - val_precision: 0.7811 - val_recall: 0.8973 - learning_rate: 3.1250e-05\n",
            "Epoch 84/100\n",
            "\u001b[1m1911/1912\u001b[0m \u001b[32m━━━━━━━━━━━━━━━━━━━\u001b[0m\u001b[37m━\u001b[0m \u001b[1m0s\u001b[0m 28ms/step - accuracy: 0.8619 - loss: 0.3288 - precision: 0.8173 - recall: 0.9323\n",
            "Epoch 84: val_accuracy did not improve from 0.82312\n",
            "\u001b[1m1912/1912\u001b[0m \u001b[32m━━━━━━━━━━━━━━━━━━━━\u001b[0m\u001b[37m\u001b[0m \u001b[1m78s\u001b[0m 31ms/step - accuracy: 0.8619 - loss: 0.3288 - precision: 0.8173 - recall: 0.9323 - val_accuracy: 0.8228 - val_loss: 0.4281 - val_precision: 0.7817 - val_recall: 0.8957 - learning_rate: 3.1250e-05\n",
            "Epoch 85/100\n",
            "\u001b[1m1911/1912\u001b[0m \u001b[32m━━━━━━━━━━━━━━━━━━━\u001b[0m\u001b[37m━\u001b[0m \u001b[1m0s\u001b[0m 28ms/step - accuracy: 0.8608 - loss: 0.3288 - precision: 0.8167 - recall: 0.9306\n",
            "Epoch 85: val_accuracy improved from 0.82312 to 0.82322, saving model to best_model_85_0.8232.h5\n"
          ]
        },
        {
          "output_type": "stream",
          "name": "stderr",
          "text": [
            "WARNING:absl:You are saving your model as an HDF5 file via `model.save()` or `keras.saving.save_model(model)`. This file format is considered legacy. We recommend using instead the native Keras format, e.g. `model.save('my_model.keras')` or `keras.saving.save_model(model, 'my_model.keras')`. \n"
          ]
        },
        {
          "output_type": "stream",
          "name": "stdout",
          "text": [
            "\b\b\b\b\b\b\b\b\b\b\b\b\b\b\b\b\b\b\b\b\b\b\b\b\b\b\b\b\b\b\b\b\b\b\b\b\b\b\b\b\b\b\b\b\b\b\b\b\b\b\b\b\b\b\b\b\b\b\b\b\b\b\b\b\b\b\b\b\b\b\b\b\b\b\b\b\b\b\b\b\b\b\b\b\b\b\b\b\b\b\b\b\b\b\b\b\b\b\b\b\b\b\b\b\b\b\b\b\b\b\b\b\b\b\r\u001b[1m1912/1912\u001b[0m \u001b[32m━━━━━━━━━━━━━━━━━━━━\u001b[0m\u001b[37m\u001b[0m \u001b[1m81s\u001b[0m 31ms/step - accuracy: 0.8608 - loss: 0.3288 - precision: 0.8167 - recall: 0.9306 - val_accuracy: 0.8232 - val_loss: 0.4296 - val_precision: 0.7810 - val_recall: 0.8983 - learning_rate: 3.1250e-05\n",
            "Epoch 86/100\n",
            "\u001b[1m1912/1912\u001b[0m \u001b[32m━━━━━━━━━━━━━━━━━━━━\u001b[0m\u001b[37m\u001b[0m \u001b[1m0s\u001b[0m 28ms/step - accuracy: 0.8626 - loss: 0.3276 - precision: 0.8178 - recall: 0.9330\n",
            "Epoch 86: ReduceLROnPlateau reducing learning rate to 1.5625000742147677e-05.\n",
            "\n",
            "Epoch 86: val_accuracy did not improve from 0.82322\n",
            "\u001b[1m1912/1912\u001b[0m \u001b[32m━━━━━━━━━━━━━━━━━━━━\u001b[0m\u001b[37m\u001b[0m \u001b[1m87s\u001b[0m 33ms/step - accuracy: 0.8626 - loss: 0.3276 - precision: 0.8178 - recall: 0.9330 - val_accuracy: 0.8226 - val_loss: 0.4291 - val_precision: 0.7806 - val_recall: 0.8975 - learning_rate: 3.1250e-05\n",
            "Epoch 87/100\n",
            "\u001b[1m1911/1912\u001b[0m \u001b[32m━━━━━━━━━━━━━━━━━━━\u001b[0m\u001b[37m━\u001b[0m \u001b[1m0s\u001b[0m 28ms/step - accuracy: 0.8612 - loss: 0.3300 - precision: 0.8167 - recall: 0.9314\n",
            "Epoch 87: val_accuracy did not improve from 0.82322\n",
            "\u001b[1m1912/1912\u001b[0m \u001b[32m━━━━━━━━━━━━━━━━━━━━\u001b[0m\u001b[37m\u001b[0m \u001b[1m76s\u001b[0m 30ms/step - accuracy: 0.8612 - loss: 0.3300 - precision: 0.8167 - recall: 0.9314 - val_accuracy: 0.8230 - val_loss: 0.4290 - val_precision: 0.7816 - val_recall: 0.8966 - learning_rate: 1.5625e-05\n",
            "Epoch 88/100\n",
            "\u001b[1m1910/1912\u001b[0m \u001b[32m━━━━━━━━━━━━━━━━━━━\u001b[0m\u001b[37m━\u001b[0m \u001b[1m0s\u001b[0m 28ms/step - accuracy: 0.8613 - loss: 0.3289 - precision: 0.8175 - recall: 0.9304\n",
            "Epoch 88: val_accuracy improved from 0.82322 to 0.82329, saving model to best_model_88_0.8233.h5\n"
          ]
        },
        {
          "output_type": "stream",
          "name": "stderr",
          "text": [
            "WARNING:absl:You are saving your model as an HDF5 file via `model.save()` or `keras.saving.save_model(model)`. This file format is considered legacy. We recommend using instead the native Keras format, e.g. `model.save('my_model.keras')` or `keras.saving.save_model(model, 'my_model.keras')`. \n"
          ]
        },
        {
          "output_type": "stream",
          "name": "stdout",
          "text": [
            "\b\b\b\b\b\b\b\b\b\b\b\b\b\b\b\b\b\b\b\b\b\b\b\b\b\b\b\b\b\b\b\b\b\b\b\b\b\b\b\b\b\b\b\b\b\b\b\b\b\b\b\b\b\b\b\b\b\b\b\b\b\b\b\b\b\b\b\b\b\b\b\b\b\b\b\b\b\b\b\b\b\b\b\b\b\b\b\b\b\b\b\b\b\b\b\b\b\b\b\b\b\b\b\b\b\b\b\b\b\b\b\b\b\b\r\u001b[1m1912/1912\u001b[0m \u001b[32m━━━━━━━━━━━━━━━━━━━━\u001b[0m\u001b[37m\u001b[0m \u001b[1m88s\u001b[0m 33ms/step - accuracy: 0.8613 - loss: 0.3289 - precision: 0.8175 - recall: 0.9304 - val_accuracy: 0.8233 - val_loss: 0.4289 - val_precision: 0.7818 - val_recall: 0.8969 - learning_rate: 1.5625e-05\n",
            "Epoch 89/100\n",
            "\u001b[1m1911/1912\u001b[0m \u001b[32m━━━━━━━━━━━━━━━━━━━\u001b[0m\u001b[37m━\u001b[0m \u001b[1m0s\u001b[0m 28ms/step - accuracy: 0.8632 - loss: 0.3277 - precision: 0.8191 - recall: 0.9323\n",
            "Epoch 89: val_accuracy did not improve from 0.82329\n",
            "\u001b[1m1912/1912\u001b[0m \u001b[32m━━━━━━━━━━━━━━━━━━━━\u001b[0m\u001b[37m\u001b[0m \u001b[1m59s\u001b[0m 31ms/step - accuracy: 0.8632 - loss: 0.3277 - precision: 0.8191 - recall: 0.9323 - val_accuracy: 0.8231 - val_loss: 0.4288 - val_precision: 0.7817 - val_recall: 0.8966 - learning_rate: 1.5625e-05\n",
            "Epoch 90/100\n",
            "\u001b[1m1911/1912\u001b[0m \u001b[32m━━━━━━━━━━━━━━━━━━━\u001b[0m\u001b[37m━\u001b[0m \u001b[1m0s\u001b[0m 28ms/step - accuracy: 0.8622 - loss: 0.3274 - precision: 0.8179 - recall: 0.9320\n",
            "Epoch 90: val_accuracy did not improve from 0.82329\n",
            "\u001b[1m1912/1912\u001b[0m \u001b[32m━━━━━━━━━━━━━━━━━━━━\u001b[0m\u001b[37m\u001b[0m \u001b[1m87s\u001b[0m 34ms/step - accuracy: 0.8622 - loss: 0.3274 - precision: 0.8179 - recall: 0.9320 - val_accuracy: 0.8227 - val_loss: 0.4301 - val_precision: 0.7821 - val_recall: 0.8945 - learning_rate: 1.5625e-05\n",
            "Epoch 91/100\n",
            "\u001b[1m1911/1912\u001b[0m \u001b[32m━━━━━━━━━━━━━━━━━━━\u001b[0m\u001b[37m━\u001b[0m \u001b[1m0s\u001b[0m 28ms/step - accuracy: 0.8625 - loss: 0.3286 - precision: 0.8180 - recall: 0.9325\n",
            "Epoch 91: val_accuracy did not improve from 0.82329\n",
            "\u001b[1m1912/1912\u001b[0m \u001b[32m━━━━━━━━━━━━━━━━━━━━\u001b[0m\u001b[37m\u001b[0m \u001b[1m59s\u001b[0m 31ms/step - accuracy: 0.8625 - loss: 0.3286 - precision: 0.8180 - recall: 0.9325 - val_accuracy: 0.8230 - val_loss: 0.4294 - val_precision: 0.7818 - val_recall: 0.8960 - learning_rate: 1.5625e-05\n",
            "Epoch 92/100\n",
            "\u001b[1m1910/1912\u001b[0m \u001b[32m━━━━━━━━━━━━━━━━━━━\u001b[0m\u001b[37m━\u001b[0m \u001b[1m0s\u001b[0m 28ms/step - accuracy: 0.8621 - loss: 0.3283 - precision: 0.8179 - recall: 0.9318\n",
            "Epoch 92: val_accuracy did not improve from 0.82329\n",
            "\u001b[1m1912/1912\u001b[0m \u001b[32m━━━━━━━━━━━━━━━━━━━━\u001b[0m\u001b[37m\u001b[0m \u001b[1m82s\u001b[0m 31ms/step - accuracy: 0.8621 - loss: 0.3283 - precision: 0.8179 - recall: 0.9318 - val_accuracy: 0.8227 - val_loss: 0.4292 - val_precision: 0.7819 - val_recall: 0.8952 - learning_rate: 1.5625e-05\n",
            "Epoch 93/100\n",
            "\u001b[1m1910/1912\u001b[0m \u001b[32m━━━━━━━━━━━━━━━━━━━\u001b[0m\u001b[37m━\u001b[0m \u001b[1m0s\u001b[0m 28ms/step - accuracy: 0.8629 - loss: 0.3283 - precision: 0.8186 - recall: 0.9326\n",
            "Epoch 93: val_accuracy did not improve from 0.82329\n",
            "\u001b[1m1912/1912\u001b[0m \u001b[32m━━━━━━━━━━━━━━━━━━━━\u001b[0m\u001b[37m\u001b[0m \u001b[1m87s\u001b[0m 34ms/step - accuracy: 0.8629 - loss: 0.3283 - precision: 0.8186 - recall: 0.9326 - val_accuracy: 0.8227 - val_loss: 0.4297 - val_precision: 0.7813 - val_recall: 0.8963 - learning_rate: 1.5625e-05\n",
            "Epoch 94/100\n",
            "\u001b[1m1911/1912\u001b[0m \u001b[32m━━━━━━━━━━━━━━━━━━━\u001b[0m\u001b[37m━\u001b[0m \u001b[1m0s\u001b[0m 28ms/step - accuracy: 0.8625 - loss: 0.3281 - precision: 0.8187 - recall: 0.9313\n",
            "Epoch 94: ReduceLROnPlateau reducing learning rate to 7.812500371073838e-06.\n",
            "\n",
            "Epoch 94: val_accuracy did not improve from 0.82329\n",
            "\u001b[1m1912/1912\u001b[0m \u001b[32m━━━━━━━━━━━━━━━━━━━━\u001b[0m\u001b[37m\u001b[0m \u001b[1m78s\u001b[0m 31ms/step - accuracy: 0.8625 - loss: 0.3281 - precision: 0.8187 - recall: 0.9313 - val_accuracy: 0.8230 - val_loss: 0.4296 - val_precision: 0.7818 - val_recall: 0.8962 - learning_rate: 1.5625e-05\n",
            "Epoch 95/100\n",
            "\u001b[1m1911/1912\u001b[0m \u001b[32m━━━━━━━━━━━━━━━━━━━\u001b[0m\u001b[37m━\u001b[0m \u001b[1m0s\u001b[0m 29ms/step - accuracy: 0.8610 - loss: 0.3281 - precision: 0.8164 - recall: 0.9315\n",
            "Epoch 95: val_accuracy did not improve from 0.82329\n",
            "\u001b[1m1912/1912\u001b[0m \u001b[32m━━━━━━━━━━━━━━━━━━━━\u001b[0m\u001b[37m\u001b[0m \u001b[1m82s\u001b[0m 31ms/step - accuracy: 0.8610 - loss: 0.3281 - precision: 0.8164 - recall: 0.9315 - val_accuracy: 0.8230 - val_loss: 0.4295 - val_precision: 0.7817 - val_recall: 0.8964 - learning_rate: 7.8125e-06\n",
            "Epoch 96/100\n",
            "\u001b[1m1911/1912\u001b[0m \u001b[32m━━━━━━━━━━━━━━━━━━━\u001b[0m\u001b[37m━\u001b[0m \u001b[1m0s\u001b[0m 29ms/step - accuracy: 0.8627 - loss: 0.3273 - precision: 0.8186 - recall: 0.9321\n",
            "Epoch 96: val_accuracy did not improve from 0.82329\n",
            "\u001b[1m1912/1912\u001b[0m \u001b[32m━━━━━━━━━━━━━━━━━━━━\u001b[0m\u001b[37m\u001b[0m \u001b[1m87s\u001b[0m 34ms/step - accuracy: 0.8627 - loss: 0.3273 - precision: 0.8186 - recall: 0.9321 - val_accuracy: 0.8227 - val_loss: 0.4301 - val_precision: 0.7815 - val_recall: 0.8958 - learning_rate: 7.8125e-06\n",
            "Epoch 97/100\n",
            "\u001b[1m1911/1912\u001b[0m \u001b[32m━━━━━━━━━━━━━━━━━━━\u001b[0m\u001b[37m━\u001b[0m \u001b[1m0s\u001b[0m 28ms/step - accuracy: 0.8613 - loss: 0.3283 - precision: 0.8178 - recall: 0.9299\n",
            "Epoch 97: val_accuracy did not improve from 0.82329\n",
            "\u001b[1m1912/1912\u001b[0m \u001b[32m━━━━━━━━━━━━━━━━━━━━\u001b[0m\u001b[37m\u001b[0m \u001b[1m59s\u001b[0m 31ms/step - accuracy: 0.8613 - loss: 0.3283 - precision: 0.8178 - recall: 0.9299 - val_accuracy: 0.8230 - val_loss: 0.4295 - val_precision: 0.7822 - val_recall: 0.8952 - learning_rate: 7.8125e-06\n",
            "Epoch 98/100\n",
            "\u001b[1m1912/1912\u001b[0m \u001b[32m━━━━━━━━━━━━━━━━━━━━\u001b[0m\u001b[37m\u001b[0m \u001b[1m0s\u001b[0m 29ms/step - accuracy: 0.8635 - loss: 0.3258 - precision: 0.8188 - recall: 0.9338\n",
            "Epoch 98: val_accuracy did not improve from 0.82329\n",
            "\u001b[1m1912/1912\u001b[0m \u001b[32m━━━━━━━━━━━━━━━━━━━━\u001b[0m\u001b[37m\u001b[0m \u001b[1m60s\u001b[0m 31ms/step - accuracy: 0.8635 - loss: 0.3258 - precision: 0.8188 - recall: 0.9338 - val_accuracy: 0.8232 - val_loss: 0.4295 - val_precision: 0.7827 - val_recall: 0.8947 - learning_rate: 7.8125e-06\n",
            "Epoch 99/100\n",
            "\u001b[1m1910/1912\u001b[0m \u001b[32m━━━━━━━━━━━━━━━━━━━\u001b[0m\u001b[37m━\u001b[0m \u001b[1m0s\u001b[0m 28ms/step - accuracy: 0.8632 - loss: 0.3266 - precision: 0.8190 - recall: 0.9327\n",
            "Epoch 99: val_accuracy did not improve from 0.82329\n",
            "\u001b[1m1912/1912\u001b[0m \u001b[32m━━━━━━━━━━━━━━━━━━━━\u001b[0m\u001b[37m\u001b[0m \u001b[1m81s\u001b[0m 31ms/step - accuracy: 0.8632 - loss: 0.3265 - precision: 0.8190 - recall: 0.9327 - val_accuracy: 0.8231 - val_loss: 0.4301 - val_precision: 0.7812 - val_recall: 0.8975 - learning_rate: 7.8125e-06\n",
            "Epoch 100/100\n",
            "\u001b[1m1911/1912\u001b[0m \u001b[32m━━━━━━━━━━━━━━━━━━━\u001b[0m\u001b[37m━\u001b[0m \u001b[1m0s\u001b[0m 29ms/step - accuracy: 0.8627 - loss: 0.3260 - precision: 0.8182 - recall: 0.9326\n",
            "Epoch 100: val_accuracy did not improve from 0.82329\n",
            "\u001b[1m1912/1912\u001b[0m \u001b[32m━━━━━━━━━━━━━━━━━━━━\u001b[0m\u001b[37m\u001b[0m \u001b[1m65s\u001b[0m 34ms/step - accuracy: 0.8627 - loss: 0.3260 - precision: 0.8182 - recall: 0.9326 - val_accuracy: 0.8228 - val_loss: 0.4306 - val_precision: 0.7819 - val_recall: 0.8953 - learning_rate: 7.8125e-06\n",
            "Restoring model weights from the end of the best epoch: 88.\n",
            "✅ Ensemble training completed!\n",
            "📊 Evaluating Deep Learning Models...\n",
            "Model 1 Accuracy: 0.8097 (80.97%)\n",
            "Model 2 Accuracy: 0.8401 (84.01%)\n",
            "Model 3 Accuracy: 0.8241 (82.41%)\n",
            "\n",
            "🏆 DEEP LEARNING ENSEMBLE RESULTS:\n",
            "--------------------------------------------------\n",
            "🎯 ACCURACY: 0.8385 (83.85%)\n",
            "⚖️ BALANCED ACCURACY: 0.7603 (76.03%)\n",
            "📊 PRECISION: 0.9017 (90.17%)\n",
            "🔍 RECALL: 0.8938 (89.38%)\n",
            "🛡️ SPECIFICITY: 0.6268 (62.68%)\n",
            "📈 F1-SCORE: 0.8977 (89.77%)\n",
            "\n",
            "📋 Confusion Matrix:\n",
            "   Predicted:    Dropout  Complete\n",
            "   Actual Dropout:   17086      2031\n",
            "   Actual Complete:   1863      3129\n",
            "\n",
            "🚀 EXCELLENT DEEP LEARNING PERFORMANCE!\n",
            "📈 Achieved 83.85% accuracy\n",
            "🎯 Very competitive results with traditional ML methods!\n"
          ]
        },
        {
          "output_type": "display_data",
          "data": {
            "text/plain": [
              "<Figure size 1500x1000 with 4 Axes>"
            ],
            "image/png": "[encoded data removed]"
          },
          "metadata": {}
        },
        {
          "output_type": "stream",
          "name": "stdout",
          "text": [
            "🧠 Deep Learning Dropout Predictor Ready!\n",
            "📝 Load your CSV file and call: results = dl_predictor.train_and_evaluate(df)\n"
          ]
        }
      ]
    },
    {
      "cell_type": "code",
      "source": [],
      "metadata": {
        "id": "02iUNOkvoevM"
      },
      "execution_count": null,
      "outputs": []
    }
  ]
}